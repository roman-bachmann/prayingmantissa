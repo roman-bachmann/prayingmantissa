{
 "cells": [
  {
   "cell_type": "markdown",
   "metadata": {},
   "source": [
    "# Table of Contents\n",
    " <p><div class=\"lev1\"><a href=\"#Task-1.-Compiling-Ebola-Data\"><span class=\"toc-item-num\">Task 1.&nbsp;&nbsp;</span>Compiling Ebola Data</a></div>\n",
    " <div class=\"lev1\"><a href=\"#Task-2.-RNA-Sequences\"><span class=\"toc-item-num\">Task 2.&nbsp;&nbsp;</span>RNA Sequences</a></div>\n",
    " <div class=\"lev1\"><a href=\"#Task-3.-Class-War-in-Titanic\"><span class=\"toc-item-num\">Task 3.&nbsp;&nbsp;</span>Class War in Titanic</a></div></p>"
   ]
  },
  {
   "cell_type": "code",
   "execution_count": null,
   "metadata": {},
   "outputs": [],
   "source": [
    "import os\n",
    "\n",
    "import pandas as pd\n",
    "import numpy as np"
   ]
  },
  {
   "cell_type": "code",
   "execution_count": null,
   "metadata": {},
   "outputs": [],
   "source": [
    "DATA_FOLDER = './data/'"
   ]
  },
  {
   "cell_type": "code",
   "execution_count": 205,
   "metadata": {},
   "outputs": [
    {
     "data": {
      "text/html": [
       "<div>\n",
       "<style>\n",
       "    .dataframe thead tr:only-child th {\n",
       "        text-align: right;\n",
       "    }\n",
       "\n",
       "    .dataframe thead th {\n",
       "        text-align: left;\n",
       "    }\n",
       "\n",
       "    .dataframe tbody tr th {\n",
       "        vertical-align: top;\n",
       "    }\n",
       "</style>\n",
       "<table border=\"1\" class=\"dataframe\">\n",
       "  <thead>\n",
       "    <tr style=\"text-align: right;\">\n",
       "      <th></th>\n",
       "      <th></th>\n",
       "      <th>New</th>\n",
       "      <th>Deaths</th>\n",
       "    </tr>\n",
       "    <tr>\n",
       "      <th>Month</th>\n",
       "      <th>Country</th>\n",
       "      <th></th>\n",
       "      <th></th>\n",
       "    </tr>\n",
       "  </thead>\n",
       "  <tbody>\n",
       "    <tr>\n",
       "      <th>6</th>\n",
       "      <th>Liberia</th>\n",
       "      <td>2.142857</td>\n",
       "      <td>2.000000</td>\n",
       "    </tr>\n",
       "    <tr>\n",
       "      <th>7</th>\n",
       "      <th>Liberia</th>\n",
       "      <td>1.818182</td>\n",
       "      <td>4.272727</td>\n",
       "    </tr>\n",
       "    <tr>\n",
       "      <th rowspan=\"3\" valign=\"top\">8</th>\n",
       "      <th>Guinea</th>\n",
       "      <td>12.400000</td>\n",
       "      <td>3.400000</td>\n",
       "    </tr>\n",
       "    <tr>\n",
       "      <th>Liberia</th>\n",
       "      <td>5.444444</td>\n",
       "      <td>23.222222</td>\n",
       "    </tr>\n",
       "    <tr>\n",
       "      <th>SL</th>\n",
       "      <td>18.550000</td>\n",
       "      <td>0.000000</td>\n",
       "    </tr>\n",
       "    <tr>\n",
       "      <th rowspan=\"3\" valign=\"top\">9</th>\n",
       "      <th>Guinea</th>\n",
       "      <td>13.000000</td>\n",
       "      <td>3.562500</td>\n",
       "    </tr>\n",
       "    <tr>\n",
       "      <th>Liberia</th>\n",
       "      <td>6.166667</td>\n",
       "      <td>36.041667</td>\n",
       "    </tr>\n",
       "    <tr>\n",
       "      <th>SL</th>\n",
       "      <td>34.413793</td>\n",
       "      <td>0.275862</td>\n",
       "    </tr>\n",
       "    <tr>\n",
       "      <th rowspan=\"3\" valign=\"top\">10</th>\n",
       "      <th>Guinea</th>\n",
       "      <td>6.000000</td>\n",
       "      <td>15.000000</td>\n",
       "    </tr>\n",
       "    <tr>\n",
       "      <th>Liberia</th>\n",
       "      <td>1.360000</td>\n",
       "      <td>28.040000</td>\n",
       "    </tr>\n",
       "    <tr>\n",
       "      <th>SL</th>\n",
       "      <td>56.714286</td>\n",
       "      <td>3.535714</td>\n",
       "    </tr>\n",
       "    <tr>\n",
       "      <th rowspan=\"2\" valign=\"top\">11</th>\n",
       "      <th>Liberia</th>\n",
       "      <td>2.600000</td>\n",
       "      <td>13.466667</td>\n",
       "    </tr>\n",
       "    <tr>\n",
       "      <th>SL</th>\n",
       "      <td>59.904762</td>\n",
       "      <td>0.571429</td>\n",
       "    </tr>\n",
       "    <tr>\n",
       "      <th rowspan=\"2\" valign=\"top\">12</th>\n",
       "      <th>Liberia</th>\n",
       "      <td>1928.333333</td>\n",
       "      <td>0.000000</td>\n",
       "    </tr>\n",
       "    <tr>\n",
       "      <th>SL</th>\n",
       "      <td>32.600000</td>\n",
       "      <td>2.200000</td>\n",
       "    </tr>\n",
       "  </tbody>\n",
       "</table>\n",
       "</div>"
      ],
      "text/plain": [
       "                       New     Deaths\n",
       "Month Country                        \n",
       "6     Liberia     2.142857   2.000000\n",
       "7     Liberia     1.818182   4.272727\n",
       "8     Guinea     12.400000   3.400000\n",
       "      Liberia     5.444444  23.222222\n",
       "      SL         18.550000   0.000000\n",
       "9     Guinea     13.000000   3.562500\n",
       "      Liberia     6.166667  36.041667\n",
       "      SL         34.413793   0.275862\n",
       "10    Guinea      6.000000  15.000000\n",
       "      Liberia     1.360000  28.040000\n",
       "      SL         56.714286   3.535714\n",
       "11    Liberia     2.600000  13.466667\n",
       "      SL         59.904762   0.571429\n",
       "12    Liberia  1928.333333   0.000000\n",
       "      SL         32.600000   2.200000"
      ]
     },
     "execution_count": 205,
     "metadata": {},
     "output_type": "execute_result"
    }
   ],
   "source": [
    "ebola = pd.DataFrame(columns=['Month', 'Country', 'New', 'Deaths'])\n",
    "\n",
    "def ebola_dirs(dirname, country, desc_col, totals_col, new_id, deaths_id):\n",
    "    global ebola\n",
    "    \n",
    "    path = DATA_FOLDER + 'ebola/' + dirname\n",
    "    for csv in os.listdir(path):\n",
    "        frame = pd.read_csv(path + '/' + csv).fillna(0)\n",
    "        \n",
    "        month = parse(frame[frame.columns[0]][0]).month\n",
    "        new = int(frame[frame[desc_col] == new_id][totals_col])\n",
    "        deaths = int(frame[frame[desc_col] == deaths_id][totals_col])\n",
    "        \n",
    "        row = pd.DataFrame({'Month': month, 'Country': country, 'New': new, 'Deaths': deaths}, index=[0])\n",
    "        ebola = ebola.append(row, ignore_index=True)\n",
    "\n",
    "ebola_dirs('guinea_data/', 'Guinea', 'Description', 'Totals', 'New cases of confirmed', 'New deaths registered')\n",
    "ebola_dirs('liberia_data/', 'Liberia', 'Variable', 'National', 'New case/s (confirmed)', 'Newly reported deaths')\n",
    "ebola_dirs('sl_data/', 'SL', 'variable', 'National', 'new_confirmed', 'etc_new_deaths')\n",
    "\n",
    "ebola[\"Deaths\"] = pd.to_numeric(ebola[\"Deaths\"])\n",
    "ebola[\"New\"] = pd.to_numeric(ebola[\"New\"])\n",
    "ebola.groupby(['Month', 'Country']).agg({'New': np.mean, 'Deaths': np.mean})"
   ]
  },
  {
   "cell_type": "code",
   "execution_count": 71,
   "metadata": {},
   "outputs": [
    {
     "data": {
      "text/html": [
       "<div>\n",
       "<style>\n",
       "    .dataframe thead tr:only-child th {\n",
       "        text-align: right;\n",
       "    }\n",
       "\n",
       "    .dataframe thead th {\n",
       "        text-align: left;\n",
       "    }\n",
       "\n",
       "    .dataframe tbody tr th {\n",
       "        vertical-align: top;\n",
       "    }\n",
       "</style>\n",
       "<table border=\"1\" class=\"dataframe\">\n",
       "  <thead>\n",
       "    <tr style=\"text-align: right;\">\n",
       "      <th></th>\n",
       "      <th>Country</th>\n",
       "      <th>Daily average of deaths</th>\n",
       "      <th>Daily average of new cases</th>\n",
       "    </tr>\n",
       "  </thead>\n",
       "  <tbody>\n",
       "    <tr>\n",
       "      <th>0</th>\n",
       "      <td>Guinea</td>\n",
       "      <td>4.045455</td>\n",
       "      <td>21.681818</td>\n",
       "    </tr>\n",
       "    <tr>\n",
       "      <th>1</th>\n",
       "      <td>Liberia</td>\n",
       "      <td>23.159090</td>\n",
       "      <td>207.546387</td>\n",
       "    </tr>\n",
       "    <tr>\n",
       "      <th>2</th>\n",
       "      <td>Sierra-Leone</td>\n",
       "      <td>773.343750</td>\n",
       "      <td>46.084209</td>\n",
       "    </tr>\n",
       "  </tbody>\n",
       "</table>\n",
       "</div>"
      ],
      "text/plain": [
       "        Country  Daily average of deaths  Daily average of new cases\n",
       "0        Guinea                 4.045455                   21.681818\n",
       "1       Liberia                23.159090                  207.546387\n",
       "2  Sierra-Leone               773.343750                   46.084209"
      ]
     },
     "execution_count": 71,
     "metadata": {},
     "output_type": "execute_result"
    }
   ],
   "source": [
    "DATA_FOLDER = '' # Use the data folder provided in Tutorial 02 - Intro to Pandas.\n",
    "#We need to talk about what data we actually want to show in the end. But the way I wrote the code we can easily display\n",
    "#the entries of some other row.\n",
    "\n",
    "#Guinea\n",
    "#list the c files for Guinea\n",
    "filelist_Guinea = os.listdir('Data/ebola/guinea_data/');\n",
    "#create a list of tables containing the data from the csv files, choose description as index\n",
    "list_of_tables_Guinea = [pd.read_csv('Data/ebola/guinea_data/' + file,index_col = 'Description') for file in filelist_Guinea];\n",
    "#concatenate list\n",
    "Guinea = pd.concat(list_of_tables_Guinea)\n",
    "#select Totals which gives table of indeces(Description) and totals\n",
    "Guinea = Guinea['Totals']\n",
    "#choose The desired descriptions\n",
    "Guinea_new_cases = Guinea.loc['Total new cases registered so far'].astype(np.float32)\n",
    "Guinea_deaths = Guinea.loc['New deaths registered'].astype(np.float32)\n",
    "\n",
    "#Liberia\n",
    "filelist_Liberia = os.listdir('Data/ebola/liberia_data/');\n",
    "list_of_tables_Liberia = [pd.read_csv('Data/ebola/liberia_data/' + file,index_col = 'Variable') for file in filelist_Liberia];\n",
    "Liberia = pd.concat(list_of_tables_Liberia)\n",
    "Liberia = Liberia['National']\n",
    "#The value returned here is too large. I didn't take the time to look into it.\n",
    "Liberia_new_cases = Liberia.loc['New Case/s (Suspected)'].astype(np.float32)\n",
    "Liberia_deaths = Liberia.loc['Newly reported deaths'].astype(np.float32)\n",
    "\n",
    "#Sierra Leone\n",
    "filelist_SL = os.listdir('Data/ebola/sl_data/');\n",
    "list_of_tables_SL = [pd.read_csv('Data/ebola/sl_data/' + file,index_col = 'variable') for file in filelist_SL];\n",
    "SL = pd.concat(list_of_tables_SL)\n",
    "SL = SL['National']\n",
    "SL_new_cases = SL.loc['new_confirmed'].astype(np.float32)\n",
    "#For the deaths of Sierra Leone I know that I chose the wrong one.. We need to discuss what to do in this case\n",
    "SL_deaths = SL.loc['death_confirmed'].astype(np.float32)\n",
    "\n",
    "Ebola = pd.DataFrame({'Country':['Guinea', 'Liberia', 'Sierra-Leone'],\n",
    "                     'Daily average of new cases':[Guinea_new_cases.mean(),Liberia_new_cases.mean(),SL_new_cases.mean()],'Daily average of deaths':[Guinea_deaths.mean(),Liberia_deaths.mean(),SL_deaths.mean()]})\n",
    "Ebola"
   ]
  },
  {
   "cell_type": "markdown",
   "metadata": {},
   "source": [
    "## Task 1. Compiling Ebola Data\n",
    "\n",
    "The `DATA_FOLDER/ebola` folder contains summarized reports of Ebola cases from three countries (Guinea, Liberia and Sierra Leone) during the recent outbreak of the disease in West Africa. For each country, there are daily reports that contain various information about the outbreak in several cities in each country.\n",
    "\n",
    "Use pandas to import these data files into a single `Dataframe`.\n",
    "Using this `DataFrame`, calculate for *each country*, the *daily average* per year of *new cases* and *deaths*.\n",
    "Make sure you handle all the different expressions for *new cases* and *deaths* that are used in the reports."
   ]
  },
  {
   "cell_type": "code",
   "execution_count": null,
   "metadata": {
    "collapsed": true
   },
   "outputs": [],
   "source": [
    "# Write your answer here"
   ]
  },
  {
   "cell_type": "markdown",
   "metadata": {},
   "source": [
    "## Task 2. RNA Sequences\n",
    "\n",
    "In the `DATA_FOLDER/microbiome` subdirectory, there are 9 spreadsheets of microbiome data that was acquired from high-throughput RNA sequencing procedures, along with a 10<sup>th</sup> file that describes the content of each. \n",
    "\n",
    "Use pandas to import the first 9 spreadsheets into a single `DataFrame`.\n",
    "Then, add the metadata information from the 10<sup>th</sup> spreadsheet as columns in the combined `DataFrame`.\n",
    "Make sure that the final `DataFrame` has a unique index and all the `NaN` values have been replaced by the tag `unknown`."
   ]
  },
  {
   "cell_type": "code",
   "execution_count": null,
   "metadata": {
    "collapsed": true
   },
   "outputs": [],
   "source": [
    "# Write your answer here"
   ]
  },
  {
   "cell_type": "markdown",
   "metadata": {},
   "source": [
    "## Task 3. Class War in Titanic\n",
    "\n",
    "Use pandas to import the data file `Data/titanic.xls`. It contains data on all the passengers that travelled on the Titanic."
   ]
  },
  {
   "cell_type": "code",
   "execution_count": null,
   "metadata": {},
   "outputs": [],
   "source": [
    "from IPython.core.display import HTML\n",
    "HTML(filename=DATA_FOLDER+'/titanic.html')"
   ]
  },
  {
   "cell_type": "markdown",
   "metadata": {},
   "source": [
    "For each of the following questions state clearly your assumptions and discuss your findings:\n",
    "1. Describe the *type* and the *value range* of each attribute. Indicate and transform the attributes that can be `Categorical`. \n",
    "2. Plot histograms for the *travel class*, *embarkation port*, *sex* and *age* attributes. For the latter one, use *discrete decade intervals*. \n",
    "3. Calculate the proportion of passengers by *cabin floor*. Present your results in a *pie chart*.\n",
    "4. For each *travel class*, calculate the proportion of the passengers that survived. Present your results in *pie charts*.\n",
    "5. Calculate the proportion of the passengers that survived by *travel class* and *sex*. Present your results in *a single histogram*.\n",
    "6. Create 2 equally populated *age categories* and calculate survival proportions by *age category*, *travel class* and *sex*. Present your results in a `DataFrame` with unique index."
   ]
  },
  {
   "cell_type": "code",
   "execution_count": null,
   "metadata": {
    "collapsed": true
   },
   "outputs": [],
   "source": [
    "# Write your answer here"
   ]
  }
 ],
 "metadata": {
  "kernelspec": {
   "display_name": "Python [conda root]",
   "language": "python",
   "name": "conda-root-py"
  },
  "language_info": {
   "codemirror_mode": {
    "name": "ipython",
    "version": 3
   },
   "file_extension": ".py",
   "mimetype": "text/x-python",
   "name": "python",
   "nbconvert_exporter": "python",
   "pygments_lexer": "ipython3",
   "version": "3.6.1"
  }
 },
 "nbformat": 4,
 "nbformat_minor": 2
}
