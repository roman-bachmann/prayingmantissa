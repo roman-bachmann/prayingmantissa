{
 "cells": [
  {
   "cell_type": "markdown",
   "metadata": {},
   "source": [
    "# Homework 3\n",
    "\n",
    "  - Roman Bachmann, roman.bachmann@epfl.ch\n",
    "  - Michael Allemann, michael.allemann@epfl.ch\n",
    "  - Andrea Caforio, andrea.caforio@epfl.ch\n",
    "  \n",
    "### Disclaimer: All data sheets are for the entire year 2016"
   ]
  },
  {
   "cell_type": "code",
   "execution_count": 2,
   "metadata": {
    "collapsed": true
   },
   "outputs": [],
   "source": [
    "%matplotlib inline"
   ]
  },
  {
   "cell_type": "code",
   "execution_count": 3,
   "metadata": {
    "collapsed": true
   },
   "outputs": [],
   "source": [
    "import json\n",
    "import csv\n",
    "\n",
    "import pandas as pd\n",
    "import folium as fl\n",
    "import numpy as np\n",
    "import seaborn as sns\n",
    "import branca.colormap as cm\n",
    "\n",
    "from matplotlib import pyplot as plt"
   ]
  },
  {
   "cell_type": "code",
   "execution_count": 4,
   "metadata": {
    "collapsed": true
   },
   "outputs": [],
   "source": [
    "sns.set()"
   ]
  },
  {
   "cell_type": "code",
   "execution_count": 5,
   "metadata": {
    "collapsed": true
   },
   "outputs": [],
   "source": [
    "DATA = './data/'\n",
    "\n",
    "topo_eu = json.load(open(DATA + 'europe.topojson.json', 'r'))\n",
    "topo_ch = json.load(open(DATA + 'ch-cantons.topojson.json', 'r'))"
   ]
  },
  {
   "cell_type": "markdown",
   "metadata": {},
   "source": [
    "# Exercise 1\n",
    "\n",
    "We choose the definition of unemployment according to the definitions issued by [Eurostat](http://ec.europa.eu/eurostat/statistics-explained/index.php/Glossary:Unemployed) and [Amstat](https://www.amstat.ch/v2/definition.jsp?lang=de). Concretly, this means the European unemployment rates correspond to the number of unemployed people amongst the active population which is the entire population minus economically inactive like children, students and pensioners. This is the closest definition to how Amstat defines its active population in the above link. The numbers are all based on the year 2016.\n",
    "\n",
    "[Eurostat](http://ec.europa.eu/eurostat/data/database):\n",
    "Directory path to used data sheet\n",
    "\n",
    "    |-- Population and social conditions\n",
    "        |-- Labour market (labour)\n",
    "            |-- Employment and unemployment (Labour fource survey)(employ)\n",
    "                |-- LFS main indicators (lfsi)\n",
    "                    |-- Unemployment - LFS adjusted series (une)\n",
    "                        |-- Unemployment by sex and age - annual average (une_rt_a)\n",
    "                        \n",
    "[Amstat](https://www.amstat.ch/v2/index.jsp)\n",
    "Directory path to used data sheet\n",
    "    \n",
    "    |-- Details\n",
    "        |-- 3.1 Durchschnittliche Arbeitslosenquote pro Jahr\n",
    "            |-- 2016"
   ]
  },
  {
   "cell_type": "markdown",
   "metadata": {},
   "source": [
    "## Loading and cleaning the Amstat and Eurostat data sheets"
   ]
  },
  {
   "cell_type": "code",
   "execution_count": 6,
   "metadata": {},
   "outputs": [
    {
     "data": {
      "text/html": [
       "<div>\n",
       "<style>\n",
       "    .dataframe thead tr:only-child th {\n",
       "        text-align: right;\n",
       "    }\n",
       "\n",
       "    .dataframe thead th {\n",
       "        text-align: left;\n",
       "    }\n",
       "\n",
       "    .dataframe tbody tr th {\n",
       "        vertical-align: top;\n",
       "    }\n",
       "</style>\n",
       "<table border=\"1\" class=\"dataframe\">\n",
       "  <thead>\n",
       "    <tr style=\"text-align: right;\">\n",
       "      <th></th>\n",
       "      <th>TIME</th>\n",
       "      <th>GEO</th>\n",
       "      <th>UNIT</th>\n",
       "      <th>Value</th>\n",
       "    </tr>\n",
       "  </thead>\n",
       "  <tbody>\n",
       "    <tr>\n",
       "      <th>0</th>\n",
       "      <td>2016</td>\n",
       "      <td>Belgium</td>\n",
       "      <td>number</td>\n",
       "      <td>390.0</td>\n",
       "    </tr>\n",
       "    <tr>\n",
       "      <th>1</th>\n",
       "      <td>2016</td>\n",
       "      <td>Belgium</td>\n",
       "      <td>active</td>\n",
       "      <td>7.8</td>\n",
       "    </tr>\n",
       "    <tr>\n",
       "      <th>2</th>\n",
       "      <td>2016</td>\n",
       "      <td>Bulgaria</td>\n",
       "      <td>number</td>\n",
       "      <td>247.0</td>\n",
       "    </tr>\n",
       "    <tr>\n",
       "      <th>3</th>\n",
       "      <td>2016</td>\n",
       "      <td>Bulgaria</td>\n",
       "      <td>active</td>\n",
       "      <td>7.6</td>\n",
       "    </tr>\n",
       "    <tr>\n",
       "      <th>4</th>\n",
       "      <td>2016</td>\n",
       "      <td>Czech Republic</td>\n",
       "      <td>number</td>\n",
       "      <td>212.0</td>\n",
       "    </tr>\n",
       "  </tbody>\n",
       "</table>\n",
       "</div>"
      ],
      "text/plain": [
       "   TIME             GEO    UNIT  Value\n",
       "0  2016         Belgium  number  390.0\n",
       "1  2016         Belgium  active    7.8\n",
       "2  2016        Bulgaria  number  247.0\n",
       "3  2016        Bulgaria  active    7.6\n",
       "4  2016  Czech Republic  number  212.0"
      ]
     },
     "execution_count": 6,
     "metadata": {},
     "output_type": "execute_result"
    }
   ],
   "source": [
    "eurostat = pd.read_csv(DATA + 'eurostat.csv', usecols=[0, 1, 3, 5])\n",
    "amstat = pd.read_csv(DATA + 'amstat_total.csv', usecols=[0, 1, 2], encoding='utf-16-le')\n",
    "capitals = pd.read_csv(DATA + 'capitals.csv', usecols=[0, 1, 2, 3])\n",
    "\n",
    "# Clean various untidy fields\n",
    "eurostat.loc[eurostat['GEO'].str.contains('Germany'), 'GEO'] = 'Germany'\n",
    "eurostat.loc[eurostat['UNIT'].str.contains('active'), 'UNIT'] = 'active'\n",
    "eurostat.loc[eurostat['UNIT'].str.contains('persons'), 'UNIT'] = 'number'\n",
    "\n",
    "# Replace missing entries with nan\n",
    "eurostat['Value'] = eurostat['Value'].str.replace(',', '')\n",
    "eurostat.Value = eurostat.Value.astype(np.float64)\n",
    "\n",
    "# Add Switzerland to Eurostat data frame\n",
    "ch_num = float(amstat.iloc[0, 1].replace(\"'\", '')) / 1000\n",
    "ch_rate = float(amstat.iloc[0, 2])\n",
    "rows = [[2016, 'Switzerland', 'number', ch_num], [2016, 'Switzerland', 'active', ch_rate]]\n",
    "eurostat = eurostat.append(pd.DataFrame(rows, columns=['TIME', 'GEO', 'UNIT', 'Value']), ignore_index=True)\n",
    "eurostat.head()"
   ]
  },
  {
   "cell_type": "markdown",
   "metadata": {},
   "source": [
    "## Bucket distribution\n",
    "\n",
    "As depicted below the unemployment rates are heavily right skewed. With a majority of values between 3 and 7 percent. To account for this fact we defined the terms **very low unemployment** and **very high unemployment** set them at below 6 percent and above 15 percent respectively. The intervals inbetween are split in equally-sized data classes (**low**, **medium**, **high**) of 3 percent each as shown [here](http://gisgeography.com/choropleth-maps-data-classification/)."
   ]
  },
  {
   "cell_type": "code",
   "execution_count": 7,
   "metadata": {},
   "outputs": [
    {
     "data": {
      "text/plain": [
       "<matplotlib.axes._subplots.AxesSubplot at 0x1186c64e0>"
      ]
     },
     "execution_count": 7,
     "metadata": {},
     "output_type": "execute_result"
    },
    {
     "data": {
      "image/png": "[encoded data removed]",
      "text/plain": [
       "<matplotlib.figure.Figure at 0x116137390>"
      ]
     },
     "metadata": {},
     "output_type": "display_data"
    }
   ],
   "source": [
    "INTERVALS = [[3, 5.99], [6, 8.99], [9, 11.99], [12, 14.99]]\n",
    "\n",
    "_, axs = plt.subplots(1,2, figsize=(16, 7))\n",
    "axs[0].set(ylabel='Number of countries')\n",
    "sns.distplot(eurostat[eurostat.UNIT == 'active'].Value, bins=20, kde=False, rug=True, ax=axs[0], axlabel='Unemployment rates')\n",
    "\n",
    "\n",
    "buckets = [0, 0, 0, 0, 0]\n",
    "for _, r in eurostat.iterrows():\n",
    "    if r.UNIT == 'active':\n",
    "        for i in range(len(INTERVALS)):\n",
    "            if r.Value >= INTERVALS[i][0] and r.Value <= INTERVALS[i][1]:\n",
    "                buckets[i] += 1\n",
    "                break\n",
    "            if i == len(INTERVALS)-1:\n",
    "                buckets[len(buckets)-1] += 1\n",
    "\n",
    "columns=['(3-6[ very low', '(6-9[ low', '(9-12[ medium', '(12-15[ high', '(15-[ very high']\n",
    "axs[1].set(xlabel='Unemployment classes', ylabel='Number of countries')\n",
    "pd.DataFrame([buckets], columns=columns).T.plot(kind='bar', legend=False, ax=axs[1], )"
   ]
  },
  {
   "cell_type": "markdown",
   "metadata": {},
   "source": [
    "## Visualization\n",
    "\n",
    "With the help of [ColorBrewer](http://colorbrewer2.org/#type=sequential&scheme=YlOrRd&n=5) we chose 5 highly unambiguous and colorblind safe warm colors for our data buckets, which are then drawn onto the map by the below helper functions. For more information we also added some clickable markers, placed on each country's capital, that show the actual unemployment rate and the total amount of unemployed persons.\n",
    "\n",
    "Furthermore, we can now classify Switzerland as a country with a **very low** unemployment rate in respect to the other European countries. In fact, only Iceland (3.0%) has lower unemployment rate the Switzerland (3.3%)."
   ]
  },
  {
   "cell_type": "code",
   "execution_count": 8,
   "metadata": {
    "collapsed": true
   },
   "outputs": [],
   "source": [
    "COLORS = ['#ffffb2', '#fecc5c', '#fd8d3c', '#f03b20', '#bd0026']\n",
    "POPUP = '<div>Country: {}</div><br><div>Unemployment Rate: {}</div><br><div>Number of unemployed: {}</div>'\n",
    "\n",
    "europe = fl.Map([53, 10], tiles='cartodbpositron', zoom_start=4)\n",
    "\n",
    "# Custom branca colormap legend\n",
    "legend = cm.StepColormap(COLORS, vmin=3, vmax=25, index=[3, 6, 9, 12, 15], caption='Unemployment rate (%)')\n",
    "legend.add_to(europe)\n",
    "\n",
    "def eu_pick_color(topo):\n",
    "    \"\"\"Find the corresponding interval and color for a given country and its\n",
    "    unemployment rate.\n",
    "    \"\"\"\n",
    "    country = topo['properties']['NAME']\n",
    "    if eurostat.GEO.str.contains(country, regex=False).any():\n",
    "        for i in range(len(INTERVALS)):\n",
    "            rate = eurostat.loc[(eurostat.GEO == country) & (eurostat.UNIT == 'active'), 'Value'].values\n",
    "            if rate >= INTERVALS[i][0] and rate <= INTERVALS[i][1]:\n",
    "                return COLORS[i]\n",
    "        \n",
    "        return COLORS[len(COLORS)-1]\n",
    "    \n",
    "def eu_style(topo):\n",
    "    \"\"\"Style function for the European choropleth map.\"\"\"\n",
    "    return {'fillColor': eu_pick_color(topo), 'weight' : 1, 'color' : 'black', 'fillOpacity': 0.6}\n",
    "\n",
    "def eu_place_markers():\n",
    "    \"\"\"Iterate through all countries in the eurostat data frame and add a marker to the map\n",
    "    at each country's captial containing the country name, unemployment rate and total number\n",
    "    of unemployed persons.\n",
    "    \"\"\"\n",
    "    for _, r in eurostat.iterrows():\n",
    "        capital = capitals[capitals.CountryName == r.GEO]\n",
    "        rate = eurostat.loc[(eurostat.UNIT == 'active') & (eurostat.GEO == r.GEO), 'Value'].values[0]\n",
    "        number = eurostat.loc[(eurostat.UNIT == 'number') & (eurostat.GEO == r.GEO), 'Value'].values[0]\n",
    "        \n",
    "        popup = fl.Popup(POPUP.format(r.GEO, rate, int(number)*(1000 if r.GEO != 'Iceland' else 1)))\n",
    "\n",
    "        lat, long = float(capital.CapitalLatitude.values[0]), float(capital.CapitalLongitude.values[0])\n",
    "        \n",
    "        fl.RegularPolygonMarker([lat, long], popup=popup, radius=5).add_to(europe)\n",
    "        \n",
    "fl.TopoJson(topo_eu, 'objects.europe', eu_style).add_to(europe)\n",
    "eu_place_markers()\n",
    "\n",
    "europe.save('europe.html')"
   ]
  },
  {
   "cell_type": "markdown",
   "metadata": {},
   "source": [
    "# --> [MAP](https://rawgit.com/qantik/prayingmantissa/master/homework03/europe.html) Click on markers for detailed information about a country."
   ]
  },
  {
   "cell_type": "markdown",
   "metadata": {},
   "source": [
    "# Exercise 2: Focus on Switzerland\n",
    "\n",
    "## Clarification:\n",
    "\n",
    "- We did this exercise in the inverse order of what was asked.\n",
    "\n",
    "\n",
    "- The first map contains the number of unemployed people provided by amstat, which is calculated by dividing the number of unemployed by the size of the active population per canton. It does _not_ include any employed people. It can be found by the following steps:\n",
    "\n",
    "[Amstat](https://www.amstat.ch/v2/index.jsp)\n",
    "Directory path to used data sheet:\n",
    "    \n",
    "    |-- Arbeitslose\n",
    "        |-- Details\n",
    "            |-- 3.1 Durchschnittliche Arbeitslosenquote pro Jahr\n",
    "                |-- 2016 , Kanton\n",
    "                \n",
    "\n",
    "\n",
    "- The second map contains the number of people seeking employment divided by the size of the active population per canton. The datasheet used can be found by the following steps:\n",
    "\n",
    "[Amstat](https://www.amstat.ch/v2/index.jsp)\n",
    "Directory path to used data sheet:\n",
    "    \n",
    "    |-- Arbeitslose\n",
    "        |-- Details\n",
    "            |-- 1.1 Arbeitslose und Stellensuchende nach verschiedenen Kriterien\n",
    "                |-- Monat(e) auswählen ab 1993\n",
    "                    |-- Registrierte Stellensuchende\n",
    "                        |-- Choose all months of 2016\n",
    "\n",
    "- The third map contains the number of people seeking employment who are currently employed, divided by the size of the active population per canton. The datasheet used can be found by the following steps:\n",
    "\n",
    "[Amstat](https://www.amstat.ch/v2/index.jsp)\n",
    "Directory path to used data sheet:\n",
    "    \n",
    "    |-- Arbeitslose\n",
    "        |-- Details\n",
    "            |-- 1.1 Arbeitslose und Stellensuchende nach verschiedenen Kriterien\n",
    "                |-- Monat(e) auswählen ab 1993\n",
    "                    |-- Nicht arbeitslose Stellensuchende\n",
    "                        |-- Choose all months of 2016\n",
    "\n",
    "\n",
    "- For each canton we then calculate the mean of the sum of the months of 2016. Amstat only delivers the number of people seeking employment, but what we want is the percentage. To circumvent having to find the size of the active population per canton, we multiply the number of jobseekers and the number of employed jobseekers by the percentage of unemployed and divide by the number of unemployed.\n",
    "\n",
    "\n",
    "- Unemployment in Switzerland is much lower than in most of the other countries considered in this notebook. The binsizes for the choice of the colors per canton need to be adapted in order to get a visually understandable map. We consider unemployment of 5 percent or higher as being high unemployment in Switzerland and linearly interpolate the remaining four colors for percentages of unemployment between 0 and 5.\n",
    "\n",
    "\n",
    "- A different colors were used than for the map of Europe above, to stress the fact, that not the same steps were used to classify unemployment.\n",
    "\n",
    "\n",
    "- The german column names are kept in order to stay consistent with the Amstat website. The added columns are also named using the German language to keep the same style throughout the exercise.\n"
   ]
  },
  {
   "cell_type": "markdown",
   "metadata": {},
   "source": [
    "## Preparing the dataframe\n",
    "\n",
    "- The excel datasheet containing the percentage of unemployed people is loaded and named amstat_canton, whereby only the needed columns are kept.\n",
    "\n",
    "- The columns of the dataset are translated to English.\n",
    "\n",
    "\n",
    "- The names of the cantons of the two dataframes get matched.\n",
    "\n",
    "\n",
    "- The excel datasheets containing the jobseekers and the employed jobseekers are loaded, whereby only the needed data is kept. After dropping the first and the last row, the dataframes need to be reindexed, in order to be able to merge.\n",
    "\n",
    "\n",
    "- A column is added to the amstat_canton dataframe containing the sum of jobseekers per canton over all months of the year 2016 divided by 12.\n",
    "\n",
    "\n",
    "- A column is added to the amstat_canton dataframe containing the percentage of jobseekers per canton calculated as explained above in the clarifications.\n",
    "\n",
    "\n",
    "- The same procedure is done in order to add columns containing the number and the percentage of employed jobseekers.\n",
    "\n",
    "\n",
    "- The head of the dataframe is displayed, not showing the useless columns."
   ]
  },
  {
   "cell_type": "code",
   "execution_count": 9,
   "metadata": {
    "collapsed": true
   },
   "outputs": [],
   "source": [
    "def rename_amstat_cantons_to_topojson(df):\n",
    "    \"\"\"Some cantons don't have the same name in the topojson file and the amstat file.\n",
    "    Renames the cantons in place, such that they are compatible with the topojson names.\n",
    "    \"\"\"\n",
    "    df.at[df.Kanton == 'Bern','Kanton'] = 'Bern/Berne'\n",
    "    df.at[df.Kanton == 'Freiburg','Kanton'] = 'Fribourg'\n",
    "    df.at[df.Kanton == 'Graubünden','Kanton'] = 'Graubünden/Grigioni'\n",
    "    df.at[df.Kanton == 'Tessin','Kanton'] = 'Ticino'\n",
    "    df.at[df.Kanton == 'Waadt','Kanton'] = 'Vaud'\n",
    "    df.at[df.Kanton == 'Wallis','Kanton'] = 'Valais/Wallis'\n",
    "    df.at[df.Kanton == 'Neuenburg','Kanton'] = 'Neuchâtel'\n",
    "    df.at[df.Kanton == 'Genf','Kanton'] = 'Genève'"
   ]
  },
  {
   "cell_type": "code",
   "execution_count": 10,
   "metadata": {},
   "outputs": [
    {
     "data": {
      "text/html": [
       "<div>\n",
       "<style>\n",
       "    .dataframe thead tr:only-child th {\n",
       "        text-align: right;\n",
       "    }\n",
       "\n",
       "    .dataframe thead th {\n",
       "        text-align: left;\n",
       "    }\n",
       "\n",
       "    .dataframe tbody tr th {\n",
       "        vertical-align: top;\n",
       "    }\n",
       "</style>\n",
       "<table border=\"1\" class=\"dataframe\">\n",
       "  <thead>\n",
       "    <tr style=\"text-align: right;\">\n",
       "      <th></th>\n",
       "      <th>Canton</th>\n",
       "      <th>avg Unemployed</th>\n",
       "      <th>Unemployed (%)</th>\n",
       "      <th>avg Jobseekers</th>\n",
       "      <th>Jobseekers (%)</th>\n",
       "      <th>avg employed Jobseekers</th>\n",
       "      <th>employed Jobseekers (%)</th>\n",
       "    </tr>\n",
       "  </thead>\n",
       "  <tbody>\n",
       "    <tr>\n",
       "      <th>0</th>\n",
       "      <td>Zürich</td>\n",
       "      <td>30083.916667</td>\n",
       "      <td>3.7</td>\n",
       "      <td>36785.916667</td>\n",
       "      <td>4.5</td>\n",
       "      <td>6702.000000</td>\n",
       "      <td>0.8</td>\n",
       "    </tr>\n",
       "    <tr>\n",
       "      <th>1</th>\n",
       "      <td>Bern/Berne</td>\n",
       "      <td>15283.166667</td>\n",
       "      <td>2.7</td>\n",
       "      <td>20084.250000</td>\n",
       "      <td>3.5</td>\n",
       "      <td>4801.083333</td>\n",
       "      <td>0.8</td>\n",
       "    </tr>\n",
       "    <tr>\n",
       "      <th>2</th>\n",
       "      <td>Luzern</td>\n",
       "      <td>4601.750000</td>\n",
       "      <td>2.1</td>\n",
       "      <td>7466.583333</td>\n",
       "      <td>3.4</td>\n",
       "      <td>2864.833333</td>\n",
       "      <td>1.3</td>\n",
       "    </tr>\n",
       "    <tr>\n",
       "      <th>3</th>\n",
       "      <td>Uri</td>\n",
       "      <td>201.500000</td>\n",
       "      <td>1.0</td>\n",
       "      <td>363.416667</td>\n",
       "      <td>1.8</td>\n",
       "      <td>161.916667</td>\n",
       "      <td>0.8</td>\n",
       "    </tr>\n",
       "    <tr>\n",
       "      <th>4</th>\n",
       "      <td>Schwyz</td>\n",
       "      <td>1537.166667</td>\n",
       "      <td>1.8</td>\n",
       "      <td>2289.583333</td>\n",
       "      <td>2.7</td>\n",
       "      <td>752.416667</td>\n",
       "      <td>0.9</td>\n",
       "    </tr>\n",
       "  </tbody>\n",
       "</table>\n",
       "</div>"
      ],
      "text/plain": [
       "       Canton  avg Unemployed  Unemployed (%)  avg Jobseekers  Jobseekers (%)  \\\n",
       "0      Zürich    30083.916667             3.7    36785.916667             4.5   \n",
       "1  Bern/Berne    15283.166667             2.7    20084.250000             3.5   \n",
       "2      Luzern     4601.750000             2.1     7466.583333             3.4   \n",
       "3         Uri      201.500000             1.0      363.416667             1.8   \n",
       "4      Schwyz     1537.166667             1.8     2289.583333             2.7   \n",
       "\n",
       "   avg employed Jobseekers  employed Jobseekers (%)  \n",
       "0              6702.000000                      0.8  \n",
       "1              4801.083333                      0.8  \n",
       "2              2864.833333                      1.3  \n",
       "3               161.916667                      0.8  \n",
       "4               752.416667                      0.9  "
      ]
     },
     "execution_count": 10,
     "metadata": {},
     "output_type": "execute_result"
    }
   ],
   "source": [
    "amstat_canton = pd.read_excel(DATA + 'amstat_canton.xlsx',usecols= [1,3,4])\n",
    "rename_amstat_cantons_to_topojson(amstat_canton)\n",
    "\n",
    "amstat_canton.columns = ['Canton','avg Unemployed','Unemployed (%)']\n",
    "\n",
    "jobseekers = pd.read_excel(DATA + 'arbeitsuchende.xlsx') \\\n",
    "    .drop('Monat',axis =1) \\\n",
    "    .drop(0,axis=0) \\\n",
    "    .reset_index() \\\n",
    "    .drop('index',axis=1) \\\n",
    "    .drop(26,axis=0)\n",
    "\n",
    "employed_jobseekers = pd.read_excel(DATA + 'amstat_nicht_arbeitslose_stellensuchende.xlsx') \\\n",
    "    .drop('Monat',axis =1) \\\n",
    "    .drop(0,axis=0) \\\n",
    "    .reset_index() \\\n",
    "    .drop('index',axis=1) \\\n",
    "    .drop(26,axis=0)\n",
    "\n",
    "amstat_canton['avg Jobseekers'] = jobseekers.drop('Kanton',axis=1).sum(axis=1) / 12\n",
    "\n",
    "rate = amstat_canton['avg Jobseekers'] * amstat_canton['Unemployed (%)']\n",
    "rate /= amstat_canton['avg Unemployed']\n",
    "amstat_canton['Jobseekers (%)'] = rate.round(decimals=1)\n",
    "\n",
    "amstat_canton['avg employed Jobseekers'] = employed_jobseekers \\\n",
    "    .drop('Kanton',axis=1) \\\n",
    "    .sum(axis=1) / 12\n",
    "\n",
    "rate = amstat_canton['avg employed Jobseekers'] * amstat_canton['Unemployed (%)']\n",
    "rate /= amstat_canton['avg Unemployed'].round(decimals=1)\n",
    "amstat_canton['employed Jobseekers (%)'] = rate.round(decimals=1)\n",
    "\n",
    "amstat_canton.head()"
   ]
  },
  {
   "cell_type": "markdown",
   "metadata": {},
   "source": [
    "## Visualization"
   ]
  },
  {
   "cell_type": "code",
   "execution_count": 11,
   "metadata": {
    "collapsed": true
   },
   "outputs": [],
   "source": [
    "bins = [0.,1.25, 2.5, 3.75 ,5]\n",
    "COLORS = ['#edf8fb', '#b3cde3', '#8c96c6', '#8856a7', '#810f7c']\n",
    "\n",
    "step_ch = cm.StepColormap(COLORS, vmin=0, vmax=6, index=bins, caption='')\n",
    "\n",
    "def interval_ch(val, max_val):\n",
    "    \"\"\"Returns the color for a canton, given it's unemployment ratio value and\n",
    "    the maximum value possible on the map.\n",
    "    \"\"\"\n",
    "    if val>=len(bins):\n",
    "        return COLORS[-1]\n",
    "    else:\n",
    "        return COLORS[int(np.floor(val / max_val * (len(COLORS)-1)))]\n",
    "\n",
    "def pick_color_ch(topo, df, max_val, column, group=None):\n",
    "    \"\"\"Returns the color for the cantons, given the topojson, the data frame and\n",
    "    the maximum value possible on the map.\n",
    "    The column decides the type of unemployment ratio we would like to get.\n",
    "    The group decides if we want to concider Swiss people, foreigners, or an age group.\n",
    "    \"\"\"\n",
    "    canton = topo['properties']['name']\n",
    "    if df.Canton.str.contains(canton, regex=False).any():\n",
    "        if group:\n",
    "            return interval_ch(float(df[df.Canton == canton][column][group]), max_val)\n",
    "        else:\n",
    "            return interval_ch(float(df[df.Canton == canton][column]), max_val)\n",
    "    else:\n",
    "        return '#555555'"
   ]
  },
  {
   "cell_type": "markdown",
   "metadata": {},
   "source": [
    "## Unemployment in Swiss cantons\n",
    "\n",
    "This first map shows the percentage of unemployed people in Switzerland. The highest value is attained in the canton of Jura, which is known to be economically weak in the last years. In the cantons of central Switzerland unemployment is staggeringly small."
   ]
  },
  {
   "cell_type": "code",
   "execution_count": 12,
   "metadata": {
    "collapsed": true,
    "scrolled": false
   },
   "outputs": [],
   "source": [
    "switzerland_unemployed = fl.Map([46.8,8.2],tiles= 'cartodbpositron',zoom_start=8)\n",
    "\n",
    "fl.TopoJson(topo_ch, 'objects.cantons',\n",
    "    style_function = lambda topo: {\n",
    "        'fillColor': pick_color_ch(topo, amstat_canton, 5, 'Unemployed (%)'),\n",
    "        'color': 'black',\n",
    "        'weight': 1,\n",
    "        'fillOpacity': 0.6\n",
    "    }\n",
    ").add_to(switzerland_unemployed)\n",
    "\n",
    "legend = cm.StepColormap(COLORS, vmin=0, vmax=6, index=bins, caption= 'Unemployment rate (%)')\n",
    "legend.add_to(switzerland_unemployed)\n",
    "\n",
    "switzerland_unemployed.save('unemployed.html')"
   ]
  },
  {
   "cell_type": "markdown",
   "metadata": {},
   "source": [
    "# --> [MAP](https://rawgit.com/qantik/prayingmantissa/master/homework03/unemployed.html)"
   ]
  },
  {
   "cell_type": "markdown",
   "metadata": {},
   "source": [
    "## Jobseekers (both unemployed and employed) in Swiss cantons\n",
    "\n",
    "In this map the people who are employed but are nevertheless looking for work are included in the statistics, which leads to an overall hightening of the percentage of people looking for employment. The French and Italian speaking cantons have quite a lot of people looking for employment, but in the Swiss German cantons of Basel City and Schaffhausen also many people are looking for employment."
   ]
  },
  {
   "cell_type": "code",
   "execution_count": 13,
   "metadata": {
    "collapsed": true
   },
   "outputs": [],
   "source": [
    "switzerland_jobseekers = fl.Map([46.8, 8.2],tiles= 'cartodbpositron',zoom_start=8)\n",
    "\n",
    "fl.TopoJson(topo_ch, 'objects.cantons',\n",
    "    style_function = lambda topo: {\n",
    "        'fillColor': pick_color_ch(topo, amstat_canton, 5, 'Jobseekers (%)'),\n",
    "        'color': 'black',\n",
    "        'weight': 1,\n",
    "        'fillOpacity': 0.6}\n",
    ").add_to(switzerland_jobseekers)\n",
    "\n",
    "legend = cm.StepColormap(COLORS, vmin=0, vmax=6, index=bins, caption= 'Rate of jobseekers (%)')\n",
    "legend.add_to(switzerland_jobseekers)\n",
    "\n",
    "switzerland_jobseekers.save('jobseekers.html')"
   ]
  },
  {
   "cell_type": "markdown",
   "metadata": {},
   "source": [
    "# --> [MAP](https://rawgit.com/qantik/prayingmantissa/master/homework03/jobseekers.html)"
   ]
  },
  {
   "cell_type": "markdown",
   "metadata": {},
   "source": [
    "## Employed jobseekers in Swiss cantons\n",
    "\n",
    "To complete the second exercise the difference of the above maps is shown using the same binsizes for the choice of the color. The canton with the highest value of employed jobseekers is Schaffhausen. Besides this canton all have low values of less than 2.5 percent of people who are employed and nevertheless are looking for new employment. "
   ]
  },
  {
   "cell_type": "code",
   "execution_count": 14,
   "metadata": {
    "collapsed": true
   },
   "outputs": [],
   "source": [
    "switzerland_employed_jobseekers = fl.Map([46.8, 8.2],tiles= 'cartodbpositron',zoom_start=8)\n",
    "\n",
    "fl.TopoJson(topo_ch, 'objects.cantons',\n",
    "    style_function = lambda topo: {\n",
    "        'fillColor': pick_color_ch(topo, amstat_canton, 5, 'employed Jobseekers (%)'),\n",
    "        'color': 'black',\n",
    "        'weight': 1,\n",
    "        'fillOpacity': 0.6}\n",
    ").add_to(switzerland_employed_jobseekers)\n",
    "\n",
    "legend = cm.StepColormap(COLORS, vmin=0, vmax=6, index=bins, caption= 'Rate of employed jobseekers (%)')\n",
    "legend.add_to(switzerland_employed_jobseekers)\n",
    "\n",
    "switzerland_employed_jobseekers.save('employed_jobseekers.html')"
   ]
  },
  {
   "cell_type": "markdown",
   "metadata": {},
   "source": [
    "# --> [MAP](https://rawgit.com/qantik/prayingmantissa/master/homework03/employed_jobseekers.html)"
   ]
  },
  {
   "cell_type": "markdown",
   "metadata": {},
   "source": [
    "# 3 Swiss and Foreigners; Young and Old\n",
    "\n",
    "## Discrepancies in unemployment rate between Swiss and foreign workers\n",
    "In the last report from the Economic Secretary (SECO) on the state of the employment market, it was noted that there is a discepancy between the unemployment rate of foreign workers and swiss workers. To analyze this difference, we decided to plot one Choropleth map each for the unemployment rate of Swiss workers, foreign workers, as well as the difference between the two.\n",
    "\n",
    "\n",
    "\n",
    "[Amstat](https://www.amstat.ch/v2/index.jsp) Directory path to used data sheet:\n",
    "    \n",
    "    |-- Arbeitslose\n",
    "        |-- Details\n",
    "            |-- 3.1 Durchschnittliche Arbeitslosenquote pro Jahr\n",
    "                |-- 2016 , Kanton , Nationalität\n",
    "            \n",
    "In the \"amstat_nationality.xlsx\" Excel file, the averages of the year 2016 are given. For each canton, we get the total number and ratios of unemployed Swiss people and foreigners in the categories for general unemployment, youth unemployment and unemployment of people over 50 years old.\n",
    "\n",
    "Unemployment in Switzerland is much lower than in most of the other countries considered in this notebook. The binsizes for the choice of the colors per canton need to be adapted in order to get a visually understandable map. Because of the higher foreign unemployment rates, we decided to adjust the bins in regard to the previous exercise. Most of the unemployment ratios fall between 0 and 8, while there are some strong outliers like Jura that have unemployment rates for young foreigners as high as 14.4%. We consider unemployment of 8 percent or higher as being high unemployment (given the nationality and age groups) in Switzerland and linearly interpolate the remaining four colors for percentages of unemployment between 0 and 14.4.\n",
    "\n",
    "### Preparing the Data Frames\n",
    "\n",
    "By pivoting the \"Nationality\" column, we can get columns for each unemployment ratio for Swiss people and foreigners.\n",
    "To calculate the difference in unemployment ratios, we subtract the swiss unemployment rate from the always higher foreigner unemployment rate for each canton.\n",
    "\n",
    "##### Calculation unemployment rate for age group (25-49) and nationality\n",
    "Amstat does not provided said rates thus we have to calculate it by an weighted mean over the two other\n",
    "age groups.\n",
    "\n",
    "$$ \\frac{\\#_{youth} * \\%_{youth} + \\#_{old} * \\%_{old} + \\#_{rest} * x}{\\#_{total}} = \\%_{unemployed}, where\n",
    "  \\ \\#_{rest} = \\#_{total} - \\#_{youth} - \\#_{old} $$\n",
    "\n",
    "Solve for x.\n",
    "\n",
    "$$ x = \\frac{\\%_{unemployed} * \\#_{total} - \\#_{youth} * \\%_{youth} - \\#_{old} * \\%_{old}}{\\#_{rest}} $$\n",
    "\n"
   ]
  },
  {
   "cell_type": "code",
   "execution_count": 15,
   "metadata": {},
   "outputs": [
    {
     "data": {
      "text/html": [
       "<div>\n",
       "<style>\n",
       "    .dataframe thead tr:only-child th {\n",
       "        text-align: right;\n",
       "    }\n",
       "\n",
       "    .dataframe thead th {\n",
       "        text-align: left;\n",
       "    }\n",
       "\n",
       "    .dataframe tbody tr th {\n",
       "        vertical-align: top;\n",
       "    }\n",
       "</style>\n",
       "<table border=\"1\" class=\"dataframe\">\n",
       "  <thead>\n",
       "    <tr>\n",
       "      <th></th>\n",
       "      <th>Canton</th>\n",
       "      <th colspan=\"2\" halign=\"left\">Avg Unemployment rate</th>\n",
       "      <th colspan=\"2\" halign=\"left\">Unemployment rate (ages 15-24)</th>\n",
       "      <th colspan=\"2\" halign=\"left\">Unemployment rate (ages 25-49)</th>\n",
       "      <th colspan=\"2\" halign=\"left\">Unemployment rate (ages 50+)</th>\n",
       "      <th>Difference Foreigners-Swiss</th>\n",
       "    </tr>\n",
       "    <tr>\n",
       "      <th>Nationality</th>\n",
       "      <th></th>\n",
       "      <th>Foreigners</th>\n",
       "      <th>Swiss</th>\n",
       "      <th>Foreigners</th>\n",
       "      <th>Swiss</th>\n",
       "      <th>Foreigners</th>\n",
       "      <th>Swiss</th>\n",
       "      <th>Foreigners</th>\n",
       "      <th>Swiss</th>\n",
       "      <th></th>\n",
       "    </tr>\n",
       "  </thead>\n",
       "  <tbody>\n",
       "    <tr>\n",
       "      <th>0</th>\n",
       "      <td>Aargau</td>\n",
       "      <td>6.2</td>\n",
       "      <td>2.2</td>\n",
       "      <td>5.8</td>\n",
       "      <td>2.5</td>\n",
       "      <td>6.2</td>\n",
       "      <td>2.2</td>\n",
       "      <td>6.5</td>\n",
       "      <td>2.1</td>\n",
       "      <td>4.0</td>\n",
       "    </tr>\n",
       "    <tr>\n",
       "      <th>1</th>\n",
       "      <td>Appenzell Ausserrhoden</td>\n",
       "      <td>3.9</td>\n",
       "      <td>1.4</td>\n",
       "      <td>4.4</td>\n",
       "      <td>1.4</td>\n",
       "      <td>3.6</td>\n",
       "      <td>1.3</td>\n",
       "      <td>4.4</td>\n",
       "      <td>1.5</td>\n",
       "      <td>2.5</td>\n",
       "    </tr>\n",
       "    <tr>\n",
       "      <th>2</th>\n",
       "      <td>Appenzell Innerrhoden</td>\n",
       "      <td>3.9</td>\n",
       "      <td>0.7</td>\n",
       "      <td>8.2</td>\n",
       "      <td>0.7</td>\n",
       "      <td>2.2</td>\n",
       "      <td>0.6</td>\n",
       "      <td>5.1</td>\n",
       "      <td>0.8</td>\n",
       "      <td>3.2</td>\n",
       "    </tr>\n",
       "    <tr>\n",
       "      <th>3</th>\n",
       "      <td>Basel-Landschaft</td>\n",
       "      <td>5.4</td>\n",
       "      <td>2.3</td>\n",
       "      <td>5.0</td>\n",
       "      <td>2.7</td>\n",
       "      <td>5.4</td>\n",
       "      <td>2.3</td>\n",
       "      <td>5.5</td>\n",
       "      <td>2.1</td>\n",
       "      <td>3.1</td>\n",
       "    </tr>\n",
       "    <tr>\n",
       "      <th>4</th>\n",
       "      <td>Basel-Stadt</td>\n",
       "      <td>5.3</td>\n",
       "      <td>2.9</td>\n",
       "      <td>5.7</td>\n",
       "      <td>4.0</td>\n",
       "      <td>5.1</td>\n",
       "      <td>2.9</td>\n",
       "      <td>5.9</td>\n",
       "      <td>2.2</td>\n",
       "      <td>2.4</td>\n",
       "    </tr>\n",
       "  </tbody>\n",
       "</table>\n",
       "</div>"
      ],
      "text/plain": [
       "                             Canton Avg Unemployment rate        \\\n",
       "Nationality                                    Foreigners Swiss   \n",
       "0                            Aargau                   6.2   2.2   \n",
       "1            Appenzell Ausserrhoden                   3.9   1.4   \n",
       "2             Appenzell Innerrhoden                   3.9   0.7   \n",
       "3                  Basel-Landschaft                   5.4   2.3   \n",
       "4                       Basel-Stadt                   5.3   2.9   \n",
       "\n",
       "            Unemployment rate (ages 15-24)        \\\n",
       "Nationality                     Foreigners Swiss   \n",
       "0                                      5.8   2.5   \n",
       "1                                      4.4   1.4   \n",
       "2                                      8.2   0.7   \n",
       "3                                      5.0   2.7   \n",
       "4                                      5.7   4.0   \n",
       "\n",
       "            Unemployment rate (ages 25-49)       Unemployment rate (ages 50+)  \\\n",
       "Nationality                     Foreigners Swiss                   Foreigners   \n",
       "0                                      6.2   2.2                          6.5   \n",
       "1                                      3.6   1.3                          4.4   \n",
       "2                                      2.2   0.6                          5.1   \n",
       "3                                      5.4   2.3                          5.5   \n",
       "4                                      5.1   2.9                          5.9   \n",
       "\n",
       "                  Difference Foreigners-Swiss  \n",
       "Nationality Swiss                              \n",
       "0             2.1                         4.0  \n",
       "1             1.5                         2.5  \n",
       "2             0.8                         3.2  \n",
       "3             2.1                         3.1  \n",
       "4             2.2                         2.4  "
      ]
     },
     "execution_count": 15,
     "metadata": {},
     "output_type": "execute_result"
    }
   ],
   "source": [
    "amstat_nat = pd.read_excel(DATA + 'amstat_nationality.xlsx', header=2)\n",
    "rename_amstat_cantons_to_topojson(amstat_nat)\n",
    "amstat_nat['Nationalität'] = amstat_nat['Nationalität'].replace({'Ausländer': 'Foreigners', 'Schweizer': 'Swiss'})\n",
    "\n",
    "# Calculation of age group (25-49), see above formula\n",
    "a1 = amstat_nat['Arbeitslosenquote (1 Nks)'] * amstat_nat['durchschnittliche Anzahl Arbeitslose']\n",
    "a2 = amstat_nat['Jugendarbeitslosenquote (1 Nks)'] * amstat_nat['durchschnittliche Anzahl Jugendarbeitslose']\n",
    "a3 = amstat_nat['Arbeitslosenquote 50+ (1 Nks)'] * amstat_nat['durchschnittliche Anzahl Arbeitslose (älter als 50 Jahre)']\n",
    "denom = amstat_nat['durchschnittliche Anzahl Arbeitslose'] - amstat_nat['durchschnittliche Anzahl Jugendarbeitslose'] - amstat_nat['durchschnittliche Anzahl Arbeitslose (älter als 50 Jahre)']\n",
    "rate = ((a1 - a2 - a3) / denom)\n",
    "amstat_nat['Unemployment rate (age 25-49) (%)'] = round(rate, 1)\n",
    "amstat_nat['Avg unemployed (age 25-49)'] = rate\n",
    "\n",
    "amstat_nat = amstat_nat[['Kanton', 'Nationalität', 'Arbeitslosenquote (1 Nks)', \\\n",
    "                         'Jugendarbeitslosenquote (1 Nks)', 'Unemployment rate (age 25-49) (%)', \\\n",
    "                         'Arbeitslosenquote 50+ (1 Nks)']]\n",
    "amstat_nat.columns = ['Canton', 'Nationality', 'Avg Unemployment rate', \\\n",
    "                      'Unemployment rate (ages 15-24)', 'Unemployment rate (ages 25-49)', \\\n",
    "                      'Unemployment rate (ages 50+)']\n",
    "\n",
    "amstat_nat = amstat_nat.pivot(index='Canton', columns='Nationality')\n",
    "amstat_nat.reset_index(inplace=True)\n",
    "amstat_nat['Difference Foreigners-Swiss'] = amstat_nat['Avg Unemployment rate']['Foreigners'] - amstat_nat['Avg Unemployment rate']['Swiss']\n",
    "amstat_nat.head()"
   ]
  },
  {
   "cell_type": "markdown",
   "metadata": {},
   "source": [
    "## Visualization"
   ]
  },
  {
   "cell_type": "code",
   "execution_count": 16,
   "metadata": {
    "collapsed": true,
    "scrolled": false
   },
   "outputs": [],
   "source": [
    "swiss_foreigners = fl.Map([46.8, 8.2], tiles = 'cartodbpositron', zoom_start=8)\n",
    "\n",
    "bins_nat = [0., 2, 4, 6, 8]\n",
    "step_ch_nat = cm.StepColormap(COLORS, vmin=0, vmax=14.4, index=bins_nat, caption='Unemployment rate (%)')\n",
    "\n",
    "swiss_unemployed = fl.TopoJson(topo_ch, overlay=False,name='Unemployed Swiss', object_path='objects.cantons',\n",
    "    style_function = lambda topo: {\n",
    "        'fillColor': pick_color_ch(topo, amstat_nat, 8, 'Avg Unemployment rate', 'Swiss'), 'fillOpacity': 0.6\n",
    "    }\n",
    ")\n",
    "fl.TileLayer('cartodbpositron').add_to(swiss_unemployed)\n",
    "\n",
    "foreigners_unemployed = fl.TopoJson(topo_ch, overlay=False, name='Unemployed Foreigners', object_path='objects.cantons',\n",
    "    style_function = lambda topo: {\n",
    "        'fillColor': pick_color_ch(topo, amstat_nat, 8, 'Avg Unemployment rate', 'Foreigners'), 'fillOpacity': 0.6\n",
    "    }\n",
    ")\n",
    "fl.TileLayer('cartodbpositron').add_to(foreigners_unemployed)\n",
    "\n",
    "diff_unemployed = fl.TopoJson(topo_ch, overlay=False, name='Difference', object_path='objects.cantons',\n",
    "    style_function = lambda topo: {\n",
    "        'fillColor': pick_color_ch(topo, amstat_nat, 8, 'Difference Foreigners-Swiss'), 'fillOpacity': 0.6\n",
    "    }\n",
    ")\n",
    "fl.TileLayer('cartodbpositron').add_to(diff_unemployed)\n",
    "\n",
    "swiss_unemployed.add_to(swiss_foreigners)\n",
    "foreigners_unemployed.add_to(swiss_foreigners)\n",
    "diff_unemployed.add_to(swiss_foreigners)\n",
    "\n",
    "step_ch_nat.add_to(swiss_foreigners)\n",
    "fl.LayerControl(collapsed=False).add_to(swiss_foreigners)\n",
    "\n",
    "swiss_foreigners.save('foreigners.html')"
   ]
  },
  {
   "cell_type": "markdown",
   "metadata": {},
   "source": [
    "## Folium 🐞: When map is first loaded all layers are displayed at the same time. Click on layer control tab to correct it.\n",
    "# --> [MAP](https://rawgit.com/qantik/prayingmantissa/folium/homework03/foreigners.html)"
   ]
  },
  {
   "cell_type": "markdown",
   "metadata": {},
   "source": [
    " "
   ]
  },
  {
   "cell_type": "markdown",
   "metadata": {},
   "source": [
    "Comparing the \"Unemployed Swiss\" and \"Unemployed Foreigners\" maps above, it becomes very apparent how in all cantons the unemployment ratio of foreigners is much higher than the one of Swiss people. Looking at the \"Difference\" map, we see how big this difference is. Jura has a particulary high difference of unemployment between Swiss people and foreigners!\n",
    "\n",
    "## Incorporating Age Groups\n",
    "\n",
    "Below, for each canton we display a barplot of the unemployment ratios of 6 different social groups, namely:\n",
    "\n",
    "* Foreigners, ages 15-24 (blue)\n",
    "* Swiss, ages 15-24 (green)\n",
    "* Foreigners, ages 25-49 (red)\n",
    "* Swiss, ages 25-49 (violet)\n",
    "* Foreigners, ages 50+ (yellow)\n",
    "* Swiss, ages 50+ (turquoise)\n",
    "\n",
    "We observe that Appenzell Innerrhoden, Jura, Neuchâtel and Wallis have very high unemployment ratios for foreigners, while in all those cantons, the unemployment ratios of Swiss people are mostly less than half as high! With some exceptions (Geneva and Ticino), this trend can be seen in every canton."
   ]
  },
  {
   "cell_type": "code",
   "execution_count": 17,
   "metadata": {},
   "outputs": [
    {
     "data": {
      "text/plain": [
       "<matplotlib.axes._subplots.AxesSubplot at 0x119463fd0>"
      ]
     },
     "execution_count": 17,
     "metadata": {},
     "output_type": "execute_result"
    },
    {
     "data": {
      "image/png": "[encoded data removed]",
      "text/plain": [
       "<matplotlib.figure.Figure at 0x1194633c8>"
      ]
     },
     "metadata": {},
     "output_type": "display_data"
    }
   ],
   "source": [
    "amstat_nat_ages = amstat_nat[['Canton', 'Unemployment rate (ages 15-24)', \\\n",
    "                              'Unemployment rate (ages 25-49)', 'Unemployment rate (ages 50+)']]\n",
    "amstat_nat_ages = amstat_nat_ages.set_index('Canton')\n",
    "amstat_nat_ages.plot(kind='bar', figsize=(20,10))"
   ]
  },
  {
   "cell_type": "markdown",
   "metadata": {},
   "source": [
    "## Discrepancies in unemployment rate between different age groups\n",
    "\n",
    "Now we also take an additional look at the three different age groups of all unemployed people in Switzerland.\n",
    "\n",
    "\n",
    "[Amstat](https://www.amstat.ch/v2/index.jsp) Directory path to used data sheet:\n",
    "    \n",
    "    |-- Arbeitslose\n",
    "        |-- Details\n",
    "            |-- 3.1 Durchschnittliche Arbeitslosenquote pro Jahr\n",
    "                |-- 2016 , Kanton , Altersklassen 15-24, 25-49, 50 und mehr\n",
    "            \n",
    "            \n",
    "In the \"amstat_age.xlsx\" Excel file, the averages of the year 2016 are given. For each canton, we get the total number and ratios of unemployed people in the age categories 15-24, 25-49, 50+.\n",
    "\n",
    "### Preparing the Data Frame\n",
    "\n",
    "By pivoting the \"Age group\" column, we can get columns for each unemployment ratio for the age categories \"15-24 years\", \"25-49 years\" and \"50+\"."
   ]
  },
  {
   "cell_type": "code",
   "execution_count": 18,
   "metadata": {},
   "outputs": [
    {
     "data": {
      "text/html": [
       "<div>\n",
       "<style>\n",
       "    .dataframe thead tr:only-child th {\n",
       "        text-align: right;\n",
       "    }\n",
       "\n",
       "    .dataframe thead th {\n",
       "        text-align: left;\n",
       "    }\n",
       "\n",
       "    .dataframe tbody tr th {\n",
       "        vertical-align: top;\n",
       "    }\n",
       "</style>\n",
       "<table border=\"1\" class=\"dataframe\">\n",
       "  <thead>\n",
       "    <tr>\n",
       "      <th></th>\n",
       "      <th colspan=\"3\" halign=\"left\">Unemployment rate</th>\n",
       "    </tr>\n",
       "    <tr>\n",
       "      <th>Age group</th>\n",
       "      <th>15-24 years</th>\n",
       "      <th>25-49 years</th>\n",
       "      <th>50+</th>\n",
       "    </tr>\n",
       "    <tr>\n",
       "      <th>Canton</th>\n",
       "      <th></th>\n",
       "      <th></th>\n",
       "      <th></th>\n",
       "    </tr>\n",
       "  </thead>\n",
       "  <tbody>\n",
       "    <tr>\n",
       "      <th>Aargau</th>\n",
       "      <td>3.2</td>\n",
       "      <td>3.3</td>\n",
       "      <td>2.8</td>\n",
       "    </tr>\n",
       "    <tr>\n",
       "      <th>Appenzell Ausserrhoden</th>\n",
       "      <td>1.7</td>\n",
       "      <td>1.8</td>\n",
       "      <td>1.8</td>\n",
       "    </tr>\n",
       "    <tr>\n",
       "      <th>Appenzell Innerrhoden</th>\n",
       "      <td>1.1</td>\n",
       "      <td>1.0</td>\n",
       "      <td>1.2</td>\n",
       "    </tr>\n",
       "    <tr>\n",
       "      <th>Basel-Landschaft</th>\n",
       "      <td>3.1</td>\n",
       "      <td>3.2</td>\n",
       "      <td>2.6</td>\n",
       "    </tr>\n",
       "    <tr>\n",
       "      <th>Basel-Stadt</th>\n",
       "      <td>4.5</td>\n",
       "      <td>4.1</td>\n",
       "      <td>3.1</td>\n",
       "    </tr>\n",
       "  </tbody>\n",
       "</table>\n",
       "</div>"
      ],
      "text/plain": [
       "                       Unemployment rate                 \n",
       "Age group                    15-24 years 25-49 years  50+\n",
       "Canton                                                   \n",
       "Aargau                               3.2         3.3  2.8\n",
       "Appenzell Ausserrhoden               1.7         1.8  1.8\n",
       "Appenzell Innerrhoden                1.1         1.0  1.2\n",
       "Basel-Landschaft                     3.1         3.2  2.6\n",
       "Basel-Stadt                          4.5         4.1  3.1"
      ]
     },
     "execution_count": 18,
     "metadata": {},
     "output_type": "execute_result"
    }
   ],
   "source": [
    "amstat_age = pd.read_excel(DATA + 'amstat_age.xlsx', header=2)\n",
    "rename_amstat_cantons_to_topojson(amstat_age)\n",
    "amstat_age = amstat_age.rename(columns = {'Unnamed: 3':'Age group', 'Kanton':'Canton', \\\n",
    "                                          'Arbeitslosenquote (1 Nks)':'Unemployment rate'})\n",
    "amstat_age['Age group'] = amstat_age['Age group'].replace({'15-24 Jahre': '15-24 years', \\\n",
    "                                                           '25-49 Jahre': '25-49 years', \\\n",
    "                                                           '50 und mehr': '50+'})\n",
    "amstat_age = amstat_age[['Canton', 'Unemployment rate', 'Age group']]\n",
    "\n",
    "amstat_age = amstat_age.pivot(index='Canton', columns='Age group')\n",
    "amstat_age.head()"
   ]
  },
  {
   "cell_type": "code",
   "execution_count": 19,
   "metadata": {},
   "outputs": [
    {
     "data": {
      "text/plain": [
       "<matplotlib.axes._subplots.AxesSubplot at 0x115f367f0>"
      ]
     },
     "execution_count": 19,
     "metadata": {},
     "output_type": "execute_result"
    },
    {
     "data": {
      "image/png": "[encoded data removed]",
      "text/plain": [
       "<matplotlib.figure.Figure at 0x115bc3eb8>"
      ]
     },
     "metadata": {},
     "output_type": "display_data"
    }
   ],
   "source": [
    "amstat_age.plot(kind='bar', figsize=(20,10))"
   ]
  },
  {
   "cell_type": "markdown",
   "metadata": {},
   "source": [
    "In most cantons, the people between 15 and 24 have the highest unemployment ratios, followed by the 25 to 49 year olds and the people over 50."
   ]
  },
  {
   "cell_type": "markdown",
   "metadata": {},
   "source": [
    "# Exercise 4: Bonus\n",
    "\n",
    "By calculating a weighted average over the two **Röstigraben** regions, whereby the Romandie contains the cantons Vaud, Jura, Neuchâtel, Valais and Genève, we get a significant difference in unemployment rates as shown below and in the subsequent map."
   ]
  },
  {
   "cell_type": "code",
   "execution_count": 20,
   "metadata": {},
   "outputs": [
    {
     "name": "stdout",
     "output_type": "stream",
     "text": [
      "Romandie: 4.93\n",
      "Rest: 3.07\n"
     ]
    }
   ],
   "source": [
    "rest = amstat_canton.iloc[:21]\n",
    "romandie = amstat_canton.iloc[21:]\n",
    "\n",
    "avg_rest = rest['avg Unemployed'] * rest['Unemployed (%)']\n",
    "avg_romandie = romandie['avg Unemployed'] * romandie['Unemployed (%)']\n",
    "rate_rest = round(avg_rest.sum() / rest['avg Unemployed'].sum(), 2)\n",
    "rate_romandie = round(avg_romandie.sum() / romandie['avg Unemployed'].sum(), 2)\n",
    "print('Romandie:', rate_romandie)\n",
    "print('Rest:', rate_rest)"
   ]
  },
  {
   "cell_type": "code",
   "execution_count": 21,
   "metadata": {
    "collapsed": true
   },
   "outputs": [],
   "source": [
    "df_roestigraben = amstat_canton.copy()\n",
    "\n",
    "a = [rate_rest] * 21\n",
    "b = [rate_romandie] * 5\n",
    "\n",
    "df_roestigraben['Unemployed (%)'] = a + b\n",
    "\n",
    "roestigraben = fl.Map([46.8,8.2],tiles= 'cartodbpositron',zoom_start=8)\n",
    "\n",
    "fl.TopoJson(topo_ch, 'objects.cantons',\n",
    "    style_function = lambda topo: {\n",
    "        'fillColor': pick_color_ch(topo, df_roestigraben, 5, 'Unemployed (%)'),\n",
    "        'color': 'black',\n",
    "        'weight': 1,\n",
    "        'fillOpacity': 0.6\n",
    "    }\n",
    ").add_to(roestigraben)\n",
    "\n",
    "fl.Marker([46.778474, 6.641183], popup=str(rate_romandie)).add_to(roestigraben)\n",
    "fl.Marker([47.376887, 8.541694], popup=str(rate_rest)).add_to(roestigraben)\n",
    "\n",
    "roestigraben.save('roestigraben.html')"
   ]
  },
  {
   "cell_type": "markdown",
   "metadata": {},
   "source": [
    "# --> [MAP](https://rawgit.com/qantik/prayingmantissa/master/homework03/roestigraben.html)"
   ]
  },
  {
   "cell_type": "code",
   "execution_count": null,
   "metadata": {
    "collapsed": true
   },
   "outputs": [],
   "source": []
  }
 ],
 "metadata": {
  "kernelspec": {
   "display_name": "Python 3",
   "language": "python",
   "name": "python3"
  },
  "language_info": {
   "codemirror_mode": {
    "name": "ipython",
    "version": 3
   },
   "file_extension": ".py",
   "mimetype": "text/x-python",
   "name": "python",
   "nbconvert_exporter": "python",
   "pygments_lexer": "ipython3",
   "version": "3.6.1"
  }
 },
 "nbformat": 4,
 "nbformat_minor": 2
}
