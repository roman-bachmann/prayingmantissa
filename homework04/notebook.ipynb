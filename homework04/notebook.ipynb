{
 "cells": [
  {
   "cell_type": "markdown",
   "metadata": {},
   "source": [
    "# Todo\n",
    "\n"
   ]
  },
  {
   "cell_type": "code",
   "execution_count": 2,
   "metadata": {},
   "outputs": [],
   "source": [
    "%matplotlib inline"
   ]
  },
  {
   "cell_type": "code",
   "execution_count": 26,
   "metadata": {},
   "outputs": [],
   "source": [
    "import pandas as pd\n",
    "import numpy as np\n",
    "import matplotlib.pyplot as plt\n",
    "import seaborn as sns\n",
    "import networkx as nx\n",
    "\n",
    "from sklearn import linear_model"
   ]
  },
  {
   "cell_type": "code",
   "execution_count": 27,
   "metadata": {},
   "outputs": [],
   "source": [
    "sns.set_palette(\"deep\")"
   ]
  },
  {
   "cell_type": "code",
   "execution_count": 28,
   "metadata": {},
   "outputs": [],
   "source": [
    "DATA = './data/'"
   ]
  },
  {
   "cell_type": "markdown",
   "metadata": {},
   "source": [
    "# Exercise 1: Propensity Score Matching\n",
    "\n",
    "### Clarification:\n",
    "\n",
    "\n",
    "- Black and Hispanic people will further be considered as minorities. A column is added to the lalonde dataframe.\n",
    "\n",
    "\n",
    "- If a subject has a '0' as covariate 're74', 're75' or 're78', the subject is assumed to not have had ANY income in that specific year as specified on Mattermost.\n"
   ]
  },
  {
   "cell_type": "code",
   "execution_count": 97,
   "metadata": {},
   "outputs": [
    {
     "data": {
      "text/html": [
       "<div>\n",
       "<style>\n",
       "    .dataframe thead tr:only-child th {\n",
       "        text-align: right;\n",
       "    }\n",
       "\n",
       "    .dataframe thead th {\n",
       "        text-align: left;\n",
       "    }\n",
       "\n",
       "    .dataframe tbody tr th {\n",
       "        vertical-align: top;\n",
       "    }\n",
       "</style>\n",
       "<table border=\"1\" class=\"dataframe\">\n",
       "  <thead>\n",
       "    <tr style=\"text-align: right;\">\n",
       "      <th></th>\n",
       "      <th>treat</th>\n",
       "      <th>age</th>\n",
       "      <th>educ</th>\n",
       "      <th>black</th>\n",
       "      <th>hispan</th>\n",
       "      <th>married</th>\n",
       "      <th>nodegree</th>\n",
       "      <th>re74</th>\n",
       "      <th>re75</th>\n",
       "      <th>re78</th>\n",
       "      <th>minority</th>\n",
       "      <th>is_zero</th>\n",
       "    </tr>\n",
       "    <tr>\n",
       "      <th>id</th>\n",
       "      <th></th>\n",
       "      <th></th>\n",
       "      <th></th>\n",
       "      <th></th>\n",
       "      <th></th>\n",
       "      <th></th>\n",
       "      <th></th>\n",
       "      <th></th>\n",
       "      <th></th>\n",
       "      <th></th>\n",
       "      <th></th>\n",
       "      <th></th>\n",
       "    </tr>\n",
       "  </thead>\n",
       "  <tbody>\n",
       "    <tr>\n",
       "      <th>NSW1</th>\n",
       "      <td>1</td>\n",
       "      <td>37</td>\n",
       "      <td>11</td>\n",
       "      <td>1</td>\n",
       "      <td>0</td>\n",
       "      <td>1</td>\n",
       "      <td>1</td>\n",
       "      <td>0.0</td>\n",
       "      <td>0.0</td>\n",
       "      <td>9930.0460</td>\n",
       "      <td>1</td>\n",
       "      <td>True</td>\n",
       "    </tr>\n",
       "    <tr>\n",
       "      <th>NSW2</th>\n",
       "      <td>1</td>\n",
       "      <td>22</td>\n",
       "      <td>9</td>\n",
       "      <td>0</td>\n",
       "      <td>1</td>\n",
       "      <td>0</td>\n",
       "      <td>1</td>\n",
       "      <td>0.0</td>\n",
       "      <td>0.0</td>\n",
       "      <td>3595.8940</td>\n",
       "      <td>1</td>\n",
       "      <td>True</td>\n",
       "    </tr>\n",
       "    <tr>\n",
       "      <th>NSW3</th>\n",
       "      <td>1</td>\n",
       "      <td>30</td>\n",
       "      <td>12</td>\n",
       "      <td>1</td>\n",
       "      <td>0</td>\n",
       "      <td>0</td>\n",
       "      <td>0</td>\n",
       "      <td>0.0</td>\n",
       "      <td>0.0</td>\n",
       "      <td>24909.4500</td>\n",
       "      <td>1</td>\n",
       "      <td>True</td>\n",
       "    </tr>\n",
       "    <tr>\n",
       "      <th>NSW4</th>\n",
       "      <td>1</td>\n",
       "      <td>27</td>\n",
       "      <td>11</td>\n",
       "      <td>1</td>\n",
       "      <td>0</td>\n",
       "      <td>0</td>\n",
       "      <td>1</td>\n",
       "      <td>0.0</td>\n",
       "      <td>0.0</td>\n",
       "      <td>7506.1460</td>\n",
       "      <td>1</td>\n",
       "      <td>True</td>\n",
       "    </tr>\n",
       "    <tr>\n",
       "      <th>NSW5</th>\n",
       "      <td>1</td>\n",
       "      <td>33</td>\n",
       "      <td>8</td>\n",
       "      <td>1</td>\n",
       "      <td>0</td>\n",
       "      <td>0</td>\n",
       "      <td>1</td>\n",
       "      <td>0.0</td>\n",
       "      <td>0.0</td>\n",
       "      <td>289.7899</td>\n",
       "      <td>1</td>\n",
       "      <td>True</td>\n",
       "    </tr>\n",
       "  </tbody>\n",
       "</table>\n",
       "</div>"
      ],
      "text/plain": [
       "      treat  age  educ  black  hispan  married  nodegree  re74  re75  \\\n",
       "id                                                                     \n",
       "NSW1      1   37    11      1       0        1         1   0.0   0.0   \n",
       "NSW2      1   22     9      0       1        0         1   0.0   0.0   \n",
       "NSW3      1   30    12      1       0        0         0   0.0   0.0   \n",
       "NSW4      1   27    11      1       0        0         1   0.0   0.0   \n",
       "NSW5      1   33     8      1       0        0         1   0.0   0.0   \n",
       "\n",
       "            re78  minority  is_zero  \n",
       "id                                   \n",
       "NSW1   9930.0460         1     True  \n",
       "NSW2   3595.8940         1     True  \n",
       "NSW3  24909.4500         1     True  \n",
       "NSW4   7506.1460         1     True  \n",
       "NSW5    289.7899         1     True  "
      ]
     },
     "execution_count": 97,
     "metadata": {},
     "output_type": "execute_result"
    }
   ],
   "source": [
    "lalonde = pd.read_csv(DATA + 'lalonde.csv', index_col=0)\n",
    "\n",
    "lalonde['minority'] = lalonde['black'] + lalonde['hispan']\n",
    "lalonde['is_zero'] = ((lalonde.re74 == 0 ) | (lalonde.re75 == 0))\n",
    "lalonde.head()"
   ]
  },
  {
   "cell_type": "markdown",
   "metadata": {},
   "source": [
    "### 1.1 A naive analysis\n",
    "\n",
    "In this first naive analysis we seperate the data into two groups, where the first group received treatment and the second group did not receive treatment. We compare these groups solely by the real earnings of the subjects in 1978. \n"
   ]
  },
  {
   "cell_type": "code",
   "execution_count": 98,
   "metadata": {},
   "outputs": [],
   "source": [
    "treated = lalonde[(lalonde.treat == 1)]\n",
    "non_treated = lalonde[(lalonde.treat == 0)]"
   ]
  },
  {
   "cell_type": "markdown",
   "metadata": {},
   "source": [
    "#### A look at some numbers:\n"
   ]
  },
  {
   "cell_type": "code",
   "execution_count": 99,
   "metadata": {},
   "outputs": [
    {
     "name": "stdout",
     "output_type": "stream",
     "text": [
      "Total subjects: \t\t614\n",
      "Number of treated subjects: \t185\n",
      "Number of control subjects: \t429\n",
      "Mean income treatment group: \t6349.14\n",
      "Mean income control group: \t6984.17\n"
     ]
    },
    {
     "data": {
      "text/plain": [
       "<matplotlib.text.Text at 0x118721710>"
      ]
     },
     "execution_count": 99,
     "metadata": {},
     "output_type": "execute_result"
    },
    {
     "data": {
      "image/png": "[encoded data removed]",
      "text/plain": [
       "<matplotlib.figure.Figure at 0x1186faeb8>"
      ]
     },
     "metadata": {},
     "output_type": "display_data"
    }
   ],
   "source": [
    "print('Total subjects: ' + '\\t' + '\\t' +str(len(lalonde)))\n",
    "print('Number of treated subjects: '+ '\\t' + str(len(treated)))\n",
    "print('Number of control subjects: '+ '\\t' + str(len(non_treated)))\n",
    "print('Mean income treatment group: ' + '\\t' +str(round(treated.re78.mean(),2)))\n",
    "print('Mean income control group: ' +'\\t' + str(round(non_treated.re78.mean(),2)))\n",
    "\n",
    "sns.barplot(x = 'treat', y='re78', data = lalonde).set_title(\"Mean income 1978\")"
   ]
  },
  {
   "cell_type": "markdown",
   "metadata": {},
   "source": [
    "From the total number of subjects in the experiment only roughly a third received treatment. The mean of the income of the control group after treatment is higher than the mean income of treated subjects. This might lead one to believe, that the treatment is useless. The error bars on the above plot represents the standard deviation. \n",
    "\n",
    "#### A look at the distributions:\n",
    "\n",
    "Below the distributions of the income of the treated and untreated subjects is plotted for the year 1978. The smoothed histograms look quite similar, both being heavily right skewed. In the plot representing the subjects that received treatments some heavy outliers are visible, which explains the large standard deviation observed above."
   ]
  },
  {
   "cell_type": "code",
   "execution_count": 100,
   "metadata": {},
   "outputs": [
    {
     "data": {
      "text/plain": [
       "[(0, 70000)]"
      ]
     },
     "execution_count": 100,
     "metadata": {},
     "output_type": "execute_result"
    },
    {
     "data": {
      "image/png": "[encoded data removed]",
      "text/plain": [
       "<matplotlib.figure.Figure at 0x11869d240>"
      ]
     },
     "metadata": {},
     "output_type": "display_data"
    }
   ],
   "source": [
    "fig, axs = plt.subplots(1, 2, figsize=(16, 9), sharey= True, sharex= True)\n",
    "\n",
    "axs[0].set_title(\"Salary density without treatment\")\n",
    "sns.distplot(non_treated.re78, norm_hist=True, kde=True, ax=axs[0], color='y',label ='Not treated')\n",
    "\n",
    "axs[1].set_title(\"Salary density with treatment\")\n",
    "sns.distplot(treated.re78, norm_hist=True, kde=True, ax=axs[1]).set(xlim=(0, 70000))"
   ]
  },
  {
   "cell_type": "code",
   "execution_count": 101,
   "metadata": {},
   "outputs": [
    {
     "data": {
      "text/plain": [
       "(156, 12)"
      ]
     },
     "execution_count": 101,
     "metadata": {},
     "output_type": "execute_result"
    }
   ],
   "source": [
    "lalonde[(lalonde.black == 1) & (lalonde.treat == 1)].shape"
   ]
  },
  {
   "cell_type": "markdown",
   "metadata": {},
   "source": [
    "### 2. A closer look at the data\n",
    "\n",
    "First we take a look at covariates, which are either true or false for a given subject."
   ]
  },
  {
   "cell_type": "code",
   "execution_count": 102,
   "metadata": {},
   "outputs": [
    {
     "data": {
      "text/plain": [
       "<matplotlib.text.Text at 0x1189d31d0>"
      ]
     },
     "execution_count": 102,
     "metadata": {},
     "output_type": "execute_result"
    },
    {
     "data": {
      "image/png": "[encoded data removed]",
      "text/plain": [
       "<matplotlib.figure.Figure at 0x11869d080>"
      ]
     },
     "metadata": {},
     "output_type": "display_data"
    }
   ],
   "source": [
    "fig, axs = plt.subplots(1, 3, figsize=(12, 5),sharey = True)\n",
    "\n",
    "sns.barplot(x='treat', y='minority', data=lalonde, ax=axs[0], ci=None).set_title('Percentage of minorities')\n",
    "sns.barplot(x='treat', y='married', data=lalonde, ax=axs[1], ci=None).set_title('Percentage married')\n",
    "sns.barplot(x='treat', y='nodegree', data=lalonde, ax=axs[2], ci=None).set_title('Percentage with degree')"
   ]
  },
  {
   "cell_type": "markdown",
   "metadata": {},
   "source": [
    "Clearly the treated subjects were not chosen randomly. They are overwhelmingly composed of unmarried minorites, whereby two thirds do not have a degree. Around half of the control group are married and have degrees and only about a third are minorities.\n",
    "\n",
    "Next we look at the mean of the age, the average number of years in education and the mean income in 1975 and 1974:"
   ]
  },
  {
   "cell_type": "code",
   "execution_count": 112,
   "metadata": {},
   "outputs": [
    {
     "data": {
      "text/plain": [
       "[<matplotlib.text.Text at 0x118a83a58>]"
      ]
     },
     "execution_count": 112,
     "metadata": {},
     "output_type": "execute_result"
    },
    {
     "data": {
      "image/png": "[encoded data removed]",
      "text/plain": [
       "<matplotlib.figure.Figure at 0x114fa5470>"
      ]
     },
     "metadata": {},
     "output_type": "display_data"
    }
   ],
   "source": [
    "fig, axs = plt.subplots(1, 4, figsize=(16, 5))\n",
    "\n",
    "sns.violinplot(x = 'treat',y ='age', data = lalonde,ax = axs[0]).set_title('Mean age')\n",
    "sns.violinplot(x = 'treat',y ='educ', data = lalonde,ax = axs[1]).set_title('Years of education')\n",
    "sns.violinplot(x = 'treat',y ='re74', data = lalonde,ax = axs[2]).set(title='Income 1974')\n",
    "sns.violinplot(x = 'treat',y ='re75', data = lalonde,ax = axs[3]).set(title='Income 1975')"
   ]
  },
  {
   "cell_type": "markdown",
   "metadata": {},
   "source": [
    "Additionally to the above stated differences between the features of the treated subjects towards the control group it is now visible, that the treated subjects are also younger on average and have much less income in the year 1974. In 1975 the control group and the treatment group both have significantly less real earnings, which seems a bit fishy. The average years of education between the two groups is about the same, which is not surprising, because highschool takes twelve years.\n",
    "\n",
    "\n",
    "### Impact on the conclusions of the naive research:\n",
    "\n",
    "Naively looking at the outcome of the experiment implies that the treatment was probably a failure. Looking at the data more carefully, we find out:\n",
    "\n",
    "\n",
    "- The control group is twice as large as the treatment group.\n",
    "\n",
    "\n",
    "- The treatment group is overwhelmingly comprised of unmarried minorities, a bit more than half of which finished highschool, have almost no real earnings in 1975 and are on average in their mid twenties.\n",
    "\n",
    "\n",
    "- The control group is far more diverse.\n",
    "\n",
    "\n",
    "In order to compare the two groups a propensity model is applied.\n",
    "\n",
    "\n",
    "### 3. A propensity score model\n",
    "\n",
    "To find the propensity score a linear regression is applied, whereby the 'treated' and the 're78' covariates are dropped and the propensity score is added to the dataframe as an additional covariate. The propensity score gives the probablity of being assigned to the treated group, given a feature vector."
   ]
  },
  {
   "cell_type": "code",
   "execution_count": 105,
   "metadata": {},
   "outputs": [
    {
     "data": {
      "text/html": [
       "<div>\n",
       "<style>\n",
       "    .dataframe thead tr:only-child th {\n",
       "        text-align: right;\n",
       "    }\n",
       "\n",
       "    .dataframe thead th {\n",
       "        text-align: left;\n",
       "    }\n",
       "\n",
       "    .dataframe tbody tr th {\n",
       "        vertical-align: top;\n",
       "    }\n",
       "</style>\n",
       "<table border=\"1\" class=\"dataframe\">\n",
       "  <thead>\n",
       "    <tr style=\"text-align: right;\">\n",
       "      <th></th>\n",
       "      <th>treat</th>\n",
       "      <th>age</th>\n",
       "      <th>educ</th>\n",
       "      <th>black</th>\n",
       "      <th>hispan</th>\n",
       "      <th>married</th>\n",
       "      <th>nodegree</th>\n",
       "      <th>re74</th>\n",
       "      <th>re75</th>\n",
       "      <th>re78</th>\n",
       "      <th>minority</th>\n",
       "      <th>is_zero</th>\n",
       "      <th>propensity</th>\n",
       "    </tr>\n",
       "    <tr>\n",
       "      <th>id</th>\n",
       "      <th></th>\n",
       "      <th></th>\n",
       "      <th></th>\n",
       "      <th></th>\n",
       "      <th></th>\n",
       "      <th></th>\n",
       "      <th></th>\n",
       "      <th></th>\n",
       "      <th></th>\n",
       "      <th></th>\n",
       "      <th></th>\n",
       "      <th></th>\n",
       "      <th></th>\n",
       "    </tr>\n",
       "  </thead>\n",
       "  <tbody>\n",
       "    <tr>\n",
       "      <th>NSW1</th>\n",
       "      <td>1</td>\n",
       "      <td>37</td>\n",
       "      <td>11</td>\n",
       "      <td>1</td>\n",
       "      <td>0</td>\n",
       "      <td>1</td>\n",
       "      <td>1</td>\n",
       "      <td>0.0</td>\n",
       "      <td>0.0</td>\n",
       "      <td>9930.0460</td>\n",
       "      <td>1</td>\n",
       "      <td>True</td>\n",
       "      <td>0.433971</td>\n",
       "    </tr>\n",
       "    <tr>\n",
       "      <th>NSW2</th>\n",
       "      <td>1</td>\n",
       "      <td>22</td>\n",
       "      <td>9</td>\n",
       "      <td>0</td>\n",
       "      <td>1</td>\n",
       "      <td>0</td>\n",
       "      <td>1</td>\n",
       "      <td>0.0</td>\n",
       "      <td>0.0</td>\n",
       "      <td>3595.8940</td>\n",
       "      <td>1</td>\n",
       "      <td>True</td>\n",
       "      <td>0.225574</td>\n",
       "    </tr>\n",
       "    <tr>\n",
       "      <th>NSW3</th>\n",
       "      <td>1</td>\n",
       "      <td>30</td>\n",
       "      <td>12</td>\n",
       "      <td>1</td>\n",
       "      <td>0</td>\n",
       "      <td>0</td>\n",
       "      <td>0</td>\n",
       "      <td>0.0</td>\n",
       "      <td>0.0</td>\n",
       "      <td>24909.4500</td>\n",
       "      <td>1</td>\n",
       "      <td>True</td>\n",
       "      <td>0.737257</td>\n",
       "    </tr>\n",
       "    <tr>\n",
       "      <th>NSW4</th>\n",
       "      <td>1</td>\n",
       "      <td>27</td>\n",
       "      <td>11</td>\n",
       "      <td>1</td>\n",
       "      <td>0</td>\n",
       "      <td>0</td>\n",
       "      <td>1</td>\n",
       "      <td>0.0</td>\n",
       "      <td>0.0</td>\n",
       "      <td>7506.1460</td>\n",
       "      <td>1</td>\n",
       "      <td>True</td>\n",
       "      <td>0.665351</td>\n",
       "    </tr>\n",
       "    <tr>\n",
       "      <th>NSW5</th>\n",
       "      <td>1</td>\n",
       "      <td>33</td>\n",
       "      <td>8</td>\n",
       "      <td>1</td>\n",
       "      <td>0</td>\n",
       "      <td>0</td>\n",
       "      <td>1</td>\n",
       "      <td>0.0</td>\n",
       "      <td>0.0</td>\n",
       "      <td>289.7899</td>\n",
       "      <td>1</td>\n",
       "      <td>True</td>\n",
       "      <td>0.714193</td>\n",
       "    </tr>\n",
       "  </tbody>\n",
       "</table>\n",
       "</div>"
      ],
      "text/plain": [
       "      treat  age  educ  black  hispan  married  nodegree  re74  re75  \\\n",
       "id                                                                     \n",
       "NSW1      1   37    11      1       0        1         1   0.0   0.0   \n",
       "NSW2      1   22     9      0       1        0         1   0.0   0.0   \n",
       "NSW3      1   30    12      1       0        0         0   0.0   0.0   \n",
       "NSW4      1   27    11      1       0        0         1   0.0   0.0   \n",
       "NSW5      1   33     8      1       0        0         1   0.0   0.0   \n",
       "\n",
       "            re78  minority  is_zero  propensity  \n",
       "id                                               \n",
       "NSW1   9930.0460         1     True    0.433971  \n",
       "NSW2   3595.8940         1     True    0.225574  \n",
       "NSW3  24909.4500         1     True    0.737257  \n",
       "NSW4   7506.1460         1     True    0.665351  \n",
       "NSW5    289.7899         1     True    0.714193  "
      ]
     },
     "execution_count": 105,
     "metadata": {},
     "output_type": "execute_result"
    }
   ],
   "source": [
    "logistic = linear_model.LogisticRegression()\n",
    "\n",
    "X = lalonde.drop(['treat','re78'],axis=1)\n",
    "y = lalonde['treat']\n",
    "\n",
    "model = logistic.fit(X,y)\n",
    "\n",
    "lalonde['propensity']= model.predict_proba(X)[:,1]\n",
    "treated = lalonde[(lalonde.treat == 1)]\n",
    "non_treated = lalonde[(lalonde.treat == 0)]\n",
    "\n",
    "lalonde.head()"
   ]
  },
  {
   "cell_type": "markdown",
   "metadata": {},
   "source": [
    "### 4. Balancing the dataset via matching\n",
    "\n",
    "Now for every subject in the treatment group we find a match in the control group. This is done using the networkx library. \n",
    "\n",
    "- We loop over all treated subjects and control subject.\n",
    "\n",
    "\n",
    "- We create an edge between the subjects whereby the weight is minus the absolute value of the difference between the propensity scores.\n",
    "\n",
    "\n",
    "- Doing this we have created a fully connected bipartite graph.\n",
    "\n",
    "\n",
    "- To find the matches the max_weight_matching function from the networkx library is applied, which finds the match for every subject minimizing the sum of the weights. (It minimizes, because the negative absolute difference was chosen, while creating the fully connected bipartite graph.)\n",
    "\n",
    "\n",
    "- The resulting dictionary gets searched for the values assigned to the keys, which start with 'NSW'. This returns the list of control group subjects, that was matched to the treatment group.\n",
    "\n",
    "\n",
    "- A new dataframe non_treated_match is created containing the 185 subjects of the control group, that were matched.\n",
    "\n",
    "\n",
    "- A dataframe is created containing the matched control group and the treatment group appending one to the other."
   ]
  },
  {
   "cell_type": "code",
   "execution_count": 106,
   "metadata": {},
   "outputs": [],
   "source": [
    "G = nx.Graph()\n",
    "\n",
    "for index_t, t in treated.iterrows():\n",
    "    for index_n, n in non_treated.iterrows():\n",
    "        w = -np.abs(t.propensity-n.propensity)\n",
    "        G.add_edge(index_t, index_n, weight=w)\n",
    "\n",
    "match = nx.max_weight_matching(G,True)"
   ]
  },
  {
   "cell_type": "code",
   "execution_count": 107,
   "metadata": {},
   "outputs": [],
   "source": [
    "psids = [v for k, v in match.items() if 'NSW' in k]\n",
    "non_treated_match = non_treated.loc[psids]\n",
    "\n",
    "matched_experiment = treated.append(non_treated_match)"
   ]
  },
  {
   "cell_type": "code",
   "execution_count": 156,
   "metadata": {},
   "outputs": [
    {
     "ename": "AttributeError",
     "evalue": "'tuple' object has no attribute 'Name'",
     "output_type": "error",
     "traceback": [
      "\u001b[0;31m---------------------------------------------------------------------------\u001b[0m",
      "\u001b[0;31mAttributeError\u001b[0m                            Traceback (most recent call last)",
      "\u001b[0;32m<ipython-input-156-6393fb1a20ef>\u001b[0m in \u001b[0;36m<module>\u001b[0;34m()\u001b[0m\n\u001b[1;32m      1\u001b[0m \u001b[0mOppo_Prop\u001b[0m \u001b[0;34m=\u001b[0m \u001b[0;34m[\u001b[0m\u001b[0;34m]\u001b[0m\u001b[0;34m\u001b[0m\u001b[0m\n\u001b[1;32m      2\u001b[0m \u001b[0;32mfor\u001b[0m \u001b[0mi\u001b[0m \u001b[0;32min\u001b[0m \u001b[0mmatched_experiment\u001b[0m\u001b[0;34m.\u001b[0m\u001b[0miterrows\u001b[0m\u001b[0;34m(\u001b[0m\u001b[0;34m)\u001b[0m\u001b[0;34m:\u001b[0m\u001b[0;34m\u001b[0m\u001b[0m\n\u001b[0;32m----> 3\u001b[0;31m     \u001b[0mindex\u001b[0m \u001b[0;34m=\u001b[0m \u001b[0mi\u001b[0m\u001b[0;34m.\u001b[0m\u001b[0mName\u001b[0m\u001b[0;34m\u001b[0m\u001b[0m\n\u001b[0m\u001b[1;32m      4\u001b[0m     \u001b[0mprint\u001b[0m\u001b[0;34m(\u001b[0m\u001b[0mindex\u001b[0m\u001b[0;34m)\u001b[0m\u001b[0;34m\u001b[0m\u001b[0m\n\u001b[1;32m      5\u001b[0m     \u001b[0;31m#value = match[index]\u001b[0m\u001b[0;34m\u001b[0m\u001b[0;34m\u001b[0m\u001b[0m\n",
      "\u001b[0;31mAttributeError\u001b[0m: 'tuple' object has no attribute 'Name'"
     ]
    }
   ],
   "source": [
    "Oppo_Prop = []\n",
    "for i in matched_experiment.iterrows():\n",
    "    index = i.Name\n",
    "    print(index)\n",
    "    #value = match[index]\n",
    "    #matched_experiment.iloc[value]\n",
    "    \n"
   ]
  },
  {
   "cell_type": "code",
   "execution_count": 137,
   "metadata": {},
   "outputs": [
    {
     "data": {
      "text/html": [
       "<div>\n",
       "<style>\n",
       "    .dataframe thead tr:only-child th {\n",
       "        text-align: right;\n",
       "    }\n",
       "\n",
       "    .dataframe thead th {\n",
       "        text-align: left;\n",
       "    }\n",
       "\n",
       "    .dataframe tbody tr th {\n",
       "        vertical-align: top;\n",
       "    }\n",
       "</style>\n",
       "<table border=\"1\" class=\"dataframe\">\n",
       "  <thead>\n",
       "    <tr style=\"text-align: right;\">\n",
       "      <th></th>\n",
       "      <th>NSW</th>\n",
       "      <th>PSID</th>\n",
       "      <th>Prop_NSW</th>\n",
       "      <th>Prop_PSID</th>\n",
       "      <th>Prop_Diff</th>\n",
       "    </tr>\n",
       "  </thead>\n",
       "  <tbody>\n",
       "    <tr>\n",
       "      <th>0</th>\n",
       "      <td>NSW105</td>\n",
       "      <td>PSID388</td>\n",
       "      <td>0.698519</td>\n",
       "      <td>0.698519</td>\n",
       "      <td>0.000000</td>\n",
       "    </tr>\n",
       "    <tr>\n",
       "      <th>1</th>\n",
       "      <td>NSW104</td>\n",
       "      <td>PSID374</td>\n",
       "      <td>0.702519</td>\n",
       "      <td>0.702519</td>\n",
       "      <td>0.000000</td>\n",
       "    </tr>\n",
       "    <tr>\n",
       "      <th>2</th>\n",
       "      <td>NSW92</td>\n",
       "      <td>PSID392</td>\n",
       "      <td>0.729525</td>\n",
       "      <td>0.729525</td>\n",
       "      <td>0.000000</td>\n",
       "    </tr>\n",
       "    <tr>\n",
       "      <th>3</th>\n",
       "      <td>NSW61</td>\n",
       "      <td>PSID376</td>\n",
       "      <td>0.771781</td>\n",
       "      <td>0.771781</td>\n",
       "      <td>0.000000</td>\n",
       "    </tr>\n",
       "    <tr>\n",
       "      <th>4</th>\n",
       "      <td>NSW56</td>\n",
       "      <td>PSID401</td>\n",
       "      <td>0.729525</td>\n",
       "      <td>0.729525</td>\n",
       "      <td>0.000000</td>\n",
       "    </tr>\n",
       "    <tr>\n",
       "      <th>5</th>\n",
       "      <td>NSW53</td>\n",
       "      <td>PSID389</td>\n",
       "      <td>0.702519</td>\n",
       "      <td>0.702519</td>\n",
       "      <td>0.000000</td>\n",
       "    </tr>\n",
       "    <tr>\n",
       "      <th>6</th>\n",
       "      <td>NSW47</td>\n",
       "      <td>PSID398</td>\n",
       "      <td>0.771781</td>\n",
       "      <td>0.771781</td>\n",
       "      <td>0.000000</td>\n",
       "    </tr>\n",
       "    <tr>\n",
       "      <th>7</th>\n",
       "      <td>NSW34</td>\n",
       "      <td>PSID386</td>\n",
       "      <td>0.772096</td>\n",
       "      <td>0.772096</td>\n",
       "      <td>0.000000</td>\n",
       "    </tr>\n",
       "    <tr>\n",
       "      <th>8</th>\n",
       "      <td>NSW25</td>\n",
       "      <td>PSID411</td>\n",
       "      <td>0.725765</td>\n",
       "      <td>0.725765</td>\n",
       "      <td>0.000000</td>\n",
       "    </tr>\n",
       "    <tr>\n",
       "      <th>9</th>\n",
       "      <td>NSW12</td>\n",
       "      <td>PSID381</td>\n",
       "      <td>0.748120</td>\n",
       "      <td>0.748120</td>\n",
       "      <td>0.000000</td>\n",
       "    </tr>\n",
       "    <tr>\n",
       "      <th>10</th>\n",
       "      <td>NSW136</td>\n",
       "      <td>PSID196</td>\n",
       "      <td>0.722205</td>\n",
       "      <td>0.721587</td>\n",
       "      <td>0.000618</td>\n",
       "    </tr>\n",
       "    <tr>\n",
       "      <th>11</th>\n",
       "      <td>NSW44</td>\n",
       "      <td>PSID152</td>\n",
       "      <td>0.145775</td>\n",
       "      <td>0.144561</td>\n",
       "      <td>0.001214</td>\n",
       "    </tr>\n",
       "    <tr>\n",
       "      <th>12</th>\n",
       "      <td>NSW166</td>\n",
       "      <td>PSID105</td>\n",
       "      <td>0.180790</td>\n",
       "      <td>0.130356</td>\n",
       "      <td>0.050434</td>\n",
       "    </tr>\n",
       "    <tr>\n",
       "      <th>13</th>\n",
       "      <td>NSW116</td>\n",
       "      <td>PSID404</td>\n",
       "      <td>0.101454</td>\n",
       "      <td>0.101446</td>\n",
       "      <td>0.000009</td>\n",
       "    </tr>\n",
       "    <tr>\n",
       "      <th>14</th>\n",
       "      <td>NSW83</td>\n",
       "      <td>PSID371</td>\n",
       "      <td>0.126872</td>\n",
       "      <td>0.126862</td>\n",
       "      <td>0.000010</td>\n",
       "    </tr>\n",
       "    <tr>\n",
       "      <th>15</th>\n",
       "      <td>NSW125</td>\n",
       "      <td>PSID232</td>\n",
       "      <td>0.078335</td>\n",
       "      <td>0.078324</td>\n",
       "      <td>0.000011</td>\n",
       "    </tr>\n",
       "    <tr>\n",
       "      <th>17</th>\n",
       "      <td>NSW22</td>\n",
       "      <td>PSID395</td>\n",
       "      <td>0.099851</td>\n",
       "      <td>0.099869</td>\n",
       "      <td>0.000018</td>\n",
       "    </tr>\n",
       "    <tr>\n",
       "      <th>18</th>\n",
       "      <td>NSW140</td>\n",
       "      <td>PSID221</td>\n",
       "      <td>0.124589</td>\n",
       "      <td>0.124609</td>\n",
       "      <td>0.000020</td>\n",
       "    </tr>\n",
       "    <tr>\n",
       "      <th>20</th>\n",
       "      <td>NSW124</td>\n",
       "      <td>PSID190</td>\n",
       "      <td>0.034175</td>\n",
       "      <td>0.034136</td>\n",
       "      <td>0.000039</td>\n",
       "    </tr>\n",
       "    <tr>\n",
       "      <th>21</th>\n",
       "      <td>NSW80</td>\n",
       "      <td>PSID358</td>\n",
       "      <td>0.686320</td>\n",
       "      <td>0.286722</td>\n",
       "      <td>0.399598</td>\n",
       "    </tr>\n",
       "    <tr>\n",
       "      <th>22</th>\n",
       "      <td>NSW177</td>\n",
       "      <td>PSID185</td>\n",
       "      <td>0.149269</td>\n",
       "      <td>0.148949</td>\n",
       "      <td>0.000320</td>\n",
       "    </tr>\n",
       "    <tr>\n",
       "      <th>23</th>\n",
       "      <td>NSW23</td>\n",
       "      <td>PSID329</td>\n",
       "      <td>0.109889</td>\n",
       "      <td>0.109959</td>\n",
       "      <td>0.000070</td>\n",
       "    </tr>\n",
       "    <tr>\n",
       "      <th>24</th>\n",
       "      <td>NSW99</td>\n",
       "      <td>PSID400</td>\n",
       "      <td>0.698474</td>\n",
       "      <td>0.698382</td>\n",
       "      <td>0.000092</td>\n",
       "    </tr>\n",
       "    <tr>\n",
       "      <th>25</th>\n",
       "      <td>NSW167</td>\n",
       "      <td>PSID35</td>\n",
       "      <td>0.080564</td>\n",
       "      <td>0.080665</td>\n",
       "      <td>0.000101</td>\n",
       "    </tr>\n",
       "    <tr>\n",
       "      <th>26</th>\n",
       "      <td>NSW173</td>\n",
       "      <td>PSID424</td>\n",
       "      <td>0.131490</td>\n",
       "      <td>0.128881</td>\n",
       "      <td>0.002609</td>\n",
       "    </tr>\n",
       "    <tr>\n",
       "      <th>28</th>\n",
       "      <td>NSW96</td>\n",
       "      <td>PSID429</td>\n",
       "      <td>0.155441</td>\n",
       "      <td>0.155298</td>\n",
       "      <td>0.000144</td>\n",
       "    </tr>\n",
       "    <tr>\n",
       "      <th>29</th>\n",
       "      <td>NSW85</td>\n",
       "      <td>PSID419</td>\n",
       "      <td>0.736867</td>\n",
       "      <td>0.736725</td>\n",
       "      <td>0.000142</td>\n",
       "    </tr>\n",
       "    <tr>\n",
       "      <th>30</th>\n",
       "      <td>NSW33</td>\n",
       "      <td>PSID41</td>\n",
       "      <td>0.491903</td>\n",
       "      <td>0.489166</td>\n",
       "      <td>0.002737</td>\n",
       "    </tr>\n",
       "    <tr>\n",
       "      <th>31</th>\n",
       "      <td>NSW137</td>\n",
       "      <td>PSID313</td>\n",
       "      <td>0.090948</td>\n",
       "      <td>0.091141</td>\n",
       "      <td>0.000193</td>\n",
       "    </tr>\n",
       "    <tr>\n",
       "      <th>32</th>\n",
       "      <td>NSW88</td>\n",
       "      <td>PSID158</td>\n",
       "      <td>0.669607</td>\n",
       "      <td>0.669408</td>\n",
       "      <td>0.000199</td>\n",
       "    </tr>\n",
       "    <tr>\n",
       "      <th>...</th>\n",
       "      <td>...</td>\n",
       "      <td>...</td>\n",
       "      <td>...</td>\n",
       "      <td>...</td>\n",
       "      <td>...</td>\n",
       "    </tr>\n",
       "    <tr>\n",
       "      <th>126</th>\n",
       "      <td>NSW130</td>\n",
       "      <td>PSID293</td>\n",
       "      <td>0.569844</td>\n",
       "      <td>0.565595</td>\n",
       "      <td>0.004248</td>\n",
       "    </tr>\n",
       "    <tr>\n",
       "      <th>127</th>\n",
       "      <td>NSW95</td>\n",
       "      <td>PSID225</td>\n",
       "      <td>0.588945</td>\n",
       "      <td>0.271928</td>\n",
       "      <td>0.317017</td>\n",
       "    </tr>\n",
       "    <tr>\n",
       "      <th>128</th>\n",
       "      <td>NSW143</td>\n",
       "      <td>PSID408</td>\n",
       "      <td>0.590681</td>\n",
       "      <td>0.391681</td>\n",
       "      <td>0.199000</td>\n",
       "    </tr>\n",
       "    <tr>\n",
       "      <th>129</th>\n",
       "      <td>NSW165</td>\n",
       "      <td>PSID241</td>\n",
       "      <td>0.600385</td>\n",
       "      <td>0.280008</td>\n",
       "      <td>0.320378</td>\n",
       "    </tr>\n",
       "    <tr>\n",
       "      <th>130</th>\n",
       "      <td>NSW114</td>\n",
       "      <td>PSID164</td>\n",
       "      <td>0.602274</td>\n",
       "      <td>0.316073</td>\n",
       "      <td>0.286201</td>\n",
       "    </tr>\n",
       "    <tr>\n",
       "      <th>131</th>\n",
       "      <td>NSW36</td>\n",
       "      <td>PSID277</td>\n",
       "      <td>0.639715</td>\n",
       "      <td>0.622233</td>\n",
       "      <td>0.017481</td>\n",
       "    </tr>\n",
       "    <tr>\n",
       "      <th>132</th>\n",
       "      <td>NSW117</td>\n",
       "      <td>PSID188</td>\n",
       "      <td>0.641615</td>\n",
       "      <td>0.239609</td>\n",
       "      <td>0.402006</td>\n",
       "    </tr>\n",
       "    <tr>\n",
       "      <th>133</th>\n",
       "      <td>NSW106</td>\n",
       "      <td>PSID412</td>\n",
       "      <td>0.647920</td>\n",
       "      <td>0.644017</td>\n",
       "      <td>0.003903</td>\n",
       "    </tr>\n",
       "    <tr>\n",
       "      <th>134</th>\n",
       "      <td>NSW72</td>\n",
       "      <td>PSID187</td>\n",
       "      <td>0.648470</td>\n",
       "      <td>0.618416</td>\n",
       "      <td>0.030054</td>\n",
       "    </tr>\n",
       "    <tr>\n",
       "      <th>135</th>\n",
       "      <td>NSW176</td>\n",
       "      <td>PSID417</td>\n",
       "      <td>0.649957</td>\n",
       "      <td>0.267373</td>\n",
       "      <td>0.382584</td>\n",
       "    </tr>\n",
       "    <tr>\n",
       "      <th>136</th>\n",
       "      <td>NSW109</td>\n",
       "      <td>PSID5</td>\n",
       "      <td>0.652409</td>\n",
       "      <td>0.465987</td>\n",
       "      <td>0.186422</td>\n",
       "    </tr>\n",
       "    <tr>\n",
       "      <th>139</th>\n",
       "      <td>NSW67</td>\n",
       "      <td>PSID269</td>\n",
       "      <td>0.665351</td>\n",
       "      <td>0.657975</td>\n",
       "      <td>0.007376</td>\n",
       "    </tr>\n",
       "    <tr>\n",
       "      <th>150</th>\n",
       "      <td>NSW30</td>\n",
       "      <td>PSID173</td>\n",
       "      <td>0.678026</td>\n",
       "      <td>0.676450</td>\n",
       "      <td>0.001576</td>\n",
       "    </tr>\n",
       "    <tr>\n",
       "      <th>153</th>\n",
       "      <td>NSW113</td>\n",
       "      <td>PSID234</td>\n",
       "      <td>0.683837</td>\n",
       "      <td>0.662817</td>\n",
       "      <td>0.021020</td>\n",
       "    </tr>\n",
       "    <tr>\n",
       "      <th>154</th>\n",
       "      <td>NSW102</td>\n",
       "      <td>PSID140</td>\n",
       "      <td>0.694439</td>\n",
       "      <td>0.689221</td>\n",
       "      <td>0.005218</td>\n",
       "    </tr>\n",
       "    <tr>\n",
       "      <th>155</th>\n",
       "      <td>NSW45</td>\n",
       "      <td>PSID16</td>\n",
       "      <td>0.694486</td>\n",
       "      <td>0.239486</td>\n",
       "      <td>0.454999</td>\n",
       "    </tr>\n",
       "    <tr>\n",
       "      <th>156</th>\n",
       "      <td>NSW153</td>\n",
       "      <td>PSID66</td>\n",
       "      <td>0.695158</td>\n",
       "      <td>0.200880</td>\n",
       "      <td>0.494278</td>\n",
       "    </tr>\n",
       "    <tr>\n",
       "      <th>157</th>\n",
       "      <td>NSW19</td>\n",
       "      <td>PSID366</td>\n",
       "      <td>0.698847</td>\n",
       "      <td>0.245838</td>\n",
       "      <td>0.453009</td>\n",
       "    </tr>\n",
       "    <tr>\n",
       "      <th>158</th>\n",
       "      <td>NSW121</td>\n",
       "      <td>PSID399</td>\n",
       "      <td>0.704639</td>\n",
       "      <td>0.702930</td>\n",
       "      <td>0.001708</td>\n",
       "    </tr>\n",
       "    <tr>\n",
       "      <th>159</th>\n",
       "      <td>NSW18</td>\n",
       "      <td>PSID191</td>\n",
       "      <td>0.706443</td>\n",
       "      <td>0.702726</td>\n",
       "      <td>0.003717</td>\n",
       "    </tr>\n",
       "    <tr>\n",
       "      <th>165</th>\n",
       "      <td>NSW84</td>\n",
       "      <td>PSID278</td>\n",
       "      <td>0.726138</td>\n",
       "      <td>0.722210</td>\n",
       "      <td>0.003928</td>\n",
       "    </tr>\n",
       "    <tr>\n",
       "      <th>166</th>\n",
       "      <td>NSW151</td>\n",
       "      <td>PSID387</td>\n",
       "      <td>0.726285</td>\n",
       "      <td>0.721732</td>\n",
       "      <td>0.004552</td>\n",
       "    </tr>\n",
       "    <tr>\n",
       "      <th>173</th>\n",
       "      <td>NSW32</td>\n",
       "      <td>PSID355</td>\n",
       "      <td>0.747594</td>\n",
       "      <td>0.739927</td>\n",
       "      <td>0.007667</td>\n",
       "    </tr>\n",
       "    <tr>\n",
       "      <th>174</th>\n",
       "      <td>NSW97</td>\n",
       "      <td>PSID345</td>\n",
       "      <td>0.747755</td>\n",
       "      <td>0.737877</td>\n",
       "      <td>0.009878</td>\n",
       "    </tr>\n",
       "    <tr>\n",
       "      <th>177</th>\n",
       "      <td>NSW20</td>\n",
       "      <td>PSID416</td>\n",
       "      <td>0.751629</td>\n",
       "      <td>0.722311</td>\n",
       "      <td>0.029317</td>\n",
       "    </tr>\n",
       "    <tr>\n",
       "      <th>178</th>\n",
       "      <td>NSW50</td>\n",
       "      <td>PSID337</td>\n",
       "      <td>0.762027</td>\n",
       "      <td>0.758411</td>\n",
       "      <td>0.003615</td>\n",
       "    </tr>\n",
       "    <tr>\n",
       "      <th>179</th>\n",
       "      <td>NSW77</td>\n",
       "      <td>PSID218</td>\n",
       "      <td>0.765420</td>\n",
       "      <td>0.763430</td>\n",
       "      <td>0.001989</td>\n",
       "    </tr>\n",
       "    <tr>\n",
       "      <th>180</th>\n",
       "      <td>NSW13</td>\n",
       "      <td>PSID268</td>\n",
       "      <td>0.768453</td>\n",
       "      <td>0.758250</td>\n",
       "      <td>0.010204</td>\n",
       "    </tr>\n",
       "    <tr>\n",
       "      <th>181</th>\n",
       "      <td>NSW15</td>\n",
       "      <td>PSID373</td>\n",
       "      <td>0.790958</td>\n",
       "      <td>0.772096</td>\n",
       "      <td>0.018861</td>\n",
       "    </tr>\n",
       "    <tr>\n",
       "      <th>182</th>\n",
       "      <td>NSW147</td>\n",
       "      <td>PSID8</td>\n",
       "      <td>0.795497</td>\n",
       "      <td>0.773695</td>\n",
       "      <td>0.021802</td>\n",
       "    </tr>\n",
       "  </tbody>\n",
       "</table>\n",
       "<p>143 rows × 5 columns</p>\n",
       "</div>"
      ],
      "text/plain": [
       "        NSW     PSID  Prop_NSW  Prop_PSID  Prop_Diff\n",
       "0    NSW105  PSID388  0.698519   0.698519   0.000000\n",
       "1    NSW104  PSID374  0.702519   0.702519   0.000000\n",
       "2     NSW92  PSID392  0.729525   0.729525   0.000000\n",
       "3     NSW61  PSID376  0.771781   0.771781   0.000000\n",
       "4     NSW56  PSID401  0.729525   0.729525   0.000000\n",
       "5     NSW53  PSID389  0.702519   0.702519   0.000000\n",
       "6     NSW47  PSID398  0.771781   0.771781   0.000000\n",
       "7     NSW34  PSID386  0.772096   0.772096   0.000000\n",
       "8     NSW25  PSID411  0.725765   0.725765   0.000000\n",
       "9     NSW12  PSID381  0.748120   0.748120   0.000000\n",
       "10   NSW136  PSID196  0.722205   0.721587   0.000618\n",
       "11    NSW44  PSID152  0.145775   0.144561   0.001214\n",
       "12   NSW166  PSID105  0.180790   0.130356   0.050434\n",
       "13   NSW116  PSID404  0.101454   0.101446   0.000009\n",
       "14    NSW83  PSID371  0.126872   0.126862   0.000010\n",
       "15   NSW125  PSID232  0.078335   0.078324   0.000011\n",
       "17    NSW22  PSID395  0.099851   0.099869   0.000018\n",
       "18   NSW140  PSID221  0.124589   0.124609   0.000020\n",
       "20   NSW124  PSID190  0.034175   0.034136   0.000039\n",
       "21    NSW80  PSID358  0.686320   0.286722   0.399598\n",
       "22   NSW177  PSID185  0.149269   0.148949   0.000320\n",
       "23    NSW23  PSID329  0.109889   0.109959   0.000070\n",
       "24    NSW99  PSID400  0.698474   0.698382   0.000092\n",
       "25   NSW167   PSID35  0.080564   0.080665   0.000101\n",
       "26   NSW173  PSID424  0.131490   0.128881   0.002609\n",
       "28    NSW96  PSID429  0.155441   0.155298   0.000144\n",
       "29    NSW85  PSID419  0.736867   0.736725   0.000142\n",
       "30    NSW33   PSID41  0.491903   0.489166   0.002737\n",
       "31   NSW137  PSID313  0.090948   0.091141   0.000193\n",
       "32    NSW88  PSID158  0.669607   0.669408   0.000199\n",
       "..      ...      ...       ...        ...        ...\n",
       "126  NSW130  PSID293  0.569844   0.565595   0.004248\n",
       "127   NSW95  PSID225  0.588945   0.271928   0.317017\n",
       "128  NSW143  PSID408  0.590681   0.391681   0.199000\n",
       "129  NSW165  PSID241  0.600385   0.280008   0.320378\n",
       "130  NSW114  PSID164  0.602274   0.316073   0.286201\n",
       "131   NSW36  PSID277  0.639715   0.622233   0.017481\n",
       "132  NSW117  PSID188  0.641615   0.239609   0.402006\n",
       "133  NSW106  PSID412  0.647920   0.644017   0.003903\n",
       "134   NSW72  PSID187  0.648470   0.618416   0.030054\n",
       "135  NSW176  PSID417  0.649957   0.267373   0.382584\n",
       "136  NSW109    PSID5  0.652409   0.465987   0.186422\n",
       "139   NSW67  PSID269  0.665351   0.657975   0.007376\n",
       "150   NSW30  PSID173  0.678026   0.676450   0.001576\n",
       "153  NSW113  PSID234  0.683837   0.662817   0.021020\n",
       "154  NSW102  PSID140  0.694439   0.689221   0.005218\n",
       "155   NSW45   PSID16  0.694486   0.239486   0.454999\n",
       "156  NSW153   PSID66  0.695158   0.200880   0.494278\n",
       "157   NSW19  PSID366  0.698847   0.245838   0.453009\n",
       "158  NSW121  PSID399  0.704639   0.702930   0.001708\n",
       "159   NSW18  PSID191  0.706443   0.702726   0.003717\n",
       "165   NSW84  PSID278  0.726138   0.722210   0.003928\n",
       "166  NSW151  PSID387  0.726285   0.721732   0.004552\n",
       "173   NSW32  PSID355  0.747594   0.739927   0.007667\n",
       "174   NSW97  PSID345  0.747755   0.737877   0.009878\n",
       "177   NSW20  PSID416  0.751629   0.722311   0.029317\n",
       "178   NSW50  PSID337  0.762027   0.758411   0.003615\n",
       "179   NSW77  PSID218  0.765420   0.763430   0.001989\n",
       "180   NSW13  PSID268  0.768453   0.758250   0.010204\n",
       "181   NSW15  PSID373  0.790958   0.772096   0.018861\n",
       "182  NSW147    PSID8  0.795497   0.773695   0.021802\n",
       "\n",
       "[143 rows x 5 columns]"
      ]
     },
     "execution_count": 137,
     "metadata": {},
     "output_type": "execute_result"
    }
   ],
   "source": [
    "nsw_l, psids_l = [], []\n",
    "for k, v in match.items():\n",
    "    if'NSW' in k:\n",
    "        nsw_l.append(k)\n",
    "        psids_l.append(v)\n",
    "\n",
    "df = pd.DataFrame()\n",
    "df['NSW'] = nsw_l\n",
    "df['PSID'] = psids_l\n",
    "df['Prop_NSW'] = lalonde.loc[nsw_l].propensity.values\n",
    "df['Prop_PSID'] = lalonde.loc[psids_l].propensity.values\n",
    "df['Prop_Diff'] = np.abs(df.Prop_PSID-df.Prop_NSW)\n",
    "df = df[df.Prop_Diff <= 0.5]\n",
    "df\n",
    "\n",
    "\n",
    "\n",
    "#NSW = lalonde[lalonde.index.isin(nsw_l)] \n",
    "#NSW\n"
   ]
  },
  {
   "cell_type": "code",
   "execution_count": null,
   "metadata": {},
   "outputs": [],
   "source": []
  },
  {
   "cell_type": "code",
   "execution_count": 114,
   "metadata": {},
   "outputs": [
    {
     "data": {
      "text/plain": [
       "<matplotlib.axes._subplots.AxesSubplot at 0x119041a20>"
      ]
     },
     "execution_count": 114,
     "metadata": {},
     "output_type": "execute_result"
    },
    {
     "data": {
      "image/png": "[encoded data removed]",
      "text/plain": [
       "<matplotlib.figure.Figure at 0x119054400>"
      ]
     },
     "metadata": {},
     "output_type": "display_data"
    }
   ],
   "source": [
    "sns.distplot(df.Prop_Diff[df.Prop_Diff <= 0.5], norm_hist=True, kde=True)"
   ]
  },
  {
   "cell_type": "markdown",
   "metadata": {},
   "source": [
    "# Playing around:\n"
   ]
  },
  {
   "cell_type": "code",
   "execution_count": null,
   "metadata": {},
   "outputs": [],
   "source": [
    "fig, axs = plt.subplots(1, 4, figsize=(16, 5))\n",
    "\n",
    "sns.violinplot(x = 'treat',y ='age', data = df,ax = axs[0]).set_title('Mean age')\n",
    "sns.violinplot(x = 'treat',y ='educ', data = matched_experiment,ax = axs[1]).set_title('Years of education')\n",
    "sns.violinplot(x = 'treat',y ='re74', data = matched_experiment,ax = axs[2]).set_title('Income 1974')\n",
    "sns.violinplot(x = 'treat',y ='re75', data = matched_experiment,ax = axs[3]).set_title('Income 1975')"
   ]
  },
  {
   "cell_type": "markdown",
   "metadata": {},
   "source": [
    "#### Comparing the outcome of the experiment looking at matched subjets\n",
    "\n",
    "\n",
    "First the mean real earnings of the matched subjects is shown:"
   ]
  },
  {
   "cell_type": "code",
   "execution_count": 37,
   "metadata": {},
   "outputs": [
    {
     "data": {
      "text/plain": [
       "<matplotlib.text.Text at 0x1130b64e0>"
      ]
     },
     "execution_count": 37,
     "metadata": {},
     "output_type": "execute_result"
    },
    {
     "data": {
      "image/png": "[encoded data removed]",
      "text/plain": [
       "<matplotlib.figure.Figure at 0x113f4fc88>"
      ]
     },
     "metadata": {},
     "output_type": "display_data"
    }
   ],
   "source": [
    "sns.barplot(x = 'treat', y='re78', data = matched_experiment).set_title(\"Mean matched income 1978\")"
   ]
  },
  {
   "cell_type": "markdown",
   "metadata": {},
   "source": [
    "Alas, it looks like the treatment was a success, after subjects with similar covariates were matched! The mean real earnings of the matched control subjects is lower, than the mean real earnings of the treatment group, even though still quite high standard deviation is present in the treatment group due to outliers. \n",
    "\n",
    "\n",
    "To be sure, that our method of matching was reasonable, let's take a look at the features of the matched subjects.\n",
    "\n",
    "\n",
    "First the age, number of years of education and the income in 1974 and 1975 are compared:"
   ]
  },
  {
   "cell_type": "code",
   "execution_count": 58,
   "metadata": {},
   "outputs": [
    {
     "data": {
      "text/plain": [
       "<matplotlib.text.Text at 0x1183bb128>"
      ]
     },
     "execution_count": 58,
     "metadata": {},
     "output_type": "execute_result"
    },
    {
     "data": {
      "image/png": "[encoded data removed]",
      "text/plain": [
       "<matplotlib.figure.Figure at 0x118138c88>"
      ]
     },
     "metadata": {},
     "output_type": "display_data"
    }
   ],
   "source": [
    "fig, axs = plt.subplots(1, 4, figsize=(16, 5))\n",
    "\n",
    "sns.violinplot(x = 'treat',y ='age', data = matched_experiment,ax = axs[0]).set_title('Mean age')\n",
    "sns.violinplot(x = 'treat',y ='educ', data = matched_experiment,ax = axs[1]).set_title('Years of education')\n",
    "sns.violinplot(x = 'treat',y ='re74', data = matched_experiment,ax = axs[2]).set_title('Income 1974')\n",
    "sns.violinplot(x = 'treat',y ='re75', data = matched_experiment,ax = axs[3]).set_title('Income 1975')"
   ]
  },
  {
   "cell_type": "markdown",
   "metadata": {},
   "source": [
    "The income in 1974, which was heavily unbalanced before seems to have been corrected reasonably well, eventhough the large error bars indicate many outliers. Through matching the mean age fell to the other side. Now the control group is on average less than 25 years old.\n",
    "\n",
    "Next the covariates, which are either true or false are compared:"
   ]
  },
  {
   "cell_type": "code",
   "execution_count": 57,
   "metadata": {},
   "outputs": [
    {
     "data": {
      "text/plain": [
       "<matplotlib.text.Text at 0x11810c1d0>"
      ]
     },
     "execution_count": 57,
     "metadata": {},
     "output_type": "execute_result"
    },
    {
     "data": {
      "image/png": "[encoded data removed]",
      "text/plain": [
       "<matplotlib.figure.Figure at 0x117ee9470>"
      ]
     },
     "metadata": {},
     "output_type": "display_data"
    }
   ],
   "source": [
    "fig, axs = plt.subplots(1, 3, figsize=(12, 5),sharey = True)\n",
    "\n",
    "sns.barplot(x = 'treat',y ='minority', data = matched_experiment,ax = axs[0], ci=None).set_title('Percentage of minorities')\n",
    "sns.barplot(x = 'treat',y ='married', data = matched_experiment,ax = axs[1], ci=None).set_title('Percentage married')\n",
    "sns.barplot(x = 'treat',y ='nodegree', data = matched_experiment,ax = axs[2], ci=None).set_title('Percentage with degree')"
   ]
  },
  {
   "cell_type": "markdown",
   "metadata": {},
   "source": [
    "The number of subjects having a degree and being married have been matched reasonably well, but the feature of being part of a minority is still heavily over represented in the treatment group. We are closer to being able to draw a valid conclusion, but the difference in percentage of subjects being either black or hispanic is still too large."
   ]
  },
  {
   "cell_type": "markdown",
   "metadata": {},
   "source": [
    "### 5. Balancing the groups further\n",
    "\n",
    "As mentioned above, the matching done is good, but can be improved, because there are still significantly more subjects, that are minorities in the treatment group.\n",
    "\n",
    "The way we improve our matching is by explicitly focusing on subjects, that are minorites. First we create two new dataframes containing only the matched subjects, which are minorities."
   ]
  },
  {
   "cell_type": "code",
   "execution_count": 264,
   "metadata": {},
   "outputs": [
    {
     "name": "stdout",
     "output_type": "stream",
     "text": [
      "125 of the total 185 subjects in the matched control group are minorities.\n",
      "167 of the total 185 subjects in the control group are minorities.\n"
     ]
    }
   ],
   "source": [
    "matched_treated_minority = matched_experiment[(matched_experiment.minority == 1) & (matched_experiment.treat == 1)]\n",
    "matched_non_treated_minority = matched_experiment[(matched_experiment.minority == 1) & (matched_experiment.treat == 0)]\n",
    "\n",
    "print(str(sum(matched_non_treated_minority.minority)) + ' of the total ' + str(len(matched_experiment[(matched_experiment.treat == 0)])) + ' subjects in the matched control group are minorities.')\n",
    "print(str(sum(matched_treated_minority.minority)) + ' of the total ' + str(len(matched_experiment[(matched_experiment.treat == 1)])) + ' subjects in the control group are minorities.')\n"
   ]
  },
  {
   "cell_type": "markdown",
   "metadata": {},
   "source": [
    "#### Improved matching\n",
    "\n",
    "\n",
    "- We will now perform a second matching on the previously matched members of the treatment and control groups adding the constraint, that we only consider minorities.\n",
    "\n",
    "\n",
    "- The 125 minority subjects in the matched control group will be matched to one of the 167 minority subjects of the treatment group following the same procedure as described above."
   ]
  },
  {
   "cell_type": "code",
   "execution_count": 265,
   "metadata": {
    "collapsed": true
   },
   "outputs": [],
   "source": [
    "G = nx.Graph()\n",
    "\n",
    "for index_t, t in matched_treated_minority.iterrows():\n",
    "    for index_n, n in matched_non_treated_minority.iterrows():\n",
    "        w = -np.abs(t.propensity-n.propensity)\n",
    "        G.add_edge(index_t, index_n, weight=w)\n",
    "\n",
    "match = nx.max_weight_matching(G,True)\n",
    "\n",
    "nsws = [v for k, v in match.items() if 'PSID' in k]\n",
    "treated_match_minority = matched_treated_minority.loc[nsws]\n",
    "\n",
    "matched_experiment_minorities = matched_non_treated_minority.append(treated_match_minority)"
   ]
  },
  {
   "cell_type": "markdown",
   "metadata": {},
   "source": [
    "#### Inspecting the second match\n",
    "\n",
    "Looking at the covariates of subject after the second round of matching, we can observe that the additional constraint of subjects having to be a minority, gives us two well balanced groups. Their mean age, years of education, their income in 1974 and the percentage of married subjects are similar.\n",
    "\n",
    "\n",
    "The real earnings 1975 are not considered. From the beginning the mean in that year is overall just a third of the previous year, which makes it seem like something is wrong with the data. We focus solely on the real earnings at the beginning and at the end of the experiment. The covariate with the information, whether a subject has a degree or not is also not considered here, because it depends strongly on the years of education and does not add much additional information."
   ]
  },
  {
   "cell_type": "code",
   "execution_count": 271,
   "metadata": {},
   "outputs": [
    {
     "data": {
      "text/plain": [
       "<matplotlib.text.Text at 0x11f0b3b00>"
      ]
     },
     "execution_count": 271,
     "metadata": {},
     "output_type": "execute_result"
    },
    {
     "data": {
      "image/png": "[encoded data removed]",
      "text/plain": [
       "<matplotlib.figure.Figure at 0x131eef4a8>"
      ]
     },
     "metadata": {},
     "output_type": "display_data"
    }
   ],
   "source": [
    "fig, axs = plt.subplots(1, 4, figsize=(16, 5))\n",
    "\n",
    "sns.barplot(x = 'treat',y ='age', data = matched_experiment_minorities,ax = axs[0]).set_title('Mean age')\n",
    "sns.barplot(x = 'treat',y ='educ', data = matched_experiment_minorities,ax = axs[1]).set_title('Years of education')\n",
    "sns.barplot(x = 'treat',y ='re74', data = matched_experiment_minorities,ax = axs[2]).set_title('Income 1974')\n",
    "sns.barplot(x = 'treat',y ='married', data = matched_experiment_minorities,ax = axs[3]).set_title('Married')"
   ]
  },
  {
   "cell_type": "markdown",
   "metadata": {},
   "source": [
    "### 6. A less naive analysis\n",
    "\n",
    "Now the treatment and control groups are well balanced. They are comprised of subjects, that are all minorities in their twenties, that on average almost finished highschool, have low income at the beginning of the experiment and are mostly unmarried.\n",
    "\n",
    "\n",
    "The subjects that received treatment had slightly higher real earnings in 1978, than the subjects in the control group, whereby the standard deviation is quite large. Based on these results I conclude, that the experiment did not help this specific demographic group of the population in any significant way."
   ]
  },
  {
   "cell_type": "code",
   "execution_count": 273,
   "metadata": {},
   "outputs": [
    {
     "data": {
      "text/plain": [
       "<matplotlib.text.Text at 0x12bd90470>"
      ]
     },
     "execution_count": 273,
     "metadata": {},
     "output_type": "execute_result"
    },
    {
     "data": {
      "image/png": "[encoded data removed]",
      "text/plain": [
       "<matplotlib.figure.Figure at 0x11f0f27b8>"
      ]
     },
     "metadata": {},
     "output_type": "display_data"
    }
   ],
   "source": [
    "sns.barplot(x = 'treat', y='re78', data = matched_experiment_minorities).set_title(\"Mean matched income 1978\")"
   ]
  }
 ],
 "metadata": {
  "kernelspec": {
   "display_name": "Python [default]",
   "language": "python",
   "name": "python3"
  },
  "language_info": {
   "codemirror_mode": {
    "name": "ipython",
    "version": 3
   },
   "file_extension": ".py",
   "mimetype": "text/x-python",
   "name": "python",
   "nbconvert_exporter": "python",
   "pygments_lexer": "ipython3",
   "version": "3.6.1"
  }
 },
 "nbformat": 4,
 "nbformat_minor": 2
}
