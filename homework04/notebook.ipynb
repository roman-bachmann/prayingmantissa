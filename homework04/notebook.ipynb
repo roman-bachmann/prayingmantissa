{
 "cells": [
  {
   "cell_type": "markdown",
   "metadata": {},
   "source": [
    "# Todo\n",
    "\n"
   ]
  },
  {
   "cell_type": "code",
   "execution_count": 2,
   "metadata": {
    "collapsed": true
   },
   "outputs": [],
   "source": [
    "%matplotlib inline"
   ]
  },
  {
   "cell_type": "code",
   "execution_count": 3,
   "metadata": {
    "collapsed": true
   },
   "outputs": [],
   "source": [
    "import pandas as pd\n",
    "import numpy as np\n",
    "import matplotlib.pyplot as plt\n",
    "import seaborn as sns\n",
    "import networkx as nx\n",
    "\n",
    "from sklearn import linear_model"
   ]
  },
  {
   "cell_type": "code",
   "execution_count": 4,
   "metadata": {
    "collapsed": true
   },
   "outputs": [],
   "source": [
    "sns.set_palette(\"deep\")"
   ]
  },
  {
   "cell_type": "code",
   "execution_count": 5,
   "metadata": {
    "collapsed": true
   },
   "outputs": [],
   "source": [
    "DATA = './data/'"
   ]
  },
  {
   "cell_type": "markdown",
   "metadata": {},
   "source": [
    "# Exercise 1: Propensity Score Matching\n",
    "\n",
    "### Clarification:\n",
    "\n",
    "\n",
    "- Black and Hispanic people will further be considered as minorities. A column is added to the lalonde dataframe.\n",
    "\n",
    "\n",
    "- If a subject has a '0' as covariate 're74', 're75' or 're78', the subject is assumed to not have had ANY income in that specific year as specified on Mattermost.\n"
   ]
  },
  {
   "cell_type": "code",
   "execution_count": 6,
   "metadata": {},
   "outputs": [
    {
     "data": {
      "text/html": [
       "<div>\n",
       "<style>\n",
       "    .dataframe thead tr:only-child th {\n",
       "        text-align: right;\n",
       "    }\n",
       "\n",
       "    .dataframe thead th {\n",
       "        text-align: left;\n",
       "    }\n",
       "\n",
       "    .dataframe tbody tr th {\n",
       "        vertical-align: top;\n",
       "    }\n",
       "</style>\n",
       "<table border=\"1\" class=\"dataframe\">\n",
       "  <thead>\n",
       "    <tr style=\"text-align: right;\">\n",
       "      <th></th>\n",
       "      <th>treat</th>\n",
       "      <th>age</th>\n",
       "      <th>educ</th>\n",
       "      <th>black</th>\n",
       "      <th>hispan</th>\n",
       "      <th>married</th>\n",
       "      <th>nodegree</th>\n",
       "      <th>re74</th>\n",
       "      <th>re75</th>\n",
       "      <th>re78</th>\n",
       "      <th>minority</th>\n",
       "      <th>is_zero</th>\n",
       "    </tr>\n",
       "    <tr>\n",
       "      <th>id</th>\n",
       "      <th></th>\n",
       "      <th></th>\n",
       "      <th></th>\n",
       "      <th></th>\n",
       "      <th></th>\n",
       "      <th></th>\n",
       "      <th></th>\n",
       "      <th></th>\n",
       "      <th></th>\n",
       "      <th></th>\n",
       "      <th></th>\n",
       "      <th></th>\n",
       "    </tr>\n",
       "  </thead>\n",
       "  <tbody>\n",
       "    <tr>\n",
       "      <th>NSW1</th>\n",
       "      <td>1</td>\n",
       "      <td>37</td>\n",
       "      <td>11</td>\n",
       "      <td>1</td>\n",
       "      <td>0</td>\n",
       "      <td>1</td>\n",
       "      <td>1</td>\n",
       "      <td>0.0</td>\n",
       "      <td>0.0</td>\n",
       "      <td>9930.0460</td>\n",
       "      <td>1</td>\n",
       "      <td>True</td>\n",
       "    </tr>\n",
       "    <tr>\n",
       "      <th>NSW2</th>\n",
       "      <td>1</td>\n",
       "      <td>22</td>\n",
       "      <td>9</td>\n",
       "      <td>0</td>\n",
       "      <td>1</td>\n",
       "      <td>0</td>\n",
       "      <td>1</td>\n",
       "      <td>0.0</td>\n",
       "      <td>0.0</td>\n",
       "      <td>3595.8940</td>\n",
       "      <td>1</td>\n",
       "      <td>True</td>\n",
       "    </tr>\n",
       "    <tr>\n",
       "      <th>NSW3</th>\n",
       "      <td>1</td>\n",
       "      <td>30</td>\n",
       "      <td>12</td>\n",
       "      <td>1</td>\n",
       "      <td>0</td>\n",
       "      <td>0</td>\n",
       "      <td>0</td>\n",
       "      <td>0.0</td>\n",
       "      <td>0.0</td>\n",
       "      <td>24909.4500</td>\n",
       "      <td>1</td>\n",
       "      <td>True</td>\n",
       "    </tr>\n",
       "    <tr>\n",
       "      <th>NSW4</th>\n",
       "      <td>1</td>\n",
       "      <td>27</td>\n",
       "      <td>11</td>\n",
       "      <td>1</td>\n",
       "      <td>0</td>\n",
       "      <td>0</td>\n",
       "      <td>1</td>\n",
       "      <td>0.0</td>\n",
       "      <td>0.0</td>\n",
       "      <td>7506.1460</td>\n",
       "      <td>1</td>\n",
       "      <td>True</td>\n",
       "    </tr>\n",
       "    <tr>\n",
       "      <th>NSW5</th>\n",
       "      <td>1</td>\n",
       "      <td>33</td>\n",
       "      <td>8</td>\n",
       "      <td>1</td>\n",
       "      <td>0</td>\n",
       "      <td>0</td>\n",
       "      <td>1</td>\n",
       "      <td>0.0</td>\n",
       "      <td>0.0</td>\n",
       "      <td>289.7899</td>\n",
       "      <td>1</td>\n",
       "      <td>True</td>\n",
       "    </tr>\n",
       "  </tbody>\n",
       "</table>\n",
       "</div>"
      ],
      "text/plain": [
       "      treat  age  educ  black  hispan  married  nodegree  re74  re75  \\\n",
       "id                                                                     \n",
       "NSW1      1   37    11      1       0        1         1   0.0   0.0   \n",
       "NSW2      1   22     9      0       1        0         1   0.0   0.0   \n",
       "NSW3      1   30    12      1       0        0         0   0.0   0.0   \n",
       "NSW4      1   27    11      1       0        0         1   0.0   0.0   \n",
       "NSW5      1   33     8      1       0        0         1   0.0   0.0   \n",
       "\n",
       "            re78  minority  is_zero  \n",
       "id                                   \n",
       "NSW1   9930.0460         1     True  \n",
       "NSW2   3595.8940         1     True  \n",
       "NSW3  24909.4500         1     True  \n",
       "NSW4   7506.1460         1     True  \n",
       "NSW5    289.7899         1     True  "
      ]
     },
     "execution_count": 6,
     "metadata": {},
     "output_type": "execute_result"
    }
   ],
   "source": [
    "lalonde = pd.read_csv(DATA + 'lalonde.csv', index_col=0)\n",
    "\n",
    "lalonde['minority'] = lalonde['black'] + lalonde['hispan']\n",
    "lalonde['is_zero'] = ((lalonde.re74 == 0 ) | (lalonde.re75 == 0))\n",
    "lalonde.head()"
   ]
  },
  {
   "cell_type": "markdown",
   "metadata": {},
   "source": [
    "### 1.1 A naive analysis\n",
    "\n",
    "In this first naive analysis we seperate the data into two groups, where the first group received treatment and the second group did not receive treatment. We compare these groups solely by the real earnings of the subjects in 1978. \n"
   ]
  },
  {
   "cell_type": "code",
   "execution_count": 7,
   "metadata": {
    "collapsed": true
   },
   "outputs": [],
   "source": [
    "treated = lalonde[(lalonde.treat == 1)]\n",
    "non_treated = lalonde[(lalonde.treat == 0)]"
   ]
  },
  {
   "cell_type": "markdown",
   "metadata": {},
   "source": [
    "#### A look at some numbers:\n"
   ]
  },
  {
   "cell_type": "code",
   "execution_count": 8,
   "metadata": {},
   "outputs": [
    {
     "name": "stdout",
     "output_type": "stream",
     "text": [
      "Total subjects: \t\t614\n",
      "Number of treated subjects: \t185\n",
      "Number of control subjects: \t429\n",
      "Mean income treatment group: \t6349.14\n",
      "Mean income control group: \t6984.17\n"
     ]
    },
    {
     "data": {
      "text/plain": [
       "<matplotlib.text.Text at 0x11dd93c18>"
      ]
     },
     "execution_count": 8,
     "metadata": {},
     "output_type": "execute_result"
    },
    {
     "data": {
      "image/png": "[encoded data removed]",
      "text/plain": [
       "<matplotlib.figure.Figure at 0x11bb75cf8>"
      ]
     },
     "metadata": {},
     "output_type": "display_data"
    }
   ],
   "source": [
    "print('Total subjects: ' + '\\t' + '\\t' +str(len(lalonde)))\n",
    "print('Number of treated subjects: '+ '\\t' + str(len(treated)))\n",
    "print('Number of control subjects: '+ '\\t' + str(len(non_treated)))\n",
    "print('Mean income treatment group: ' + '\\t' +str(round(treated.re78.mean(),2)))\n",
    "print('Mean income control group: ' +'\\t' + str(round(non_treated.re78.mean(),2)))\n",
    "\n",
    "sns.barplot(x = 'treat', y='re78', data = lalonde).set_title(\"Mean income 1978\")"
   ]
  },
  {
   "cell_type": "markdown",
   "metadata": {},
   "source": [
    "From the total number of subjects in the experiment only roughly a third received treatment. The mean of the income of the control group after treatment is higher than the mean income of treated subjects. This might lead one to believe, that the treatment is useless. The error bars on the above plot represents the standard deviation. \n",
    "\n",
    "#### A look at the distributions:\n",
    "\n",
    "Below the distributions of the income of the treated and untreated subjects is plotted for the year 1978. The smoothed histograms look quite similar, both being heavily right skewed. In the plot representing the subjects that received treatments some heavy outliers are visible, which explains the large standard deviation observed above."
   ]
  },
  {
   "cell_type": "code",
   "execution_count": 9,
   "metadata": {},
   "outputs": [
    {
     "data": {
      "text/plain": [
       "[(0, 70000)]"
      ]
     },
     "execution_count": 9,
     "metadata": {},
     "output_type": "execute_result"
    },
    {
     "data": {
      "image/png": "[encoded data removed]",
      "text/plain": [
       "<matplotlib.figure.Figure at 0x11ddf6860>"
      ]
     },
     "metadata": {},
     "output_type": "display_data"
    }
   ],
   "source": [
    "fig, axs = plt.subplots(1, 2, figsize=(16, 9), sharey= True, sharex= True)\n",
    "\n",
    "axs[0].set_title(\"Salary density without treatment\")\n",
    "sns.distplot(non_treated.re78, norm_hist=True, kde=True, ax=axs[0], color='y',label ='Not treated')\n",
    "\n",
    "axs[1].set_title(\"Salary density with treatment\")\n",
    "sns.distplot(treated.re78, norm_hist=True, kde=True, ax=axs[1]).set(xlim=(0, 70000))"
   ]
  },
  {
   "cell_type": "markdown",
   "metadata": {},
   "source": [
    "### 2. A closer look at the data\n",
    "\n",
    "First we take a look at covariates, which are either true or false for a given subject."
   ]
  },
  {
   "cell_type": "code",
   "execution_count": 10,
   "metadata": {},
   "outputs": [
    {
     "data": {
      "text/plain": [
       "<matplotlib.text.Text at 0x11e695d68>"
      ]
     },
     "execution_count": 10,
     "metadata": {},
     "output_type": "execute_result"
    },
    {
     "data": {
      "image/png": "[encoded data removed]",
      "text/plain": [
       "<matplotlib.figure.Figure at 0x11e372780>"
      ]
     },
     "metadata": {},
     "output_type": "display_data"
    }
   ],
   "source": [
    "fig, axs = plt.subplots(1, 3, figsize=(12, 5),sharey = True)\n",
    "\n",
    "sns.barplot(x='treat', y='minority', data=lalonde, ax=axs[0], ci=None).set_title('Percentage of minorities')\n",
    "sns.barplot(x='treat', y='married', data=lalonde, ax=axs[1], ci=None).set_title('Percentage married')\n",
    "sns.barplot(x='treat', y='nodegree', data=lalonde, ax=axs[2], ci=None).set_title('Percentage with degree')"
   ]
  },
  {
   "cell_type": "markdown",
   "metadata": {},
   "source": [
    "Clearly the treated subjects were not chosen randomly. They are overwhelmingly composed of unmarried minorites, whereby two thirds do not have a degree. Around half of the control group are married and have degrees and only about a third are minorities.\n",
    "\n",
    "Next we look at the mean of the age, the average number of years in education and the mean income in 1975 and 1974:"
   ]
  },
  {
   "cell_type": "code",
   "execution_count": 11,
   "metadata": {},
   "outputs": [
    {
     "data": {
      "text/plain": [
       "[<matplotlib.text.Text at 0x11e9488d0>]"
      ]
     },
     "execution_count": 11,
     "metadata": {},
     "output_type": "execute_result"
    },
    {
     "data": {
      "image/png": "[encoded data removed]",
      "text/plain": [
       "<matplotlib.figure.Figure at 0x11e6efb38>"
      ]
     },
     "metadata": {},
     "output_type": "display_data"
    }
   ],
   "source": [
    "fig, axs = plt.subplots(1, 4, figsize=(16, 5))\n",
    "\n",
    "sns.violinplot(x = 'treat',y ='age', data = lalonde,ax = axs[0]).set_title('Mean age')\n",
    "sns.violinplot(x = 'treat',y ='educ', data = lalonde,ax = axs[1]).set_title('Years of education')\n",
    "sns.violinplot(x = 'treat',y ='re74', data = lalonde,ax = axs[2]).set(title='Income 1974')\n",
    "sns.violinplot(x = 'treat',y ='re75', data = lalonde,ax = axs[3]).set(title='Income 1975')"
   ]
  },
  {
   "cell_type": "markdown",
   "metadata": {},
   "source": [
    "Additionally to the above stated differences between the features of the treated subjects towards the control group it is now visible, that the treated subjects are also younger on average and have much less income in the year 1974. In 1975 the control group and the treatment group both have significantly less real earnings, which seems a bit fishy. The average years of education between the two groups is about the same, which is not surprising, because highschool takes twelve years.\n",
    "\n",
    "\n",
    "### Impact on the conclusions of the naive research:\n",
    "\n",
    "Naively looking at the outcome of the experiment implies that the treatment was probably a failure. Looking at the data more carefully, we find out:\n",
    "\n",
    "\n",
    "- The control group is twice as large as the treatment group.\n",
    "\n",
    "\n",
    "- The treatment group is overwhelmingly comprised of unmarried minorities, a bit more than half of which finished highschool, have almost no real earnings in 1975 and are on average in their mid twenties.\n",
    "\n",
    "\n",
    "- The control group is far more diverse.\n",
    "\n",
    "\n",
    "In order to compare the two groups a propensity model is applied.\n",
    "\n",
    "\n",
    "### 3. A propensity score model\n",
    "\n",
    "To find the propensity score a linear regression is applied, whereby the 'treated' and the 're78' covariates are dropped and the propensity score is added to the dataframe as an additional covariate. The propensity score gives the probablity of being assigned to the treated group, given a feature vector."
   ]
  },
  {
   "cell_type": "code",
   "execution_count": 12,
   "metadata": {},
   "outputs": [
    {
     "data": {
      "text/html": [
       "<div>\n",
       "<style>\n",
       "    .dataframe thead tr:only-child th {\n",
       "        text-align: right;\n",
       "    }\n",
       "\n",
       "    .dataframe thead th {\n",
       "        text-align: left;\n",
       "    }\n",
       "\n",
       "    .dataframe tbody tr th {\n",
       "        vertical-align: top;\n",
       "    }\n",
       "</style>\n",
       "<table border=\"1\" class=\"dataframe\">\n",
       "  <thead>\n",
       "    <tr style=\"text-align: right;\">\n",
       "      <th></th>\n",
       "      <th>treat</th>\n",
       "      <th>age</th>\n",
       "      <th>educ</th>\n",
       "      <th>black</th>\n",
       "      <th>hispan</th>\n",
       "      <th>married</th>\n",
       "      <th>nodegree</th>\n",
       "      <th>re74</th>\n",
       "      <th>re75</th>\n",
       "      <th>re78</th>\n",
       "      <th>minority</th>\n",
       "      <th>is_zero</th>\n",
       "      <th>propensity</th>\n",
       "    </tr>\n",
       "    <tr>\n",
       "      <th>id</th>\n",
       "      <th></th>\n",
       "      <th></th>\n",
       "      <th></th>\n",
       "      <th></th>\n",
       "      <th></th>\n",
       "      <th></th>\n",
       "      <th></th>\n",
       "      <th></th>\n",
       "      <th></th>\n",
       "      <th></th>\n",
       "      <th></th>\n",
       "      <th></th>\n",
       "      <th></th>\n",
       "    </tr>\n",
       "  </thead>\n",
       "  <tbody>\n",
       "    <tr>\n",
       "      <th>NSW1</th>\n",
       "      <td>1</td>\n",
       "      <td>37</td>\n",
       "      <td>11</td>\n",
       "      <td>1</td>\n",
       "      <td>0</td>\n",
       "      <td>1</td>\n",
       "      <td>1</td>\n",
       "      <td>0.0</td>\n",
       "      <td>0.0</td>\n",
       "      <td>9930.0460</td>\n",
       "      <td>1</td>\n",
       "      <td>True</td>\n",
       "      <td>0.448327</td>\n",
       "    </tr>\n",
       "    <tr>\n",
       "      <th>NSW2</th>\n",
       "      <td>1</td>\n",
       "      <td>22</td>\n",
       "      <td>9</td>\n",
       "      <td>0</td>\n",
       "      <td>1</td>\n",
       "      <td>0</td>\n",
       "      <td>1</td>\n",
       "      <td>0.0</td>\n",
       "      <td>0.0</td>\n",
       "      <td>3595.8940</td>\n",
       "      <td>1</td>\n",
       "      <td>True</td>\n",
       "      <td>0.227808</td>\n",
       "    </tr>\n",
       "    <tr>\n",
       "      <th>NSW3</th>\n",
       "      <td>1</td>\n",
       "      <td>30</td>\n",
       "      <td>12</td>\n",
       "      <td>1</td>\n",
       "      <td>0</td>\n",
       "      <td>0</td>\n",
       "      <td>0</td>\n",
       "      <td>0.0</td>\n",
       "      <td>0.0</td>\n",
       "      <td>24909.4500</td>\n",
       "      <td>1</td>\n",
       "      <td>True</td>\n",
       "      <td>0.730015</td>\n",
       "    </tr>\n",
       "    <tr>\n",
       "      <th>NSW4</th>\n",
       "      <td>1</td>\n",
       "      <td>27</td>\n",
       "      <td>11</td>\n",
       "      <td>1</td>\n",
       "      <td>0</td>\n",
       "      <td>0</td>\n",
       "      <td>1</td>\n",
       "      <td>0.0</td>\n",
       "      <td>0.0</td>\n",
       "      <td>7506.1460</td>\n",
       "      <td>1</td>\n",
       "      <td>True</td>\n",
       "      <td>0.664335</td>\n",
       "    </tr>\n",
       "    <tr>\n",
       "      <th>NSW5</th>\n",
       "      <td>1</td>\n",
       "      <td>33</td>\n",
       "      <td>8</td>\n",
       "      <td>1</td>\n",
       "      <td>0</td>\n",
       "      <td>0</td>\n",
       "      <td>1</td>\n",
       "      <td>0.0</td>\n",
       "      <td>0.0</td>\n",
       "      <td>289.7899</td>\n",
       "      <td>1</td>\n",
       "      <td>True</td>\n",
       "      <td>0.704908</td>\n",
       "    </tr>\n",
       "  </tbody>\n",
       "</table>\n",
       "</div>"
      ],
      "text/plain": [
       "      treat  age  educ  black  hispan  married  nodegree  re74  re75  \\\n",
       "id                                                                     \n",
       "NSW1      1   37    11      1       0        1         1   0.0   0.0   \n",
       "NSW2      1   22     9      0       1        0         1   0.0   0.0   \n",
       "NSW3      1   30    12      1       0        0         0   0.0   0.0   \n",
       "NSW4      1   27    11      1       0        0         1   0.0   0.0   \n",
       "NSW5      1   33     8      1       0        0         1   0.0   0.0   \n",
       "\n",
       "            re78  minority  is_zero  propensity  \n",
       "id                                               \n",
       "NSW1   9930.0460         1     True    0.448327  \n",
       "NSW2   3595.8940         1     True    0.227808  \n",
       "NSW3  24909.4500         1     True    0.730015  \n",
       "NSW4   7506.1460         1     True    0.664335  \n",
       "NSW5    289.7899         1     True    0.704908  "
      ]
     },
     "execution_count": 12,
     "metadata": {},
     "output_type": "execute_result"
    }
   ],
   "source": [
    "logistic = linear_model.LogisticRegression()\n",
    "\n",
    "X = lalonde.drop(['treat','re78'],axis=1)\n",
    "y = lalonde['treat']\n",
    "\n",
    "model = logistic.fit(X,y)\n",
    "\n",
    "lalonde['propensity']= model.predict_proba(X)[:,1]\n",
    "treated = lalonde[(lalonde.treat == 1)]\n",
    "non_treated = lalonde[(lalonde.treat == 0)]\n",
    "\n",
    "lalonde.head()"
   ]
  },
  {
   "cell_type": "markdown",
   "metadata": {},
   "source": [
    "### 4. Balancing the dataset via matching\n",
    "\n",
    "Now for every subject in the treatment group we find a match in the control group. This is done using the networkx library. \n",
    "\n",
    "- We loop over all treated subjects and control subject.\n",
    "\n",
    "\n",
    "- We create an edge between the subjects whereby the weight is minus the absolute value of the difference between the propensity scores.\n",
    "\n",
    "\n",
    "- Doing this we have created a fully connected bipartite graph.\n",
    "\n",
    "\n",
    "- To find the matches the max_weight_matching function from the networkx library is applied, which finds the match for every subject minimizing the sum of the weights. (It minimizes, because the negative absolute difference was chosen, while creating the fully connected bipartite graph.)\n",
    "\n",
    "\n",
    "- The resulting dictionary gets searched for the values assigned to the keys, which start with 'NSW'. This returns the list of control group subjects, that was matched to the treatment group.\n",
    "\n",
    "\n",
    "- A new dataframe non_treated_match is created containing the 185 subjects of the control group, that were matched.\n",
    "\n",
    "\n",
    "- A dataframe is created containing the matched control group and the treatment group appending one to the other."
   ]
  },
  {
   "cell_type": "code",
   "execution_count": 13,
   "metadata": {
    "collapsed": true
   },
   "outputs": [],
   "source": [
    "G = nx.Graph()\n",
    "\n",
    "for index_t, t in treated.iterrows():\n",
    "    for index_n, n in non_treated.iterrows():\n",
    "        w = -np.abs(t.propensity-n.propensity)\n",
    "        G.add_edge(index_t, index_n, weight=w)\n",
    "\n",
    "match = nx.max_weight_matching(G,True)"
   ]
  },
  {
   "cell_type": "code",
   "execution_count": 146,
   "metadata": {},
   "outputs": [
    {
     "data": {
      "text/html": [
       "<div>\n",
       "<style>\n",
       "    .dataframe thead tr:only-child th {\n",
       "        text-align: right;\n",
       "    }\n",
       "\n",
       "    .dataframe thead th {\n",
       "        text-align: left;\n",
       "    }\n",
       "\n",
       "    .dataframe tbody tr th {\n",
       "        vertical-align: top;\n",
       "    }\n",
       "</style>\n",
       "<table border=\"1\" class=\"dataframe\">\n",
       "  <thead>\n",
       "    <tr style=\"text-align: right;\">\n",
       "      <th></th>\n",
       "      <th>treat</th>\n",
       "      <th>age</th>\n",
       "      <th>educ</th>\n",
       "      <th>black</th>\n",
       "      <th>hispan</th>\n",
       "      <th>married</th>\n",
       "      <th>nodegree</th>\n",
       "      <th>re74</th>\n",
       "      <th>re75</th>\n",
       "      <th>re78</th>\n",
       "      <th>minority</th>\n",
       "      <th>is_zero</th>\n",
       "      <th>propensity</th>\n",
       "    </tr>\n",
       "    <tr>\n",
       "      <th>id</th>\n",
       "      <th></th>\n",
       "      <th></th>\n",
       "      <th></th>\n",
       "      <th></th>\n",
       "      <th></th>\n",
       "      <th></th>\n",
       "      <th></th>\n",
       "      <th></th>\n",
       "      <th></th>\n",
       "      <th></th>\n",
       "      <th></th>\n",
       "      <th></th>\n",
       "      <th></th>\n",
       "    </tr>\n",
       "  </thead>\n",
       "  <tbody>\n",
       "    <tr>\n",
       "      <th>NSW1</th>\n",
       "      <td>1</td>\n",
       "      <td>37</td>\n",
       "      <td>11</td>\n",
       "      <td>1</td>\n",
       "      <td>0</td>\n",
       "      <td>1</td>\n",
       "      <td>1</td>\n",
       "      <td>0.0</td>\n",
       "      <td>0.0</td>\n",
       "      <td>9930.0460</td>\n",
       "      <td>1</td>\n",
       "      <td>True</td>\n",
       "      <td>0.448327</td>\n",
       "    </tr>\n",
       "    <tr>\n",
       "      <th>NSW2</th>\n",
       "      <td>1</td>\n",
       "      <td>22</td>\n",
       "      <td>9</td>\n",
       "      <td>0</td>\n",
       "      <td>1</td>\n",
       "      <td>0</td>\n",
       "      <td>1</td>\n",
       "      <td>0.0</td>\n",
       "      <td>0.0</td>\n",
       "      <td>3595.8940</td>\n",
       "      <td>1</td>\n",
       "      <td>True</td>\n",
       "      <td>0.227808</td>\n",
       "    </tr>\n",
       "    <tr>\n",
       "      <th>NSW3</th>\n",
       "      <td>1</td>\n",
       "      <td>30</td>\n",
       "      <td>12</td>\n",
       "      <td>1</td>\n",
       "      <td>0</td>\n",
       "      <td>0</td>\n",
       "      <td>0</td>\n",
       "      <td>0.0</td>\n",
       "      <td>0.0</td>\n",
       "      <td>24909.4500</td>\n",
       "      <td>1</td>\n",
       "      <td>True</td>\n",
       "      <td>0.730015</td>\n",
       "    </tr>\n",
       "    <tr>\n",
       "      <th>NSW4</th>\n",
       "      <td>1</td>\n",
       "      <td>27</td>\n",
       "      <td>11</td>\n",
       "      <td>1</td>\n",
       "      <td>0</td>\n",
       "      <td>0</td>\n",
       "      <td>1</td>\n",
       "      <td>0.0</td>\n",
       "      <td>0.0</td>\n",
       "      <td>7506.1460</td>\n",
       "      <td>1</td>\n",
       "      <td>True</td>\n",
       "      <td>0.664335</td>\n",
       "    </tr>\n",
       "    <tr>\n",
       "      <th>NSW5</th>\n",
       "      <td>1</td>\n",
       "      <td>33</td>\n",
       "      <td>8</td>\n",
       "      <td>1</td>\n",
       "      <td>0</td>\n",
       "      <td>0</td>\n",
       "      <td>1</td>\n",
       "      <td>0.0</td>\n",
       "      <td>0.0</td>\n",
       "      <td>289.7899</td>\n",
       "      <td>1</td>\n",
       "      <td>True</td>\n",
       "      <td>0.704908</td>\n",
       "    </tr>\n",
       "  </tbody>\n",
       "</table>\n",
       "</div>"
      ],
      "text/plain": [
       "      treat  age  educ  black  hispan  married  nodegree  re74  re75  \\\n",
       "id                                                                     \n",
       "NSW1      1   37    11      1       0        1         1   0.0   0.0   \n",
       "NSW2      1   22     9      0       1        0         1   0.0   0.0   \n",
       "NSW3      1   30    12      1       0        0         0   0.0   0.0   \n",
       "NSW4      1   27    11      1       0        0         1   0.0   0.0   \n",
       "NSW5      1   33     8      1       0        0         1   0.0   0.0   \n",
       "\n",
       "            re78  minority  is_zero  propensity  \n",
       "id                                               \n",
       "NSW1   9930.0460         1     True    0.448327  \n",
       "NSW2   3595.8940         1     True    0.227808  \n",
       "NSW3  24909.4500         1     True    0.730015  \n",
       "NSW4   7506.1460         1     True    0.664335  \n",
       "NSW5    289.7899         1     True    0.704908  "
      ]
     },
     "execution_count": 146,
     "metadata": {},
     "output_type": "execute_result"
    }
   ],
   "source": [
    "psids = [v for k, v in match.items() if 'NSW' in k]\n",
    "non_treated_match = non_treated.loc[psids]\n",
    "\n",
    "matched_experiment = treated.append(non_treated_match)\n",
    "matched_experiment.head()"
   ]
  },
  {
   "cell_type": "code",
   "execution_count": 148,
   "metadata": {},
   "outputs": [
    {
     "data": {
      "text/html": [
       "<div>\n",
       "<style>\n",
       "    .dataframe thead tr:only-child th {\n",
       "        text-align: right;\n",
       "    }\n",
       "\n",
       "    .dataframe thead th {\n",
       "        text-align: left;\n",
       "    }\n",
       "\n",
       "    .dataframe tbody tr th {\n",
       "        vertical-align: top;\n",
       "    }\n",
       "</style>\n",
       "<table border=\"1\" class=\"dataframe\">\n",
       "  <thead>\n",
       "    <tr style=\"text-align: right;\">\n",
       "      <th></th>\n",
       "      <th>index</th>\n",
       "      <th>treat</th>\n",
       "      <th>age</th>\n",
       "      <th>educ</th>\n",
       "      <th>black</th>\n",
       "      <th>hispan</th>\n",
       "      <th>married</th>\n",
       "      <th>nodegree</th>\n",
       "      <th>re74</th>\n",
       "      <th>re75</th>\n",
       "      <th>re78</th>\n",
       "      <th>minority</th>\n",
       "      <th>is_zero</th>\n",
       "      <th>propensity</th>\n",
       "      <th>matched</th>\n",
       "      <th>matched_prop</th>\n",
       "      <th>prop_diff</th>\n",
       "    </tr>\n",
       "    <tr>\n",
       "      <th>id</th>\n",
       "      <th></th>\n",
       "      <th></th>\n",
       "      <th></th>\n",
       "      <th></th>\n",
       "      <th></th>\n",
       "      <th></th>\n",
       "      <th></th>\n",
       "      <th></th>\n",
       "      <th></th>\n",
       "      <th></th>\n",
       "      <th></th>\n",
       "      <th></th>\n",
       "      <th></th>\n",
       "      <th></th>\n",
       "      <th></th>\n",
       "      <th></th>\n",
       "      <th></th>\n",
       "    </tr>\n",
       "  </thead>\n",
       "  <tbody>\n",
       "    <tr>\n",
       "      <th>NSW1</th>\n",
       "      <td>0</td>\n",
       "      <td>1</td>\n",
       "      <td>37</td>\n",
       "      <td>11</td>\n",
       "      <td>1</td>\n",
       "      <td>0</td>\n",
       "      <td>1</td>\n",
       "      <td>1</td>\n",
       "      <td>0.0</td>\n",
       "      <td>0.0</td>\n",
       "      <td>9930.0460</td>\n",
       "      <td>1</td>\n",
       "      <td>True</td>\n",
       "      <td>0.448327</td>\n",
       "      <td>PSID79</td>\n",
       "      <td>0.142719</td>\n",
       "      <td>0.305609</td>\n",
       "    </tr>\n",
       "    <tr>\n",
       "      <th>NSW2</th>\n",
       "      <td>1</td>\n",
       "      <td>1</td>\n",
       "      <td>22</td>\n",
       "      <td>9</td>\n",
       "      <td>0</td>\n",
       "      <td>1</td>\n",
       "      <td>0</td>\n",
       "      <td>1</td>\n",
       "      <td>0.0</td>\n",
       "      <td>0.0</td>\n",
       "      <td>3595.8940</td>\n",
       "      <td>1</td>\n",
       "      <td>True</td>\n",
       "      <td>0.227808</td>\n",
       "      <td>PSID285</td>\n",
       "      <td>0.142165</td>\n",
       "      <td>0.085643</td>\n",
       "    </tr>\n",
       "    <tr>\n",
       "      <th>NSW3</th>\n",
       "      <td>2</td>\n",
       "      <td>1</td>\n",
       "      <td>30</td>\n",
       "      <td>12</td>\n",
       "      <td>1</td>\n",
       "      <td>0</td>\n",
       "      <td>0</td>\n",
       "      <td>0</td>\n",
       "      <td>0.0</td>\n",
       "      <td>0.0</td>\n",
       "      <td>24909.4500</td>\n",
       "      <td>1</td>\n",
       "      <td>True</td>\n",
       "      <td>0.730015</td>\n",
       "      <td>PSID365</td>\n",
       "      <td>0.168207</td>\n",
       "      <td>0.561808</td>\n",
       "    </tr>\n",
       "    <tr>\n",
       "      <th>NSW4</th>\n",
       "      <td>3</td>\n",
       "      <td>1</td>\n",
       "      <td>27</td>\n",
       "      <td>11</td>\n",
       "      <td>1</td>\n",
       "      <td>0</td>\n",
       "      <td>0</td>\n",
       "      <td>1</td>\n",
       "      <td>0.0</td>\n",
       "      <td>0.0</td>\n",
       "      <td>7506.1460</td>\n",
       "      <td>1</td>\n",
       "      <td>True</td>\n",
       "      <td>0.664335</td>\n",
       "      <td>PSID151</td>\n",
       "      <td>0.138704</td>\n",
       "      <td>0.525631</td>\n",
       "    </tr>\n",
       "    <tr>\n",
       "      <th>NSW5</th>\n",
       "      <td>4</td>\n",
       "      <td>1</td>\n",
       "      <td>33</td>\n",
       "      <td>8</td>\n",
       "      <td>1</td>\n",
       "      <td>0</td>\n",
       "      <td>0</td>\n",
       "      <td>1</td>\n",
       "      <td>0.0</td>\n",
       "      <td>0.0</td>\n",
       "      <td>289.7899</td>\n",
       "      <td>1</td>\n",
       "      <td>True</td>\n",
       "      <td>0.704908</td>\n",
       "      <td>PSID5</td>\n",
       "      <td>0.471020</td>\n",
       "      <td>0.233889</td>\n",
       "    </tr>\n",
       "  </tbody>\n",
       "</table>\n",
       "</div>"
      ],
      "text/plain": [
       "      index  treat  age  educ  black  hispan  married  nodegree  re74  re75  \\\n",
       "id                                                                            \n",
       "NSW1      0      1   37    11      1       0        1         1   0.0   0.0   \n",
       "NSW2      1      1   22     9      0       1        0         1   0.0   0.0   \n",
       "NSW3      2      1   30    12      1       0        0         0   0.0   0.0   \n",
       "NSW4      3      1   27    11      1       0        0         1   0.0   0.0   \n",
       "NSW5      4      1   33     8      1       0        0         1   0.0   0.0   \n",
       "\n",
       "            re78  minority  is_zero  propensity  matched  matched_prop  \\\n",
       "id                                                                       \n",
       "NSW1   9930.0460         1     True    0.448327   PSID79      0.142719   \n",
       "NSW2   3595.8940         1     True    0.227808  PSID285      0.142165   \n",
       "NSW3  24909.4500         1     True    0.730015  PSID365      0.168207   \n",
       "NSW4   7506.1460         1     True    0.664335  PSID151      0.138704   \n",
       "NSW5    289.7899         1     True    0.704908    PSID5      0.471020   \n",
       "\n",
       "      prop_diff  \n",
       "id               \n",
       "NSW1   0.305609  \n",
       "NSW2   0.085643  \n",
       "NSW3   0.561808  \n",
       "NSW4   0.525631  \n",
       "NSW5   0.233889  "
      ]
     },
     "execution_count": 148,
     "metadata": {},
     "output_type": "execute_result"
    }
   ],
   "source": [
    "matched_experiment = matched_experiment.reset_index()\n",
    "matched_experiment['matched'] = matched_experiment['id'].map(match)\n",
    "matched_experiment = matched_experiment.set_index('id')\n",
    "\n",
    "matched_experiment['matched_prop'] = matched_experiment.loc[matched_experiment.matched].propensity.values\n",
    "\n",
    "matched_experiment['prop_diff'] = np.abs(matched_experiment.propensity-matched_experiment.matched_prop)\n",
    "\n",
    "matched_experiment.head()"
   ]
  },
  {
   "cell_type": "code",
   "execution_count": 152,
   "metadata": {},
   "outputs": [
    {
     "data": {
      "text/plain": [
       "(294,)"
      ]
     },
     "execution_count": 152,
     "metadata": {},
     "output_type": "execute_result"
    }
   ],
   "source": [
    "matched_experiment.prop_diff[matched_experiment.prop_diff <= 0.5].shape"
   ]
  },
  {
   "cell_type": "code",
   "execution_count": 159,
   "metadata": {},
   "outputs": [
    {
     "data": {
      "text/plain": [
       "[(0, 0.8)]"
      ]
     },
     "execution_count": 159,
     "metadata": {},
     "output_type": "execute_result"
    },
    {
     "data": {
      "image/png": "[encoded data removed]",
      "text/plain": [
       "<matplotlib.figure.Figure at 0x11df7bb00>"
      ]
     },
     "metadata": {},
     "output_type": "display_data"
    }
   ],
   "source": [
    "fig, axs = plt.subplots(1, 2, figsize=(16, 9), sharey= True, sharex= True)\n",
    "\n",
    "sns.distplot(matched_experiment.prop_diff, ax=axs[0],norm_hist=True, kde=True)\n",
    "\n",
    "sns.distplot(matched_experiment.prop_diff[matched_experiment.prop_diff <= 0.5], ax=axs[1],norm_hist=True, kde=True).set(xlim=(0, 0.8))"
   ]
  },
  {
   "cell_type": "code",
   "execution_count": 156,
   "metadata": {},
   "outputs": [],
   "source": [
    "matched2 = matched_experiment.prop_diff[matched_experiment.prop_diff <= 0.5]"
   ]
  },
  {
   "cell_type": "markdown",
   "metadata": {},
   "source": [
    "# Playing around:\n"
   ]
  },
  {
   "cell_type": "code",
   "execution_count": 160,
   "metadata": {},
   "outputs": [
    {
     "ename": "ValueError",
     "evalue": "Could not interpret input 'treat'",
     "output_type": "error",
     "traceback": [
      "\u001b[0;31m---------------------------------------------------------------------------\u001b[0m",
      "\u001b[0;31mValueError\u001b[0m                                Traceback (most recent call last)",
      "\u001b[0;32m<ipython-input-160-47f0fa3225ee>\u001b[0m in \u001b[0;36m<module>\u001b[0;34m()\u001b[0m\n\u001b[1;32m      1\u001b[0m \u001b[0mfig\u001b[0m\u001b[0;34m,\u001b[0m \u001b[0maxs\u001b[0m \u001b[0;34m=\u001b[0m \u001b[0mplt\u001b[0m\u001b[0;34m.\u001b[0m\u001b[0msubplots\u001b[0m\u001b[0;34m(\u001b[0m\u001b[0;36m1\u001b[0m\u001b[0;34m,\u001b[0m \u001b[0;36m4\u001b[0m\u001b[0;34m,\u001b[0m \u001b[0mfigsize\u001b[0m\u001b[0;34m=\u001b[0m\u001b[0;34m(\u001b[0m\u001b[0;36m16\u001b[0m\u001b[0;34m,\u001b[0m \u001b[0;36m5\u001b[0m\u001b[0;34m)\u001b[0m\u001b[0;34m)\u001b[0m\u001b[0;34m\u001b[0m\u001b[0m\n\u001b[1;32m      2\u001b[0m \u001b[0;34m\u001b[0m\u001b[0m\n\u001b[0;32m----> 3\u001b[0;31m \u001b[0msns\u001b[0m\u001b[0;34m.\u001b[0m\u001b[0mviolinplot\u001b[0m\u001b[0;34m(\u001b[0m\u001b[0mx\u001b[0m \u001b[0;34m=\u001b[0m \u001b[0;34m'treat'\u001b[0m\u001b[0;34m,\u001b[0m\u001b[0my\u001b[0m \u001b[0;34m=\u001b[0m\u001b[0;34m'age'\u001b[0m\u001b[0;34m,\u001b[0m \u001b[0mdata\u001b[0m \u001b[0;34m=\u001b[0m \u001b[0mmatched2\u001b[0m\u001b[0;34m,\u001b[0m\u001b[0max\u001b[0m \u001b[0;34m=\u001b[0m \u001b[0maxs\u001b[0m\u001b[0;34m[\u001b[0m\u001b[0;36m0\u001b[0m\u001b[0;34m]\u001b[0m\u001b[0;34m)\u001b[0m\u001b[0;34m.\u001b[0m\u001b[0mset_title\u001b[0m\u001b[0;34m(\u001b[0m\u001b[0;34m'Mean age'\u001b[0m\u001b[0;34m)\u001b[0m\u001b[0;34m\u001b[0m\u001b[0m\n\u001b[0m\u001b[1;32m      4\u001b[0m \u001b[0msns\u001b[0m\u001b[0;34m.\u001b[0m\u001b[0mviolinplot\u001b[0m\u001b[0;34m(\u001b[0m\u001b[0mx\u001b[0m \u001b[0;34m=\u001b[0m \u001b[0;34m'treat'\u001b[0m\u001b[0;34m,\u001b[0m\u001b[0my\u001b[0m \u001b[0;34m=\u001b[0m\u001b[0;34m'educ'\u001b[0m\u001b[0;34m,\u001b[0m \u001b[0mdata\u001b[0m \u001b[0;34m=\u001b[0m \u001b[0mmatched2\u001b[0m\u001b[0;34m,\u001b[0m\u001b[0max\u001b[0m \u001b[0;34m=\u001b[0m \u001b[0maxs\u001b[0m\u001b[0;34m[\u001b[0m\u001b[0;36m1\u001b[0m\u001b[0;34m]\u001b[0m\u001b[0;34m)\u001b[0m\u001b[0;34m.\u001b[0m\u001b[0mset_title\u001b[0m\u001b[0;34m(\u001b[0m\u001b[0;34m'Years of education'\u001b[0m\u001b[0;34m)\u001b[0m\u001b[0;34m\u001b[0m\u001b[0m\n\u001b[1;32m      5\u001b[0m \u001b[0msns\u001b[0m\u001b[0;34m.\u001b[0m\u001b[0mviolinplot\u001b[0m\u001b[0;34m(\u001b[0m\u001b[0mx\u001b[0m \u001b[0;34m=\u001b[0m \u001b[0;34m'treat'\u001b[0m\u001b[0;34m,\u001b[0m\u001b[0my\u001b[0m \u001b[0;34m=\u001b[0m\u001b[0;34m're74'\u001b[0m\u001b[0;34m,\u001b[0m \u001b[0mdata\u001b[0m \u001b[0;34m=\u001b[0m \u001b[0mmatched2\u001b[0m\u001b[0;34m,\u001b[0m\u001b[0max\u001b[0m \u001b[0;34m=\u001b[0m \u001b[0maxs\u001b[0m\u001b[0;34m[\u001b[0m\u001b[0;36m2\u001b[0m\u001b[0;34m]\u001b[0m\u001b[0;34m)\u001b[0m\u001b[0;34m.\u001b[0m\u001b[0mset_title\u001b[0m\u001b[0;34m(\u001b[0m\u001b[0;34m'Income 1974'\u001b[0m\u001b[0;34m)\u001b[0m\u001b[0;34m\u001b[0m\u001b[0m\n",
      "\u001b[0;32m/Users/mike/anaconda/lib/python3.6/site-packages/seaborn/categorical.py\u001b[0m in \u001b[0;36mviolinplot\u001b[0;34m(x, y, hue, data, order, hue_order, bw, cut, scale, scale_hue, gridsize, width, inner, split, orient, linewidth, color, palette, saturation, ax, **kwargs)\u001b[0m\n\u001b[1;32m   2345\u001b[0m                              \u001b[0mbw\u001b[0m\u001b[0;34m,\u001b[0m \u001b[0mcut\u001b[0m\u001b[0;34m,\u001b[0m \u001b[0mscale\u001b[0m\u001b[0;34m,\u001b[0m \u001b[0mscale_hue\u001b[0m\u001b[0;34m,\u001b[0m \u001b[0mgridsize\u001b[0m\u001b[0;34m,\u001b[0m\u001b[0;34m\u001b[0m\u001b[0m\n\u001b[1;32m   2346\u001b[0m                              \u001b[0mwidth\u001b[0m\u001b[0;34m,\u001b[0m \u001b[0minner\u001b[0m\u001b[0;34m,\u001b[0m \u001b[0msplit\u001b[0m\u001b[0;34m,\u001b[0m \u001b[0morient\u001b[0m\u001b[0;34m,\u001b[0m \u001b[0mlinewidth\u001b[0m\u001b[0;34m,\u001b[0m\u001b[0;34m\u001b[0m\u001b[0m\n\u001b[0;32m-> 2347\u001b[0;31m                              color, palette, saturation)\n\u001b[0m\u001b[1;32m   2348\u001b[0m \u001b[0;34m\u001b[0m\u001b[0m\n\u001b[1;32m   2349\u001b[0m     \u001b[0;32mif\u001b[0m \u001b[0max\u001b[0m \u001b[0;32mis\u001b[0m \u001b[0;32mNone\u001b[0m\u001b[0;34m:\u001b[0m\u001b[0;34m\u001b[0m\u001b[0m\n",
      "\u001b[0;32m/Users/mike/anaconda/lib/python3.6/site-packages/seaborn/categorical.py\u001b[0m in \u001b[0;36m__init__\u001b[0;34m(self, x, y, hue, data, order, hue_order, bw, cut, scale, scale_hue, gridsize, width, inner, split, orient, linewidth, color, palette, saturation)\u001b[0m\n\u001b[1;32m    539\u001b[0m                  color, palette, saturation):\n\u001b[1;32m    540\u001b[0m \u001b[0;34m\u001b[0m\u001b[0m\n\u001b[0;32m--> 541\u001b[0;31m         \u001b[0mself\u001b[0m\u001b[0;34m.\u001b[0m\u001b[0mestablish_variables\u001b[0m\u001b[0;34m(\u001b[0m\u001b[0mx\u001b[0m\u001b[0;34m,\u001b[0m \u001b[0my\u001b[0m\u001b[0;34m,\u001b[0m \u001b[0mhue\u001b[0m\u001b[0;34m,\u001b[0m \u001b[0mdata\u001b[0m\u001b[0;34m,\u001b[0m \u001b[0morient\u001b[0m\u001b[0;34m,\u001b[0m \u001b[0morder\u001b[0m\u001b[0;34m,\u001b[0m \u001b[0mhue_order\u001b[0m\u001b[0;34m)\u001b[0m\u001b[0;34m\u001b[0m\u001b[0m\n\u001b[0m\u001b[1;32m    542\u001b[0m         \u001b[0mself\u001b[0m\u001b[0;34m.\u001b[0m\u001b[0mestablish_colors\u001b[0m\u001b[0;34m(\u001b[0m\u001b[0mcolor\u001b[0m\u001b[0;34m,\u001b[0m \u001b[0mpalette\u001b[0m\u001b[0;34m,\u001b[0m \u001b[0msaturation\u001b[0m\u001b[0;34m)\u001b[0m\u001b[0;34m\u001b[0m\u001b[0m\n\u001b[1;32m    543\u001b[0m         \u001b[0mself\u001b[0m\u001b[0;34m.\u001b[0m\u001b[0mestimate_densities\u001b[0m\u001b[0;34m(\u001b[0m\u001b[0mbw\u001b[0m\u001b[0;34m,\u001b[0m \u001b[0mcut\u001b[0m\u001b[0;34m,\u001b[0m \u001b[0mscale\u001b[0m\u001b[0;34m,\u001b[0m \u001b[0mscale_hue\u001b[0m\u001b[0;34m,\u001b[0m \u001b[0mgridsize\u001b[0m\u001b[0;34m)\u001b[0m\u001b[0;34m\u001b[0m\u001b[0m\n",
      "\u001b[0;32m/Users/mike/anaconda/lib/python3.6/site-packages/seaborn/categorical.py\u001b[0m in \u001b[0;36mestablish_variables\u001b[0;34m(self, x, y, hue, data, orient, order, hue_order, units)\u001b[0m\n\u001b[1;32m    149\u001b[0m                 \u001b[0;32mif\u001b[0m \u001b[0misinstance\u001b[0m\u001b[0;34m(\u001b[0m\u001b[0minput\u001b[0m\u001b[0;34m,\u001b[0m \u001b[0mstring_types\u001b[0m\u001b[0;34m)\u001b[0m\u001b[0;34m:\u001b[0m\u001b[0;34m\u001b[0m\u001b[0m\n\u001b[1;32m    150\u001b[0m                     \u001b[0merr\u001b[0m \u001b[0;34m=\u001b[0m \u001b[0;34m\"Could not interpret input '{}'\"\u001b[0m\u001b[0;34m.\u001b[0m\u001b[0mformat\u001b[0m\u001b[0;34m(\u001b[0m\u001b[0minput\u001b[0m\u001b[0;34m)\u001b[0m\u001b[0;34m\u001b[0m\u001b[0m\n\u001b[0;32m--> 151\u001b[0;31m                     \u001b[0;32mraise\u001b[0m \u001b[0mValueError\u001b[0m\u001b[0;34m(\u001b[0m\u001b[0merr\u001b[0m\u001b[0;34m)\u001b[0m\u001b[0;34m\u001b[0m\u001b[0m\n\u001b[0m\u001b[1;32m    152\u001b[0m \u001b[0;34m\u001b[0m\u001b[0m\n\u001b[1;32m    153\u001b[0m             \u001b[0;31m# Figure out the plotting orientation\u001b[0m\u001b[0;34m\u001b[0m\u001b[0;34m\u001b[0m\u001b[0m\n",
      "\u001b[0;31mValueError\u001b[0m: Could not interpret input 'treat'"
     ]
    },
    {
     "data": {
      "image/png": "[encoded data removed]",
      "text/plain": [
       "<matplotlib.figure.Figure at 0x1216353c8>"
      ]
     },
     "metadata": {},
     "output_type": "display_data"
    }
   ],
   "source": [
    "fig, axs = plt.subplots(1, 4, figsize=(16, 5))\n",
    "\n",
    "sns.violinplot(x = 'treat',y ='age', data = matched2,ax = axs[0]).set_title('Mean age')\n",
    "sns.violinplot(x = 'treat',y ='educ', data = matched2,ax = axs[1]).set_title('Years of education')\n",
    "sns.violinplot(x = 'treat',y ='re74', data = matched2,ax = axs[2]).set_title('Income 1974')\n",
    "sns.violinplot(x = 'treat',y ='re75', data = matched2,ax = axs[3]).set_title('Income 1975')"
   ]
  },
  {
   "cell_type": "markdown",
   "metadata": {},
   "source": [
    "#### Comparing the outcome of the experiment looking at matched subjets\n",
    "\n",
    "\n",
    "First the mean real earnings of the matched subjects is shown:"
   ]
  },
  {
   "cell_type": "code",
   "execution_count": null,
   "metadata": {},
   "outputs": [],
   "source": [
    "sns.barplot(x = 'treat', y='re78', data = matched_experiment).set_title(\"Mean matched income 1978\")"
   ]
  },
  {
   "cell_type": "markdown",
   "metadata": {},
   "source": [
    "Alas, it looks like the treatment was a success, after subjects with similar covariates were matched! The mean real earnings of the matched control subjects is lower, than the mean real earnings of the treatment group, even though still quite high standard deviation is present in the treatment group due to outliers. \n",
    "\n",
    "\n",
    "To be sure, that our method of matching was reasonable, let's take a look at the features of the matched subjects.\n",
    "\n",
    "\n",
    "First the age, number of years of education and the income in 1974 and 1975 are compared:"
   ]
  },
  {
   "cell_type": "code",
   "execution_count": null,
   "metadata": {},
   "outputs": [],
   "source": [
    "fig, axs = plt.subplots(1, 4, figsize=(16, 5))\n",
    "\n",
    "sns.violinplot(x = 'treat',y ='age', data = matched_experiment,ax = axs[0]).set_title('Mean age')\n",
    "sns.violinplot(x = 'treat',y ='educ', data = matched_experiment,ax = axs[1]).set_title('Years of education')\n",
    "sns.violinplot(x = 'treat',y ='re74', data = matched_experiment,ax = axs[2]).set_title('Income 1974')\n",
    "sns.violinplot(x = 'treat',y ='re75', data = matched_experiment,ax = axs[3]).set_title('Income 1975')"
   ]
  },
  {
   "cell_type": "markdown",
   "metadata": {},
   "source": [
    "The income in 1974, which was heavily unbalanced before seems to have been corrected reasonably well, eventhough the large error bars indicate many outliers. Through matching the mean age fell to the other side. Now the control group is on average less than 25 years old.\n",
    "\n",
    "Next the covariates, which are either true or false are compared:"
   ]
  },
  {
   "cell_type": "code",
   "execution_count": null,
   "metadata": {},
   "outputs": [],
   "source": [
    "fig, axs = plt.subplots(1, 3, figsize=(12, 5),sharey = True)\n",
    "\n",
    "sns.barplot(x = 'treat',y ='minority', data = matched_experiment,ax = axs[0], ci=None).set_title('Percentage of minorities')\n",
    "sns.barplot(x = 'treat',y ='married', data = matched_experiment,ax = axs[1], ci=None).set_title('Percentage married')\n",
    "sns.barplot(x = 'treat',y ='nodegree', data = matched_experiment,ax = axs[2], ci=None).set_title('Percentage with degree')"
   ]
  },
  {
   "cell_type": "markdown",
   "metadata": {},
   "source": [
    "The number of subjects having a degree and being married have been matched reasonably well, but the feature of being part of a minority is still heavily over represented in the treatment group. We are closer to being able to draw a valid conclusion, but the difference in percentage of subjects being either black or hispanic is still too large."
   ]
  },
  {
   "cell_type": "markdown",
   "metadata": {},
   "source": [
    "### 5. Balancing the groups further\n",
    "\n",
    "As mentioned above, the matching done is good, but can be improved, because there are still significantly more subjects, that are minorities in the treatment group.\n",
    "\n",
    "The way we improve our matching is by explicitly focusing on subjects, that are minorites. First we create two new dataframes containing only the matched subjects, which are minorities."
   ]
  },
  {
   "cell_type": "code",
   "execution_count": null,
   "metadata": {},
   "outputs": [],
   "source": [
    "matched_treated_minority = matched_experiment[(matched_experiment.minority == 1) & (matched_experiment.treat == 1)]\n",
    "matched_non_treated_minority = matched_experiment[(matched_experiment.minority == 1) & (matched_experiment.treat == 0)]\n",
    "\n",
    "print(str(sum(matched_non_treated_minority.minority)) + ' of the total ' + str(len(matched_experiment[(matched_experiment.treat == 0)])) + ' subjects in the matched control group are minorities.')\n",
    "print(str(sum(matched_treated_minority.minority)) + ' of the total ' + str(len(matched_experiment[(matched_experiment.treat == 1)])) + ' subjects in the control group are minorities.')\n"
   ]
  },
  {
   "cell_type": "markdown",
   "metadata": {},
   "source": [
    "#### Improved matching\n",
    "\n",
    "\n",
    "- We will now perform a second matching on the previously matched members of the treatment and control groups adding the constraint, that we only consider minorities.\n",
    "\n",
    "\n",
    "- The 125 minority subjects in the matched control group will be matched to one of the 167 minority subjects of the treatment group following the same procedure as described above."
   ]
  },
  {
   "cell_type": "code",
   "execution_count": null,
   "metadata": {
    "collapsed": true
   },
   "outputs": [],
   "source": [
    "G = nx.Graph()\n",
    "\n",
    "for index_t, t in matched_treated_minority.iterrows():\n",
    "    for index_n, n in matched_non_treated_minority.iterrows():\n",
    "        w = -np.abs(t.propensity-n.propensity)\n",
    "        G.add_edge(index_t, index_n, weight=w)\n",
    "\n",
    "match = nx.max_weight_matching(G,True)\n",
    "\n",
    "nsws = [v for k, v in match.items() if 'PSID' in k]\n",
    "treated_match_minority = matched_treated_minority.loc[nsws]\n",
    "\n",
    "matched_experiment_minorities = matched_non_treated_minority.append(treated_match_minority)"
   ]
  },
  {
   "cell_type": "markdown",
   "metadata": {},
   "source": [
    "#### Inspecting the second match\n",
    "\n",
    "Looking at the covariates of subject after the second round of matching, we can observe that the additional constraint of subjects having to be a minority, gives us two well balanced groups. Their mean age, years of education, their income in 1974 and the percentage of married subjects are similar.\n",
    "\n",
    "\n",
    "The real earnings 1975 are not considered. From the beginning the mean in that year is overall just a third of the previous year, which makes it seem like something is wrong with the data. We focus solely on the real earnings at the beginning and at the end of the experiment. The covariate with the information, whether a subject has a degree or not is also not considered here, because it depends strongly on the years of education and does not add much additional information."
   ]
  },
  {
   "cell_type": "code",
   "execution_count": null,
   "metadata": {},
   "outputs": [],
   "source": [
    "fig, axs = plt.subplots(1, 4, figsize=(16, 5))\n",
    "\n",
    "sns.barplot(x = 'treat',y ='age', data = matched_experiment_minorities,ax = axs[0]).set_title('Mean age')\n",
    "sns.barplot(x = 'treat',y ='educ', data = matched_experiment_minorities,ax = axs[1]).set_title('Years of education')\n",
    "sns.barplot(x = 'treat',y ='re74', data = matched_experiment_minorities,ax = axs[2]).set_title('Income 1974')\n",
    "sns.barplot(x = 'treat',y ='married', data = matched_experiment_minorities,ax = axs[3]).set_title('Married')"
   ]
  },
  {
   "cell_type": "markdown",
   "metadata": {},
   "source": [
    "### 6. A less naive analysis\n",
    "\n",
    "Now the treatment and control groups are well balanced. They are comprised of subjects, that are all minorities in their twenties, that on average almost finished highschool, have low income at the beginning of the experiment and are mostly unmarried.\n",
    "\n",
    "\n",
    "The subjects that received treatment had slightly higher real earnings in 1978, than the subjects in the control group, whereby the standard deviation is quite large. Based on these results I conclude, that the experiment did not help this specific demographic group of the population in any significant way."
   ]
  },
  {
   "cell_type": "code",
   "execution_count": null,
   "metadata": {},
   "outputs": [],
   "source": [
    "sns.barplot(x = 'treat', y='re78', data = matched_experiment_minorities).set_title(\"Mean matched income 1978\")"
   ]
  }
 ],
 "metadata": {
  "kernelspec": {
   "display_name": "Python 3",
   "language": "python",
   "name": "python3"
  },
  "language_info": {
   "codemirror_mode": {
    "name": "ipython",
    "version": 3
   },
   "file_extension": ".py",
   "mimetype": "text/x-python",
   "name": "python",
   "nbconvert_exporter": "python",
   "pygments_lexer": "ipython3",
   "version": "3.6.1"
  }
 },
 "nbformat": 4,
 "nbformat_minor": 2
}
