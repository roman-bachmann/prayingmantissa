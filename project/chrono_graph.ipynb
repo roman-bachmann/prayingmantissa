{
 "cells": [
  {
   "cell_type": "code",
   "execution_count": 1,
   "metadata": {
    "collapsed": true
   },
   "outputs": [],
   "source": [
    "import pandas as pd"
   ]
  },
  {
   "cell_type": "code",
   "execution_count": 2,
   "metadata": {},
   "outputs": [],
   "source": [
    "import numpy as np\n",
    "\n",
    "import matplotlib.pyplot as plt\n",
    "%matplotlib inline\n",
    "\n",
    "from graph_tool.all import *\n",
    "\n",
    "import heapq\n",
    "import requests\n",
    "import json\n",
    "import time\n",
    "import csv\n",
    "import itertools"
   ]
  },
  {
   "cell_type": "markdown",
   "metadata": {},
   "source": [
    "Format: <[1970-01-01, 1970-01-01]>"
   ]
  },
  {
   "cell_type": "code",
   "execution_count": 4,
   "metadata": {
    "collapsed": true
   },
   "outputs": [],
   "source": [
    "def hex_to_int(id):\n",
    "    '''Map patent id (string) to graph id (int).'''\n",
    "    return int(id, 16)\n",
    "\n",
    "def int_to_hex(id):\n",
    "    '''Map graph id (int) to patent id (string).'''\n",
    "    return '{0:0x}'.format(id)"
   ]
  },
  {
   "cell_type": "code",
   "execution_count": 5,
   "metadata": {},
   "outputs": [
    {
     "data": {
      "text/plain": [
       "<Graph object, directed, with 8274991 vertices and 86284396 edges at 0x7f30cc3e3e10>"
      ]
     },
     "execution_count": 5,
     "metadata": {},
     "output_type": "execute_result"
    }
   ],
   "source": [
    "DATA = './data/'\n",
    "graph = load_graph(DATA + 'citations_graph_reversed.xml.gz')\n",
    "graph"
   ]
  },
  {
   "cell_type": "code",
   "execution_count": 6,
   "metadata": {
    "collapsed": true
   },
   "outputs": [],
   "source": [
    "class ShortestPathVisitor(BFSVisitor):\n",
    "    def __init__(self, name, dist, edge_set, vertex_set, max_dist):\n",
    "        self.name = name\n",
    "        self.dist = dist\n",
    "        self.edge_set = edge_set\n",
    "        self.vertex_set = vertex_set\n",
    "        self.max_dist = max_dist\n",
    "            \n",
    "    def examine_edge(self, e):\n",
    "        # Getting distance of next node\n",
    "        next_dist = self.dist[e.source()] + 1\n",
    "        self.dist[e.target()] = next_dist\n",
    "        \n",
    "        if next_dist <= self.max_dist:\n",
    "            self.edge_set.add((int(e.source()), int(e.target())))\n",
    "            self.vertex_set.add(int(e.target()))"
   ]
  },
  {
   "cell_type": "code",
   "execution_count": 39,
   "metadata": {
    "collapsed": true
   },
   "outputs": [],
   "source": [
    "dist = graph.new_vertex_property(\"int\")\n",
    "edge_set = set()\n",
    "vertex_set = set()\n",
    "\n",
    "source = '6285999'\n",
    "source_vertex = find_vertex(graph, graph.vertex_properties.id, hex_to_int(source))[0]\n",
    "vertex_set.add(int(source_vertex))\n",
    "\n",
    "bfs_search(graph, int(source_vertex), ShortestPathVisitor('SPV_' + source, dist, edge_set, vertex_set, 3))"
   ]
  },
  {
   "cell_type": "code",
   "execution_count": 41,
   "metadata": {},
   "outputs": [
    {
     "data": {
      "text/plain": [
       "33021"
      ]
     },
     "execution_count": 41,
     "metadata": {},
     "output_type": "execute_result"
    }
   ],
   "source": [
    "len(edge_set)"
   ]
  },
  {
   "cell_type": "code",
   "execution_count": 9,
   "metadata": {
    "collapsed": true
   },
   "outputs": [],
   "source": [
    "reader = csv.reader(open(DATA + 'patent_dates.csv', 'r'))\n",
    "dates = {}\n",
    "for row in reader:\n",
    "    k, v = row\n",
    "    dates[k] = v"
   ]
  },
  {
   "cell_type": "code",
   "execution_count": 42,
   "metadata": {},
   "outputs": [
    {
     "data": {
      "text/plain": [
       "'2001-09-04'"
      ]
     },
     "execution_count": 42,
     "metadata": {},
     "output_type": "execute_result"
    }
   ],
   "source": [
    "dates['6285999']"
   ]
  },
  {
   "cell_type": "code",
   "execution_count": 49,
   "metadata": {
    "collapsed": true
   },
   "outputs": [],
   "source": [
    "def vertices_to_csv(vertex_set, filename):\n",
    "    vertices = []\n",
    "    \n",
    "    for v in vertex_set: # For all the vertices in that path\n",
    "        patent_id = int_to_hex(graph.vp.id[int(v)])\n",
    "        if patent_id in dates:\n",
    "            year = '[' + dates[patent_id][:4] + ',2017]'\n",
    "        else:\n",
    "            year = '[0,0]'\n",
    "        vertices.append([patent_id, year])\n",
    "            \n",
    "    output_file = open(filename, 'w')\n",
    "    with output_file:  \n",
    "        writer = csv.writer(output_file)\n",
    "        writer.writerow(['Id', 'Timestamp'])\n",
    "        writer.writerows(vertices)\n",
    "\n",
    "    return vertices"
   ]
  },
  {
   "cell_type": "code",
   "execution_count": 50,
   "metadata": {},
   "outputs": [],
   "source": [
    "dna_vertices = vertices_to_csv(vertex_set, './pr_vertices.csv')"
   ]
  },
  {
   "cell_type": "code",
   "execution_count": 45,
   "metadata": {
    "collapsed": true
   },
   "outputs": [],
   "source": [
    "def edges_to_csv(edge_set, filename):\n",
    "    edges = []\n",
    "    \n",
    "    for e in edge_set: # For all the edges in that path\n",
    "        source_index = int(e[0])\n",
    "        source_id = int_to_hex(graph.vp.id[source_index])\n",
    "        target_index = int(e[1])\n",
    "        target_id = int_to_hex(graph.vp.id[target_index])\n",
    "            \n",
    "        edges.append([target_id, source_id])\n",
    "            \n",
    "    output_file = open(filename, 'w')\n",
    "    with output_file:  \n",
    "        writer = csv.writer(output_file)\n",
    "        writer.writerow(['Source', 'Target'])\n",
    "        writer.writerows(edges)\n",
    "        \n",
    "    return edges"
   ]
  },
  {
   "cell_type": "code",
   "execution_count": 46,
   "metadata": {
    "collapsed": true
   },
   "outputs": [],
   "source": [
    "dna_edges = edges_to_csv(edge_set, './pr_edges.csv')"
   ]
  },
  {
   "cell_type": "code",
   "execution_count": null,
   "metadata": {
    "collapsed": true
   },
   "outputs": [],
   "source": []
  }
 ],
 "metadata": {
  "kernelspec": {
   "display_name": "Python 3",
   "language": "python",
   "name": "python3"
  },
  "language_info": {
   "codemirror_mode": {
    "name": "ipython",
    "version": 3
   },
   "file_extension": ".py",
   "mimetype": "text/x-python",
   "name": "python",
   "nbconvert_exporter": "python",
   "pygments_lexer": "ipython3",
   "version": "3.6.3"
  }
 },
 "nbformat": 4,
 "nbformat_minor": 2
}
