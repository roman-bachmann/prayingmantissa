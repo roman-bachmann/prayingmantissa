{
 "cells": [
  {
   "cell_type": "code",
   "execution_count": 4,
   "metadata": {
    "collapsed": true
   },
   "outputs": [],
   "source": [
    "import pandas as pd\n",
    "import numpy as np\n",
    "\n",
    "import matplotlib.pyplot as plt\n",
    "%matplotlib inline\n",
    "\n",
    "from graph_tool.all import *\n",
    "from graph_tool.draw import *\n",
    "\n",
    "import heapq\n",
    "import requests\n",
    "import json\n",
    "import time"
   ]
  },
  {
   "cell_type": "code",
   "execution_count": 2,
   "metadata": {
    "collapsed": true
   },
   "outputs": [],
   "source": [
    "def hex_to_int(id):\n",
    "    '''Map patent id (string) to graph id (int).'''\n",
    "    return int(id, 16)\n",
    "\n",
    "def int_to_hex(id):\n",
    "    '''Map graph id (int) to patent id (string).'''\n",
    "    return '{0:0x}'.format(id)"
   ]
  },
  {
   "cell_type": "markdown",
   "metadata": {},
   "source": [
    "## 5. Statistics on the graph\n",
    "\n",
    "In this section, we take a look at how we can access elements of the patent graph and show some of its statistics. We will also compute some shortest paths between important patents and show that we can handle the size of the graph."
   ]
  },
  {
   "cell_type": "code",
   "execution_count": 3,
   "metadata": {},
   "outputs": [
    {
     "data": {
      "text/plain": [
       "<Graph object, directed, with 8274991 vertices and 86284396 edges at 0x7f9f5932f630>"
      ]
     },
     "execution_count": 3,
     "metadata": {},
     "output_type": "execute_result"
    }
   ],
   "source": [
    "DATA = './data/'\n",
    "graph = load_graph(DATA + 'citations_graph.xml.gz')\n",
    "graph"
   ]
  },
  {
   "cell_type": "markdown",
   "metadata": {},
   "source": [
    "The graph can be loaded in approximately 5 minutes."
   ]
  },
  {
   "cell_type": "markdown",
   "metadata": {},
   "source": [
    "### 5.1 Working with the graph\n",
    "\n",
    "In this section we list useful functions that facilitate working with the graph:"
   ]
  },
  {
   "cell_type": "code",
   "execution_count": 25,
   "metadata": {},
   "outputs": [
    {
     "data": {
      "text/plain": [
       "'8828082'"
      ]
     },
     "execution_count": 25,
     "metadata": {},
     "output_type": "execute_result"
    }
   ],
   "source": [
    "# Extracting the properties of the graph vertices and getting the transformed patent id back:\n",
    "x = graph.vp.id['12345']\n",
    "int_to_hex(x)"
   ]
  },
  {
   "cell_type": "code",
   "execution_count": 26,
   "metadata": {},
   "outputs": [
    {
     "data": {
      "text/plain": [
       "<Vertex object with index '12345' at 0x7f9f592a48d0>"
      ]
     },
     "execution_count": 26,
     "metadata": {},
     "output_type": "execute_result"
    }
   ],
   "source": [
    "# To extract a node with a given graph vertex index:\n",
    "v = graph.vertex(12345)\n",
    "v"
   ]
  },
  {
   "cell_type": "code",
   "execution_count": 27,
   "metadata": {},
   "outputs": [
    {
     "data": {
      "text/plain": [
       "12345"
      ]
     },
     "execution_count": 27,
     "metadata": {},
     "output_type": "execute_result"
    }
   ],
   "source": [
    "# Method 1 of retrieving the graph index of a given vertex\n",
    "graph.vertex_index[v]"
   ]
  },
  {
   "cell_type": "code",
   "execution_count": 28,
   "metadata": {},
   "outputs": [
    {
     "data": {
      "text/plain": [
       "12345"
      ]
     },
     "execution_count": 28,
     "metadata": {},
     "output_type": "execute_result"
    }
   ],
   "source": [
    "# Method 2 of retrieving the graph index of a given vertex\n",
    "int(v)"
   ]
  },
  {
   "cell_type": "code",
   "execution_count": 29,
   "metadata": {},
   "outputs": [
    {
     "data": {
      "text/plain": [
       "<Edge object with source '0' and target '1' at 0x7f9f5920d468>"
      ]
     },
     "execution_count": 29,
     "metadata": {},
     "output_type": "execute_result"
    }
   ],
   "source": [
    "# To extract an edge with given graph vertex indices\n",
    "graph.edge(0,1)"
   ]
  },
  {
   "cell_type": "markdown",
   "metadata": {},
   "source": [
    "### 5.2 Graph overview\n",
    "\n",
    "Our final directed graph comprises over 8 million nodes that are connected with over 85 million edges!"
   ]
  },
  {
   "cell_type": "code",
   "execution_count": 30,
   "metadata": {},
   "outputs": [
    {
     "name": "stdout",
     "output_type": "stream",
     "text": [
      "Number of vertices: 8274991\n",
      "Number of edges 86284396\n"
     ]
    }
   ],
   "source": [
    "vertices = [int(v) for v in graph.vertices()]\n",
    "print('Number of vertices:', graph.num_vertices())\n",
    "print('Number of edges', graph.num_edges())"
   ]
  },
  {
   "cell_type": "markdown",
   "metadata": {},
   "source": [
    "At first glance, it would be assumed that a patents graph is acyclic, since cycles would mean that there is a violation of temporal causality (patents cite future patents). However, using the *graph-tool* function *is_DAG*, we find out that, contrary to our assumptions, the directed graph is cyclic. A reason for this could be that patents cite patent applications that then become granted patents in the future. Another possible reason could be human mistakes. We will investigate this fact further."
   ]
  },
  {
   "cell_type": "code",
   "execution_count": 31,
   "metadata": {},
   "outputs": [
    {
     "data": {
      "text/plain": [
       "False"
      ]
     },
     "execution_count": 31,
     "metadata": {},
     "output_type": "execute_result"
    }
   ],
   "source": [
    "# Is this graph a Directed Acyclic Graph?\n",
    "is_DAG(graph)"
   ]
  },
  {
   "cell_type": "markdown",
   "metadata": {},
   "source": [
    "### 5.3 Vertex in- and out-degrees\n",
    "\n",
    "To get a sense of how connected our graph is, we calculate the in-degree (number of ingoing edges) and the out-degree (number of outgoing edges) for every node. The average in-degree should equal the average out-degree, since every edge has to have a source and target node.\n",
    "\n",
    "Additionally, we list the top 10 patents of largest in- and out-degrees.\n",
    "\n",
    "#### By in-degree"
   ]
  },
  {
   "cell_type": "code",
   "execution_count": 32,
   "metadata": {
    "collapsed": true
   },
   "outputs": [],
   "source": [
    "# Getting the in-degree of each vertex\n",
    "in_deg = graph.get_in_degrees(vertices)"
   ]
  },
  {
   "cell_type": "code",
   "execution_count": 33,
   "metadata": {},
   "outputs": [
    {
     "data": {
      "text/plain": [
       "10.427128682073491"
      ]
     },
     "execution_count": 33,
     "metadata": {},
     "output_type": "execute_result"
    }
   ],
   "source": [
    "# Average in-degree\n",
    "in_deg.mean()"
   ]
  },
  {
   "cell_type": "code",
   "execution_count": 34,
   "metadata": {},
   "outputs": [
    {
     "data": {
      "text/plain": [
       "3.0"
      ]
     },
     "execution_count": 34,
     "metadata": {},
     "output_type": "execute_result"
    }
   ],
   "source": [
    "# Median in-degree\n",
    "np.median(in_deg)"
   ]
  },
  {
   "cell_type": "code",
   "execution_count": 35,
   "metadata": {},
   "outputs": [
    {
     "name": "stdout",
     "output_type": "stream",
     "text": [
      "Top 10 patents of largest in-degree:\n",
      "\n",
      "Nr 1:\tProcess for amplifying nucleic acid sequences\n",
      "\tDegree = 3709, Patent ID = 4683202\n",
      "\n",
      "Nr 2:\tMutant dwarfism gene of petunia\n",
      "\tDegree = 3342, Patent ID = 5523520\n",
      "\n",
      "Nr 3:\tProcess for amplifying, detecting, and/or-cloning nucleic acid sequences\n",
      "\tDegree = 3188, Patent ID = 4683195\n",
      "\n",
      "Nr 4:\tExpandable intraluminal graft, and method and apparatus for implanting an expandable intraluminal graft\n",
      "\tDegree = 2697, Patent ID = 4733665\n",
      "\n",
      "Nr 5:\tSystems and methods for secure transaction management and electronic rights protection\n",
      "\tDegree = 2451, Patent ID = 5892900\n",
      "\n",
      "Nr 6:\tMethods for forming liquid crystal displays including thin film transistors and gate pads having a particular structure\n",
      "\tDegree = 2377, Patent ID = 5731856\n",
      "\n",
      "Nr 7:\tSemiconductor device and manufacturing method thereof\n",
      "\tDegree = 2367, Patent ID = 7674650\n",
      "\n",
      "Nr 8:\tNatural-superlattice homologous single crystal thin film, method for preparation thereof, and device using said single crystal thin film\n",
      "\tDegree = 2349, Patent ID = 7061014\n",
      "\n",
      "Nr 9:\tSemiconductor device\n",
      "\tDegree = 2334, Patent ID = 7297977\n",
      "\n",
      "Nr 10:\tOxide thin film\n",
      "\tDegree = 2330, Patent ID = 6294274\n",
      "\n"
     ]
    }
   ],
   "source": [
    "# Listing the top 10 nodes by in-degree\n",
    "\n",
    "max_in_degs = heapq.nlargest(10, enumerate(in_deg), key=lambda x: x[1])\n",
    "\n",
    "print(\"Top 10 patents of largest in-degree:\\n\")\n",
    "for idx, deg in enumerate(max_in_degs):\n",
    "    patent_id = int_to_hex(graph.vp.id[deg[0]])\n",
    "    patent_URL = 'http://www.patentsview.org/api/patents/query?q={\"patent_number\":\"' + patent_id + '\"}'\n",
    "    patent_info = requests.get(patent_URL).json()\n",
    "    patent_title = patent_info['patents'][0]['patent_title']\n",
    "    \n",
    "    print('Nr {}:\\t{}'.format(idx+1, patent_title))\n",
    "    print('\\tDegree = {}, Patent ID = {}\\n'.format(deg[1], patent_id))"
   ]
  },
  {
   "cell_type": "markdown",
   "metadata": {},
   "source": [
    "#### By out-degree"
   ]
  },
  {
   "cell_type": "code",
   "execution_count": 36,
   "metadata": {
    "collapsed": true
   },
   "outputs": [],
   "source": [
    "# Getting out-degrees of each vertex\n",
    "out_deg = graph.get_out_degrees(vertices)"
   ]
  },
  {
   "cell_type": "code",
   "execution_count": 37,
   "metadata": {},
   "outputs": [
    {
     "data": {
      "text/plain": [
       "10.427128682073491"
      ]
     },
     "execution_count": 37,
     "metadata": {},
     "output_type": "execute_result"
    }
   ],
   "source": [
    "# Average out-degree (should be the same as average in-degree)\n",
    "out_deg.mean()"
   ]
  },
  {
   "cell_type": "code",
   "execution_count": 38,
   "metadata": {},
   "outputs": [
    {
     "data": {
      "text/plain": [
       "4.0"
      ]
     },
     "execution_count": 38,
     "metadata": {},
     "output_type": "execute_result"
    }
   ],
   "source": [
    "# Median out-degree\n",
    "np.median(out_deg)"
   ]
  },
  {
   "cell_type": "code",
   "execution_count": 39,
   "metadata": {},
   "outputs": [
    {
     "name": "stdout",
     "output_type": "stream",
     "text": [
      "Top 10 vertices of largest out-degree:\n",
      "\n",
      "Nr 1:\tInternet appliance system and method\n",
      "\tDegree = 5832, Patent ID = 9535563\n",
      "\n",
      "Nr 2:\tAdaptive pattern recognition based controller apparatus and method and human-interface therefore\n",
      "\tDegree = 5819, Patent ID = 8892495\n",
      "\n",
      "Nr 3:\tAlarm system controller and a method for controlling an alarm system\n",
      "\tDegree = 3032, Patent ID = 8369967\n",
      "\n",
      "Nr 4:\tSystem, method and computer program product for a collaborative decision platform\n",
      "\tDegree = 2880, Patent ID = 8160988\n",
      "\n",
      "Nr 5:\tSystem, method and computer program product for a collaborative decision platform\n",
      "\tDegree = 2844, Patent ID = 8005777\n",
      "\n",
      "Nr 6:\tSystem, method and computer program product for a collaborative decision platform\n",
      "\tDegree = 2823, Patent ID = 7970722\n",
      "\n",
      "Nr 7:\tStaple cartridge comprising an implantable layer\n",
      "\tDegree = 2681, Patent ID = 9724098\n",
      "\n",
      "Nr 8:\tAdjunct with integrated sensors to quantify tissue compression\n",
      "\tDegree = 2679, Patent ID = 9724094\n",
      "\n",
      "Nr 9:\tFiring member retraction devices for powered surgical instruments\n",
      "\tDegree = 2678, Patent ID = 9700310\n",
      "\n",
      "Nr 10:\tStaple cartridge comprising staples including a lateral base\n",
      "\tDegree = 2676, Patent ID = 9706991\n",
      "\n"
     ]
    }
   ],
   "source": [
    "# Listing the top 10 nodes by out-degree\n",
    "\n",
    "max_out_degs = heapq.nlargest(10, enumerate(out_deg), key=lambda x: x[1])\n",
    "\n",
    "print(\"Top 10 vertices of largest out-degree:\\n\")\n",
    "for idx, deg in enumerate(max_out_degs):\n",
    "    patent_id = int_to_hex(graph.vp.id[deg[0]])\n",
    "    patent_URL = 'http://www.patentsview.org/api/patents/query?q={\"patent_number\":\"' + patent_id + '\"}'\n",
    "    patent_info = requests.get(patent_URL).json()\n",
    "    patent_title = patent_info['patents'][0]['patent_title']\n",
    "    \n",
    "    print('Nr {}:\\t{}'.format(idx+1, patent_title))\n",
    "    print('\\tDegree = {}, Patent ID = {}\\n'.format(deg[1], patent_id))"
   ]
  },
  {
   "cell_type": "markdown",
   "metadata": {},
   "source": [
    "#### Histogram of vertices by in-degree\n",
    "\n",
    "To visually assess how the number of vertices per in-degree are distributed, we decided to plot both histograms where the y axis is scaled normally and using a log-scale, as well as a log-log plot. \n",
    "\n",
    "If the distribution of in-degrees was exponential, we would see a straight line in the second plot, whereas if it was distributed according to a power law, we would observe a straight line in the log-log plot. Neither are the case and therefore we do not observe a power law. This means that patents that have been cited only a few times are very common, whereas highly cited patents are rare."
   ]
  },
  {
   "cell_type": "code",
   "execution_count": 40,
   "metadata": {
    "collapsed": true
   },
   "outputs": [],
   "source": [
    "vhist_in = vertex_hist(graph, 'in')"
   ]
  },
  {
   "cell_type": "code",
   "execution_count": 54,
   "metadata": {},
   "outputs": [
    {
     "data": {
      "text/plain": [
       "<function matplotlib.pyplot.show>"
      ]
     },
     "execution_count": 54,
     "metadata": {},
     "output_type": "execute_result"
    },
    {
     "data": {
      "image/png": "[encoded data removed]",
      "text/plain": [
       "<matplotlib.figure.Figure at 0x7f9f3c7fef60>"
      ]
     },
     "metadata": {},
     "output_type": "display_data"
    }
   ],
   "source": [
    "plt.figure(1, figsize=(15, 8))\n",
    "plt.title('Histogram of in-degrees (slice from 0 to 50)')\n",
    "plt.bar(vhist_in[1][:-1], vhist_in[0])\n",
    "plt.xlim((0,50))\n",
    "plt.xlabel('In-degree')\n",
    "plt.ylabel('Number of vertices')\n",
    "plt.show"
   ]
  },
  {
   "cell_type": "code",
   "execution_count": 53,
   "metadata": {},
   "outputs": [
    {
     "data": {
      "text/plain": [
       "<function matplotlib.pyplot.show>"
      ]
     },
     "execution_count": 53,
     "metadata": {},
     "output_type": "execute_result"
    },
    {
     "data": {
      "image/png": "[encoded data removed]",
      "text/plain": [
       "<matplotlib.figure.Figure at 0x7f9f3b009be0>"
      ]
     },
     "metadata": {},
     "output_type": "display_data"
    }
   ],
   "source": [
    "plt.figure(1, figsize=(15, 8))\n",
    "plt.title('Log-Histogram of in-degrees (slice from 0 to 1000)')\n",
    "plt.bar(vhist_in[1][:-1], vhist_in[0], log=True)\n",
    "plt.xlim((0,1000))\n",
    "plt.xlabel('In-degree')\n",
    "plt.ylabel('Log of number of vertices')\n",
    "plt.show"
   ]
  },
  {
   "cell_type": "code",
   "execution_count": 43,
   "metadata": {},
   "outputs": [
    {
     "data": {
      "text/plain": [
       "<function matplotlib.pyplot.show>"
      ]
     },
     "execution_count": 43,
     "metadata": {},
     "output_type": "execute_result"
    },
    {
     "data": {
      "image/png": "[encoded data removed]",
      "text/plain": [
       "<matplotlib.figure.Figure at 0x7f9f3b990eb8>"
      ]
     },
     "metadata": {},
     "output_type": "display_data"
    }
   ],
   "source": [
    "plt.figure(1, figsize=(15, 8))\n",
    "plt.title('Log-log plot of in-degrees')\n",
    "plt.loglog(vhist_in[1][:-1], vhist_in[0])\n",
    "plt.xlabel('In-degree')\n",
    "plt.ylabel('Number of vertices')\n",
    "plt.show"
   ]
  },
  {
   "cell_type": "markdown",
   "metadata": {},
   "source": [
    "#### Histogram of vertices by out-degree\n",
    "\n",
    "Like before, we plot both histograms where the y axis is scaled normally and using a log-scale, as well as a log-log plot of the number of vertices per out-degree.\n",
    "\n",
    "In the first plot, it becomes clear that roughly one third of all patents in our graph did not cite other patents. Most of them are patents that were issued before 1976, for which we do not have more data available in our data sets. We also observe a spike in the beginning, meaning that citing 3 or 4 patents is most common.\n",
    "\n",
    "If it was distributed according to a power law, we would observe a straight line in the log-log plot. For out-degrees between 0 and 10, we do not observe such a straight line, but from 10 upwards it becomes apparent that there must be a power law. This means that patents citing many other patents is not uncommon."
   ]
  },
  {
   "cell_type": "code",
   "execution_count": 45,
   "metadata": {
    "collapsed": true
   },
   "outputs": [],
   "source": [
    "vhist_out = vertex_hist(graph, 'out')"
   ]
  },
  {
   "cell_type": "code",
   "execution_count": 55,
   "metadata": {},
   "outputs": [
    {
     "data": {
      "text/plain": [
       "<function matplotlib.pyplot.show>"
      ]
     },
     "execution_count": 55,
     "metadata": {},
     "output_type": "execute_result"
    },
    {
     "data": {
      "image/png": "[encoded data removed]",
      "text/plain": [
       "<matplotlib.figure.Figure at 0x7f9f3c7fecc0>"
      ]
     },
     "metadata": {},
     "output_type": "display_data"
    }
   ],
   "source": [
    "plt.figure(1, figsize=(15, 8))\n",
    "plt.title('Histogram of out-degrees (slice from 0 to 50)')\n",
    "plt.bar(vhist_out[1][:-1], vhist_out[0])\n",
    "plt.xlim((0,50))\n",
    "plt.xlabel('Out-degree')\n",
    "plt.ylabel('Number of vertices')\n",
    "plt.show"
   ]
  },
  {
   "cell_type": "code",
   "execution_count": 47,
   "metadata": {},
   "outputs": [
    {
     "data": {
      "text/plain": [
       "<function matplotlib.pyplot.show>"
      ]
     },
     "execution_count": 47,
     "metadata": {},
     "output_type": "execute_result"
    },
    {
     "data": {
      "image/png": "[encoded data removed]",
      "text/plain": [
       "<matplotlib.figure.Figure at 0x7f9f3b837e80>"
      ]
     },
     "metadata": {},
     "output_type": "display_data"
    }
   ],
   "source": [
    "plt.figure(1, figsize=(15, 8))\n",
    "plt.title('Log Histogram of out-degrees (slice from 0 to 1000)')\n",
    "plt.bar(vhist_out[1][:-1], vhist_out[0], log=True)\n",
    "plt.xlim((0,1000))\n",
    "plt.xlabel('Out-degree')\n",
    "plt.ylabel('Log of number of vertices')\n",
    "plt.show"
   ]
  },
  {
   "cell_type": "code",
   "execution_count": 48,
   "metadata": {},
   "outputs": [
    {
     "data": {
      "text/plain": [
       "<function matplotlib.pyplot.show>"
      ]
     },
     "execution_count": 48,
     "metadata": {},
     "output_type": "execute_result"
    },
    {
     "data": {
      "image/png": "[encoded data removed]",
      "text/plain": [
       "<matplotlib.figure.Figure at 0x7f9f3b0adc18>"
      ]
     },
     "metadata": {},
     "output_type": "display_data"
    }
   ],
   "source": [
    "plt.figure(1, figsize=(15, 8))\n",
    "plt.title('Log-log plot of out-degrees')\n",
    "plt.loglog(vhist_out[1][:-1], vhist_out[0])\n",
    "plt.xlabel('Out-degree')\n",
    "plt.ylabel('Number of vertices')\n",
    "plt.show"
   ]
  },
  {
   "cell_type": "markdown",
   "metadata": {},
   "source": [
    "### 5.4 Shortest path between selected nodes"
   ]
  },
  {
   "cell_type": "markdown",
   "metadata": {},
   "source": [
    "One of the central premises of our project idea was to find out how connected the patents in the graph actually are. One important step for this goal is to see if there even exists any path between two important patents of our choice and how short this path can be. We therefore compute the shortest path and print it out if it exists. Below, some examples of this pipeline are listed.\n",
    "\n",
    "Some interesting patent ids:\n",
    "\n",
    "- Google page rank: 6285999\n",
    "- Snapchat Augmented Reality: 9652896\n",
    "- Dropbox Network folder synchronization: 8825597\n",
    "- Facebook Dynamically generating a privacy summary: 8225376\n",
    "- SolarCity Methods for financing renewable energy systems: 7904382\n",
    "- GoPro Harness system for attaching camera to user: 6955484\n",
    "- Apple Microcomputer for use with video display 4136359\n",
    "- Semiconductor: 2981877"
   ]
  },
  {
   "cell_type": "code",
   "execution_count": 52,
   "metadata": {
    "collapsed": true
   },
   "outputs": [],
   "source": [
    "def list_shortest_path(source, target, graph, verbose=False):\n",
    "    '''Compute and print the shortest path between two patents.\n",
    "    This function will pull the patent titles from the patentsview.org api.\n",
    "    \n",
    "    Keyword arguments:\n",
    "    source -- Patent id of source node (string)\n",
    "    target -- Patent id of target node (string)\n",
    "    graph -- Patent graph\n",
    "    verbose -- Set to true to print out shortest path (default=False)\n",
    "    '''\n",
    "    \n",
    "    source_int_id = hex_to_int(source)\n",
    "    target_int_id = hex_to_int(target)\n",
    "    \n",
    "    source_vertex = find_vertex(graph, graph.vertex_properties.id, source_int_id)\n",
    "    if (len(source_vertex) == 0):\n",
    "        print('Source not found in graph.')\n",
    "        return None\n",
    "    \n",
    "    target_vertex = find_vertex(graph, graph.vertex_properties.id, target_int_id)\n",
    "    if (len(target_vertex) == 0):\n",
    "        print('Target not found in graph.')\n",
    "        return None\n",
    "    \n",
    "    path = shortest_path(graph, source_vertex[0], target_vertex[0])\n",
    "    \n",
    "    if (len(path[0]) == 0):\n",
    "        print('The graph contains no path from source to target.')\n",
    "        return None\n",
    "    \n",
    "    if verbose:\n",
    "        print('Shortest path:\\n--------------')\n",
    "        for idx, v in enumerate(path[0]):\n",
    "            patent_id = int_to_hex(graph.vp.id[int(v)])\n",
    "            patent_URL = 'http://www.patentsview.org/api/patents/query?q={\"patent_number\":\"' + patent_id + '\"}'\n",
    "            patent_info = requests.get(patent_URL).json()\n",
    "            if (patent_info['patents'] is None):\n",
    "                patent_title = '-No title available-'\n",
    "            else:\n",
    "                patent_title = patent_info['patents'][0]['patent_title']\n",
    "            print('ID: {}\\t{}'.format(patent_id, patent_title))\n",
    "            if (idx < len(path[0])-1):\n",
    "                print('↓')\n",
    "            \n",
    "    return path"
   ]
  },
  {
   "cell_type": "code",
   "execution_count": 50,
   "metadata": {},
   "outputs": [
    {
     "name": "stdout",
     "output_type": "stream",
     "text": [
      "Shortest path:\n",
      "--------------\n",
      "ID: 9652896\tImage based tracking in augmented reality systems\n",
      "↓\n",
      "ID: 9098926\tGenerating three-dimensional fa&#xe7;ade models from images\n",
      "↓\n",
      "ID: 7174039\tSystem and method for embodying virtual reality\n",
      "↓\n",
      "ID: 6888552\tHigh dynamic range image editing\n",
      "↓\n",
      "ID: 6396505\tMethods and apparatus for detecting and reducing color errors in images\n",
      "↓\n",
      "ID: 4136359\tMicrocomputer for use with video display\n"
     ]
    }
   ],
   "source": [
    "# Shortest path between Snapchat Augmented Reality and Apple II patents\n",
    "_ = list_shortest_path('9652896', '4136359', graph, verbose=True)"
   ]
  },
  {
   "cell_type": "code",
   "execution_count": 51,
   "metadata": {},
   "outputs": [
    {
     "name": "stdout",
     "output_type": "stream",
     "text": [
      "Shortest path:\n",
      "--------------\n",
      "ID: 6285999\tMethod for node ranking in a linked database\n",
      "↓\n",
      "ID: 6014678\tApparatus for preparing a hyper-text document of pieces of information having reference relationships with each other\n",
      "↓\n",
      "ID: 5634062\tSystem for managing hypertext node information and link information\n",
      "↓\n",
      "ID: 5446891\tSystem for adjusting hypertext links with weighed user goals and activities\n",
      "↓\n",
      "ID: 5021976\tMethod and system for generating dynamic, interactive visual representations of information structures within a computer\n",
      "↓\n",
      "ID: 4752893\tGraphics data processing apparatus having image operations with transparent color having a selectable number of bits\n",
      "↓\n",
      "ID: 4590463\tDigital control of color in CRT display\n",
      "↓\n",
      "ID: 4276543\tMonolithic triple diffusion analog to digital converter\n",
      "↓\n",
      "ID: 3981072\tBipolar transistor construction method\n",
      "↓\n",
      "ID: 2981877\t-No title available-\n"
     ]
    }
   ],
   "source": [
    "# Shortest path between Google Page Rank and Semiconductor patents\n",
    "_ = list_shortest_path('6285999', '2981877', graph, verbose=True)"
   ]
  },
  {
   "cell_type": "markdown",
   "metadata": {},
   "source": [
    "### 5.5 Speed of complex graph algorithms\n",
    "\n",
    "Searching the shortest path between two patents running in O(V+E):"
   ]
  },
  {
   "cell_type": "code",
   "execution_count": 11,
   "metadata": {},
   "outputs": [
    {
     "name": "stdout",
     "output_type": "stream",
     "text": [
      "Elapsed time: 0.1490846929999634 seconds\n"
     ]
    }
   ],
   "source": [
    "source_int_id = hex_to_int('9652896')\n",
    "target_int_id = hex_to_int('4136359')\n",
    "source_vertex = find_vertex(graph, graph.vertex_properties.id, source_int_id)\n",
    "target_vertex = find_vertex(graph, graph.vertex_properties.id, target_int_id)\n",
    "\n",
    "t = time.process_time()\n",
    "shortest_path(graph, source_vertex[0], target_vertex[0])\n",
    "elapsed_time = time.process_time() - t\n",
    "print('Elapsed time:', elapsed_time, 'seconds')"
   ]
  },
  {
   "cell_type": "markdown",
   "metadata": {},
   "source": [
    "Calculating the histogram of vertex in-degrees running in O(V):"
   ]
  },
  {
   "cell_type": "code",
   "execution_count": 44,
   "metadata": {},
   "outputs": [
    {
     "name": "stdout",
     "output_type": "stream",
     "text": [
      "Elapsed time: 0.23201369599996724 seconds\n"
     ]
    }
   ],
   "source": [
    "t = time.process_time()\n",
    "vertex_hist(graph, 'in')\n",
    "elapsed_time = time.process_time() - t\n",
    "print('Elapsed time:', elapsed_time, 'seconds')"
   ]
  },
  {
   "cell_type": "markdown",
   "metadata": {},
   "source": [
    "Calculating the minimum spanning tree running in O(E log E):"
   ]
  },
  {
   "cell_type": "code",
   "execution_count": null,
   "metadata": {
    "collapsed": true
   },
   "outputs": [],
   "source": [
    "t = time.process_time()\n",
    "min_spanning_tree(graph)\n",
    "elapsed_time = time.process_time() - t\n",
    "print('Elapsed time:', elapsed_time, 'seconds')"
   ]
  },
  {
   "cell_type": "markdown",
   "metadata": {},
   "source": [
    "Calculating an iterator for all the cycles in the graph running in worse time O((V+E)\\*(C+1)), where C is the number of cycles:"
   ]
  },
  {
   "cell_type": "code",
   "execution_count": null,
   "metadata": {
    "collapsed": true
   },
   "outputs": [],
   "source": [
    "t = time.process_time()\n",
    "all_circuits(graph)\n",
    "elapsed_time = time.process_time() - t\n",
    "print('Elapsed time:', elapsed_time, 'seconds')"
   ]
  },
  {
   "cell_type": "markdown",
   "metadata": {},
   "source": [
    "We tried running an O(V^2) algorithm (shortest-distance histogram for each vertex pair in the graph) but it did not finish in a reasonable amount of time. Assuming 8 Million vertices, V^2 is in the order of 6.4e+13, which would take days to compute. We will therefore not use algorithms of this complexity and resort to approximating our results by sampling a random (but not too small) subset of the graph. Below is a test of this function with a small sample size."
   ]
  },
  {
   "cell_type": "code",
   "execution_count": 21,
   "metadata": {},
   "outputs": [
    {
     "name": "stdout",
     "output_type": "stream",
     "text": [
      "Elapsed time: 52.870005959000025 seconds\n"
     ]
    }
   ],
   "source": [
    "t = time.process_time()\n",
    "dist_hist = distance_histogram(graph, samples=100)\n",
    "elapsed_time = time.process_time() - t\n",
    "print('Elapsed time:', elapsed_time, 'seconds')"
   ]
  },
  {
   "cell_type": "code",
   "execution_count": 24,
   "metadata": {},
   "outputs": [
    {
     "data": {
      "text/plain": [
       "<function matplotlib.pyplot.show>"
      ]
     },
     "execution_count": 24,
     "metadata": {},
     "output_type": "execute_result"
    },
    {
     "data": {
      "image/png": "[encoded data removed]",
      "text/plain": [
       "<matplotlib.figure.Figure at 0x7f9f58f58be0>"
      ]
     },
     "metadata": {},
     "output_type": "display_data"
    }
   ],
   "source": [
    "plt.figure(1, figsize=(15, 8))\n",
    "plt.title('Histogram of shortest distances (sampled) (slice from 0 to 60)')\n",
    "plt.bar(dist_hist[1][:-1], dist_hist[0])\n",
    "plt.xlim((0,60))\n",
    "plt.xlabel('Shortest distance')\n",
    "plt.ylabel('Number of vertices')\n",
    "plt.show"
   ]
  },
  {
   "cell_type": "code",
   "execution_count": null,
   "metadata": {
    "collapsed": true
   },
   "outputs": [],
   "source": []
  }
 ],
 "metadata": {
  "kernelspec": {
   "display_name": "Python 3",
   "language": "python",
   "name": "python3"
  },
  "language_info": {
   "codemirror_mode": {
    "name": "ipython",
    "version": 3
   },
   "file_extension": ".py",
   "mimetype": "text/x-python",
   "name": "python",
   "nbconvert_exporter": "python",
   "pygments_lexer": "ipython3",
   "version": "3.6.3"
  }
 },
 "nbformat": 4,
 "nbformat_minor": 2
}
