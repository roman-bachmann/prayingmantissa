{
 "cells": [
  {
   "cell_type": "code",
   "execution_count": 1,
   "metadata": {
    "collapsed": true
   },
   "outputs": [],
   "source": [
    "import pandas as pd\n",
    "import numpy as np\n",
    "from graph_tool.all import *\n",
    "from graph_tool.draw import *"
   ]
  },
  {
   "cell_type": "code",
   "execution_count": 2,
   "metadata": {
    "collapsed": true
   },
   "outputs": [],
   "source": [
    "PATENT_RAW_NAME = 'patents_raw.tsv'"
   ]
  },
  {
   "cell_type": "code",
   "execution_count": 3,
   "metadata": {
    "collapsed": true
   },
   "outputs": [],
   "source": [
    "patents = pd.read_csv(PATENT_RAW_NAME, delimiter='\\t', nrows=100000)"
   ]
  },
  {
   "cell_type": "code",
   "execution_count": 4,
   "metadata": {
    "scrolled": true
   },
   "outputs": [
    {
     "data": {
      "text/html": [
       "<div>\n",
       "<style scoped>\n",
       "    .dataframe tbody tr th:only-of-type {\n",
       "        vertical-align: middle;\n",
       "    }\n",
       "\n",
       "    .dataframe tbody tr th {\n",
       "        vertical-align: top;\n",
       "    }\n",
       "\n",
       "    .dataframe thead th {\n",
       "        text-align: right;\n",
       "    }\n",
       "</style>\n",
       "<table border=\"1\" class=\"dataframe\">\n",
       "  <thead>\n",
       "    <tr style=\"text-align: right;\">\n",
       "      <th></th>\n",
       "      <th>patent_id</th>\n",
       "      <th>citation_id</th>\n",
       "      <th>date</th>\n",
       "      <th>name</th>\n",
       "      <th>kind</th>\n",
       "    </tr>\n",
       "  </thead>\n",
       "  <tbody>\n",
       "    <tr>\n",
       "      <th>0</th>\n",
       "      <td>9009250</td>\n",
       "      <td>8127342</td>\n",
       "      <td>2012-02-01</td>\n",
       "      <td>Boynton et al.</td>\n",
       "      <td>B2</td>\n",
       "    </tr>\n",
       "    <tr>\n",
       "      <th>1</th>\n",
       "      <td>9643605</td>\n",
       "      <td>5471515</td>\n",
       "      <td>1995-11-01</td>\n",
       "      <td>Fossum et al.</td>\n",
       "      <td>A</td>\n",
       "    </tr>\n",
       "    <tr>\n",
       "      <th>2</th>\n",
       "      <td>5354551</td>\n",
       "      <td>4875247</td>\n",
       "      <td>1989-10-01</td>\n",
       "      <td>Berg</td>\n",
       "      <td>NaN</td>\n",
       "    </tr>\n",
       "    <tr>\n",
       "      <th>3</th>\n",
       "      <td>D786922</td>\n",
       "      <td>D718330</td>\n",
       "      <td>2014-11-01</td>\n",
       "      <td>Shin</td>\n",
       "      <td>S</td>\n",
       "    </tr>\n",
       "    <tr>\n",
       "      <th>4</th>\n",
       "      <td>D490798</td>\n",
       "      <td>D190749</td>\n",
       "      <td>1961-06-01</td>\n",
       "      <td>Matri et al.</td>\n",
       "      <td>S</td>\n",
       "    </tr>\n",
       "  </tbody>\n",
       "</table>\n",
       "</div>"
      ],
      "text/plain": [
       "  patent_id citation_id        date            name kind\n",
       "0   9009250     8127342  2012-02-01  Boynton et al.   B2\n",
       "1   9643605     5471515  1995-11-01   Fossum et al.    A\n",
       "2   5354551     4875247  1989-10-01            Berg  NaN\n",
       "3   D786922     D718330  2014-11-01            Shin    S\n",
       "4   D490798     D190749  1961-06-01    Matri et al.    S"
      ]
     },
     "execution_count": 4,
     "metadata": {},
     "output_type": "execute_result"
    }
   ],
   "source": [
    "patents.head()"
   ]
  },
  {
   "cell_type": "code",
   "execution_count": 5,
   "metadata": {
    "collapsed": true
   },
   "outputs": [],
   "source": [
    "graph = Graph()\n",
    "prop = graph.new_vertex_property('string')\n",
    "#graph.vertex_properties['name'] = prop\n",
    "\n",
    "used = dict()\n",
    "counter = -1\n",
    "for edge in patents[['patent_id', 'citation_id']].iterrows():\n",
    "    source = edge[1][0]\n",
    "    target = edge[1][1]\n",
    "    \n",
    "    #print(edge)\n",
    "    \n",
    "    if source not in used:\n",
    "        graph.add_vertex(1)\n",
    "        counter += 1\n",
    "        prop[graph.vertex(counter)] = source\n",
    "        used[source] = counter\n",
    "    if target not in used:\n",
    "        graph.add_vertex(1)\n",
    "        counter += 1\n",
    "        prop[graph.vertex(counter)] = target\n",
    "        used[target] = counter\n",
    "\n",
    "    graph.add_edge(graph.vertex(counter-1), graph.vertex(counter), add_missing=False)"
   ]
  },
  {
   "cell_type": "code",
   "execution_count": null,
   "metadata": {
    "collapsed": true
   },
   "outputs": [],
   "source": [
    "pos = arf_layout(graph, max_iter=0)\n",
    "graph_draw(graph, pos=pos, vertex_text=prop, vertex_font_size=10, inline=True)"
   ]
  },
  {
   "cell_type": "code",
   "execution_count": null,
   "metadata": {
    "collapsed": true
   },
   "outputs": [],
   "source": []
  },
  {
   "cell_type": "code",
   "execution_count": 24,
   "metadata": {
    "collapsed": true
   },
   "outputs": [],
   "source": [
    "pg = Graph()"
   ]
  },
  {
   "cell_type": "code",
   "execution_count": 52,
   "metadata": {},
   "outputs": [
    {
     "data": {
      "text/plain": [
       "<PropertyMap object with key type 'Vertex' and value type 'python::object', for Graph 0x7fe8b7df4c18, at 0x7fe8b7f39588>"
      ]
     },
     "execution_count": 52,
     "metadata": {},
     "output_type": "execute_result"
    }
   ],
   "source": [
    "pg.add_edge_list(patents[['patent_id', 'citation_id']].values, hashed=True)"
   ]
  },
  {
   "cell_type": "code",
   "execution_count": 51,
   "metadata": {},
   "outputs": [
    {
     "data": {
      "image/png": "[encoded data removed]",
      "text/plain": [
       "<IPython.core.display.Image object>"
      ]
     },
     "metadata": {},
     "output_type": "display_data"
    },
    {
     "data": {
      "text/plain": [
       "<PropertyMap object with key type 'Vertex' and value type 'vector<double>', for Graph 0x7fe8b7f269e8, at 0x7fe8b7f39ba8>"
      ]
     },
     "execution_count": 51,
     "metadata": {},
     "output_type": "execute_result"
    }
   ],
   "source": [
    "pos = sfdp_layout(g)\n",
    "graph_draw(g, pos=pos, vertex_text=g.vertex_index, vertex_font_size=18, output=\"two-nodes.png\")"
   ]
  },
  {
   "cell_type": "code",
   "execution_count": null,
   "metadata": {
    "collapsed": true
   },
   "outputs": [],
   "source": []
  },
  {
   "cell_type": "code",
   "execution_count": null,
   "metadata": {
    "collapsed": true
   },
   "outputs": [],
   "source": []
  }
 ],
 "metadata": {
  "kernelspec": {
   "display_name": "Python 3",
   "language": "python",
   "name": "python3"
  },
  "language_info": {
   "codemirror_mode": {
    "name": "ipython",
    "version": 3
   },
   "file_extension": ".py",
   "mimetype": "text/x-python",
   "name": "python",
   "nbconvert_exporter": "python",
   "pygments_lexer": "ipython3",
   "version": "3.6.3"
  }
 },
 "nbformat": 4,
 "nbformat_minor": 2
}
