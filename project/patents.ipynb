{
 "cells": [
  {
   "cell_type": "code",
   "execution_count": 1,
   "metadata": {
    "collapsed": true
   },
   "outputs": [],
   "source": [
    "%matplotlib inline"
   ]
  },
  {
   "cell_type": "code",
   "execution_count": 91,
   "metadata": {
    "collapsed": true
   },
   "outputs": [],
   "source": [
    "import pandas as pd\n",
    "import numpy as np\n",
    "\n",
    "import matplotlib.pyplot as plt\n",
    "import seaborn as sns\n",
    "\n",
    "from graph_tool.all import *"
   ]
  },
  {
   "cell_type": "code",
   "execution_count": 94,
   "metadata": {
    "collapsed": true
   },
   "outputs": [],
   "source": [
    "plt.rcParams['figure.figsize'] = (16.0, 9.0)\n",
    "sns.set_palette('deep')\n",
    "sns.set()"
   ]
  },
  {
   "cell_type": "code",
   "execution_count": 4,
   "metadata": {
    "collapsed": true
   },
   "outputs": [],
   "source": [
    "DATA = './data/'"
   ]
  },
  {
   "cell_type": "markdown",
   "metadata": {},
   "source": [
    "# 1. Introduction to Patents\n",
    "<img src=\"./data/patent_seal.png\" alt=\"Drawing\" style=\"width: 200px;\"/>\n",
    "\n",
    "The data used in this project is provided by the [patentsview.org](‘http://www.patentsview.org') website of the United States Patent and Trademark Office ([USPTO](‘https://www.uspto.gov/')). \n",
    "\n",
    "The USTPO defines a patent as a property right granted by the Government of the United States of America to an inventor \"to exclude others from making, using, offering for sale, or selling the invention throughout the United States or importing the invention into the United States\" for a limited time in exchange for public disclosure of the invention when the patent is granted.\n",
    "\n",
    "On their [getting started webpage](‘https://www.uspto.gov/patents-getting-started/general-information-concerning-patents') the USTPO states, that there are three types of patents:\n",
    "\n",
    "\n",
    "- Utility patents may be granted to anyone who invents or discovers any new and useful process, machine, article of manufacture, or composition of matter, or any new and useful improvement thereof;\n",
    "\n",
    "\n",
    "-  Design patents may be granted to anyone who invents a new, original, and ornamental design for an article of manufacture;\n",
    "\n",
    "\n",
    "-  Plant patents may be granted to anyone who invents or discovers and asexually reproduces any distinct and new variety of plant.\n",
    "\n",
    "\n",
    "In this project we wish to investigate patents related to technology, which led to the decision of dropping all data concerning plant patents, leaving us, after further cleaning explained below, with a graph built of roughly 90 million edges.\n",
    "\n",
    "\n",
    "There are two main stages in the process of receiving a granted patent for an invention. First a patent application needs to be filed. If the application meets the filing requirements it is awarded with a filing date and an application number. Once a filing date is assigned, the claimed invention is officially “patent pending”. In the next stage a patent examiner is assigned, who is responsible for reviewing the application. This is a lengthy process and can span multiple years. When the USTPO determines a patent application is patentable, it assigns a patent number and issues the patent. \n",
    "This is the number we use throughout this project.\n",
    "\n",
    "In addition to patents view we also consult the [google patents database](‘https://patents.google.com/') during this project, which provides lengthier textual descriptions and original images of individual patents."
   ]
  },
  {
   "cell_type": "markdown",
   "metadata": {},
   "source": [
    "# 2. Data Sighting, Preparation and Preliminary Analysis\n",
    "\n",
    "The USTPO provides all relevant patent data starting from 1976 to the current year in tab-separated files.<br>\n",
    "For the rest of this notebook we focused our efforts on the following data sets.\n",
    " - Citations\n",
    " - General patent data\n",
    " - Categories and category mapping"
   ]
  },
  {
   "cell_type": "markdown",
   "metadata": {},
   "source": [
    "## 2.1 Sighting"
   ]
  },
  {
   "cell_type": "markdown",
   "metadata": {},
   "source": [
    "### Citations\n",
    "\n",
    "The citations sheet is the core data set of our project. It provides the base of our graph and is by far the biggest file in our collection at almost 8 gigabytes. The raw file is a bit noisy and contains some less relevant columns. In detail:\n",
    " - **uuid**: Unique citation identifier chosen by PatentView for disambiguiation.\n",
    " - **patent_id**: USPTO identifier of citing patent\n",
    " - **citation_id**: USPTO identifier of cited patent\n",
    " - **date**: Grant date of cited patent\n",
    " - **name**: Filer of cited patent\n",
    " - **kind**: Type or examination status of cited patent. Details be looked up [here](http://www.patentsview.org/api/glossary.html).\n",
    " - **country**: Always US.\n",
    " - **category**: Who filed the citation (applicant or examiner).\n",
    " - **sequence**: Sequence of publication (first, second etc.)."
   ]
  },
  {
   "cell_type": "code",
   "execution_count": 7,
   "metadata": {},
   "outputs": [
    {
     "data": {
      "text/html": [
       "<div>\n",
       "<style scoped>\n",
       "    .dataframe tbody tr th:only-of-type {\n",
       "        vertical-align: middle;\n",
       "    }\n",
       "\n",
       "    .dataframe tbody tr th {\n",
       "        vertical-align: top;\n",
       "    }\n",
       "\n",
       "    .dataframe thead th {\n",
       "        text-align: right;\n",
       "    }\n",
       "</style>\n",
       "<table border=\"1\" class=\"dataframe\">\n",
       "  <thead>\n",
       "    <tr style=\"text-align: right;\">\n",
       "      <th></th>\n",
       "      <th>uuid</th>\n",
       "      <th>patent_id</th>\n",
       "      <th>citation_id</th>\n",
       "      <th>date</th>\n",
       "      <th>name</th>\n",
       "      <th>kind</th>\n",
       "      <th>country</th>\n",
       "      <th>category</th>\n",
       "      <th>sequence</th>\n",
       "    </tr>\n",
       "  </thead>\n",
       "  <tbody>\n",
       "    <tr>\n",
       "      <th>0</th>\n",
       "      <td>000007b7c0x3n9iy1othb9hz7</td>\n",
       "      <td>9009250</td>\n",
       "      <td>8127342</td>\n",
       "      <td>2012-02-01</td>\n",
       "      <td>Boynton et al.</td>\n",
       "      <td>B2</td>\n",
       "      <td>US</td>\n",
       "      <td>cited by applicant</td>\n",
       "      <td>622</td>\n",
       "    </tr>\n",
       "    <tr>\n",
       "      <th>1</th>\n",
       "      <td>000007obbnxmqc6v43t1c00dw</td>\n",
       "      <td>9643605</td>\n",
       "      <td>5471515</td>\n",
       "      <td>1995-11-01</td>\n",
       "      <td>Fossum et al.</td>\n",
       "      <td>A</td>\n",
       "      <td>US</td>\n",
       "      <td>cited by applicant</td>\n",
       "      <td>413</td>\n",
       "    </tr>\n",
       "    <tr>\n",
       "      <th>2</th>\n",
       "      <td>00000jd7thmiucpaol1hm1835</td>\n",
       "      <td>5354551</td>\n",
       "      <td>4875247</td>\n",
       "      <td>1989-10-01</td>\n",
       "      <td>Berg</td>\n",
       "      <td>NaN</td>\n",
       "      <td>US</td>\n",
       "      <td>NaN</td>\n",
       "      <td>11</td>\n",
       "    </tr>\n",
       "    <tr>\n",
       "      <th>3</th>\n",
       "      <td>00000oohcwply47niwhm5i42l</td>\n",
       "      <td>D786922</td>\n",
       "      <td>D718330</td>\n",
       "      <td>2014-11-01</td>\n",
       "      <td>Shin</td>\n",
       "      <td>S</td>\n",
       "      <td>US</td>\n",
       "      <td>cited by examiner</td>\n",
       "      <td>11</td>\n",
       "    </tr>\n",
       "    <tr>\n",
       "      <th>4</th>\n",
       "      <td>00002ghv7v87txbmryocp9i60</td>\n",
       "      <td>D490798</td>\n",
       "      <td>D190749</td>\n",
       "      <td>1961-06-01</td>\n",
       "      <td>Matri et al.</td>\n",
       "      <td>S</td>\n",
       "      <td>US</td>\n",
       "      <td>cited by examiner</td>\n",
       "      <td>1</td>\n",
       "    </tr>\n",
       "  </tbody>\n",
       "</table>\n",
       "</div>"
      ],
      "text/plain": [
       "                        uuid patent_id citation_id        date  \\\n",
       "0  000007b7c0x3n9iy1othb9hz7   9009250     8127342  2012-02-01   \n",
       "1  000007obbnxmqc6v43t1c00dw   9643605     5471515  1995-11-01   \n",
       "2  00000jd7thmiucpaol1hm1835   5354551     4875247  1989-10-01   \n",
       "3  00000oohcwply47niwhm5i42l   D786922     D718330  2014-11-01   \n",
       "4  00002ghv7v87txbmryocp9i60   D490798     D190749  1961-06-01   \n",
       "\n",
       "             name kind country            category  sequence  \n",
       "0  Boynton et al.   B2      US  cited by applicant       622  \n",
       "1   Fossum et al.    A      US  cited by applicant       413  \n",
       "2            Berg  NaN      US                 NaN        11  \n",
       "3            Shin    S      US   cited by examiner        11  \n",
       "4    Matri et al.    S      US   cited by examiner         1  "
      ]
     },
     "execution_count": 7,
     "metadata": {},
     "output_type": "execute_result"
    }
   ],
   "source": [
    "pd.read_csv(DATA + 'citations_raw.tsv', delimiter='\\t', nrows=5)"
   ]
  },
  {
   "cell_type": "markdown",
   "metadata": {},
   "source": [
    "### Patents\n",
    "\n",
    "The patents data sheet contains general (e.g. title, date, abstract etc.) information about all granted patents starting from 1976 to 2017. The attributes are mostly congruent to the citations data frame."
   ]
  },
  {
   "cell_type": "code",
   "execution_count": 8,
   "metadata": {},
   "outputs": [
    {
     "data": {
      "text/html": [
       "<div>\n",
       "<style scoped>\n",
       "    .dataframe tbody tr th:only-of-type {\n",
       "        vertical-align: middle;\n",
       "    }\n",
       "\n",
       "    .dataframe tbody tr th {\n",
       "        vertical-align: top;\n",
       "    }\n",
       "\n",
       "    .dataframe thead th {\n",
       "        text-align: right;\n",
       "    }\n",
       "</style>\n",
       "<table border=\"1\" class=\"dataframe\">\n",
       "  <thead>\n",
       "    <tr style=\"text-align: right;\">\n",
       "      <th></th>\n",
       "      <th>id</th>\n",
       "      <th>type</th>\n",
       "      <th>number</th>\n",
       "      <th>country</th>\n",
       "      <th>date</th>\n",
       "      <th>abstract</th>\n",
       "      <th>title</th>\n",
       "      <th>kind</th>\n",
       "      <th>num_claims</th>\n",
       "      <th>filename</th>\n",
       "    </tr>\n",
       "  </thead>\n",
       "  <tbody>\n",
       "    <tr>\n",
       "      <th>0</th>\n",
       "      <td>3930271</td>\n",
       "      <td>utility</td>\n",
       "      <td>3930271</td>\n",
       "      <td>US</td>\n",
       "      <td>1976-01-06</td>\n",
       "      <td>A golf glove is disclosed having an extra fin...</td>\n",
       "      <td>Golf glove</td>\n",
       "      <td>A</td>\n",
       "      <td>4</td>\n",
       "      <td>pftaps19760106_wk01.zip</td>\n",
       "    </tr>\n",
       "    <tr>\n",
       "      <th>1</th>\n",
       "      <td>3930272</td>\n",
       "      <td>utility</td>\n",
       "      <td>3930272</td>\n",
       "      <td>US</td>\n",
       "      <td>1976-01-06</td>\n",
       "      <td>A lock for a height-adjustable crib or plaype...</td>\n",
       "      <td>Crib leg lock</td>\n",
       "      <td>A</td>\n",
       "      <td>3</td>\n",
       "      <td>pftaps19760106_wk01.zip</td>\n",
       "    </tr>\n",
       "    <tr>\n",
       "      <th>2</th>\n",
       "      <td>3930273</td>\n",
       "      <td>utility</td>\n",
       "      <td>3930273</td>\n",
       "      <td>US</td>\n",
       "      <td>1976-01-06</td>\n",
       "      <td>A bed safety side rail arrangement which incl...</td>\n",
       "      <td>Bed safety side rail arrangement</td>\n",
       "      <td>A</td>\n",
       "      <td>24</td>\n",
       "      <td>pftaps19760106_wk01.zip</td>\n",
       "    </tr>\n",
       "    <tr>\n",
       "      <th>3</th>\n",
       "      <td>3930274</td>\n",
       "      <td>utility</td>\n",
       "      <td>3930274</td>\n",
       "      <td>US</td>\n",
       "      <td>1976-01-06</td>\n",
       "      <td>The assembly includes a longitudinal axis and...</td>\n",
       "      <td>Assembly for use in recreational activities</td>\n",
       "      <td>A</td>\n",
       "      <td>7</td>\n",
       "      <td>pftaps19760106_wk01.zip</td>\n",
       "    </tr>\n",
       "    <tr>\n",
       "      <th>4</th>\n",
       "      <td>3930275</td>\n",
       "      <td>utility</td>\n",
       "      <td>3930275</td>\n",
       "      <td>US</td>\n",
       "      <td>1976-01-06</td>\n",
       "      <td>A novel slipper and its method of fabrication...</td>\n",
       "      <td>Method of fabricating a slipper</td>\n",
       "      <td>A</td>\n",
       "      <td>9</td>\n",
       "      <td>pftaps19760106_wk01.zip</td>\n",
       "    </tr>\n",
       "  </tbody>\n",
       "</table>\n",
       "</div>"
      ],
      "text/plain": [
       "        id     type   number country        date  \\\n",
       "0  3930271  utility  3930271      US  1976-01-06   \n",
       "1  3930272  utility  3930272      US  1976-01-06   \n",
       "2  3930273  utility  3930273      US  1976-01-06   \n",
       "3  3930274  utility  3930274      US  1976-01-06   \n",
       "4  3930275  utility  3930275      US  1976-01-06   \n",
       "\n",
       "                                            abstract  \\\n",
       "0   A golf glove is disclosed having an extra fin...   \n",
       "1   A lock for a height-adjustable crib or plaype...   \n",
       "2   A bed safety side rail arrangement which incl...   \n",
       "3   The assembly includes a longitudinal axis and...   \n",
       "4   A novel slipper and its method of fabrication...   \n",
       "\n",
       "                                         title kind  num_claims  \\\n",
       "0                                   Golf glove    A           4   \n",
       "1                                Crib leg lock    A           3   \n",
       "2             Bed safety side rail arrangement    A          24   \n",
       "3  Assembly for use in recreational activities    A           7   \n",
       "4              Method of fabricating a slipper    A           9   \n",
       "\n",
       "                  filename  \n",
       "0  pftaps19760106_wk01.zip  \n",
       "1  pftaps19760106_wk01.zip  \n",
       "2  pftaps19760106_wk01.zip  \n",
       "3  pftaps19760106_wk01.zip  \n",
       "4  pftaps19760106_wk01.zip  "
      ]
     },
     "execution_count": 8,
     "metadata": {},
     "output_type": "execute_result"
    }
   ],
   "source": [
    "pd.read_csv(DATA + 'patents_raw.tsv', delimiter='\\t', nrows=5)"
   ]
  },
  {
   "cell_type": "markdown",
   "metadata": {},
   "source": [
    "### Categories\n",
    "\n",
    "The USPTO distinguishes 6 principal categories by which patents can be labeled. Each category is identified by an unique integer."
   ]
  },
  {
   "cell_type": "code",
   "execution_count": 411,
   "metadata": {},
   "outputs": [
    {
     "data": {
      "text/html": [
       "<div>\n",
       "<style scoped>\n",
       "    .dataframe tbody tr th:only-of-type {\n",
       "        vertical-align: middle;\n",
       "    }\n",
       "\n",
       "    .dataframe tbody tr th {\n",
       "        vertical-align: top;\n",
       "    }\n",
       "\n",
       "    .dataframe thead th {\n",
       "        text-align: right;\n",
       "    }\n",
       "</style>\n",
       "<table border=\"1\" class=\"dataframe\">\n",
       "  <thead>\n",
       "    <tr style=\"text-align: right;\">\n",
       "      <th></th>\n",
       "      <th>title</th>\n",
       "    </tr>\n",
       "    <tr>\n",
       "      <th>id</th>\n",
       "      <th></th>\n",
       "    </tr>\n",
       "  </thead>\n",
       "  <tbody>\n",
       "    <tr>\n",
       "      <th>1</th>\n",
       "      <td>Chemical</td>\n",
       "    </tr>\n",
       "    <tr>\n",
       "      <th>2</th>\n",
       "      <td>Cmp&amp;Cmm</td>\n",
       "    </tr>\n",
       "    <tr>\n",
       "      <th>3</th>\n",
       "      <td>Drgs&amp;Med</td>\n",
       "    </tr>\n",
       "    <tr>\n",
       "      <th>4</th>\n",
       "      <td>Elec</td>\n",
       "    </tr>\n",
       "    <tr>\n",
       "      <th>5</th>\n",
       "      <td>Mech</td>\n",
       "    </tr>\n",
       "    <tr>\n",
       "      <th>6</th>\n",
       "      <td>Others</td>\n",
       "    </tr>\n",
       "  </tbody>\n",
       "</table>\n",
       "</div>"
      ],
      "text/plain": [
       "       title\n",
       "id          \n",
       "1   Chemical\n",
       "2    Cmp&Cmm\n",
       "3   Drgs&Med\n",
       "4       Elec\n",
       "5       Mech\n",
       "6     Others"
      ]
     },
     "execution_count": 411,
     "metadata": {},
     "output_type": "execute_result"
    }
   ],
   "source": [
    "category_raw = pd.read_csv(DATA + 'categories_raw.tsv', delimiter='\\t', index_col=0)\n",
    "category_raw"
   ]
  },
  {
   "cell_type": "markdown",
   "metadata": {},
   "source": [
    "Each category is then further divided into subcategories again labeled by an unique integer."
   ]
  },
  {
   "cell_type": "code",
   "execution_count": 404,
   "metadata": {},
   "outputs": [
    {
     "data": {
      "text/html": [
       "<div>\n",
       "<style scoped>\n",
       "    .dataframe tbody tr th:only-of-type {\n",
       "        vertical-align: middle;\n",
       "    }\n",
       "\n",
       "    .dataframe tbody tr th {\n",
       "        vertical-align: top;\n",
       "    }\n",
       "\n",
       "    .dataframe thead th {\n",
       "        text-align: right;\n",
       "    }\n",
       "</style>\n",
       "<table border=\"1\" class=\"dataframe\">\n",
       "  <thead>\n",
       "    <tr style=\"text-align: right;\">\n",
       "      <th></th>\n",
       "      <th>title</th>\n",
       "    </tr>\n",
       "    <tr>\n",
       "      <th>id</th>\n",
       "      <th></th>\n",
       "    </tr>\n",
       "  </thead>\n",
       "  <tbody>\n",
       "    <tr>\n",
       "      <th>11</th>\n",
       "      <td>Agriculture,Food,Textiles</td>\n",
       "    </tr>\n",
       "    <tr>\n",
       "      <th>12</th>\n",
       "      <td>Coating</td>\n",
       "    </tr>\n",
       "    <tr>\n",
       "      <th>13</th>\n",
       "      <td>Gas</td>\n",
       "    </tr>\n",
       "    <tr>\n",
       "      <th>14</th>\n",
       "      <td>Organic Compounds</td>\n",
       "    </tr>\n",
       "    <tr>\n",
       "      <th>15</th>\n",
       "      <td>Resins</td>\n",
       "    </tr>\n",
       "  </tbody>\n",
       "</table>\n",
       "</div>"
      ],
      "text/plain": [
       "                        title\n",
       "id                           \n",
       "11  Agriculture,Food,Textiles\n",
       "12                    Coating\n",
       "13                        Gas\n",
       "14          Organic Compounds\n",
       "15                     Resins"
      ]
     },
     "execution_count": 404,
     "metadata": {},
     "output_type": "execute_result"
    }
   ],
   "source": [
    "subcategory_raw = pd.read_csv(DATA + 'subcategories_raw.tsv', delimiter='\\t', index_col=0)\n",
    "subcategory_raw.head()"
   ]
  },
  {
   "cell_type": "markdown",
   "metadata": {},
   "source": [
    "#### Category map"
   ]
  },
  {
   "cell_type": "code",
   "execution_count": 11,
   "metadata": {},
   "outputs": [
    {
     "data": {
      "text/html": [
       "<div>\n",
       "<style scoped>\n",
       "    .dataframe tbody tr th:only-of-type {\n",
       "        vertical-align: middle;\n",
       "    }\n",
       "\n",
       "    .dataframe tbody tr th {\n",
       "        vertical-align: top;\n",
       "    }\n",
       "\n",
       "    .dataframe thead th {\n",
       "        text-align: right;\n",
       "    }\n",
       "</style>\n",
       "<table border=\"1\" class=\"dataframe\">\n",
       "  <thead>\n",
       "    <tr style=\"text-align: right;\">\n",
       "      <th></th>\n",
       "      <th>uuid</th>\n",
       "      <th>patent_id</th>\n",
       "      <th>category_id</th>\n",
       "      <th>subcategory_id</th>\n",
       "    </tr>\n",
       "  </thead>\n",
       "  <tbody>\n",
       "    <tr>\n",
       "      <th>0</th>\n",
       "      <td>000114qfli99qqd9fsbxichy1</td>\n",
       "      <td>6243839</td>\n",
       "      <td>2</td>\n",
       "      <td>22</td>\n",
       "    </tr>\n",
       "    <tr>\n",
       "      <th>1</th>\n",
       "      <td>0001jsdl1xi7z84rzx9iwvdlh</td>\n",
       "      <td>4646100</td>\n",
       "      <td>2</td>\n",
       "      <td>21</td>\n",
       "    </tr>\n",
       "    <tr>\n",
       "      <th>2</th>\n",
       "      <td>0001qpsb0yts8daudtuf3mbm8</td>\n",
       "      <td>7712627</td>\n",
       "      <td>6</td>\n",
       "      <td>68</td>\n",
       "    </tr>\n",
       "    <tr>\n",
       "      <th>3</th>\n",
       "      <td>0001uc68swzzsbefc8eqhc7rg</td>\n",
       "      <td>5647223</td>\n",
       "      <td>6</td>\n",
       "      <td>69</td>\n",
       "    </tr>\n",
       "    <tr>\n",
       "      <th>4</th>\n",
       "      <td>0001y577lvjg6hwl6e36f46fs</td>\n",
       "      <td>5110393</td>\n",
       "      <td>1</td>\n",
       "      <td>19</td>\n",
       "    </tr>\n",
       "  </tbody>\n",
       "</table>\n",
       "</div>"
      ],
      "text/plain": [
       "                        uuid  patent_id  category_id  subcategory_id\n",
       "0  000114qfli99qqd9fsbxichy1    6243839            2              22\n",
       "1  0001jsdl1xi7z84rzx9iwvdlh    4646100            2              21\n",
       "2  0001qpsb0yts8daudtuf3mbm8    7712627            6              68\n",
       "3  0001uc68swzzsbefc8eqhc7rg    5647223            6              69\n",
       "4  0001y577lvjg6hwl6e36f46fs    5110393            1              19"
      ]
     },
     "execution_count": 11,
     "metadata": {},
     "output_type": "execute_result"
    }
   ],
   "source": [
    "pd.read_csv(DATA + 'categorymap_raw.tsv', delimiter='\\t', nrows=5)"
   ]
  },
  {
   "cell_type": "markdown",
   "metadata": {},
   "source": [
    "## 2.2 Preprocessing \n",
    "\n",
    "Both the patents and citations data sheets are several gigabytes large tab-separated files and the categorymap\n",
    "clocks in at about 200MB.\n",
    "As a first step in the cleaning pipeline we resorted to preprocessing via the command line in order to\n",
    "reduce the size of the files by extracting only the relevant columns.\n",
    "\n",
    "More specifically, the coreutil [awk](https://www.gnu.org/software/gawk/manual/gawk.html) is a handy stream\n",
    "processing language through which a tab-separated file can be read line by line, processed and written to\n",
    "a new file, preferably a comma-separated one.\n",
    "\n",
    "#### Example\n",
    "\n",
    "```shell\n",
    "echo 'Alice\\tBob\\tEve' | awk -F '\\t' '{ print $1\",\"$3 }' > alice_eve.csv\n",
    "cat alice_eve.csv # Alice,Eve\n",
    "```\n",
    "\n",
    "In our case we extract from the above citations_raw.tsv file the patent_id and citation_id columns, from the\n",
    "patents_raw.tsv the id and data columns, and from the categorymap.tsv the patent_id and subcategory_id columns.\n",
    "\n",
    "In terms of filesize reduction we get the following improvements:\n",
    " - citations_raw.tsv **7.71GB** to **1.45GB** (~81% reduction)\n",
    " - patents_raw.tsv **4.9GB** to **121MB** (~97% reduction)\n",
    " - categorymap_raw.tsv **204.2MB** to **61.3MB** (~70% reduction)"
   ]
  },
  {
   "cell_type": "markdown",
   "metadata": {},
   "source": [
    "## 2.3 Processing"
   ]
  },
  {
   "cell_type": "markdown",
   "metadata": {},
   "source": [
    "### Citations"
   ]
  },
  {
   "cell_type": "code",
   "execution_count": 12,
   "metadata": {
    "collapsed": true
   },
   "outputs": [],
   "source": [
    "citations = pd.read_csv(DATA + 'citations.csv')"
   ]
  },
  {
   "cell_type": "code",
   "execution_count": null,
   "metadata": {},
   "outputs": [
    {
     "data": {
      "text/plain": [
       "(89122312, 2)"
      ]
     },
     "execution_count": 13,
     "metadata": {},
     "output_type": "execute_result"
    }
   ],
   "source": [
    "citations.shape"
   ]
  },
  {
   "cell_type": "markdown",
   "metadata": {},
   "source": [
    "Here, the goal lies in further reducing the rows of the data. In the first step we apply the following operations:\n",
    " - Exclude all rows containing NANs.\n",
    " - Only keep rows with regular patents (number) and designs ('D' + number).\n",
    " - Only keep cited patents between 1790 ([first patent](https://www.uspto.gov/about-us/news-updates/first-us-patent-issued-today-1790)) and 2017.\n",
    " - Strip all residual whitespaces."
   ]
  },
  {
   "cell_type": "code",
   "execution_count": null,
   "metadata": {
    "collapsed": true
   },
   "outputs": [],
   "source": [
    "citations.dropna(inplace=True)\n",
    "\n",
    "citations['patent_id'] = citations.patent_id.str.strip()\n",
    "citations = citations[citations.patent_id.str.match(r'([D]\\d+$)|(^\\d+$)')]\n",
    "\n",
    "citations['citation_id'] = citations.citation_id.str.strip()\n",
    "citations = citations[citations.citation_id.str.match(r'([D]\\d+$)|(^\\d+$)')]"
   ]
  },
  {
   "cell_type": "code",
   "execution_count": null,
   "metadata": {
    "collapsed": true
   },
   "outputs": [],
   "source": [
    "citations.shape"
   ]
  },
  {
   "cell_type": "markdown",
   "metadata": {},
   "source": [
    "Since all the patent IDs are now in a valid hexadecimal format we can, to further decrease the size, map them\n",
    "injectively to 32-bit integers.\n",
    "\n",
    "**Example**\n",
    "```python\n",
    "int('D12', 16) = 3346\n",
    "'{0:0X}'.format(3346) = 'D12'\n",
    "```"
   ]
  },
  {
   "cell_type": "code",
   "execution_count": null,
   "metadata": {
    "collapsed": true
   },
   "outputs": [],
   "source": [
    "citations['patent_id'] = np.array(list(map(lambda i: int(i, 16), citations.patent_id)), dtype=np.int32)\n",
    "citations['citation_id'] = np.array(list(map(lambda i: int(i, 16), citations.citation_id)), dtype=np.int32)"
   ]
  },
  {
   "cell_type": "code",
   "execution_count": null,
   "metadata": {
    "collapsed": true
   },
   "outputs": [],
   "source": [
    "citations.head()"
   ]
  },
  {
   "cell_type": "markdown",
   "metadata": {},
   "source": [
    "This processed citations dataframe gets saved as a csv file, which allows us to load and work directly with the processed dataframe in the future."
   ]
  },
  {
   "cell_type": "code",
   "execution_count": 41,
   "metadata": {
    "collapsed": true
   },
   "outputs": [],
   "source": [
    "citations.to_csv(DATA + 'citations_processed.csv', index=False)"
   ]
  },
  {
   "cell_type": "markdown",
   "metadata": {},
   "source": [
    "## Patents"
   ]
  },
  {
   "cell_type": "code",
   "execution_count": 33,
   "metadata": {
    "collapsed": true
   },
   "outputs": [],
   "source": [
    "patents = pd.read_csv(DATA + 'patents.csv', dtype={'number': 'str'})"
   ]
  },
  {
   "cell_type": "code",
   "execution_count": 34,
   "metadata": {},
   "outputs": [
    {
     "data": {
      "text/plain": [
       "(6366670, 2)"
      ]
     },
     "execution_count": 34,
     "metadata": {},
     "output_type": "execute_result"
    }
   ],
   "source": [
    "patents.shape"
   ]
  },
  {
   "cell_type": "markdown",
   "metadata": {},
   "source": [
    "The patents data frame is processed in a very similar way. After excluding all the NANs we again map the hexadecimal patent IDs to an 32-bit integer only keeping regular and design patents."
   ]
  },
  {
   "cell_type": "code",
   "execution_count": 35,
   "metadata": {
    "collapsed": true
   },
   "outputs": [],
   "source": [
    "patents.dropna(inplace=True)\n",
    "\n",
    "patents = patents[patents.number.str.match(r'([D]\\d+$)|(^\\d+$)')]\n",
    "patents['number'] = np.array(list(map(lambda i: int(i, 16), patents.number)), dtype=np.int32)"
   ]
  },
  {
   "cell_type": "code",
   "execution_count": 36,
   "metadata": {},
   "outputs": [
    {
     "data": {
      "text/plain": [
       "(6322011, 2)"
      ]
     },
     "execution_count": 36,
     "metadata": {},
     "output_type": "execute_result"
    }
   ],
   "source": [
    "patents.shape"
   ]
  },
  {
   "cell_type": "code",
   "execution_count": 37,
   "metadata": {},
   "outputs": [
    {
     "data": {
      "text/html": [
       "<div>\n",
       "<style scoped>\n",
       "    .dataframe tbody tr th:only-of-type {\n",
       "        vertical-align: middle;\n",
       "    }\n",
       "\n",
       "    .dataframe tbody tr th {\n",
       "        vertical-align: top;\n",
       "    }\n",
       "\n",
       "    .dataframe thead th {\n",
       "        text-align: right;\n",
       "    }\n",
       "</style>\n",
       "<table border=\"1\" class=\"dataframe\">\n",
       "  <thead>\n",
       "    <tr style=\"text-align: right;\">\n",
       "      <th></th>\n",
       "      <th>number</th>\n",
       "      <th>date</th>\n",
       "    </tr>\n",
       "  </thead>\n",
       "  <tbody>\n",
       "    <tr>\n",
       "      <th>0</th>\n",
       "      <td>59966065</td>\n",
       "      <td>1976-01-06</td>\n",
       "    </tr>\n",
       "    <tr>\n",
       "      <th>1</th>\n",
       "      <td>59966066</td>\n",
       "      <td>1976-01-06</td>\n",
       "    </tr>\n",
       "    <tr>\n",
       "      <th>2</th>\n",
       "      <td>59966067</td>\n",
       "      <td>1976-01-06</td>\n",
       "    </tr>\n",
       "    <tr>\n",
       "      <th>3</th>\n",
       "      <td>59966068</td>\n",
       "      <td>1976-01-06</td>\n",
       "    </tr>\n",
       "    <tr>\n",
       "      <th>4</th>\n",
       "      <td>59966069</td>\n",
       "      <td>1976-01-06</td>\n",
       "    </tr>\n",
       "  </tbody>\n",
       "</table>\n",
       "</div>"
      ],
      "text/plain": [
       "     number        date\n",
       "0  59966065  1976-01-06\n",
       "1  59966066  1976-01-06\n",
       "2  59966067  1976-01-06\n",
       "3  59966068  1976-01-06\n",
       "4  59966069  1976-01-06"
      ]
     },
     "execution_count": 37,
     "metadata": {},
     "output_type": "execute_result"
    }
   ],
   "source": [
    "patents.head()"
   ]
  },
  {
   "cell_type": "markdown",
   "metadata": {},
   "source": [
    "Again we save the processed data frame into a new file."
   ]
  },
  {
   "cell_type": "code",
   "execution_count": 8,
   "metadata": {
    "collapsed": true
   },
   "outputs": [],
   "source": [
    "patents.to_csv(DATA + 'patents_processed.csv', index=False)"
   ]
  },
  {
   "cell_type": "markdown",
   "metadata": {},
   "source": [
    "## Categories"
   ]
  },
  {
   "cell_type": "code",
   "execution_count": 484,
   "metadata": {
    "collapsed": true
   },
   "outputs": [],
   "source": [
    "categorymap = pd.read_csv(DATA + 'categorymap.csv', dtype={'category_id': np.int16, 'subcategory_id': np.int16})"
   ]
  },
  {
   "cell_type": "code",
   "execution_count": 485,
   "metadata": {},
   "outputs": [
    {
     "data": {
      "text/plain": [
       "(5105937, 3)"
      ]
     },
     "execution_count": 485,
     "metadata": {},
     "output_type": "execute_result"
    }
   ],
   "source": [
    "categorymap.shape"
   ]
  },
  {
   "cell_type": "markdown",
   "metadata": {},
   "source": [
    "The same cleaning procedures also apply to the category map data frame. The category and subcategory dataframes are already in the correct format."
   ]
  },
  {
   "cell_type": "code",
   "execution_count": 486,
   "metadata": {
    "collapsed": true
   },
   "outputs": [],
   "source": [
    "categorymap.dropna(inplace=True)\n",
    "\n",
    "categorymap = categorymap[categorymap.patent_id.str.match(r'([D]\\d+$)|(^\\d+$)')]\n",
    "categorymap['patent_id'] = np.array(list(map(lambda i: int(i, 16), categorymap.patent_id)), dtype=np.int32)"
   ]
  },
  {
   "cell_type": "code",
   "execution_count": 487,
   "metadata": {},
   "outputs": [
    {
     "data": {
      "text/plain": [
       "(5088595, 3)"
      ]
     },
     "execution_count": 487,
     "metadata": {},
     "output_type": "execute_result"
    }
   ],
   "source": [
    "categorymap.shape"
   ]
  },
  {
   "cell_type": "markdown",
   "metadata": {},
   "source": [
    "Replace category and subcategory IDs with string value from category_raw and subcategory_raw."
   ]
  },
  {
   "cell_type": "code",
   "execution_count": 488,
   "metadata": {},
   "outputs": [
    {
     "data": {
      "text/html": [
       "<div>\n",
       "<style scoped>\n",
       "    .dataframe tbody tr th:only-of-type {\n",
       "        vertical-align: middle;\n",
       "    }\n",
       "\n",
       "    .dataframe tbody tr th {\n",
       "        vertical-align: top;\n",
       "    }\n",
       "\n",
       "    .dataframe thead th {\n",
       "        text-align: right;\n",
       "    }\n",
       "</style>\n",
       "<table border=\"1\" class=\"dataframe\">\n",
       "  <thead>\n",
       "    <tr style=\"text-align: right;\">\n",
       "      <th></th>\n",
       "      <th>patent_id</th>\n",
       "      <th>category</th>\n",
       "      <th>subcategory</th>\n",
       "    </tr>\n",
       "  </thead>\n",
       "  <tbody>\n",
       "    <tr>\n",
       "      <th>0</th>\n",
       "      <td>103036985</td>\n",
       "      <td>Cmp&amp;Cmm</td>\n",
       "      <td>Computer Hardware &amp; Software</td>\n",
       "    </tr>\n",
       "    <tr>\n",
       "      <th>1</th>\n",
       "      <td>127162233</td>\n",
       "      <td>Cmp&amp;Cmm</td>\n",
       "      <td>Computer Hardware &amp; Software</td>\n",
       "    </tr>\n",
       "    <tr>\n",
       "      <th>2</th>\n",
       "      <td>110466048</td>\n",
       "      <td>Cmp&amp;Cmm</td>\n",
       "      <td>Computer Hardware &amp; Software</td>\n",
       "    </tr>\n",
       "    <tr>\n",
       "      <th>3</th>\n",
       "      <td>101094949</td>\n",
       "      <td>Cmp&amp;Cmm</td>\n",
       "      <td>Computer Hardware &amp; Software</td>\n",
       "    </tr>\n",
       "    <tr>\n",
       "      <th>4</th>\n",
       "      <td>106497412</td>\n",
       "      <td>Cmp&amp;Cmm</td>\n",
       "      <td>Computer Hardware &amp; Software</td>\n",
       "    </tr>\n",
       "  </tbody>\n",
       "</table>\n",
       "</div>"
      ],
      "text/plain": [
       "   patent_id category                   subcategory\n",
       "0  103036985  Cmp&Cmm  Computer Hardware & Software\n",
       "1  127162233  Cmp&Cmm  Computer Hardware & Software\n",
       "2  110466048  Cmp&Cmm  Computer Hardware & Software\n",
       "3  101094949  Cmp&Cmm  Computer Hardware & Software\n",
       "4  106497412  Cmp&Cmm  Computer Hardware & Software"
      ]
     },
     "execution_count": 488,
     "metadata": {},
     "output_type": "execute_result"
    }
   ],
   "source": [
    "categorymap = pd.merge(categorymap, category_raw.reset_index(), left_on='category_id', right_on='id', how='inner')\n",
    "categorymap = pd.merge(categorymap, subcategory_raw.reset_index(), left_on='subcategory_id', right_on='id', how='inner')\n",
    "\n",
    "categorymap = categorymap.drop(['category_id', 'subcategory_id', 'id_x', 'id_y', 'index'], axis=1)\n",
    "categorymap = categorymap.rename(columns={'title_x': 'category', 'title_y': 'subcategory'})\n",
    "categorymap.head()"
   ]
  },
  {
   "cell_type": "markdown",
   "metadata": {},
   "source": [
    "**Note**: We have more than six million patents but only around five million of them are categorized."
   ]
  },
  {
   "cell_type": "code",
   "execution_count": 490,
   "metadata": {
    "collapsed": true
   },
   "outputs": [],
   "source": [
    "categorymap.to_csv(DATA + 'categorymap_processed.csv', index=False)"
   ]
  },
  {
   "cell_type": "markdown",
   "metadata": {},
   "source": [
    "## 3. Preliminary Statistics\n",
    "\n",
    "In this chapter some indicator plots and numbers concerning the prepared data frames are plotted. We note a few particularities:\n",
    " - The number of patent grants has been rising constantly since the inception of the program in 1976.\n",
    " - There is no particular month or day when more or less patents are granted. (Except for the 31st day of the month since only half of the months have that many days.)\n",
    " - Most of the patent grants were filed in the category Cmp&Cmm. However, we have to note that both in the main category and subcategories a substantial amount of patents is of type other or miscellaneous."
   ]
  },
  {
   "cell_type": "code",
   "execution_count": 491,
   "metadata": {},
   "outputs": [
    {
     "data": {
      "image/png": "[encoded data removed]",
      "text/plain": [
       "<matplotlib.figure.Figure at 0x258874fd0>"
      ]
     },
     "metadata": {},
     "output_type": "display_data"
    }
   ],
   "source": [
    "years = np.array(patents.date.str[:4], np.int16)\n",
    "\n",
    "_, ax = plt.subplots(1, 1, figsize=(16, 9))\n",
    "ax.set_title('Number of granted patents per year')\n",
    "_ = sns.distplot(years, bins=np.arange(1976, 2019, 1), ax=ax, kde=False).set(xlim=(1976, 2020))"
   ]
  },
  {
   "cell_type": "code",
   "execution_count": 495,
   "metadata": {},
   "outputs": [
    {
     "data": {
      "text/plain": [
       "<Container object of 31 artists>"
      ]
     },
     "execution_count": 495,
     "metadata": {},
     "output_type": "execute_result"
    },
    {
     "data": {
      "image/png": "[encoded data removed]",
      "text/plain": [
       "<matplotlib.figure.Figure at 0x26fa0f450>"
      ]
     },
     "metadata": {},
     "output_type": "display_data"
    }
   ],
   "source": [
    "months = np.array(patents.date.str[5:7], np.int16)\n",
    "unique, counts = np.unique(months, return_counts=True)\n",
    "\n",
    "plt.subplot(121)\n",
    "plt.title('Number of granted patents per month')\n",
    "plt.bar(np.arange(1, 13, 1), counts)\n",
    "\n",
    "days = np.array(patents.date.str[8:10], np.int16)\n",
    "unique, counts = np.unique(days, return_counts=True)\n",
    "\n",
    "plt.subplot(122)\n",
    "plt.title('Number of granted patents per day of the month')\n",
    "plt.bar(np.arange(1, 32, 1), counts)"
   ]
  },
  {
   "cell_type": "code",
   "execution_count": 493,
   "metadata": {},
   "outputs": [
    {
     "data": {
      "text/plain": [
       "<matplotlib.axes._subplots.AxesSubplot at 0x26fbd56d0>"
      ]
     },
     "execution_count": 493,
     "metadata": {},
     "output_type": "execute_result"
    },
    {
     "data": {
      "image/png": "[encoded data removed]",
      "text/plain": [
       "<matplotlib.figure.Figure at 0x24d0d6d10>"
      ]
     },
     "metadata": {},
     "output_type": "display_data"
    }
   ],
   "source": [
    "hist = categorymap.groupby('category').count().reset_index().sort_values('patent_id', ascending=False)\n",
    "\n",
    "ax = plt.axes()\n",
    "ax.set(ylabel=None, title='Number of granted patents per principal category')\n",
    "\n",
    "sns.barplot(x='category', y='patent_id', data=hist, ax=ax)"
   ]
  },
  {
   "cell_type": "code",
   "execution_count": 494,
   "metadata": {},
   "outputs": [
    {
     "data": {
      "image/png": "[encoded data removed]",
      "text/plain": [
       "<matplotlib.figure.Figure at 0x26fa76a50>"
      ]
     },
     "metadata": {},
     "output_type": "display_data"
    }
   ],
   "source": [
    "fig, axs = plt.subplots(3, 2, figsize=(16, 6))\n",
    "fig.tight_layout()\n",
    "plt.subplots_adjust(top=4.5)\n",
    "\n",
    "plots = ['Cmp&Cmm', 'Elec', 'Mech', 'Others', 'Chemical', 'Drgs&Med']\n",
    "for i in range(3):\n",
    "    for j in range(2):\n",
    "        hist = categorymap[categorymap.category == plots[i*2 + j]] \\\n",
    "            .groupby('subcategory').count() \\\n",
    "            .reset_index() \\\n",
    "            .sort_values('patent_id', ascending=False)\n",
    "\n",
    "        sns.barplot(x='subcategory', y='patent_id', data=hist, ax=axs[i][j])\n",
    "        axs[i][j].set_title('Number of granted patents per {} subcategory'.format(plots[i*2 + j]))\n",
    "        axs[i][j].set_xlabel('')\n",
    "        axs[i][j].set_ylabel('')\n",
    "        axs[i][j].set_xticklabels(axs[i][j].get_xticklabels(), rotation=40, ha=\"right\")"
   ]
  },
  {
   "cell_type": "markdown",
   "metadata": {},
   "source": [
    "## 4. Graph software"
   ]
  },
  {
   "cell_type": "markdown",
   "metadata": {},
   "source": [
    "### 4.1 What we tried\n",
    "\n",
    "Our first library of choice was *networkx* to store, analyse and display our graphs. While trying to load the 89 million edges into a graph, we quickly noticed that *networkx* is too slow to handle such data sizes.\n",
    "\n",
    "Looking for a graph network library that can handle many more nodes and edges, we discovered *graph-tool*. *graph-tool* stores vertices efficiently simply as an index between 0 and V-1, where V is the total number of vertices in the graph. Additional properties of the vertices (like the patent ID to identify them) can be stored alongside in a property variable. *graph-tool*'s algorithms are fast and efficient, but installing it proved to be quite challenging. \n",
    "\n",
    "Even though *graph-tool* is much faster than *networkx*, we are still reaching the limit of what our laptops can handle memory-wise (8GB). Therefore, if needed we will use a computer with more memory (16GB) to run more complex algorithms on the data."
   ]
  },
  {
   "cell_type": "markdown",
   "metadata": {},
   "source": [
    "### 4.2 Transforming the citations dataframe to a directed graph"
   ]
  },
  {
   "cell_type": "code",
   "execution_count": 17,
   "metadata": {
    "collapsed": true
   },
   "outputs": [],
   "source": [
    "graph = load_graph(DATA + 'citations_graph.xml.gz')"
   ]
  },
  {
   "cell_type": "markdown",
   "metadata": {},
   "source": [
    "## 5. Statistics on the graph"
   ]
  },
  {
   "cell_type": "markdown",
   "metadata": {},
   "source": [
    "## 6. Plans for the continuation of the project"
   ]
  },
  {
   "cell_type": "markdown",
   "metadata": {},
   "source": [
    "### 6.1 Technicalities on the graph:\n",
    "\n",
    "- First of all we want to investigate, why the graph is cyclic. Due to the linearity of time no cycles should exist. We think that it is possible, that a patent, which cites another patent which is pending, will later apparently cite into the future, if the other patent gets approved later than ones own one. This idea needs to be checked.\n",
    "\n",
    "\n",
    "- Further we want to add a flag to the nodes in the graph, which shows patents, that were approved before 1976 and thus are not in the patents view data. \n",
    "\n",
    "\n",
    "- Analyze the minimum spanning tree.\n",
    "\n",
    "\n",
    "\n",
    "### 6.2 The blog:\n"
   ]
  }
 ],
 "metadata": {
  "kernelspec": {
   "display_name": "Python 3",
   "language": "python",
   "name": "python3"
  },
  "language_info": {
   "codemirror_mode": {
    "name": "ipython",
    "version": 3
   },
   "file_extension": ".py",
   "mimetype": "text/x-python",
   "name": "python",
   "nbconvert_exporter": "python",
   "pygments_lexer": "ipython3",
   "version": "3.6.1"
  }
 },
 "nbformat": 4,
 "nbformat_minor": 2
}
