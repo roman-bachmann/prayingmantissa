{
 "cells": [
  {
   "cell_type": "markdown",
   "metadata": {},
   "source": [
    "# Table of Contents\n",
    "\n",
    "### [1. Introduction to Patents](#1)\n",
    "### [2. Data Sighting, Preparation and Preliminary Analysis](#2)\n",
    "- [2.1 Sighting](#21)\n",
    "- [2.2 Preprocessing](#22)\n",
    "- [2.3 Processing](#23)\n",
    "\n",
    "### [3. Preliminary Statistics](#3)\n",
    "- [3.1 Histograms over Time](#31)\n",
    "- [3.2 Histograms over Types](#32)\n",
    "\n",
    "### [4. Graph software](#4)\n",
    "\n",
    "- [4.1 What we tried](#41)\n",
    "- [4.2 Graph visualisation using graph-tool](#42)\n",
    "- [4.3 Transforming the citations dataframe to a directed graph](#43)\n",
    "- [4.4 Saving the graph to disk](#44)\n",
    "\n",
    "### [5. Statistics on the graph](#5)\n",
    "\n",
    "- [5.1 Working with the graph](#51)\n",
    "- [5.2 Graph overview](#52)\n",
    "- [5.3 Vertex in- and out-degrees](#53)\n",
    "- [5.4 Shortest path between selected nodes](#54)\n",
    "- [5.5 Speed of complex graph algorithms](#55)\n",
    "- [5.6 Connected Components](#56)\n",
    "\n",
    "### [6. Most important patents](#6)\n",
    "\n",
    "### [7. Shortest path between multiple sources and sinks](#7)\n",
    "\n",
    "### [8. Shortest paths with distances](#8)\n",
    "\n",
    "### [9. Visualisation of the lifetime of a node and its closest neighbours](#9)"
   ]
  },
  {
   "cell_type": "markdown",
   "metadata": {},
   "source": [
    "# 1. Introduction to Patents <a id=\"1\"></a>\n",
    "\n",
    "<img src=\"./graphics/graph_seal.png\" alt=\"Drawing\" style=\"width: 500px;\"/>\n",
    "\n",
    "The data used in this project is provided by the [patentsview.org](http://www.patentsview.org) website of the United States Patent and Trademark Office ([USPTO](https://www.uspto.gov/)). \n",
    "\n",
    "The USTPO defines a patent as a property right granted by the Government of the United States of America to an inventor \"to exclude others from making, using, offering for sale, or selling the invention throughout the United States or importing the invention into the United States\" for a limited time in exchange for public disclosure of the invention when the patent is granted.\n",
    "\n",
    "On their [getting started webpage](https://www.uspto.gov/patents-getting-started/general-information-concerning-patents) the USTPO states, that there are three types of patents:\n",
    "\n",
    "\n",
    "- Utility patents may be granted to anyone who invents or discovers any new and useful process, machine, article of manufacture, or composition of matter, or any new and useful improvement thereof;\n",
    "\n",
    "\n",
    "-  Design patents may be granted to anyone who invents a new, original, and ornamental design for an article of manufacture;\n",
    "\n",
    "\n",
    "-  Plant patents may be granted to anyone who invents or discovers and asexually reproduces any distinct and new variety of plant.\n",
    "\n",
    "\n",
    "In this project we wish to investigate patents related to technology, which led to the decision of dropping all data concerning plant patents, leaving us, after further cleaning explained below, with a graph built of roughly 90 million edges.\n",
    "\n",
    "\n",
    "There are two main stages in the process of receiving a granted patent for an invention. First a patent application needs to be filed. If the application meets the filing requirements it is awarded with a filing date and an application number. Once a filing date is assigned, the claimed invention is officially “patent pending”. In the next stage a patent examiner is assigned, who is responsible for reviewing the application. This is a lengthy process and can span multiple years. When the USTPO determines a patent application is patentable, it assigns a patent number and issues the patent. \n",
    "This is the number we use throughout this project.\n",
    "\n",
    "In addition to patents view we also consult the [google patents database](https://patents.google.com/) during this project, which provides lengthier textual descriptions and original images of individual patents."
   ]
  },
  {
   "cell_type": "markdown",
   "metadata": {},
   "source": [
    "# 2. Data Sighting, Preparation and Preliminary Analysis <a id=\"2\"></a>\n",
    "\n",
    "The USTPO provides all relevant patent data starting from 1976 to the current year in tab-separated files.<br>\n",
    "For the rest of this notebook we focused our efforts on the following data sets.\n",
    " - Citations\n",
    " - General patent data\n",
    " - Categories and category mapping"
   ]
  },
  {
   "cell_type": "code",
   "execution_count": 1,
   "metadata": {
    "collapsed": true
   },
   "outputs": [],
   "source": [
    "%matplotlib inline"
   ]
  },
  {
   "cell_type": "code",
   "execution_count": 497,
   "metadata": {
    "collapsed": true
   },
   "outputs": [],
   "source": [
    "import heapq\n",
    "import requests\n",
    "import json\n",
    "import time\n",
    "import csv\n",
    "import itertools\n",
    "\n",
    "import pandas as pd\n",
    "import numpy as np\n",
    "\n",
    "import matplotlib.pyplot as plt\n",
    "import seaborn as sns\n",
    "\n",
    "from graph_tool.all import *"
   ]
  },
  {
   "cell_type": "code",
   "execution_count": 94,
   "metadata": {
    "collapsed": true
   },
   "outputs": [],
   "source": [
    "plt.rcParams['figure.figsize'] = (16.0, 9.0)\n",
    "sns.set_palette('deep')\n",
    "sns.set()"
   ]
  },
  {
   "cell_type": "code",
   "execution_count": 4,
   "metadata": {
    "collapsed": true
   },
   "outputs": [],
   "source": [
    "DATA = './data/'"
   ]
  },
  {
   "cell_type": "markdown",
   "metadata": {},
   "source": [
    "## 2.1 Sighting <a id=\"21\"></a>"
   ]
  },
  {
   "cell_type": "markdown",
   "metadata": {},
   "source": [
    "### Citations\n",
    "\n",
    "The citations sheet is the core data set of our project. It provides the base of our graph and is by far the biggest file in our collection at almost 8 gigabytes. The raw file is a bit noisy and contains some less relevant columns. In detail:\n",
    " - **uuid**: Unique citation identifier chosen by PatentView for disambiguiation.\n",
    " - **patent_id**: USPTO identifier of citing patent\n",
    " - **citation_id**: USPTO identifier of cited patent\n",
    " - **date**: Grant date of cited patent\n",
    " - **name**: Filer of cited patent\n",
    " - **kind**: Type or examination status of cited patent. Details be looked up [here](http://www.patentsview.org/api/glossary.html).\n",
    " - **country**: Always US.\n",
    " - **category**: Who filed the citation (applicant or examiner).\n",
    " - **sequence**: Sequence of publication (first, second etc.)."
   ]
  },
  {
   "cell_type": "code",
   "execution_count": 7,
   "metadata": {},
   "outputs": [
    {
     "data": {
      "text/html": [
       "<div>\n",
       "<style scoped>\n",
       "    .dataframe tbody tr th:only-of-type {\n",
       "        vertical-align: middle;\n",
       "    }\n",
       "\n",
       "    .dataframe tbody tr th {\n",
       "        vertical-align: top;\n",
       "    }\n",
       "\n",
       "    .dataframe thead th {\n",
       "        text-align: right;\n",
       "    }\n",
       "</style>\n",
       "<table border=\"1\" class=\"dataframe\">\n",
       "  <thead>\n",
       "    <tr style=\"text-align: right;\">\n",
       "      <th></th>\n",
       "      <th>uuid</th>\n",
       "      <th>patent_id</th>\n",
       "      <th>citation_id</th>\n",
       "      <th>date</th>\n",
       "      <th>name</th>\n",
       "      <th>kind</th>\n",
       "      <th>country</th>\n",
       "      <th>category</th>\n",
       "      <th>sequence</th>\n",
       "    </tr>\n",
       "  </thead>\n",
       "  <tbody>\n",
       "    <tr>\n",
       "      <th>0</th>\n",
       "      <td>000007b7c0x3n9iy1othb9hz7</td>\n",
       "      <td>9009250</td>\n",
       "      <td>8127342</td>\n",
       "      <td>2012-02-01</td>\n",
       "      <td>Boynton et al.</td>\n",
       "      <td>B2</td>\n",
       "      <td>US</td>\n",
       "      <td>cited by applicant</td>\n",
       "      <td>622</td>\n",
       "    </tr>\n",
       "    <tr>\n",
       "      <th>1</th>\n",
       "      <td>000007obbnxmqc6v43t1c00dw</td>\n",
       "      <td>9643605</td>\n",
       "      <td>5471515</td>\n",
       "      <td>1995-11-01</td>\n",
       "      <td>Fossum et al.</td>\n",
       "      <td>A</td>\n",
       "      <td>US</td>\n",
       "      <td>cited by applicant</td>\n",
       "      <td>413</td>\n",
       "    </tr>\n",
       "    <tr>\n",
       "      <th>2</th>\n",
       "      <td>00000jd7thmiucpaol1hm1835</td>\n",
       "      <td>5354551</td>\n",
       "      <td>4875247</td>\n",
       "      <td>1989-10-01</td>\n",
       "      <td>Berg</td>\n",
       "      <td>NaN</td>\n",
       "      <td>US</td>\n",
       "      <td>NaN</td>\n",
       "      <td>11</td>\n",
       "    </tr>\n",
       "    <tr>\n",
       "      <th>3</th>\n",
       "      <td>00000oohcwply47niwhm5i42l</td>\n",
       "      <td>D786922</td>\n",
       "      <td>D718330</td>\n",
       "      <td>2014-11-01</td>\n",
       "      <td>Shin</td>\n",
       "      <td>S</td>\n",
       "      <td>US</td>\n",
       "      <td>cited by examiner</td>\n",
       "      <td>11</td>\n",
       "    </tr>\n",
       "    <tr>\n",
       "      <th>4</th>\n",
       "      <td>00002ghv7v87txbmryocp9i60</td>\n",
       "      <td>D490798</td>\n",
       "      <td>D190749</td>\n",
       "      <td>1961-06-01</td>\n",
       "      <td>Matri et al.</td>\n",
       "      <td>S</td>\n",
       "      <td>US</td>\n",
       "      <td>cited by examiner</td>\n",
       "      <td>1</td>\n",
       "    </tr>\n",
       "  </tbody>\n",
       "</table>\n",
       "</div>"
      ],
      "text/plain": [
       "                        uuid patent_id citation_id        date  \\\n",
       "0  000007b7c0x3n9iy1othb9hz7   9009250     8127342  2012-02-01   \n",
       "1  000007obbnxmqc6v43t1c00dw   9643605     5471515  1995-11-01   \n",
       "2  00000jd7thmiucpaol1hm1835   5354551     4875247  1989-10-01   \n",
       "3  00000oohcwply47niwhm5i42l   D786922     D718330  2014-11-01   \n",
       "4  00002ghv7v87txbmryocp9i60   D490798     D190749  1961-06-01   \n",
       "\n",
       "             name kind country            category  sequence  \n",
       "0  Boynton et al.   B2      US  cited by applicant       622  \n",
       "1   Fossum et al.    A      US  cited by applicant       413  \n",
       "2            Berg  NaN      US                 NaN        11  \n",
       "3            Shin    S      US   cited by examiner        11  \n",
       "4    Matri et al.    S      US   cited by examiner         1  "
      ]
     },
     "execution_count": 7,
     "metadata": {},
     "output_type": "execute_result"
    }
   ],
   "source": [
    "pd.read_csv(DATA + 'citations_raw.tsv', delimiter='\\t', nrows=5)"
   ]
  },
  {
   "cell_type": "markdown",
   "metadata": {},
   "source": [
    "### Patents\n",
    "\n",
    "The patents data sheet contains general (e.g. title, date, abstract etc.) information about all granted patents starting from 1976 to 2017. The attributes are mostly congruent to the citations data frame."
   ]
  },
  {
   "cell_type": "code",
   "execution_count": 8,
   "metadata": {},
   "outputs": [
    {
     "data": {
      "text/html": [
       "<div>\n",
       "<style scoped>\n",
       "    .dataframe tbody tr th:only-of-type {\n",
       "        vertical-align: middle;\n",
       "    }\n",
       "\n",
       "    .dataframe tbody tr th {\n",
       "        vertical-align: top;\n",
       "    }\n",
       "\n",
       "    .dataframe thead th {\n",
       "        text-align: right;\n",
       "    }\n",
       "</style>\n",
       "<table border=\"1\" class=\"dataframe\">\n",
       "  <thead>\n",
       "    <tr style=\"text-align: right;\">\n",
       "      <th></th>\n",
       "      <th>id</th>\n",
       "      <th>type</th>\n",
       "      <th>number</th>\n",
       "      <th>country</th>\n",
       "      <th>date</th>\n",
       "      <th>abstract</th>\n",
       "      <th>title</th>\n",
       "      <th>kind</th>\n",
       "      <th>num_claims</th>\n",
       "      <th>filename</th>\n",
       "    </tr>\n",
       "  </thead>\n",
       "  <tbody>\n",
       "    <tr>\n",
       "      <th>0</th>\n",
       "      <td>3930271</td>\n",
       "      <td>utility</td>\n",
       "      <td>3930271</td>\n",
       "      <td>US</td>\n",
       "      <td>1976-01-06</td>\n",
       "      <td>A golf glove is disclosed having an extra fin...</td>\n",
       "      <td>Golf glove</td>\n",
       "      <td>A</td>\n",
       "      <td>4</td>\n",
       "      <td>pftaps19760106_wk01.zip</td>\n",
       "    </tr>\n",
       "    <tr>\n",
       "      <th>1</th>\n",
       "      <td>3930272</td>\n",
       "      <td>utility</td>\n",
       "      <td>3930272</td>\n",
       "      <td>US</td>\n",
       "      <td>1976-01-06</td>\n",
       "      <td>A lock for a height-adjustable crib or plaype...</td>\n",
       "      <td>Crib leg lock</td>\n",
       "      <td>A</td>\n",
       "      <td>3</td>\n",
       "      <td>pftaps19760106_wk01.zip</td>\n",
       "    </tr>\n",
       "    <tr>\n",
       "      <th>2</th>\n",
       "      <td>3930273</td>\n",
       "      <td>utility</td>\n",
       "      <td>3930273</td>\n",
       "      <td>US</td>\n",
       "      <td>1976-01-06</td>\n",
       "      <td>A bed safety side rail arrangement which incl...</td>\n",
       "      <td>Bed safety side rail arrangement</td>\n",
       "      <td>A</td>\n",
       "      <td>24</td>\n",
       "      <td>pftaps19760106_wk01.zip</td>\n",
       "    </tr>\n",
       "    <tr>\n",
       "      <th>3</th>\n",
       "      <td>3930274</td>\n",
       "      <td>utility</td>\n",
       "      <td>3930274</td>\n",
       "      <td>US</td>\n",
       "      <td>1976-01-06</td>\n",
       "      <td>The assembly includes a longitudinal axis and...</td>\n",
       "      <td>Assembly for use in recreational activities</td>\n",
       "      <td>A</td>\n",
       "      <td>7</td>\n",
       "      <td>pftaps19760106_wk01.zip</td>\n",
       "    </tr>\n",
       "    <tr>\n",
       "      <th>4</th>\n",
       "      <td>3930275</td>\n",
       "      <td>utility</td>\n",
       "      <td>3930275</td>\n",
       "      <td>US</td>\n",
       "      <td>1976-01-06</td>\n",
       "      <td>A novel slipper and its method of fabrication...</td>\n",
       "      <td>Method of fabricating a slipper</td>\n",
       "      <td>A</td>\n",
       "      <td>9</td>\n",
       "      <td>pftaps19760106_wk01.zip</td>\n",
       "    </tr>\n",
       "  </tbody>\n",
       "</table>\n",
       "</div>"
      ],
      "text/plain": [
       "        id     type   number country        date  \\\n",
       "0  3930271  utility  3930271      US  1976-01-06   \n",
       "1  3930272  utility  3930272      US  1976-01-06   \n",
       "2  3930273  utility  3930273      US  1976-01-06   \n",
       "3  3930274  utility  3930274      US  1976-01-06   \n",
       "4  3930275  utility  3930275      US  1976-01-06   \n",
       "\n",
       "                                            abstract  \\\n",
       "0   A golf glove is disclosed having an extra fin...   \n",
       "1   A lock for a height-adjustable crib or plaype...   \n",
       "2   A bed safety side rail arrangement which incl...   \n",
       "3   The assembly includes a longitudinal axis and...   \n",
       "4   A novel slipper and its method of fabrication...   \n",
       "\n",
       "                                         title kind  num_claims  \\\n",
       "0                                   Golf glove    A           4   \n",
       "1                                Crib leg lock    A           3   \n",
       "2             Bed safety side rail arrangement    A          24   \n",
       "3  Assembly for use in recreational activities    A           7   \n",
       "4              Method of fabricating a slipper    A           9   \n",
       "\n",
       "                  filename  \n",
       "0  pftaps19760106_wk01.zip  \n",
       "1  pftaps19760106_wk01.zip  \n",
       "2  pftaps19760106_wk01.zip  \n",
       "3  pftaps19760106_wk01.zip  \n",
       "4  pftaps19760106_wk01.zip  "
      ]
     },
     "execution_count": 8,
     "metadata": {},
     "output_type": "execute_result"
    }
   ],
   "source": [
    "pd.read_csv(DATA + 'patents_raw.tsv', delimiter='\\t', nrows=5)"
   ]
  },
  {
   "cell_type": "markdown",
   "metadata": {},
   "source": [
    "### Categories\n",
    "\n",
    "The USPTO distinguishes 6 principal categories by which patents can be labeled. Each category is identified by an unique integer."
   ]
  },
  {
   "cell_type": "code",
   "execution_count": 411,
   "metadata": {},
   "outputs": [
    {
     "data": {
      "text/html": [
       "<div>\n",
       "<style scoped>\n",
       "    .dataframe tbody tr th:only-of-type {\n",
       "        vertical-align: middle;\n",
       "    }\n",
       "\n",
       "    .dataframe tbody tr th {\n",
       "        vertical-align: top;\n",
       "    }\n",
       "\n",
       "    .dataframe thead th {\n",
       "        text-align: right;\n",
       "    }\n",
       "</style>\n",
       "<table border=\"1\" class=\"dataframe\">\n",
       "  <thead>\n",
       "    <tr style=\"text-align: right;\">\n",
       "      <th></th>\n",
       "      <th>title</th>\n",
       "    </tr>\n",
       "    <tr>\n",
       "      <th>id</th>\n",
       "      <th></th>\n",
       "    </tr>\n",
       "  </thead>\n",
       "  <tbody>\n",
       "    <tr>\n",
       "      <th>1</th>\n",
       "      <td>Chemical</td>\n",
       "    </tr>\n",
       "    <tr>\n",
       "      <th>2</th>\n",
       "      <td>Cmp&amp;Cmm</td>\n",
       "    </tr>\n",
       "    <tr>\n",
       "      <th>3</th>\n",
       "      <td>Drgs&amp;Med</td>\n",
       "    </tr>\n",
       "    <tr>\n",
       "      <th>4</th>\n",
       "      <td>Elec</td>\n",
       "    </tr>\n",
       "    <tr>\n",
       "      <th>5</th>\n",
       "      <td>Mech</td>\n",
       "    </tr>\n",
       "    <tr>\n",
       "      <th>6</th>\n",
       "      <td>Others</td>\n",
       "    </tr>\n",
       "  </tbody>\n",
       "</table>\n",
       "</div>"
      ],
      "text/plain": [
       "       title\n",
       "id          \n",
       "1   Chemical\n",
       "2    Cmp&Cmm\n",
       "3   Drgs&Med\n",
       "4       Elec\n",
       "5       Mech\n",
       "6     Others"
      ]
     },
     "execution_count": 411,
     "metadata": {},
     "output_type": "execute_result"
    }
   ],
   "source": [
    "category_raw = pd.read_csv(DATA + 'categories_raw.tsv', delimiter='\\t', index_col=0)\n",
    "category_raw"
   ]
  },
  {
   "cell_type": "markdown",
   "metadata": {},
   "source": [
    "Each category is then further divided into subcategories again labeled by an unique integer."
   ]
  },
  {
   "cell_type": "code",
   "execution_count": 404,
   "metadata": {},
   "outputs": [
    {
     "data": {
      "text/html": [
       "<div>\n",
       "<style scoped>\n",
       "    .dataframe tbody tr th:only-of-type {\n",
       "        vertical-align: middle;\n",
       "    }\n",
       "\n",
       "    .dataframe tbody tr th {\n",
       "        vertical-align: top;\n",
       "    }\n",
       "\n",
       "    .dataframe thead th {\n",
       "        text-align: right;\n",
       "    }\n",
       "</style>\n",
       "<table border=\"1\" class=\"dataframe\">\n",
       "  <thead>\n",
       "    <tr style=\"text-align: right;\">\n",
       "      <th></th>\n",
       "      <th>title</th>\n",
       "    </tr>\n",
       "    <tr>\n",
       "      <th>id</th>\n",
       "      <th></th>\n",
       "    </tr>\n",
       "  </thead>\n",
       "  <tbody>\n",
       "    <tr>\n",
       "      <th>11</th>\n",
       "      <td>Agriculture,Food,Textiles</td>\n",
       "    </tr>\n",
       "    <tr>\n",
       "      <th>12</th>\n",
       "      <td>Coating</td>\n",
       "    </tr>\n",
       "    <tr>\n",
       "      <th>13</th>\n",
       "      <td>Gas</td>\n",
       "    </tr>\n",
       "    <tr>\n",
       "      <th>14</th>\n",
       "      <td>Organic Compounds</td>\n",
       "    </tr>\n",
       "    <tr>\n",
       "      <th>15</th>\n",
       "      <td>Resins</td>\n",
       "    </tr>\n",
       "  </tbody>\n",
       "</table>\n",
       "</div>"
      ],
      "text/plain": [
       "                        title\n",
       "id                           \n",
       "11  Agriculture,Food,Textiles\n",
       "12                    Coating\n",
       "13                        Gas\n",
       "14          Organic Compounds\n",
       "15                     Resins"
      ]
     },
     "execution_count": 404,
     "metadata": {},
     "output_type": "execute_result"
    }
   ],
   "source": [
    "subcategory_raw = pd.read_csv(DATA + 'subcategories_raw.tsv', delimiter='\\t', index_col=0)\n",
    "subcategory_raw.head()"
   ]
  },
  {
   "cell_type": "markdown",
   "metadata": {},
   "source": [
    "#### Category map"
   ]
  },
  {
   "cell_type": "code",
   "execution_count": 11,
   "metadata": {},
   "outputs": [
    {
     "data": {
      "text/html": [
       "<div>\n",
       "<style scoped>\n",
       "    .dataframe tbody tr th:only-of-type {\n",
       "        vertical-align: middle;\n",
       "    }\n",
       "\n",
       "    .dataframe tbody tr th {\n",
       "        vertical-align: top;\n",
       "    }\n",
       "\n",
       "    .dataframe thead th {\n",
       "        text-align: right;\n",
       "    }\n",
       "</style>\n",
       "<table border=\"1\" class=\"dataframe\">\n",
       "  <thead>\n",
       "    <tr style=\"text-align: right;\">\n",
       "      <th></th>\n",
       "      <th>uuid</th>\n",
       "      <th>patent_id</th>\n",
       "      <th>category_id</th>\n",
       "      <th>subcategory_id</th>\n",
       "    </tr>\n",
       "  </thead>\n",
       "  <tbody>\n",
       "    <tr>\n",
       "      <th>0</th>\n",
       "      <td>000114qfli99qqd9fsbxichy1</td>\n",
       "      <td>6243839</td>\n",
       "      <td>2</td>\n",
       "      <td>22</td>\n",
       "    </tr>\n",
       "    <tr>\n",
       "      <th>1</th>\n",
       "      <td>0001jsdl1xi7z84rzx9iwvdlh</td>\n",
       "      <td>4646100</td>\n",
       "      <td>2</td>\n",
       "      <td>21</td>\n",
       "    </tr>\n",
       "    <tr>\n",
       "      <th>2</th>\n",
       "      <td>0001qpsb0yts8daudtuf3mbm8</td>\n",
       "      <td>7712627</td>\n",
       "      <td>6</td>\n",
       "      <td>68</td>\n",
       "    </tr>\n",
       "    <tr>\n",
       "      <th>3</th>\n",
       "      <td>0001uc68swzzsbefc8eqhc7rg</td>\n",
       "      <td>5647223</td>\n",
       "      <td>6</td>\n",
       "      <td>69</td>\n",
       "    </tr>\n",
       "    <tr>\n",
       "      <th>4</th>\n",
       "      <td>0001y577lvjg6hwl6e36f46fs</td>\n",
       "      <td>5110393</td>\n",
       "      <td>1</td>\n",
       "      <td>19</td>\n",
       "    </tr>\n",
       "  </tbody>\n",
       "</table>\n",
       "</div>"
      ],
      "text/plain": [
       "                        uuid  patent_id  category_id  subcategory_id\n",
       "0  000114qfli99qqd9fsbxichy1    6243839            2              22\n",
       "1  0001jsdl1xi7z84rzx9iwvdlh    4646100            2              21\n",
       "2  0001qpsb0yts8daudtuf3mbm8    7712627            6              68\n",
       "3  0001uc68swzzsbefc8eqhc7rg    5647223            6              69\n",
       "4  0001y577lvjg6hwl6e36f46fs    5110393            1              19"
      ]
     },
     "execution_count": 11,
     "metadata": {},
     "output_type": "execute_result"
    }
   ],
   "source": [
    "pd.read_csv(DATA + 'categorymap_raw.tsv', delimiter='\\t', nrows=5)"
   ]
  },
  {
   "cell_type": "markdown",
   "metadata": {},
   "source": [
    "## 2.2 Preprocessing <a id=\"22\"></a>\n",
    "\n",
    "Both the patents and citations data sheets are several gigabytes large tab-separated files and the categorymap\n",
    "clocks in at about 200MB.\n",
    "As a first step in the cleaning pipeline we resorted to preprocessing via the command line in order to\n",
    "reduce the size of the files by extracting only the relevant columns.\n",
    "\n",
    "More specifically, the coreutil [awk](https://www.gnu.org/software/gawk/manual/gawk.html) is a handy stream\n",
    "processing language through which a tab-separated file can be read line by line, processed and written to\n",
    "a new file, preferably a comma-separated one.\n",
    "\n",
    "#### Example\n",
    "\n",
    "```shell\n",
    "echo 'Alice\\tBob\\tEve' | awk -F '\\t' '{ print $1\",\"$3 }' > alice_eve.csv\n",
    "cat alice_eve.csv # Alice,Eve\n",
    "```\n",
    "\n",
    "In our case we extract from the above citations_raw.tsv file the patent_id and citation_id columns, from the\n",
    "patents_raw.tsv the id and data columns, and from the categorymap.tsv the patent_id and subcategory_id columns.\n",
    "\n",
    "In terms of filesize reduction we get the following improvements:\n",
    " - citations_raw.tsv **7.71GB** to **1.45GB** (~81% reduction)\n",
    " - patents_raw.tsv **4.9GB** to **121MB** (~97% reduction)\n",
    " - categorymap_raw.tsv **204.2MB** to **61.3MB** (~70% reduction)"
   ]
  },
  {
   "cell_type": "markdown",
   "metadata": {},
   "source": [
    "## 2.3 Processing <a id=\"23\"></a>"
   ]
  },
  {
   "cell_type": "markdown",
   "metadata": {},
   "source": [
    "### Citations"
   ]
  },
  {
   "cell_type": "code",
   "execution_count": 12,
   "metadata": {
    "collapsed": true
   },
   "outputs": [],
   "source": [
    "citations = pd.read_csv(DATA + 'citations.csv')"
   ]
  },
  {
   "cell_type": "code",
   "execution_count": null,
   "metadata": {},
   "outputs": [
    {
     "data": {
      "text/plain": [
       "(89122312, 2)"
      ]
     },
     "execution_count": 13,
     "metadata": {},
     "output_type": "execute_result"
    }
   ],
   "source": [
    "citations.shape"
   ]
  },
  {
   "cell_type": "markdown",
   "metadata": {},
   "source": [
    "Here, the goal lies in further reducing the rows of the data. In the first step we apply the following operations:\n",
    " - Exclude all rows containing NANs.\n",
    " - Only keep rows with regular patents (number) and designs ('D' + number).\n",
    " - Only keep cited patents between 1790 ([first patent](https://www.uspto.gov/about-us/news-updates/first-us-patent-issued-today-1790)) and 2017.\n",
    " - Strip all residual whitespaces."
   ]
  },
  {
   "cell_type": "code",
   "execution_count": null,
   "metadata": {
    "collapsed": true
   },
   "outputs": [],
   "source": [
    "citations.dropna(inplace=True)\n",
    "\n",
    "citations['patent_id'] = citations.patent_id.str.strip()\n",
    "citations = citations[citations.patent_id.str.match(r'([D]\\d+$)|(^\\d+$)')]\n",
    "\n",
    "citations['citation_id'] = citations.citation_id.str.strip()\n",
    "citations = citations[citations.citation_id.str.match(r'([D]\\d+$)|(^\\d+$)')]"
   ]
  },
  {
   "cell_type": "code",
   "execution_count": null,
   "metadata": {
    "collapsed": true
   },
   "outputs": [],
   "source": [
    "citations.shape"
   ]
  },
  {
   "cell_type": "markdown",
   "metadata": {},
   "source": [
    "Since all the patent IDs are now in a valid hexadecimal format we can, to further decrease the size, map them\n",
    "injectively to 32-bit integers. For this conversion we define two helper functions.\n",
    "\n",
    "**Example**\n",
    "```python\n",
    "int('D12', 16) = 3346\n",
    "'{0:0X}'.format(3346) = 'D12'\n",
    "```"
   ]
  },
  {
   "cell_type": "code",
   "execution_count": 498,
   "metadata": {
    "collapsed": true
   },
   "outputs": [],
   "source": [
    "def hex_to_int(id):\n",
    "    '''Map patent id (string) to graph id (int).'''\n",
    "    return int(id, 16)\n",
    "\n",
    "def int_to_hex(id):\n",
    "    '''Map graph id (int) to patent id (string).'''\n",
    "    return '{0:0x}'.format(id)"
   ]
  },
  {
   "cell_type": "code",
   "execution_count": null,
   "metadata": {
    "collapsed": true
   },
   "outputs": [],
   "source": [
    "citations['patent_id'] = np.array(list(map(lambda i: int(i, 16), citations.patent_id)), dtype=np.int32)\n",
    "citations['citation_id'] = np.array(list(map(lambda i: int(i, 16), citations.citation_id)), dtype=np.int32)"
   ]
  },
  {
   "cell_type": "code",
   "execution_count": null,
   "metadata": {
    "collapsed": true
   },
   "outputs": [],
   "source": [
    "citations.head()"
   ]
  },
  {
   "cell_type": "markdown",
   "metadata": {},
   "source": [
    "This processed citations dataframe gets saved as a csv file, which allows us to load and work directly with the processed dataframe in the future."
   ]
  },
  {
   "cell_type": "code",
   "execution_count": 41,
   "metadata": {
    "collapsed": true
   },
   "outputs": [],
   "source": [
    "citations.to_csv(DATA + 'citations_processed.csv', index=False)"
   ]
  },
  {
   "cell_type": "markdown",
   "metadata": {},
   "source": [
    "### Patents"
   ]
  },
  {
   "cell_type": "code",
   "execution_count": 33,
   "metadata": {
    "collapsed": true
   },
   "outputs": [],
   "source": [
    "patents = pd.read_csv(DATA + 'patents.csv', dtype={'number': 'str'})"
   ]
  },
  {
   "cell_type": "code",
   "execution_count": 34,
   "metadata": {},
   "outputs": [
    {
     "data": {
      "text/plain": [
       "(6366670, 2)"
      ]
     },
     "execution_count": 34,
     "metadata": {},
     "output_type": "execute_result"
    }
   ],
   "source": [
    "patents.shape"
   ]
  },
  {
   "cell_type": "markdown",
   "metadata": {},
   "source": [
    "The patents data frame is processed in a very similar way. After excluding all the NANs we again map the hexadecimal patent IDs to an 32-bit integer only keeping regular and design patents."
   ]
  },
  {
   "cell_type": "code",
   "execution_count": 35,
   "metadata": {
    "collapsed": true
   },
   "outputs": [],
   "source": [
    "patents.dropna(inplace=True)\n",
    "\n",
    "patents = patents[patents.number.str.match(r'([D]\\d+$)|(^\\d+$)')]\n",
    "patents['number'] = np.array(list(map(lambda i: int(i, 16), patents.number)), dtype=np.int32)"
   ]
  },
  {
   "cell_type": "code",
   "execution_count": 36,
   "metadata": {},
   "outputs": [
    {
     "data": {
      "text/plain": [
       "(6322011, 2)"
      ]
     },
     "execution_count": 36,
     "metadata": {},
     "output_type": "execute_result"
    }
   ],
   "source": [
    "patents.shape"
   ]
  },
  {
   "cell_type": "code",
   "execution_count": 37,
   "metadata": {},
   "outputs": [
    {
     "data": {
      "text/html": [
       "<div>\n",
       "<style scoped>\n",
       "    .dataframe tbody tr th:only-of-type {\n",
       "        vertical-align: middle;\n",
       "    }\n",
       "\n",
       "    .dataframe tbody tr th {\n",
       "        vertical-align: top;\n",
       "    }\n",
       "\n",
       "    .dataframe thead th {\n",
       "        text-align: right;\n",
       "    }\n",
       "</style>\n",
       "<table border=\"1\" class=\"dataframe\">\n",
       "  <thead>\n",
       "    <tr style=\"text-align: right;\">\n",
       "      <th></th>\n",
       "      <th>number</th>\n",
       "      <th>date</th>\n",
       "    </tr>\n",
       "  </thead>\n",
       "  <tbody>\n",
       "    <tr>\n",
       "      <th>0</th>\n",
       "      <td>59966065</td>\n",
       "      <td>1976-01-06</td>\n",
       "    </tr>\n",
       "    <tr>\n",
       "      <th>1</th>\n",
       "      <td>59966066</td>\n",
       "      <td>1976-01-06</td>\n",
       "    </tr>\n",
       "    <tr>\n",
       "      <th>2</th>\n",
       "      <td>59966067</td>\n",
       "      <td>1976-01-06</td>\n",
       "    </tr>\n",
       "    <tr>\n",
       "      <th>3</th>\n",
       "      <td>59966068</td>\n",
       "      <td>1976-01-06</td>\n",
       "    </tr>\n",
       "    <tr>\n",
       "      <th>4</th>\n",
       "      <td>59966069</td>\n",
       "      <td>1976-01-06</td>\n",
       "    </tr>\n",
       "  </tbody>\n",
       "</table>\n",
       "</div>"
      ],
      "text/plain": [
       "     number        date\n",
       "0  59966065  1976-01-06\n",
       "1  59966066  1976-01-06\n",
       "2  59966067  1976-01-06\n",
       "3  59966068  1976-01-06\n",
       "4  59966069  1976-01-06"
      ]
     },
     "execution_count": 37,
     "metadata": {},
     "output_type": "execute_result"
    }
   ],
   "source": [
    "patents.head()"
   ]
  },
  {
   "cell_type": "markdown",
   "metadata": {},
   "source": [
    "Again we save the processed data frame into a new file."
   ]
  },
  {
   "cell_type": "code",
   "execution_count": 8,
   "metadata": {
    "collapsed": true
   },
   "outputs": [],
   "source": [
    "patents.to_csv(DATA + 'patents_processed.csv', index=False)"
   ]
  },
  {
   "cell_type": "markdown",
   "metadata": {},
   "source": [
    "### Categories"
   ]
  },
  {
   "cell_type": "code",
   "execution_count": 484,
   "metadata": {
    "collapsed": true
   },
   "outputs": [],
   "source": [
    "categorymap = pd.read_csv(DATA + 'categorymap.csv', dtype={'category_id': np.int16, 'subcategory_id': np.int16})"
   ]
  },
  {
   "cell_type": "code",
   "execution_count": 485,
   "metadata": {},
   "outputs": [
    {
     "data": {
      "text/plain": [
       "(5105937, 3)"
      ]
     },
     "execution_count": 485,
     "metadata": {},
     "output_type": "execute_result"
    }
   ],
   "source": [
    "categorymap.shape"
   ]
  },
  {
   "cell_type": "markdown",
   "metadata": {},
   "source": [
    "The same cleaning procedures also apply to the category map data frame. The category and subcategory dataframes are already in the correct format."
   ]
  },
  {
   "cell_type": "code",
   "execution_count": 486,
   "metadata": {
    "collapsed": true
   },
   "outputs": [],
   "source": [
    "categorymap.dropna(inplace=True)\n",
    "\n",
    "categorymap = categorymap[categorymap.patent_id.str.match(r'([D]\\d+$)|(^\\d+$)')]\n",
    "categorymap['patent_id'] = np.array(list(map(lambda i: int(i, 16), categorymap.patent_id)), dtype=np.int32)"
   ]
  },
  {
   "cell_type": "code",
   "execution_count": 487,
   "metadata": {},
   "outputs": [
    {
     "data": {
      "text/plain": [
       "(5088595, 3)"
      ]
     },
     "execution_count": 487,
     "metadata": {},
     "output_type": "execute_result"
    }
   ],
   "source": [
    "categorymap.shape"
   ]
  },
  {
   "cell_type": "markdown",
   "metadata": {},
   "source": [
    "Replace category and subcategory IDs with string value from category_raw and subcategory_raw."
   ]
  },
  {
   "cell_type": "code",
   "execution_count": 488,
   "metadata": {},
   "outputs": [
    {
     "data": {
      "text/html": [
       "<div>\n",
       "<style scoped>\n",
       "    .dataframe tbody tr th:only-of-type {\n",
       "        vertical-align: middle;\n",
       "    }\n",
       "\n",
       "    .dataframe tbody tr th {\n",
       "        vertical-align: top;\n",
       "    }\n",
       "\n",
       "    .dataframe thead th {\n",
       "        text-align: right;\n",
       "    }\n",
       "</style>\n",
       "<table border=\"1\" class=\"dataframe\">\n",
       "  <thead>\n",
       "    <tr style=\"text-align: right;\">\n",
       "      <th></th>\n",
       "      <th>patent_id</th>\n",
       "      <th>category</th>\n",
       "      <th>subcategory</th>\n",
       "    </tr>\n",
       "  </thead>\n",
       "  <tbody>\n",
       "    <tr>\n",
       "      <th>0</th>\n",
       "      <td>103036985</td>\n",
       "      <td>Cmp&amp;Cmm</td>\n",
       "      <td>Computer Hardware &amp; Software</td>\n",
       "    </tr>\n",
       "    <tr>\n",
       "      <th>1</th>\n",
       "      <td>127162233</td>\n",
       "      <td>Cmp&amp;Cmm</td>\n",
       "      <td>Computer Hardware &amp; Software</td>\n",
       "    </tr>\n",
       "    <tr>\n",
       "      <th>2</th>\n",
       "      <td>110466048</td>\n",
       "      <td>Cmp&amp;Cmm</td>\n",
       "      <td>Computer Hardware &amp; Software</td>\n",
       "    </tr>\n",
       "    <tr>\n",
       "      <th>3</th>\n",
       "      <td>101094949</td>\n",
       "      <td>Cmp&amp;Cmm</td>\n",
       "      <td>Computer Hardware &amp; Software</td>\n",
       "    </tr>\n",
       "    <tr>\n",
       "      <th>4</th>\n",
       "      <td>106497412</td>\n",
       "      <td>Cmp&amp;Cmm</td>\n",
       "      <td>Computer Hardware &amp; Software</td>\n",
       "    </tr>\n",
       "  </tbody>\n",
       "</table>\n",
       "</div>"
      ],
      "text/plain": [
       "   patent_id category                   subcategory\n",
       "0  103036985  Cmp&Cmm  Computer Hardware & Software\n",
       "1  127162233  Cmp&Cmm  Computer Hardware & Software\n",
       "2  110466048  Cmp&Cmm  Computer Hardware & Software\n",
       "3  101094949  Cmp&Cmm  Computer Hardware & Software\n",
       "4  106497412  Cmp&Cmm  Computer Hardware & Software"
      ]
     },
     "execution_count": 488,
     "metadata": {},
     "output_type": "execute_result"
    }
   ],
   "source": [
    "categorymap = pd.merge(categorymap, category_raw.reset_index(), left_on='category_id', right_on='id', how='inner')\n",
    "categorymap = pd.merge(categorymap, subcategory_raw.reset_index(), left_on='subcategory_id', right_on='id', how='inner')\n",
    "\n",
    "categorymap = categorymap.drop(['category_id', 'subcategory_id', 'id_x', 'id_y', 'index'], axis=1)\n",
    "categorymap = categorymap.rename(columns={'title_x': 'category', 'title_y': 'subcategory'})\n",
    "categorymap.head()"
   ]
  },
  {
   "cell_type": "markdown",
   "metadata": {},
   "source": [
    "**Note**: We have more than six million patents but only around five million of them are categorized."
   ]
  },
  {
   "cell_type": "code",
   "execution_count": 490,
   "metadata": {
    "collapsed": true
   },
   "outputs": [],
   "source": [
    "categorymap.to_csv(DATA + 'categorymap_processed.csv', index=False)"
   ]
  },
  {
   "cell_type": "markdown",
   "metadata": {},
   "source": [
    "## 3. Preliminary Statistics <a id=\"3\"></a>\n",
    "\n",
    "In this chapter some indicator plots and numbers concerning the prepared data frames are plotted. We note a few particularities:\n",
    " - The number of patent grants has been rising constantly since the inception of the program in 1976.\n",
    " - There is no particular month or day when more or less patents are granted. (Except for the 31st day of the month since only half of the months have that many days.)\n",
    " - Most of the patent grants were filed in the category Cmp&Cmm. However, we have to note that both in the main category and subcategories a substantial amount of patents is of type other or miscellaneous."
   ]
  },
  {
   "cell_type": "markdown",
   "metadata": {},
   "source": [
    "### 3.1 Histograms over Time <a id=\"31\"></a>"
   ]
  },
  {
   "cell_type": "code",
   "execution_count": 491,
   "metadata": {},
   "outputs": [
    {
     "data": {
      "image/png": "[encoded data removed]",
      "text/plain": [
       "<matplotlib.figure.Figure at 0x258874fd0>"
      ]
     },
     "metadata": {},
     "output_type": "display_data"
    }
   ],
   "source": [
    "years = np.array(patents.date.str[:4], np.int16)\n",
    "\n",
    "_, ax = plt.subplots(1, 1, figsize=(16, 9))\n",
    "ax.set_title('Number of granted patents per year')\n",
    "_ = sns.distplot(years, bins=np.arange(1976, 2019, 1), ax=ax, kde=False).set(xlim=(1976, 2020))"
   ]
  },
  {
   "cell_type": "code",
   "execution_count": 495,
   "metadata": {},
   "outputs": [
    {
     "data": {
      "text/plain": [
       "<Container object of 31 artists>"
      ]
     },
     "execution_count": 495,
     "metadata": {},
     "output_type": "execute_result"
    },
    {
     "data": {
      "image/png": "[encoded data removed]",
      "text/plain": [
       "<matplotlib.figure.Figure at 0x26fa0f450>"
      ]
     },
     "metadata": {},
     "output_type": "display_data"
    }
   ],
   "source": [
    "months = np.array(patents.date.str[5:7], np.int16)\n",
    "unique, counts = np.unique(months, return_counts=True)\n",
    "\n",
    "plt.subplot(121)\n",
    "plt.title('Number of granted patents per month')\n",
    "plt.bar(np.arange(1, 13, 1), counts)\n",
    "\n",
    "days = np.array(patents.date.str[8:10], np.int16)\n",
    "unique, counts = np.unique(days, return_counts=True)\n",
    "\n",
    "plt.subplot(122)\n",
    "plt.title('Number of granted patents per day of the month')\n",
    "plt.bar(np.arange(1, 32, 1), counts)"
   ]
  },
  {
   "cell_type": "markdown",
   "metadata": {},
   "source": [
    "### 3.2 Histograms over Types <a id=\"32\"></a>"
   ]
  },
  {
   "cell_type": "code",
   "execution_count": 493,
   "metadata": {},
   "outputs": [
    {
     "data": {
      "text/plain": [
       "<matplotlib.axes._subplots.AxesSubplot at 0x26fbd56d0>"
      ]
     },
     "execution_count": 493,
     "metadata": {},
     "output_type": "execute_result"
    },
    {
     "data": {
      "image/png": "[encoded data removed]",
      "text/plain": [
       "<matplotlib.figure.Figure at 0x24d0d6d10>"
      ]
     },
     "metadata": {},
     "output_type": "display_data"
    }
   ],
   "source": [
    "hist = categorymap.groupby('category').count().reset_index().sort_values('patent_id', ascending=False)\n",
    "\n",
    "ax = plt.axes()\n",
    "ax.set(ylabel=None, title='Number of granted patents per principal category')\n",
    "\n",
    "sns.barplot(x='category', y='patent_id', data=hist, ax=ax)"
   ]
  },
  {
   "cell_type": "code",
   "execution_count": 494,
   "metadata": {},
   "outputs": [
    {
     "data": {
      "image/png": "[encoded data removed]",
      "text/plain": [
       "<matplotlib.figure.Figure at 0x26fa76a50>"
      ]
     },
     "metadata": {},
     "output_type": "display_data"
    }
   ],
   "source": [
    "fig, axs = plt.subplots(3, 2, figsize=(16, 6))\n",
    "fig.tight_layout()\n",
    "plt.subplots_adjust(top=4.5)\n",
    "\n",
    "plots = ['Cmp&Cmm', 'Elec', 'Mech', 'Others', 'Chemical', 'Drgs&Med']\n",
    "for i in range(3):\n",
    "    for j in range(2):\n",
    "        hist = categorymap[categorymap.category == plots[i*2 + j]] \\\n",
    "            .groupby('subcategory').count() \\\n",
    "            .reset_index() \\\n",
    "            .sort_values('patent_id', ascending=False)\n",
    "\n",
    "        sns.barplot(x='subcategory', y='patent_id', data=hist, ax=axs[i][j])\n",
    "        axs[i][j].set_title('Number of granted patents per {} subcategory'.format(plots[i*2 + j]))\n",
    "        axs[i][j].set_xlabel('')\n",
    "        axs[i][j].set_ylabel('')\n",
    "        axs[i][j].set_xticklabels(axs[i][j].get_xticklabels(), rotation=40, ha=\"right\")"
   ]
  },
  {
   "cell_type": "markdown",
   "metadata": {},
   "source": [
    "## 4. Graph software <a id=\"4\"></a>"
   ]
  },
  {
   "cell_type": "markdown",
   "metadata": {},
   "source": [
    "### 4.1 What we tried <a id=\"41\"></a>\n",
    "\n",
    "Our first library of choice was *networkx* to store, analyse and display our graphs. While trying to load the 89 million edges into a graph, we quickly noticed that *networkx* is too slow to handle such data sizes.\n",
    "\n",
    "Looking for a graph network library that can handle many more nodes and edges, we discovered *graph-tool*. *graph-tool* stores vertices efficiently simply as an index between 0 and V-1, where V is the total number of vertices in the graph. Additional properties of the vertices (like the patent ID to identify them) can be stored alongside in a property variable. *graph-tool*'s algorithms are fast and efficient, but installing it proved to be quite challenging. \n",
    "\n",
    "Even though *graph-tool* is much faster than *networkx*, we are still reaching the limit of what our laptops can handle memory-wise (8GB). Therefore, if needed we will use a computer with more memory (16GB) to run more complex algorithms on the data.\n",
    "\n",
    "### 4.2 Graph visualisation using graph-tool <a id=\"42\"></a>\n",
    "\n",
    "graph-tool contains its own functions for displaying graphs. We tried to draw smaller graphs of no more than 100 nodes and it worked fine. However, increasing the number of nodes to draw quickly proved infeasible as the computation times were growing rapidly. For this reason, we decided to only use graph-tool's drawing capabilities for smaller visualisations along the road, where we want to display the finer structure of the graph. For interactive visualisations and other graphs for the website, we will investigate D3.js, since we found out that Kirell Benzi uses this library and is getting amazing results from it!\n",
    "\n",
    "### 4.3 Transforming the citations dataframe to a directed graph <a id=\"43\"></a>\n",
    "\n",
    "Vertexes in graph-tool are named after an index from 0 to N-1, where N is the number of vertices in the graph. In order to know which vertex is which, we need to store the id of the respective patent inside a property of each vertex. Using graph-tool's inbuilt add\\_edge\\_list function, we create a graph of all citations and get back a property list with all the integer patent indices."
   ]
  },
  {
   "cell_type": "code",
   "execution_count": null,
   "metadata": {
    "collapsed": true
   },
   "outputs": [],
   "source": [
    "graph = Graph()\n",
    "props = graph.add_edge_list(citations.values, hashed=True)\n",
    "graph.vertex_properties['id'] = props"
   ]
  },
  {
   "cell_type": "markdown",
   "metadata": {},
   "source": [
    "### 4.4 Saving the graph to disk <a id=\"44\"></a>\n",
    "\n",
    "To not be forced to rebuild the graph each time we start our notebook, we decided to save the graph to a gzip compressed file to disk which is roughly 850 MB big. While it takes approximately 5 minutes to load the graph into memory from this file, much time and memory can be saved afterwards by having this concise representation of our graph."
   ]
  },
  {
   "cell_type": "code",
   "execution_count": null,
   "metadata": {
    "collapsed": true
   },
   "outputs": [],
   "source": [
    "graph.save(DATA + 'citations_graph.xml.gz')"
   ]
  },
  {
   "cell_type": "code",
   "execution_count": 17,
   "metadata": {
    "collapsed": true
   },
   "outputs": [],
   "source": [
    "graph = load_graph(DATA + 'citations_graph.xml.gz')"
   ]
  },
  {
   "cell_type": "markdown",
   "metadata": {},
   "source": [
    "## 5. Statistics on the Graph <a id=\"5\"></a>"
   ]
  },
  {
   "cell_type": "markdown",
   "metadata": {},
   "source": [
    "### 5.1 Working with the graph <a id=\"51\"></a>\n",
    "\n",
    "In this section we list useful functions that facilitate working with the graph:"
   ]
  },
  {
   "cell_type": "code",
   "execution_count": 25,
   "metadata": {},
   "outputs": [
    {
     "data": {
      "text/plain": [
       "'8828082'"
      ]
     },
     "execution_count": 25,
     "metadata": {},
     "output_type": "execute_result"
    }
   ],
   "source": [
    "# Extracting the properties of the graph vertices and getting the transformed patent id back:\n",
    "x = graph.vp.id['12345']\n",
    "int_to_hex(x)"
   ]
  },
  {
   "cell_type": "code",
   "execution_count": 26,
   "metadata": {},
   "outputs": [
    {
     "data": {
      "text/plain": [
       "<Vertex object with index '12345' at 0x7f9f592a48d0>"
      ]
     },
     "execution_count": 26,
     "metadata": {},
     "output_type": "execute_result"
    }
   ],
   "source": [
    "# To extract a node with a given graph vertex index:\n",
    "v = graph.vertex(12345)\n",
    "v"
   ]
  },
  {
   "cell_type": "code",
   "execution_count": 27,
   "metadata": {},
   "outputs": [
    {
     "data": {
      "text/plain": [
       "12345"
      ]
     },
     "execution_count": 27,
     "metadata": {},
     "output_type": "execute_result"
    }
   ],
   "source": [
    "# Method 1 of retrieving the graph index of a given vertex\n",
    "graph.vertex_index[v]"
   ]
  },
  {
   "cell_type": "code",
   "execution_count": 28,
   "metadata": {},
   "outputs": [
    {
     "data": {
      "text/plain": [
       "12345"
      ]
     },
     "execution_count": 28,
     "metadata": {},
     "output_type": "execute_result"
    }
   ],
   "source": [
    "# Method 2 of retrieving the graph index of a given vertex\n",
    "int(v)"
   ]
  },
  {
   "cell_type": "code",
   "execution_count": 29,
   "metadata": {},
   "outputs": [
    {
     "data": {
      "text/plain": [
       "<Edge object with source '0' and target '1' at 0x7f9f5920d468>"
      ]
     },
     "execution_count": 29,
     "metadata": {},
     "output_type": "execute_result"
    }
   ],
   "source": [
    "# To extract an edge with given graph vertex indices\n",
    "graph.edge(0,1)"
   ]
  },
  {
   "cell_type": "markdown",
   "metadata": {},
   "source": [
    "### 5.2 Graph Overview <a id=\"52\"></a>\n",
    "\n",
    "Our final directed graph comprises over 8 million nodes that are connected with over 85 million edges!"
   ]
  },
  {
   "cell_type": "code",
   "execution_count": 30,
   "metadata": {},
   "outputs": [
    {
     "name": "stdout",
     "output_type": "stream",
     "text": [
      "Number of vertices: 8274991\n",
      "Number of edges 86284396\n"
     ]
    }
   ],
   "source": [
    "vertices = [int(v) for v in graph.vertices()]\n",
    "print('Number of vertices:', graph.num_vertices())\n",
    "print('Number of edges', graph.num_edges())"
   ]
  },
  {
   "cell_type": "markdown",
   "metadata": {},
   "source": [
    "At first glance, it would be assumed that a patents graph is acyclic, since cycles would mean that there is a violation of temporal causality (patents cite future patents). However, using the *graph-tool* function *is_DAG*, we find out that, contrary to our assumptions, the directed graph is cyclic. A reason for this could be that patents cite patent applications that then become granted patents in the future. Another possible reason could be human mistakes. We will investigate this fact further."
   ]
  },
  {
   "cell_type": "code",
   "execution_count": 31,
   "metadata": {},
   "outputs": [
    {
     "data": {
      "text/plain": [
       "False"
      ]
     },
     "execution_count": 31,
     "metadata": {},
     "output_type": "execute_result"
    }
   ],
   "source": [
    "# Is this graph a Directed Acyclic Graph?\n",
    "is_DAG(graph)"
   ]
  },
  {
   "cell_type": "markdown",
   "metadata": {},
   "source": [
    "### 5.3 Vertex In- and Out-degrees <a id=\"53\"></a>\n",
    "\n",
    "To get a sense of how connected our graph is, we calculate the in-degree (number of ingoing edges) and the out-degree (number of outgoing edges) for every node. The average in-degree should equal the average out-degree, since every edge has to have a source and target node.\n",
    "\n",
    "Additionally, we list the top 10 patents of largest in- and out-degrees.\n",
    "\n",
    "#### By in-degree"
   ]
  },
  {
   "cell_type": "code",
   "execution_count": 32,
   "metadata": {
    "collapsed": true
   },
   "outputs": [],
   "source": [
    "# Getting the in-degree of each vertex\n",
    "in_deg = graph.get_in_degrees(vertices)"
   ]
  },
  {
   "cell_type": "code",
   "execution_count": 33,
   "metadata": {},
   "outputs": [
    {
     "data": {
      "text/plain": [
       "10.427128682073491"
      ]
     },
     "execution_count": 33,
     "metadata": {},
     "output_type": "execute_result"
    }
   ],
   "source": [
    "# Average in-degree\n",
    "in_deg.mean()"
   ]
  },
  {
   "cell_type": "code",
   "execution_count": 34,
   "metadata": {},
   "outputs": [
    {
     "data": {
      "text/plain": [
       "3.0"
      ]
     },
     "execution_count": 34,
     "metadata": {},
     "output_type": "execute_result"
    }
   ],
   "source": [
    "# Median in-degree\n",
    "np.median(in_deg)"
   ]
  },
  {
   "cell_type": "code",
   "execution_count": 35,
   "metadata": {},
   "outputs": [
    {
     "name": "stdout",
     "output_type": "stream",
     "text": [
      "Top 10 patents of largest in-degree:\n",
      "\n",
      "Nr 1:\tProcess for amplifying nucleic acid sequences\n",
      "\tDegree = 3709, Patent ID = 4683202\n",
      "\n",
      "Nr 2:\tMutant dwarfism gene of petunia\n",
      "\tDegree = 3342, Patent ID = 5523520\n",
      "\n",
      "Nr 3:\tProcess for amplifying, detecting, and/or-cloning nucleic acid sequences\n",
      "\tDegree = 3188, Patent ID = 4683195\n",
      "\n",
      "Nr 4:\tExpandable intraluminal graft, and method and apparatus for implanting an expandable intraluminal graft\n",
      "\tDegree = 2697, Patent ID = 4733665\n",
      "\n",
      "Nr 5:\tSystems and methods for secure transaction management and electronic rights protection\n",
      "\tDegree = 2451, Patent ID = 5892900\n",
      "\n",
      "Nr 6:\tMethods for forming liquid crystal displays including thin film transistors and gate pads having a particular structure\n",
      "\tDegree = 2377, Patent ID = 5731856\n",
      "\n",
      "Nr 7:\tSemiconductor device and manufacturing method thereof\n",
      "\tDegree = 2367, Patent ID = 7674650\n",
      "\n",
      "Nr 8:\tNatural-superlattice homologous single crystal thin film, method for preparation thereof, and device using said single crystal thin film\n",
      "\tDegree = 2349, Patent ID = 7061014\n",
      "\n",
      "Nr 9:\tSemiconductor device\n",
      "\tDegree = 2334, Patent ID = 7297977\n",
      "\n",
      "Nr 10:\tOxide thin film\n",
      "\tDegree = 2330, Patent ID = 6294274\n",
      "\n"
     ]
    }
   ],
   "source": [
    "# Listing the top 10 nodes by in-degree\n",
    "\n",
    "max_in_degs = heapq.nlargest(10, enumerate(in_deg), key=lambda x: x[1])\n",
    "\n",
    "print(\"Top 10 patents of largest in-degree:\\n\")\n",
    "for idx, deg in enumerate(max_in_degs):\n",
    "    patent_id = int_to_hex(graph.vp.id[deg[0]])\n",
    "    patent_URL = 'http://www.patentsview.org/api/patents/query?q={\"patent_number\":\"' + patent_id + '\"}'\n",
    "    patent_info = requests.get(patent_URL).json()\n",
    "    patent_title = patent_info['patents'][0]['patent_title']\n",
    "    \n",
    "    print('Nr {}:\\t{}'.format(idx+1, patent_title))\n",
    "    print('\\tDegree = {}, Patent ID = {}\\n'.format(deg[1], patent_id))"
   ]
  },
  {
   "cell_type": "markdown",
   "metadata": {},
   "source": [
    "#### By out-degree"
   ]
  },
  {
   "cell_type": "code",
   "execution_count": 36,
   "metadata": {
    "collapsed": true
   },
   "outputs": [],
   "source": [
    "# Getting out-degrees of each vertex\n",
    "out_deg = graph.get_out_degrees(vertices)"
   ]
  },
  {
   "cell_type": "code",
   "execution_count": 37,
   "metadata": {},
   "outputs": [
    {
     "data": {
      "text/plain": [
       "10.427128682073491"
      ]
     },
     "execution_count": 37,
     "metadata": {},
     "output_type": "execute_result"
    }
   ],
   "source": [
    "# Average out-degree (should be the same as average in-degree)\n",
    "out_deg.mean()"
   ]
  },
  {
   "cell_type": "code",
   "execution_count": 38,
   "metadata": {},
   "outputs": [
    {
     "data": {
      "text/plain": [
       "4.0"
      ]
     },
     "execution_count": 38,
     "metadata": {},
     "output_type": "execute_result"
    }
   ],
   "source": [
    "# Median out-degree\n",
    "np.median(out_deg)"
   ]
  },
  {
   "cell_type": "code",
   "execution_count": 39,
   "metadata": {},
   "outputs": [
    {
     "name": "stdout",
     "output_type": "stream",
     "text": [
      "Top 10 vertices of largest out-degree:\n",
      "\n",
      "Nr 1:\tInternet appliance system and method\n",
      "\tDegree = 5832, Patent ID = 9535563\n",
      "\n",
      "Nr 2:\tAdaptive pattern recognition based controller apparatus and method and human-interface therefore\n",
      "\tDegree = 5819, Patent ID = 8892495\n",
      "\n",
      "Nr 3:\tAlarm system controller and a method for controlling an alarm system\n",
      "\tDegree = 3032, Patent ID = 8369967\n",
      "\n",
      "Nr 4:\tSystem, method and computer program product for a collaborative decision platform\n",
      "\tDegree = 2880, Patent ID = 8160988\n",
      "\n",
      "Nr 5:\tSystem, method and computer program product for a collaborative decision platform\n",
      "\tDegree = 2844, Patent ID = 8005777\n",
      "\n",
      "Nr 6:\tSystem, method and computer program product for a collaborative decision platform\n",
      "\tDegree = 2823, Patent ID = 7970722\n",
      "\n",
      "Nr 7:\tStaple cartridge comprising an implantable layer\n",
      "\tDegree = 2681, Patent ID = 9724098\n",
      "\n",
      "Nr 8:\tAdjunct with integrated sensors to quantify tissue compression\n",
      "\tDegree = 2679, Patent ID = 9724094\n",
      "\n",
      "Nr 9:\tFiring member retraction devices for powered surgical instruments\n",
      "\tDegree = 2678, Patent ID = 9700310\n",
      "\n",
      "Nr 10:\tStaple cartridge comprising staples including a lateral base\n",
      "\tDegree = 2676, Patent ID = 9706991\n",
      "\n"
     ]
    }
   ],
   "source": [
    "# Listing the top 10 nodes by out-degree\n",
    "\n",
    "max_out_degs = heapq.nlargest(10, enumerate(out_deg), key=lambda x: x[1])\n",
    "\n",
    "print(\"Top 10 vertices of largest out-degree:\\n\")\n",
    "for idx, deg in enumerate(max_out_degs):\n",
    "    patent_id = int_to_hex(graph.vp.id[deg[0]])\n",
    "    patent_URL = 'http://www.patentsview.org/api/patents/query?q={\"patent_number\":\"' + patent_id + '\"}'\n",
    "    patent_info = requests.get(patent_URL).json()\n",
    "    patent_title = patent_info['patents'][0]['patent_title']\n",
    "    \n",
    "    print('Nr {}:\\t{}'.format(idx+1, patent_title))\n",
    "    print('\\tDegree = {}, Patent ID = {}\\n'.format(deg[1], patent_id))"
   ]
  },
  {
   "cell_type": "markdown",
   "metadata": {},
   "source": [
    "#### Histogram of vertices by in-degree\n",
    "\n",
    "To visually assess how the number of vertices per in-degree are distributed, we decided to plot both histograms where the y axis is scaled normally and using a log-scale, as well as a log-log plot. \n",
    "\n",
    "If the distribution of in-degrees was exponential, we would see a straight line in the second plot, whereas if it was distributed according to a power law, we would observe a straight line in the log-log plot. Neither are the case and therefore we do not observe a power law. This means that patents that have been cited only a few times are very common, whereas highly cited patents are rare."
   ]
  },
  {
   "cell_type": "code",
   "execution_count": 56,
   "metadata": {
    "collapsed": true
   },
   "outputs": [],
   "source": [
    "vhist_in = vertex_hist(graph, 'in')"
   ]
  },
  {
   "cell_type": "code",
   "execution_count": 54,
   "metadata": {},
   "outputs": [
    {
     "data": {
      "text/plain": [
       "<function matplotlib.pyplot.show>"
      ]
     },
     "execution_count": 54,
     "metadata": {},
     "output_type": "execute_result"
    },
    {
     "data": {
      "image/png": "[encoded data removed]",
      "text/plain": [
       "<matplotlib.figure.Figure at 0x7f9f3c7fef60>"
      ]
     },
     "metadata": {},
     "output_type": "display_data"
    }
   ],
   "source": [
    "plt.figure(1, figsize=(15, 8))\n",
    "plt.title('Histogram of in-degrees (slice from 0 to 50)')\n",
    "plt.bar(vhist_in[1][:-1], vhist_in[0])\n",
    "plt.xlim((0,50))\n",
    "plt.xlabel('In-degree')\n",
    "plt.ylabel('Number of vertices')\n",
    "plt.show"
   ]
  },
  {
   "cell_type": "code",
   "execution_count": 53,
   "metadata": {},
   "outputs": [
    {
     "data": {
      "text/plain": [
       "<function matplotlib.pyplot.show>"
      ]
     },
     "execution_count": 53,
     "metadata": {},
     "output_type": "execute_result"
    },
    {
     "data": {
      "image/png": "[encoded data removed]",
      "text/plain": [
       "<matplotlib.figure.Figure at 0x7f9f3b009be0>"
      ]
     },
     "metadata": {},
     "output_type": "display_data"
    }
   ],
   "source": [
    "plt.figure(1, figsize=(15, 8))\n",
    "plt.title('Log-Histogram of in-degrees (slice from 0 to 1000)')\n",
    "plt.bar(vhist_in[1][:-1], vhist_in[0], log=True)\n",
    "plt.xlim((0,1000))\n",
    "plt.xlabel('In-degree')\n",
    "plt.ylabel('Log of number of vertices')\n",
    "plt.show"
   ]
  },
  {
   "cell_type": "code",
   "execution_count": 43,
   "metadata": {},
   "outputs": [
    {
     "data": {
      "text/plain": [
       "<function matplotlib.pyplot.show>"
      ]
     },
     "execution_count": 43,
     "metadata": {},
     "output_type": "execute_result"
    },
    {
     "data": {
      "image/png": "[encoded data removed]",
      "text/plain": [
       "<matplotlib.figure.Figure at 0x7f9f3b990eb8>"
      ]
     },
     "metadata": {},
     "output_type": "display_data"
    }
   ],
   "source": [
    "plt.figure(1, figsize=(15, 8))\n",
    "plt.title('Log-log plot of in-degrees')\n",
    "plt.loglog(vhist_in[1][:-1], vhist_in[0])\n",
    "plt.xlabel('In-degree')\n",
    "plt.ylabel('Number of vertices')\n",
    "plt.show"
   ]
  },
  {
   "cell_type": "markdown",
   "metadata": {},
   "source": [
    "#### Histogram of vertices by out-degree\n",
    "\n",
    "Like before, we plot both histograms where the y axis is scaled normally and using a log-scale, as well as a log-log plot of the number of vertices per out-degree.\n",
    "\n",
    "In the first plot, it becomes clear that roughly one third of all patents in our graph did not cite other patents. Most of them are patents that were issued before 1976, for which we do not have more data available in our data sets. We also observe a spike in the beginning, meaning that citing 3 or 4 patents is most common.\n",
    "\n",
    "If it was distributed according to a power law, we would observe a straight line in the log-log plot. For out-degrees between 0 and 10, we do not observe such a straight line, but from 10 upwards it becomes apparent that there must be a power law. This means that patents citing many other patents is not uncommon."
   ]
  },
  {
   "cell_type": "code",
   "execution_count": 45,
   "metadata": {
    "collapsed": true
   },
   "outputs": [],
   "source": [
    "vhist_out = vertex_hist(graph, 'out')"
   ]
  },
  {
   "cell_type": "code",
   "execution_count": 55,
   "metadata": {},
   "outputs": [
    {
     "data": {
      "text/plain": [
       "<function matplotlib.pyplot.show>"
      ]
     },
     "execution_count": 55,
     "metadata": {},
     "output_type": "execute_result"
    },
    {
     "data": {
      "image/png": "[encoded data removed]",
      "text/plain": [
       "<matplotlib.figure.Figure at 0x7f9f3c7fecc0>"
      ]
     },
     "metadata": {},
     "output_type": "display_data"
    }
   ],
   "source": [
    "plt.figure(1, figsize=(15, 8))\n",
    "plt.title('Histogram of out-degrees (slice from 0 to 50)')\n",
    "plt.bar(vhist_out[1][:-1], vhist_out[0])\n",
    "plt.xlim((0,50))\n",
    "plt.xlabel('Out-degree')\n",
    "plt.ylabel('Number of vertices')\n",
    "plt.show"
   ]
  },
  {
   "cell_type": "code",
   "execution_count": 47,
   "metadata": {},
   "outputs": [
    {
     "data": {
      "text/plain": [
       "<function matplotlib.pyplot.show>"
      ]
     },
     "execution_count": 47,
     "metadata": {},
     "output_type": "execute_result"
    },
    {
     "data": {
      "image/png": "[encoded data removed]",
      "text/plain": [
       "<matplotlib.figure.Figure at 0x7f9f3b837e80>"
      ]
     },
     "metadata": {},
     "output_type": "display_data"
    }
   ],
   "source": [
    "plt.figure(1, figsize=(15, 8))\n",
    "plt.title('Log Histogram of out-degrees (slice from 0 to 1000)')\n",
    "plt.bar(vhist_out[1][:-1], vhist_out[0], log=True)\n",
    "plt.xlim((0,1000))\n",
    "plt.xlabel('Out-degree')\n",
    "plt.ylabel('Log of number of vertices')\n",
    "plt.show"
   ]
  },
  {
   "cell_type": "code",
   "execution_count": 48,
   "metadata": {},
   "outputs": [
    {
     "data": {
      "text/plain": [
       "<function matplotlib.pyplot.show>"
      ]
     },
     "execution_count": 48,
     "metadata": {},
     "output_type": "execute_result"
    },
    {
     "data": {
      "image/png": "[encoded data removed]",
      "text/plain": [
       "<matplotlib.figure.Figure at 0x7f9f3b0adc18>"
      ]
     },
     "metadata": {},
     "output_type": "display_data"
    }
   ],
   "source": [
    "plt.figure(1, figsize=(15, 8))\n",
    "plt.title('Log-log plot of out-degrees')\n",
    "plt.loglog(vhist_out[1][:-1], vhist_out[0])\n",
    "plt.xlabel('Out-degree')\n",
    "plt.ylabel('Number of vertices')\n",
    "plt.show"
   ]
  },
  {
   "cell_type": "markdown",
   "metadata": {},
   "source": [
    "### 5.4 Shortest Path Between Selected Nodes <a id=\"54\"></a>"
   ]
  },
  {
   "cell_type": "markdown",
   "metadata": {},
   "source": [
    "One of the central premises of our project idea was to find out how connected the patents in the graph actually are. One important step for this goal is to see if there even exists any path between two important patents of our choice and how short this path can be. We therefore compute the shortest path and print it out if it exists. Below, some examples of this pipeline are listed.\n",
    "\n",
    "Some interesting patent ids:\n",
    "\n",
    "- Google page rank: 6285999\n",
    "- Snapchat Augmented Reality: 9652896\n",
    "- Dropbox Network folder synchronization: 8825597\n",
    "- Facebook Dynamically generating a privacy summary: 8225376\n",
    "- SolarCity Methods for financing renewable energy systems: 7904382\n",
    "- GoPro Harness system for attaching camera to user: 6955484\n",
    "- Apple Microcomputer for use with video display 4136359\n",
    "- Semiconductor: 2981877"
   ]
  },
  {
   "cell_type": "code",
   "execution_count": 52,
   "metadata": {
    "collapsed": true
   },
   "outputs": [],
   "source": [
    "def list_shortest_path(source, target, graph, verbose=False):\n",
    "    '''Compute and print the shortest path between two patents.\n",
    "    This function will pull the patent titles from the patentsview.org api.\n",
    "    \n",
    "    Keyword arguments:\n",
    "    source -- Patent id of source node (string)\n",
    "    target -- Patent id of target node (string)\n",
    "    graph -- Patent graph\n",
    "    verbose -- Set to true to print out shortest path (default=False)\n",
    "    '''\n",
    "    \n",
    "    source_int_id = hex_to_int(source)\n",
    "    target_int_id = hex_to_int(target)\n",
    "    \n",
    "    source_vertex = find_vertex(graph, graph.vertex_properties.id, source_int_id)\n",
    "    if (len(source_vertex) == 0):\n",
    "        print('Source not found in graph.')\n",
    "        return None\n",
    "    \n",
    "    target_vertex = find_vertex(graph, graph.vertex_properties.id, target_int_id)\n",
    "    if (len(target_vertex) == 0):\n",
    "        print('Target not found in graph.')\n",
    "        return None\n",
    "    \n",
    "    path = shortest_path(graph, source_vertex[0], target_vertex[0])\n",
    "    \n",
    "    if (len(path[0]) == 0):\n",
    "        print('The graph contains no path from source to target.')\n",
    "        return None\n",
    "    \n",
    "    if verbose:\n",
    "        print('Shortest path:\\n--------------')\n",
    "        for idx, v in enumerate(path[0]):\n",
    "            patent_id = int_to_hex(graph.vp.id[int(v)])\n",
    "            patent_URL = 'http://www.patentsview.org/api/patents/query?q={\"patent_number\":\"' + patent_id + '\"}'\n",
    "            patent_info = requests.get(patent_URL).json()\n",
    "            if (patent_info['patents'] is None):\n",
    "                patent_title = '-No title available-'\n",
    "            else:\n",
    "                patent_title = patent_info['patents'][0]['patent_title']\n",
    "            print('ID: {}\\t{}'.format(patent_id, patent_title))\n",
    "            if (idx < len(path[0])-1):\n",
    "                print('↓')\n",
    "            \n",
    "    return path"
   ]
  },
  {
   "cell_type": "code",
   "execution_count": 50,
   "metadata": {},
   "outputs": [
    {
     "name": "stdout",
     "output_type": "stream",
     "text": [
      "Shortest path:\n",
      "--------------\n",
      "ID: 9652896\tImage based tracking in augmented reality systems\n",
      "↓\n",
      "ID: 9098926\tGenerating three-dimensional fa&#xe7;ade models from images\n",
      "↓\n",
      "ID: 7174039\tSystem and method for embodying virtual reality\n",
      "↓\n",
      "ID: 6888552\tHigh dynamic range image editing\n",
      "↓\n",
      "ID: 6396505\tMethods and apparatus for detecting and reducing color errors in images\n",
      "↓\n",
      "ID: 4136359\tMicrocomputer for use with video display\n"
     ]
    }
   ],
   "source": [
    "# Shortest path between Snapchat Augmented Reality and Apple II patents\n",
    "_ = list_shortest_path('9652896', '4136359', graph, verbose=True)"
   ]
  },
  {
   "cell_type": "code",
   "execution_count": 70,
   "metadata": {},
   "outputs": [
    {
     "name": "stdout",
     "output_type": "stream",
     "text": [
      "Shortest path:\n",
      "--------------\n",
      "ID: 6285999\tMethod for node ranking in a linked database\n",
      "↓\n",
      "ID: 6014678\tApparatus for preparing a hyper-text document of pieces of information having reference relationships with each other\n",
      "↓\n",
      "ID: 5634062\tSystem for managing hypertext node information and link information\n",
      "↓\n",
      "ID: 5446891\tSystem for adjusting hypertext links with weighed user goals and activities\n",
      "↓\n",
      "ID: 5021976\tMethod and system for generating dynamic, interactive visual representations of information structures within a computer\n",
      "↓\n",
      "ID: 4752893\tGraphics data processing apparatus having image operations with transparent color having a selectable number of bits\n",
      "↓\n",
      "ID: 4590463\tDigital control of color in CRT display\n",
      "↓\n",
      "ID: 4276543\tMonolithic triple diffusion analog to digital converter\n",
      "↓\n",
      "ID: 3981072\tBipolar transistor construction method\n",
      "↓\n",
      "ID: 2981877\t-No title available-\n"
     ]
    }
   ],
   "source": [
    "# Shortest path between Google Page Rank and Semiconductor patents\n",
    "_ = list_shortest_path('6285999', '2981877', graph, verbose=True)"
   ]
  },
  {
   "cell_type": "markdown",
   "metadata": {},
   "source": [
    "### 5.5 Speed of Complex Graph Algorithms <a id=\"55\"></a>\n",
    "\n",
    "Searching the shortest path between two patents running in O(V+E):"
   ]
  },
  {
   "cell_type": "code",
   "execution_count": 11,
   "metadata": {},
   "outputs": [
    {
     "name": "stdout",
     "output_type": "stream",
     "text": [
      "Elapsed time: 0.1490846929999634 seconds\n"
     ]
    }
   ],
   "source": [
    "source_int_id = hex_to_int('9652896')\n",
    "target_int_id = hex_to_int('4136359')\n",
    "source_vertex = find_vertex(graph, graph.vertex_properties.id, source_int_id)\n",
    "target_vertex = find_vertex(graph, graph.vertex_properties.id, target_int_id)\n",
    "\n",
    "t = time.process_time()\n",
    "shortest_path(graph, source_vertex[0], target_vertex[0])\n",
    "elapsed_time = time.process_time() - t\n",
    "print('Elapsed time:', elapsed_time, 'seconds')"
   ]
  },
  {
   "cell_type": "markdown",
   "metadata": {},
   "source": [
    "Calculating the histogram of vertex in-degrees running in O(V):"
   ]
  },
  {
   "cell_type": "code",
   "execution_count": 44,
   "metadata": {},
   "outputs": [
    {
     "name": "stdout",
     "output_type": "stream",
     "text": [
      "Elapsed time: 0.23201369599996724 seconds\n"
     ]
    }
   ],
   "source": [
    "t = time.process_time()\n",
    "vertex_hist(graph, 'in')\n",
    "elapsed_time = time.process_time() - t\n",
    "print('Elapsed time:', elapsed_time, 'seconds')"
   ]
  },
  {
   "cell_type": "markdown",
   "metadata": {},
   "source": [
    "Calculating the minimum spanning tree running in O(E log E):"
   ]
  },
  {
   "cell_type": "code",
   "execution_count": 4,
   "metadata": {},
   "outputs": [
    {
     "name": "stdout",
     "output_type": "stream",
     "text": [
      "Elapsed time: 97.59106510199996 seconds\n"
     ]
    }
   ],
   "source": [
    "t = time.process_time()\n",
    "min_spanning_tree(graph)\n",
    "elapsed_time = time.process_time() - t\n",
    "print('Elapsed time:', elapsed_time, 'seconds')"
   ]
  },
  {
   "cell_type": "markdown",
   "metadata": {},
   "source": [
    "Calculating an iterator for all the cycles in the graph running in worst time complexity O((V+E)\\*(C+1)), where C is the number of cycles:"
   ]
  },
  {
   "cell_type": "code",
   "execution_count": 5,
   "metadata": {},
   "outputs": [
    {
     "name": "stdout",
     "output_type": "stream",
     "text": [
      "Elapsed time: 71.96241059899995 seconds\n"
     ]
    }
   ],
   "source": [
    "t = time.process_time()\n",
    "all_circuits(graph)\n",
    "elapsed_time = time.process_time() - t\n",
    "print('Elapsed time:', elapsed_time, 'seconds')"
   ]
  },
  {
   "cell_type": "markdown",
   "metadata": {},
   "source": [
    "We tried running an O(V^2) algorithm (shortest-distance histogram for each vertex pair in the graph) but it did not finish in a reasonable amount of time. Assuming 8 Million vertices, V^2 is in the order of 6.4e+13, which would take days to compute. We will therefore not use algorithms of this complexity and resort to approximating our results by sampling a random (but not too small) subset of the graph. Below is a test of this function with a small sample size."
   ]
  },
  {
   "cell_type": "code",
   "execution_count": 102,
   "metadata": {},
   "outputs": [
    {
     "name": "stdout",
     "output_type": "stream",
     "text": [
      "Elapsed time: 552.3472660000001 seconds\n"
     ]
    }
   ],
   "source": [
    "t = time.process_time()\n",
    "dist_hist = distance_histogram(graph, samples=1000)\n",
    "elapsed_time = time.process_time() - t\n",
    "print('Elapsed time:', elapsed_time, 'seconds')"
   ]
  },
  {
   "cell_type": "code",
   "execution_count": 103,
   "metadata": {
    "scrolled": false
   },
   "outputs": [
    {
     "data": {
      "text/plain": [
       "<function matplotlib.pyplot.show>"
      ]
     },
     "execution_count": 103,
     "metadata": {},
     "output_type": "execute_result"
    },
    {
     "data": {
      "image/png": "[encoded data removed]",
      "text/plain": [
       "<matplotlib.figure.Figure at 0x7f9f3a690f98>"
      ]
     },
     "metadata": {},
     "output_type": "display_data"
    }
   ],
   "source": [
    "plt.figure(1, figsize=(15, 8))\n",
    "plt.title('Histogram of shortest distances (sampled) (slice from 0 to 60)')\n",
    "plt.bar(dist_hist[1][:-1], dist_hist[0])\n",
    "plt.xlim((0,60))\n",
    "plt.xlabel('Shortest distance')\n",
    "plt.ylabel('Number of vertices')\n",
    "plt.show"
   ]
  },
  {
   "cell_type": "markdown",
   "metadata": {},
   "source": [
    "### 5.6 Connected Components <a id=\"56\"></a>\n",
    "\n",
    "To get a good sense of the topology of our graph, it is useful to know what and how big the connected compontents are. Hereby, we will calculate all connected components assuming undirectedness of the graph."
   ]
  },
  {
   "cell_type": "code",
   "execution_count": 68,
   "metadata": {
    "collapsed": true
   },
   "outputs": [],
   "source": [
    "comp_prop = label_largest_component(graph, directed=False)\n",
    "comp_arr = comp_prop.get_array()"
   ]
  },
  {
   "cell_type": "code",
   "execution_count": 70,
   "metadata": {},
   "outputs": [
    {
     "data": {
      "text/plain": [
       "(8274991,)"
      ]
     },
     "execution_count": 70,
     "metadata": {},
     "output_type": "execute_result"
    }
   ],
   "source": [
    "comp_arr.shape"
   ]
  },
  {
   "cell_type": "code",
   "execution_count": 74,
   "metadata": {},
   "outputs": [
    {
     "data": {
      "text/plain": [
       "(8261059,)"
      ]
     },
     "execution_count": 74,
     "metadata": {},
     "output_type": "execute_result"
    }
   ],
   "source": [
    "comp_arr[comp_arr == 1].shape"
   ]
  },
  {
   "cell_type": "markdown",
   "metadata": {},
   "source": [
    "We get a surprising and very interesting result! Almost the whole graph (99.998%) is connected! This means that almost every invention is in some sense connected with the larger tree of preceding patents."
   ]
  },
  {
   "cell_type": "markdown",
   "metadata": {},
   "source": [
    "## 6. Most important patents <a id=\"6\"></a>\n",
    "\n",
    "We would like to see which are the most important US patents between 1976 and 2016. For this purpose, we first get the 1000 nodes with the highest in degree and the 1000 nodes with the highest page rank."
   ]
  },
  {
   "cell_type": "code",
   "execution_count": 4,
   "metadata": {
    "collapsed": true
   },
   "outputs": [],
   "source": [
    "# Getting the in-degree of each vertex\n",
    "vertices = [int(v) for v in graph.vertices()]\n",
    "in_deg = graph.get_in_degrees(vertices)"
   ]
  },
  {
   "cell_type": "code",
   "execution_count": null,
   "metadata": {
    "collapsed": true,
    "scrolled": true
   },
   "outputs": [],
   "source": [
    "highest_in = []\n",
    "\n",
    "max_in_degs = heapq.nlargest(1000, enumerate(in_deg), key=lambda x: x[1])\n",
    "\n",
    "for idx, deg in enumerate(max_in_degs):\n",
    "    patent_id = int_to_hex(graph.vp.id[deg[0]])\n",
    "    patent_URL = 'http://www.patentsview.org/api/patents/query?q={\"patent_number\":\"' + patent_id + '\"}'\n",
    "    patent_info = requests.get(patent_URL).json()\n",
    "    if patent_info['patents']:\n",
    "        patent_title = patent_info['patents'][0]['patent_title']\n",
    "    else:\n",
    "        patent_title = '- No title available -'\n",
    "    in_degree = deg[1]\n",
    "    highest_in.append([patent_id, in_degree, patent_title])\n",
    "    if idx % 100 == 0:\n",
    "        print(idx)"
   ]
  },
  {
   "cell_type": "markdown",
   "metadata": {},
   "source": [
    "To work be able to work with it outside of a jupyter notebook, we export it as a csv:"
   ]
  },
  {
   "cell_type": "code",
   "execution_count": 55,
   "metadata": {
    "collapsed": true
   },
   "outputs": [],
   "source": [
    "highest_in = np.array(highest_in)\n",
    "output_file = open('./csvs/highest_in.csv', 'w')\n",
    "with output_file:  \n",
    "    writer = csv.writer(output_file)\n",
    "    writer.writerow(['patent_id', 'in_degree', 'patent_title'])\n",
    "    writer.writerows(highest_in)"
   ]
  },
  {
   "cell_type": "markdown",
   "metadata": {},
   "source": [
    "Now we calculate the page rank of each patent node in the citations graph. This algorithm does not take too long to compute."
   ]
  },
  {
   "cell_type": "code",
   "execution_count": 56,
   "metadata": {
    "collapsed": true
   },
   "outputs": [],
   "source": [
    "pr = pagerank(graph)"
   ]
  },
  {
   "cell_type": "code",
   "execution_count": null,
   "metadata": {
    "collapsed": true
   },
   "outputs": [],
   "source": [
    "highest_pr = []\n",
    "\n",
    "max_pr = heapq.nlargest(1000, enumerate(pr), key=lambda x: x[1])\n",
    "\n",
    "for idx, deg in enumerate(max_pr):\n",
    "    patent_id = int_to_hex(graph.vp.id[deg[0]])\n",
    "    patent_URL = 'http://www.patentsview.org/api/patents/query?q={\"patent_number\":\"' + patent_id + '\"}'\n",
    "    patent_info = requests.get(patent_URL).json()\n",
    "    if patent_info['patents']:\n",
    "        patent_title = patent_info['patents'][0]['patent_title']\n",
    "    else:\n",
    "        patent_title = '- No title available -'\n",
    "    rank = deg[1]\n",
    "    highest_pr.append([patent_id, rank, patent_title])\n",
    "    if idx % 100 == 0:\n",
    "        print(idx)"
   ]
  },
  {
   "cell_type": "markdown",
   "metadata": {
    "collapsed": true
   },
   "source": [
    "Again we save the top 1000 nodes to a csv file:"
   ]
  },
  {
   "cell_type": "code",
   "execution_count": 63,
   "metadata": {
    "collapsed": true
   },
   "outputs": [],
   "source": [
    "highest_pr = np.array(highest_pr)\n",
    "output_file = open('./csvs/highest_pr.csv', 'w')\n",
    "with output_file:  \n",
    "    writer = csv.writer(output_file)\n",
    "    writer.writerow(['patent_id', 'pagerank', 'patent_title'])\n",
    "    writer.writerows(highest_pr)"
   ]
  },
  {
   "cell_type": "markdown",
   "metadata": {},
   "source": [
    "We can load the saved files again in the following way:"
   ]
  },
  {
   "cell_type": "code",
   "execution_count": 3,
   "metadata": {},
   "outputs": [],
   "source": [
    "top_in_deg = pd.read_csv('./csvs/highest_in.csv')\n",
    "top_in_deg.patent_id = top_in_deg.patent_id.apply(str)\n",
    "top_pr = pd.read_csv('./csvs/highest_pr.csv')\n",
    "top_pr.patent_id = top_pr.patent_id.apply(str)"
   ]
  },
  {
   "cell_type": "code",
   "execution_count": 4,
   "metadata": {},
   "outputs": [
    {
     "data": {
      "text/html": [
       "<div>\n",
       "<style>\n",
       "    .dataframe thead tr:only-child th {\n",
       "        text-align: right;\n",
       "    }\n",
       "\n",
       "    .dataframe thead th {\n",
       "        text-align: left;\n",
       "    }\n",
       "\n",
       "    .dataframe tbody tr th {\n",
       "        vertical-align: top;\n",
       "    }\n",
       "</style>\n",
       "<table border=\"1\" class=\"dataframe\">\n",
       "  <thead>\n",
       "    <tr style=\"text-align: right;\">\n",
       "      <th></th>\n",
       "      <th>patent_id</th>\n",
       "      <th>in_degree</th>\n",
       "      <th>rank_in</th>\n",
       "      <th>patent_title_in</th>\n",
       "    </tr>\n",
       "  </thead>\n",
       "  <tbody>\n",
       "    <tr>\n",
       "      <th>0</th>\n",
       "      <td>4683202</td>\n",
       "      <td>3709</td>\n",
       "      <td>1</td>\n",
       "      <td>Process for amplifying nucleic acid sequences</td>\n",
       "    </tr>\n",
       "    <tr>\n",
       "      <th>1</th>\n",
       "      <td>5523520</td>\n",
       "      <td>3342</td>\n",
       "      <td>2</td>\n",
       "      <td>Mutant dwarfism gene of petunia</td>\n",
       "    </tr>\n",
       "    <tr>\n",
       "      <th>2</th>\n",
       "      <td>4683195</td>\n",
       "      <td>3188</td>\n",
       "      <td>3</td>\n",
       "      <td>Process for amplifying, detecting, and/or-clon...</td>\n",
       "    </tr>\n",
       "    <tr>\n",
       "      <th>3</th>\n",
       "      <td>4733665</td>\n",
       "      <td>2697</td>\n",
       "      <td>4</td>\n",
       "      <td>Expandable intraluminal graft, and method and ...</td>\n",
       "    </tr>\n",
       "    <tr>\n",
       "      <th>4</th>\n",
       "      <td>5892900</td>\n",
       "      <td>2451</td>\n",
       "      <td>5</td>\n",
       "      <td>Systems and methods for secure transaction man...</td>\n",
       "    </tr>\n",
       "  </tbody>\n",
       "</table>\n",
       "</div>"
      ],
      "text/plain": [
       "  patent_id  in_degree  rank_in  \\\n",
       "0   4683202       3709        1   \n",
       "1   5523520       3342        2   \n",
       "2   4683195       3188        3   \n",
       "3   4733665       2697        4   \n",
       "4   5892900       2451        5   \n",
       "\n",
       "                                     patent_title_in  \n",
       "0      Process for amplifying nucleic acid sequences  \n",
       "1                    Mutant dwarfism gene of petunia  \n",
       "2  Process for amplifying, detecting, and/or-clon...  \n",
       "3  Expandable intraluminal graft, and method and ...  \n",
       "4  Systems and methods for secure transaction man...  "
      ]
     },
     "execution_count": 4,
     "metadata": {},
     "output_type": "execute_result"
    }
   ],
   "source": [
    "top_in_deg.head()"
   ]
  },
  {
   "cell_type": "code",
   "execution_count": 5,
   "metadata": {},
   "outputs": [
    {
     "data": {
      "text/html": [
       "<div>\n",
       "<style>\n",
       "    .dataframe thead tr:only-child th {\n",
       "        text-align: right;\n",
       "    }\n",
       "\n",
       "    .dataframe thead th {\n",
       "        text-align: left;\n",
       "    }\n",
       "\n",
       "    .dataframe tbody tr th {\n",
       "        vertical-align: top;\n",
       "    }\n",
       "</style>\n",
       "<table border=\"1\" class=\"dataframe\">\n",
       "  <thead>\n",
       "    <tr style=\"text-align: right;\">\n",
       "      <th></th>\n",
       "      <th>patent_id</th>\n",
       "      <th>pagerank</th>\n",
       "      <th>rank_pr</th>\n",
       "      <th>patent_title_pr</th>\n",
       "    </tr>\n",
       "  </thead>\n",
       "  <tbody>\n",
       "    <tr>\n",
       "      <th>0</th>\n",
       "      <td>4237224</td>\n",
       "      <td>0.000029</td>\n",
       "      <td>1</td>\n",
       "      <td>Process for producing biologically functional ...</td>\n",
       "    </tr>\n",
       "    <tr>\n",
       "      <th>1</th>\n",
       "      <td>3813316</td>\n",
       "      <td>0.000025</td>\n",
       "      <td>2</td>\n",
       "      <td>- No title available -</td>\n",
       "    </tr>\n",
       "    <tr>\n",
       "      <th>2</th>\n",
       "      <td>4309756</td>\n",
       "      <td>0.000019</td>\n",
       "      <td>3</td>\n",
       "      <td>Method of automatically evaluating source lang...</td>\n",
       "    </tr>\n",
       "    <tr>\n",
       "      <th>3</th>\n",
       "      <td>4558413</td>\n",
       "      <td>0.000018</td>\n",
       "      <td>4</td>\n",
       "      <td>Software version management system</td>\n",
       "    </tr>\n",
       "    <tr>\n",
       "      <th>4</th>\n",
       "      <td>4395486</td>\n",
       "      <td>0.000017</td>\n",
       "      <td>5</td>\n",
       "      <td>Method for the direct analysis of sickle cell ...</td>\n",
       "    </tr>\n",
       "  </tbody>\n",
       "</table>\n",
       "</div>"
      ],
      "text/plain": [
       "  patent_id  pagerank  rank_pr  \\\n",
       "0   4237224  0.000029        1   \n",
       "1   3813316  0.000025        2   \n",
       "2   4309756  0.000019        3   \n",
       "3   4558413  0.000018        4   \n",
       "4   4395486  0.000017        5   \n",
       "\n",
       "                                     patent_title_pr  \n",
       "0  Process for producing biologically functional ...  \n",
       "1                             - No title available -  \n",
       "2  Method of automatically evaluating source lang...  \n",
       "3                 Software version management system  \n",
       "4  Method for the direct analysis of sickle cell ...  "
      ]
     },
     "execution_count": 5,
     "metadata": {},
     "output_type": "execute_result"
    }
   ],
   "source": [
    "top_pr.head()"
   ]
  },
  {
   "cell_type": "markdown",
   "metadata": {
    "collapsed": true,
    "scrolled": false
   },
   "source": [
    "We would like to see which are the \"best\" patents from both rankings. For this, it comes natural to take the average rank and sort by it."
   ]
  },
  {
   "cell_type": "code",
   "execution_count": 11,
   "metadata": {},
   "outputs": [
    {
     "data": {
      "text/html": [
       "<div>\n",
       "<style>\n",
       "    .dataframe thead tr:only-child th {\n",
       "        text-align: right;\n",
       "    }\n",
       "\n",
       "    .dataframe thead th {\n",
       "        text-align: left;\n",
       "    }\n",
       "\n",
       "    .dataframe tbody tr th {\n",
       "        vertical-align: top;\n",
       "    }\n",
       "</style>\n",
       "<table border=\"1\" class=\"dataframe\">\n",
       "  <thead>\n",
       "    <tr style=\"text-align: right;\">\n",
       "      <th></th>\n",
       "      <th>patent_id</th>\n",
       "      <th>in_degree</th>\n",
       "      <th>rank_in</th>\n",
       "      <th>patent_title_in</th>\n",
       "      <th>pagerank</th>\n",
       "      <th>rank_pr</th>\n",
       "      <th>patent_title_pr</th>\n",
       "      <th>rank_avg</th>\n",
       "    </tr>\n",
       "  </thead>\n",
       "  <tbody>\n",
       "    <tr>\n",
       "      <th>0</th>\n",
       "      <td>4683202</td>\n",
       "      <td>3709</td>\n",
       "      <td>1</td>\n",
       "      <td>Process for amplifying nucleic acid sequences</td>\n",
       "      <td>0.000017</td>\n",
       "      <td>6</td>\n",
       "      <td>Process for amplifying nucleic acid sequences</td>\n",
       "      <td>3.5</td>\n",
       "    </tr>\n",
       "    <tr>\n",
       "      <th>2</th>\n",
       "      <td>4683195</td>\n",
       "      <td>3188</td>\n",
       "      <td>3</td>\n",
       "      <td>Process for amplifying, detecting, and/or-clon...</td>\n",
       "      <td>0.000017</td>\n",
       "      <td>7</td>\n",
       "      <td>Process for amplifying, detecting, and/or-clon...</td>\n",
       "      <td>5.0</td>\n",
       "    </tr>\n",
       "    <tr>\n",
       "      <th>1</th>\n",
       "      <td>5523520</td>\n",
       "      <td>3342</td>\n",
       "      <td>2</td>\n",
       "      <td>Mutant dwarfism gene of petunia</td>\n",
       "      <td>0.000013</td>\n",
       "      <td>10</td>\n",
       "      <td>Mutant dwarfism gene of petunia</td>\n",
       "      <td>6.0</td>\n",
       "    </tr>\n",
       "    <tr>\n",
       "      <th>7</th>\n",
       "      <td>4723129</td>\n",
       "      <td>1871</td>\n",
       "      <td>31</td>\n",
       "      <td>Bubble jet recording method and apparatus in w...</td>\n",
       "      <td>0.000008</td>\n",
       "      <td>34</td>\n",
       "      <td>Bubble jet recording method and apparatus in w...</td>\n",
       "      <td>32.5</td>\n",
       "    </tr>\n",
       "    <tr>\n",
       "      <th>8</th>\n",
       "      <td>5572643</td>\n",
       "      <td>1811</td>\n",
       "      <td>34</td>\n",
       "      <td>Web browser with dynamic display of informatio...</td>\n",
       "      <td>0.000008</td>\n",
       "      <td>36</td>\n",
       "      <td>Web browser with dynamic display of informatio...</td>\n",
       "      <td>35.0</td>\n",
       "    </tr>\n",
       "    <tr>\n",
       "      <th>12</th>\n",
       "      <td>4463359</td>\n",
       "      <td>1680</td>\n",
       "      <td>38</td>\n",
       "      <td>Droplet generating method and apparatus thereof</td>\n",
       "      <td>0.000008</td>\n",
       "      <td>32</td>\n",
       "      <td>Droplet generating method and apparatus thereof</td>\n",
       "      <td>35.0</td>\n",
       "    </tr>\n",
       "    <tr>\n",
       "      <th>19</th>\n",
       "      <td>5103459</td>\n",
       "      <td>1554</td>\n",
       "      <td>48</td>\n",
       "      <td>System and method for generating signal wavefo...</td>\n",
       "      <td>0.000009</td>\n",
       "      <td>23</td>\n",
       "      <td>System and method for generating signal wavefo...</td>\n",
       "      <td>35.5</td>\n",
       "    </tr>\n",
       "    <tr>\n",
       "      <th>33</th>\n",
       "      <td>4901307</td>\n",
       "      <td>1407</td>\n",
       "      <td>67</td>\n",
       "      <td>Spread spectrum multiple access communication ...</td>\n",
       "      <td>0.000008</td>\n",
       "      <td>29</td>\n",
       "      <td>Spread spectrum multiple access communication ...</td>\n",
       "      <td>48.0</td>\n",
       "    </tr>\n",
       "    <tr>\n",
       "      <th>17</th>\n",
       "      <td>4740796</td>\n",
       "      <td>1587</td>\n",
       "      <td>46</td>\n",
       "      <td>Bubble jet recording method and apparatus in w...</td>\n",
       "      <td>0.000006</td>\n",
       "      <td>83</td>\n",
       "      <td>Bubble jet recording method and apparatus in w...</td>\n",
       "      <td>64.5</td>\n",
       "    </tr>\n",
       "    <tr>\n",
       "      <th>21</th>\n",
       "      <td>4558333</td>\n",
       "      <td>1476</td>\n",
       "      <td>51</td>\n",
       "      <td>Liquid jet recording head</td>\n",
       "      <td>0.000006</td>\n",
       "      <td>103</td>\n",
       "      <td>Liquid jet recording head</td>\n",
       "      <td>77.0</td>\n",
       "    </tr>\n",
       "  </tbody>\n",
       "</table>\n",
       "</div>"
      ],
      "text/plain": [
       "   patent_id  in_degree  rank_in  \\\n",
       "0    4683202       3709        1   \n",
       "2    4683195       3188        3   \n",
       "1    5523520       3342        2   \n",
       "7    4723129       1871       31   \n",
       "8    5572643       1811       34   \n",
       "12   4463359       1680       38   \n",
       "19   5103459       1554       48   \n",
       "33   4901307       1407       67   \n",
       "17   4740796       1587       46   \n",
       "21   4558333       1476       51   \n",
       "\n",
       "                                      patent_title_in  pagerank  rank_pr  \\\n",
       "0       Process for amplifying nucleic acid sequences  0.000017        6   \n",
       "2   Process for amplifying, detecting, and/or-clon...  0.000017        7   \n",
       "1                     Mutant dwarfism gene of petunia  0.000013       10   \n",
       "7   Bubble jet recording method and apparatus in w...  0.000008       34   \n",
       "8   Web browser with dynamic display of informatio...  0.000008       36   \n",
       "12    Droplet generating method and apparatus thereof  0.000008       32   \n",
       "19  System and method for generating signal wavefo...  0.000009       23   \n",
       "33  Spread spectrum multiple access communication ...  0.000008       29   \n",
       "17  Bubble jet recording method and apparatus in w...  0.000006       83   \n",
       "21                          Liquid jet recording head  0.000006      103   \n",
       "\n",
       "                                      patent_title_pr  rank_avg  \n",
       "0       Process for amplifying nucleic acid sequences       3.5  \n",
       "2   Process for amplifying, detecting, and/or-clon...       5.0  \n",
       "1                     Mutant dwarfism gene of petunia       6.0  \n",
       "7   Bubble jet recording method and apparatus in w...      32.5  \n",
       "8   Web browser with dynamic display of informatio...      35.0  \n",
       "12    Droplet generating method and apparatus thereof      35.0  \n",
       "19  System and method for generating signal wavefo...      35.5  \n",
       "33  Spread spectrum multiple access communication ...      48.0  \n",
       "17  Bubble jet recording method and apparatus in w...      64.5  \n",
       "21                          Liquid jet recording head      77.0  "
      ]
     },
     "execution_count": 11,
     "metadata": {},
     "output_type": "execute_result"
    }
   ],
   "source": [
    "merged = top_in_deg.merge(top_pr, on='patent_id', how='inner')\n",
    "merged['rank_avg'] = (merged.rank_in + merged.rank_pr) / 2\n",
    "merged = merged.sort_values('rank_avg')\n",
    "merged.head(10)"
   ]
  },
  {
   "cell_type": "code",
   "execution_count": 9,
   "metadata": {},
   "outputs": [
    {
     "data": {
      "text/plain": [
       "98"
      ]
     },
     "execution_count": 9,
     "metadata": {},
     "output_type": "execute_result"
    }
   ],
   "source": [
    "len(merged)"
   ]
  },
  {
   "cell_type": "code",
   "execution_count": 17,
   "metadata": {
    "collapsed": true
   },
   "outputs": [],
   "source": [
    "merged.to_csv('./csvs/highest_merged.csv')"
   ]
  },
  {
   "cell_type": "markdown",
   "metadata": {},
   "source": [
    "To assess how simmilar the two ranking methods perform, we can plot a histogram of the number of patents for both rankings. Below, we see that many of the top 50 patents by in degree are also in the top 1000 patents by PageRank, but otherwise, there is not a big correlation to be seen in the two metrics."
   ]
  },
  {
   "cell_type": "code",
   "execution_count": 8,
   "metadata": {},
   "outputs": [
    {
     "data": {
      "text/plain": [
       "<seaborn.axisgrid.JointGrid at 0x7f6f585f0da0>"
      ]
     },
     "execution_count": 8,
     "metadata": {},
     "output_type": "execute_result"
    },
    {
     "data": {
      "image/png": "[encoded data removed]",
      "text/plain": [
       "<matplotlib.figure.Figure at 0x7f6f585f0c18>"
      ]
     },
     "metadata": {},
     "output_type": "display_data"
    }
   ],
   "source": [
    "sns.jointplot(x='rank_in', y='rank_pr', data=merged, kind='hex', cmap= 'cubehelix', size=8, gridsize=20)"
   ]
  },
  {
   "cell_type": "markdown",
   "metadata": {},
   "source": [
    "## 7. Shortest path between multiple sources and sinks <a id=\"7\"></a>\n",
    "\n",
    "For the website, we want to display an interactive graph showing all possible shortest paths between some selected source patents to some selected sink patents. \n",
    "\n",
    "First we calculate all shortest paths to every node in the graph using a breadth first search. Then we extract the shortest paths to the nodes we want to display and fetch the patent titles from the patentsview.org website. Finally we save all the found edges and nodes in csv files to load up and arrange in Gephi, from which we can in turn export the graph into a format readable by Sigma JS to display on the website."
   ]
  },
  {
   "cell_type": "code",
   "execution_count": 4,
   "metadata": {
    "collapsed": true
   },
   "outputs": [],
   "source": [
    "class ShortestPathVisitor(BFSVisitor):\n",
    "    '''\n",
    "    Visits all nodes reachable from a source node and saves\n",
    "    shortest distance and list of predecessor nodes to get\n",
    "    back to the source node.\n",
    "    '''\n",
    "    def __init__(self, name, pred, dist):\n",
    "        self.name = name\n",
    "        self.pred = pred\n",
    "        self.dist = dist\n",
    "            \n",
    "    def examine_edge(self, e):\n",
    "        # Getting distance of next node\n",
    "        next_dist = self.dist[e.source()] + 1\n",
    "            \n",
    "        # Checking if target has shorter connections\n",
    "        if self.pred[e.target()]:\n",
    "            if next_dist == self.dist[e.target()]:\n",
    "                self.pred[e.target()].append(int(e.source()))\n",
    "        else: # First to discover is shortest\n",
    "            self.pred[e.target()].append(int(e.source()))\n",
    "            self.dist[e.target()] = next_dist"
   ]
  },
  {
   "cell_type": "code",
   "execution_count": 5,
   "metadata": {
    "collapsed": true
   },
   "outputs": [],
   "source": [
    "def all_shortest_paths(graph, pred, source, sink):\n",
    "    '''Returns all shortest paths from a source to a sink.\n",
    "    Uses graph indices.\n",
    "    Returns vertex set, edge set.'''\n",
    "    if (source == sink):\n",
    "        return set([sink]), set()\n",
    "    \n",
    "    vertices = set([sink])\n",
    "    edges = set()\n",
    "    \n",
    "    for v in pred[sink]:\n",
    "        edges.add((v,sink))\n",
    "        v_rec, e_rec = all_shortest_paths(graph, pred, source, v)\n",
    "        vertices = vertices | v_rec\n",
    "        edges = edges | e_rec\n",
    "        \n",
    "    return vertices, edges"
   ]
  },
  {
   "cell_type": "code",
   "execution_count": 6,
   "metadata": {
    "collapsed": true
   },
   "outputs": [],
   "source": [
    "def all_shortest_paths_combined(graph, source_list, sink_list):\n",
    "    '''Compute all shortest paths between all sources and all sinks to form a graph of those connections.\n",
    "    Sources and sinks are patent ids (strings).'''\n",
    "    \n",
    "    vertices = set()\n",
    "    edges = set()\n",
    "    \n",
    "    for source in source_list:\n",
    "        print('Computing all shortest paths from ' + source)\n",
    "        dist = graph.new_vertex_property(\"int\")\n",
    "        pred = graph.new_vertex_property(\"vector<int32_t>\")\n",
    "        \n",
    "        source_vertex = find_vertex(graph, graph.vertex_properties.id, hex_to_int(source))[0]\n",
    "        bfs_search(graph, int(source_vertex), ShortestPathVisitor('SPV_' + source, pred, dist))\n",
    "        \n",
    "        for sink in sink_list:\n",
    "            print('\\tto ' + sink)\n",
    "            sink_vertex = find_vertex(graph, graph.vertex_properties.id, hex_to_int(sink))[0]\n",
    "            vs, es = all_shortest_paths(graph, pred, int(source_vertex), int(sink_vertex))\n",
    "            vertices = vertices | vs\n",
    "            edges = edges | es\n",
    "        \n",
    "    return vertices, edges      "
   ]
  },
  {
   "cell_type": "code",
   "execution_count": 8,
   "metadata": {
    "collapsed": true
   },
   "outputs": [],
   "source": [
    "source_list = ['6285999', '8046721', '8930044']\n",
    "sink_list = ['2981877', '821393', '676332']"
   ]
  },
  {
   "cell_type": "code",
   "execution_count": 9,
   "metadata": {
    "scrolled": false
   },
   "outputs": [
    {
     "name": "stdout",
     "output_type": "stream",
     "text": [
      "Computing all shortest paths from 6285999\n",
      "\tto 2981877\n",
      "\tto 821393\n",
      "\tto 676332\n",
      "Computing all shortest paths from 8046721\n",
      "\tto 2981877\n",
      "\tto 821393\n",
      "\tto 676332\n",
      "Computing all shortest paths from 8930044\n",
      "\tto 2981877\n",
      "\tto 821393\n",
      "\tto 676332\n"
     ]
    }
   ],
   "source": [
    "asp = all_shortest_paths_combined(graph, source_list, sink_list)"
   ]
  },
  {
   "cell_type": "markdown",
   "metadata": {},
   "source": [
    "Convert paths to CSVs:"
   ]
  },
  {
   "cell_type": "code",
   "execution_count": 10,
   "metadata": {
    "collapsed": true
   },
   "outputs": [],
   "source": [
    "def paths_vertices_to_csv(paths, filename):\n",
    "    vertices = []\n",
    "    \n",
    "    for p in paths: # For each path\n",
    "        for v in p[0]: # For all the vertices in that path\n",
    "            patent_id = int_to_hex(graph.vp.id[int(v)])\n",
    "            patent_URL = 'http://www.patentsview.org/api/patents/query?q={\"patent_number\":\"' + patent_id + '\"}'\n",
    "            patent_info = requests.get(patent_URL).json()\n",
    "            if (patent_info['patents'] is None):\n",
    "                patent_title = '-No title available-'\n",
    "            else:\n",
    "                patent_title = patent_info['patents'][0]['patent_title']\n",
    "            vertices.append([patent_id, patent_title])\n",
    "            \n",
    "    output_file = open(filename, 'w')\n",
    "    with output_file:  \n",
    "        writer = csv.writer(output_file)\n",
    "        writer.writerow(['Id', 'Label'])\n",
    "        writer.writerows(vertices)\n",
    "\n",
    "    return vertices"
   ]
  },
  {
   "cell_type": "code",
   "execution_count": 11,
   "metadata": {
    "collapsed": true
   },
   "outputs": [],
   "source": [
    "vertices = paths_vertices_to_csv([asp], './csvs/path_vertices.csv')"
   ]
  },
  {
   "cell_type": "code",
   "execution_count": 12,
   "metadata": {
    "collapsed": true
   },
   "outputs": [],
   "source": [
    "def paths_edges_to_csv(paths, filename):\n",
    "    edges = []\n",
    "    \n",
    "    for p in paths: # For each path\n",
    "        for e in p[1]: # For all the edges in that path\n",
    "            source_index = int(e[0])\n",
    "            source_id = int_to_hex(graph.vp.id[source_index])\n",
    "            target_index = int(e[1])\n",
    "            target_id = int_to_hex(graph.vp.id[target_index])\n",
    "            \n",
    "            edges.append([source_id, target_id])\n",
    "            \n",
    "    output_file = open(filename, 'w')\n",
    "    with output_file:  \n",
    "        writer = csv.writer(output_file)\n",
    "        writer.writerow(['Source', 'Target'])\n",
    "        writer.writerows(edges)\n",
    "        \n",
    "    return edges"
   ]
  },
  {
   "cell_type": "code",
   "execution_count": 13,
   "metadata": {
    "collapsed": true
   },
   "outputs": [],
   "source": [
    "edges = paths_edges_to_csv([asp], './csvs/path_edges.csv')"
   ]
  },
  {
   "cell_type": "markdown",
   "metadata": {},
   "source": [
    "## 8. Shortest paths with distances <a id=\"8\"></a>\n",
    "\n",
    "For the next visualisation, we want to show the shortest path from one source node to many selected sink nodes. We want to save the distance to the source to allow for an appealing visualisation where the distance is hierarchically separated.\n",
    "\n",
    "We use the same pipeline as before again to display the interactive graph on the website."
   ]
  },
  {
   "cell_type": "code",
   "execution_count": null,
   "metadata": {
    "collapsed": true
   },
   "outputs": [],
   "source": [
    "def all_shortest_paths_combined_dist(graph, source, sink_list, dist, pred):\n",
    "    vertices = set()\n",
    "    edges = set()\n",
    "    \n",
    "    print('Computing all shortest paths from ' + source)    \n",
    "    source_vertex = find_vertex(graph, graph.vertex_properties.id, hex_to_int(source))[0]\n",
    "    bfs_search(graph, int(source_vertex), ShortestPathVisitor('SPV_' + source, pred, dist))\n",
    "        \n",
    "    for sink in sink_list:\n",
    "        print('\\tto ' + sink)\n",
    "        sink_vertex = find_vertex(graph, graph.vertex_properties.id, hex_to_int(sink))[0]\n",
    "        vs, es = all_shortest_paths(graph, pred, int(source_vertex), int(sink_vertex))\n",
    "        vertices = vertices | vs\n",
    "        edges = edges | es\n",
    "        \n",
    "    return vertices, edges      "
   ]
  },
  {
   "cell_type": "code",
   "execution_count": null,
   "metadata": {
    "collapsed": true
   },
   "outputs": [],
   "source": [
    "source = '6285999'\n",
    "sink_list = ['4136359', '2981877', '223898', \\\n",
    "             '821393', '3009235', '1143542', '676332']"
   ]
  },
  {
   "cell_type": "code",
   "execution_count": null,
   "metadata": {
    "collapsed": true,
    "scrolled": false
   },
   "outputs": [],
   "source": [
    "dist = graph.new_vertex_property(\"int\")\n",
    "pred = graph.new_vertex_property(\"vector<int32_t>\")\n",
    "\n",
    "asp = all_shortest_paths_combined_dist(graph, source, sink_list, dist, pred)"
   ]
  },
  {
   "cell_type": "code",
   "execution_count": null,
   "metadata": {
    "collapsed": true
   },
   "outputs": [],
   "source": [
    "max_dist = 0\n",
    "\n",
    "for sink in sink_list:\n",
    "    sink_vertex = find_vertex(graph, graph.vertex_properties.id, hex_to_int(sink))[0]\n",
    "    sink_dist = dist[sink_vertex]\n",
    "    if sink_dist > max_dist:\n",
    "        max_dist = sink_dist"
   ]
  },
  {
   "cell_type": "markdown",
   "metadata": {},
   "source": [
    "Convert paths to CSVs:"
   ]
  },
  {
   "cell_type": "code",
   "execution_count": null,
   "metadata": {
    "collapsed": true
   },
   "outputs": [],
   "source": [
    "def paths_vertices_to_csv_dist(paths, filename, dist, max_dist):\n",
    "    vertices = []\n",
    "    \n",
    "    for p in paths: # For each path\n",
    "        for v in p[0]: # For all the vertices in that path\n",
    "            patent_id = int_to_hex(graph.vp.id[int(v)])\n",
    "            patent_URL = 'http://www.patentsview.org/api/patents/query?q={\"patent_number\":\"' + patent_id + '\"}'\n",
    "            patent_info = requests.get(patent_URL).json()\n",
    "            if (patent_info['patents'] is None):\n",
    "                patent_title = '-No title available-'\n",
    "            else:\n",
    "                patent_title = patent_info['patents'][0]['patent_title']\n",
    "            vertex_dist = '<[' + str(dist[v]) + ',' + str(max_dist) + ']>'\n",
    "            z = dist[v]\n",
    "            vertices.append([patent_id, vertex_dist, z, patent_title])\n",
    "            \n",
    "    output_file = open(filename, 'w')\n",
    "    with output_file:  \n",
    "        writer = csv.writer(output_file)\n",
    "        writer.writerow(['Id', 'Interval', '[z]', 'Label'])\n",
    "        writer.writerows(vertices)\n",
    "\n",
    "    return vertices"
   ]
  },
  {
   "cell_type": "code",
   "execution_count": null,
   "metadata": {
    "collapsed": true
   },
   "outputs": [],
   "source": [
    "vertices = paths_vertices_to_csv_dist([asp], './path_vertices_dist.csv', dist, max_dist)"
   ]
  },
  {
   "cell_type": "code",
   "execution_count": null,
   "metadata": {
    "collapsed": true
   },
   "outputs": [],
   "source": [
    "def paths_edges_to_csv_dist(paths, filename):\n",
    "    edges = []\n",
    "    \n",
    "    for p in paths: # For each path\n",
    "        for e in p[1]: # For all the edges in that path\n",
    "            source_index = int(e[0])\n",
    "            source_id = int_to_hex(graph.vp.id[source_index])\n",
    "            target_index = int(e[1])\n",
    "            target_id = int_to_hex(graph.vp.id[target_index])\n",
    "            \n",
    "            edges.append([source_id, target_id])\n",
    "            \n",
    "    output_file = open(filename, 'w')\n",
    "    with output_file:  \n",
    "        writer = csv.writer(output_file)\n",
    "        writer.writerow(['Source', 'Target'])\n",
    "        writer.writerows(edges)\n",
    "        \n",
    "    return edges"
   ]
  },
  {
   "cell_type": "code",
   "execution_count": null,
   "metadata": {
    "collapsed": true
   },
   "outputs": [],
   "source": [
    "edges = paths_edges_to_csv_dist([asp], './path_edges_dist.csv')"
   ]
  },
  {
   "cell_type": "markdown",
   "metadata": {},
   "source": [
    "## 9. Visualisation of the lifetime of a node and its closest neighbours <a id=\"9\"></a>\n",
    "\n"
   ]
  },
  {
   "cell_type": "code",
   "execution_count": 6,
   "metadata": {
    "collapsed": true
   },
   "outputs": [],
   "source": [
    "class ShortestPathVisitor(BFSVisitor):\n",
    "    def __init__(self, name, dist, edge_set, vertex_set, max_dist):\n",
    "        self.name = name\n",
    "        self.dist = dist\n",
    "        self.edge_set = edge_set\n",
    "        self.vertex_set = vertex_set\n",
    "        self.max_dist = max_dist\n",
    "            \n",
    "    def examine_edge(self, e):\n",
    "        # Getting distance of next node\n",
    "        next_dist = self.dist[e.source()] + 1\n",
    "        self.dist[e.target()] = next_dist\n",
    "        \n",
    "        if next_dist <= self.max_dist:\n",
    "            self.edge_set.add((int(e.source()), int(e.target())))\n",
    "            self.vertex_set.add(int(e.target()))"
   ]
  },
  {
   "cell_type": "code",
   "execution_count": 61,
   "metadata": {
    "collapsed": true
   },
   "outputs": [],
   "source": [
    "dist = graph.new_vertex_property(\"int\")\n",
    "edge_set = set()\n",
    "vertex_set = set()\n",
    "\n",
    "source = '4200770'\n",
    "source_vertex = find_vertex(graph, graph.vertex_properties.id, hex_to_int(source))[0]\n",
    "vertex_set.add(int(source_vertex))\n",
    "\n",
    "bfs_search(graph, int(source_vertex), ShortestPathVisitor('SPV_' + source, dist, edge_set, vertex_set, 2))"
   ]
  },
  {
   "cell_type": "code",
   "execution_count": 10,
   "metadata": {
    "collapsed": true
   },
   "outputs": [],
   "source": [
    "reader = csv.reader(open(DATA + 'patent_dates.csv', 'r'))\n",
    "dates = {}\n",
    "for row in reader:\n",
    "    k, v = row\n",
    "    dates[k] = v"
   ]
  },
  {
   "cell_type": "code",
   "execution_count": 64,
   "metadata": {
    "collapsed": true
   },
   "outputs": [],
   "source": [
    "def vertices_to_csv(vertex_set, filename):\n",
    "    vertices = []\n",
    "    \n",
    "    for v in vertex_set: # For all the vertices in that path\n",
    "        patent_id = int_to_hex(graph.vp.id[int(v)])\n",
    "        if patent_id in dates:\n",
    "            year = '<[' + dates[patent_id][:4] + ',2017]>'\n",
    "        else:\n",
    "            year = '<[0,0]>'\n",
    "        vertices.append([patent_id, year])\n",
    "            \n",
    "    output_file = open(filename, 'w')\n",
    "    with output_file:  \n",
    "        writer = csv.writer(output_file)\n",
    "        writer.writerow(['Id', 'Interval'])\n",
    "        writer.writerows(vertices)\n",
    "\n",
    "    return vertices"
   ]
  },
  {
   "cell_type": "code",
   "execution_count": 65,
   "metadata": {
    "collapsed": true
   },
   "outputs": [],
   "source": [
    "vertices = vertices_to_csv(vertex_set, './lifetime_vertices.csv')"
   ]
  },
  {
   "cell_type": "code",
   "execution_count": 66,
   "metadata": {
    "collapsed": true
   },
   "outputs": [],
   "source": [
    "def edges_to_csv(edge_set, filename):\n",
    "    edges = []\n",
    "    \n",
    "    for e in edge_set: # For all the edges in that path\n",
    "        source_index = int(e[0])\n",
    "        source_id = int_to_hex(graph.vp.id[source_index])\n",
    "        target_index = int(e[1])\n",
    "        target_id = int_to_hex(graph.vp.id[target_index])\n",
    "            \n",
    "        edges.append([target_id, source_id])\n",
    "            \n",
    "    output_file = open(filename, 'w')\n",
    "    with output_file:  \n",
    "        writer = csv.writer(output_file)\n",
    "        writer.writerow(['Source', 'Target'])\n",
    "        writer.writerows(edges)\n",
    "        \n",
    "    return edges"
   ]
  },
  {
   "cell_type": "code",
   "execution_count": 67,
   "metadata": {
    "collapsed": true
   },
   "outputs": [],
   "source": [
    "edges = edges_to_csv(edge_set, './lifetime_edges.csv')"
   ]
  }
 ],
 "metadata": {
  "kernelspec": {
   "display_name": "Python 3",
   "language": "python",
   "name": "python3"
  },
  "language_info": {
   "codemirror_mode": {
    "name": "ipython",
    "version": 3
   },
   "file_extension": ".py",
   "mimetype": "text/x-python",
   "name": "python",
   "nbconvert_exporter": "python",
   "pygments_lexer": "ipython3",
   "version": "3.6.1"
  }
 },
 "nbformat": 4,
 "nbformat_minor": 2
}
