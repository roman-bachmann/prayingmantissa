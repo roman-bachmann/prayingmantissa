{
 "cells": [
  {
   "cell_type": "markdown",
   "metadata": {},
   "source": [
    "# Milestone 2"
   ]
  },
  {
   "cell_type": "code",
   "execution_count": 1,
   "metadata": {
    "collapsed": true
   },
   "outputs": [],
   "source": [
    "%matplotlib inline"
   ]
  },
  {
   "cell_type": "code",
   "execution_count": 1,
   "metadata": {
    "collapsed": true
   },
   "outputs": [],
   "source": [
    "import pandas as pd\n",
    "import numpy as np\n",
    "\n",
    "import matplotlib.pyplot as plt\n",
    "import seaborn as sns"
   ]
  },
  {
   "cell_type": "code",
   "execution_count": 2,
   "metadata": {
    "collapsed": true
   },
   "outputs": [],
   "source": [
    "sns.set_palette(\"deep\")"
   ]
  },
  {
   "cell_type": "code",
   "execution_count": 3,
   "metadata": {
    "collapsed": true
   },
   "outputs": [],
   "source": [
    "DATA = './data/'"
   ]
  },
  {
   "cell_type": "markdown",
   "metadata": {},
   "source": [
    "## 1. Introduction to patents\n"
   ]
  },
  {
   "cell_type": "markdown",
   "metadata": {},
   "source": [
    "## 2. Data preperation and analysis\n",
    "\n",
    "### 2.1 Source of the data"
   ]
  },
  {
   "cell_type": "markdown",
   "metadata": {},
   "source": [
    "### 2.2 Sighting the data"
   ]
  },
  {
   "cell_type": "markdown",
   "metadata": {},
   "source": [
    "#### Citations\n"
   ]
  },
  {
   "cell_type": "code",
   "execution_count": 346,
   "metadata": {},
   "outputs": [
    {
     "data": {
      "text/html": [
       "<div>\n",
       "<style>\n",
       "    .dataframe thead tr:only-child th {\n",
       "        text-align: right;\n",
       "    }\n",
       "\n",
       "    .dataframe thead th {\n",
       "        text-align: left;\n",
       "    }\n",
       "\n",
       "    .dataframe tbody tr th {\n",
       "        vertical-align: top;\n",
       "    }\n",
       "</style>\n",
       "<table border=\"1\" class=\"dataframe\">\n",
       "  <thead>\n",
       "    <tr style=\"text-align: right;\">\n",
       "      <th></th>\n",
       "      <th>uuid</th>\n",
       "      <th>patent_id</th>\n",
       "      <th>citation_id</th>\n",
       "      <th>date</th>\n",
       "      <th>name</th>\n",
       "      <th>kind</th>\n",
       "      <th>country</th>\n",
       "      <th>category</th>\n",
       "      <th>sequence</th>\n",
       "    </tr>\n",
       "  </thead>\n",
       "  <tbody>\n",
       "    <tr>\n",
       "      <th>0</th>\n",
       "      <td>000007b7c0x3n9iy1othb9hz7</td>\n",
       "      <td>9009250</td>\n",
       "      <td>8127342</td>\n",
       "      <td>2012-02-01</td>\n",
       "      <td>Boynton et al.</td>\n",
       "      <td>B2</td>\n",
       "      <td>US</td>\n",
       "      <td>cited by applicant</td>\n",
       "      <td>622</td>\n",
       "    </tr>\n",
       "    <tr>\n",
       "      <th>1</th>\n",
       "      <td>000007obbnxmqc6v43t1c00dw</td>\n",
       "      <td>9643605</td>\n",
       "      <td>5471515</td>\n",
       "      <td>1995-11-01</td>\n",
       "      <td>Fossum et al.</td>\n",
       "      <td>A</td>\n",
       "      <td>US</td>\n",
       "      <td>cited by applicant</td>\n",
       "      <td>413</td>\n",
       "    </tr>\n",
       "    <tr>\n",
       "      <th>2</th>\n",
       "      <td>00000jd7thmiucpaol1hm1835</td>\n",
       "      <td>5354551</td>\n",
       "      <td>4875247</td>\n",
       "      <td>1989-10-01</td>\n",
       "      <td>Berg</td>\n",
       "      <td>NaN</td>\n",
       "      <td>US</td>\n",
       "      <td>NaN</td>\n",
       "      <td>11</td>\n",
       "    </tr>\n",
       "    <tr>\n",
       "      <th>3</th>\n",
       "      <td>00000oohcwply47niwhm5i42l</td>\n",
       "      <td>D786922</td>\n",
       "      <td>D718330</td>\n",
       "      <td>2014-11-01</td>\n",
       "      <td>Shin</td>\n",
       "      <td>S</td>\n",
       "      <td>US</td>\n",
       "      <td>cited by examiner</td>\n",
       "      <td>11</td>\n",
       "    </tr>\n",
       "    <tr>\n",
       "      <th>4</th>\n",
       "      <td>00002ghv7v87txbmryocp9i60</td>\n",
       "      <td>D490798</td>\n",
       "      <td>D190749</td>\n",
       "      <td>1961-06-01</td>\n",
       "      <td>Matri et al.</td>\n",
       "      <td>S</td>\n",
       "      <td>US</td>\n",
       "      <td>cited by examiner</td>\n",
       "      <td>1</td>\n",
       "    </tr>\n",
       "  </tbody>\n",
       "</table>\n",
       "</div>"
      ],
      "text/plain": [
       "                        uuid patent_id citation_id        date  \\\n",
       "0  000007b7c0x3n9iy1othb9hz7   9009250     8127342  2012-02-01   \n",
       "1  000007obbnxmqc6v43t1c00dw   9643605     5471515  1995-11-01   \n",
       "2  00000jd7thmiucpaol1hm1835   5354551     4875247  1989-10-01   \n",
       "3  00000oohcwply47niwhm5i42l   D786922     D718330  2014-11-01   \n",
       "4  00002ghv7v87txbmryocp9i60   D490798     D190749  1961-06-01   \n",
       "\n",
       "             name kind country            category  sequence  \n",
       "0  Boynton et al.   B2      US  cited by applicant       622  \n",
       "1   Fossum et al.    A      US  cited by applicant       413  \n",
       "2            Berg  NaN      US                 NaN        11  \n",
       "3            Shin    S      US   cited by examiner        11  \n",
       "4    Matri et al.    S      US   cited by examiner         1  "
      ]
     },
     "execution_count": 346,
     "metadata": {},
     "output_type": "execute_result"
    }
   ],
   "source": [
    "citations_raw = pd.read_csv(DATA + 'citations_raw.tsv', delimiter='\\t', nrows=5)\n",
    "citations_raw.head()"
   ]
  },
  {
   "cell_type": "code",
   "execution_count": 347,
   "metadata": {},
   "outputs": [
    {
     "name": "stdout",
     "output_type": "stream",
     "text": [
      "<class 'pandas.core.frame.DataFrame'>\n",
      "RangeIndex: 5 entries, 0 to 4\n",
      "Data columns (total 9 columns):\n",
      "uuid           5 non-null object\n",
      "patent_id      5 non-null object\n",
      "citation_id    5 non-null object\n",
      "date           5 non-null object\n",
      "name           5 non-null object\n",
      "kind           4 non-null object\n",
      "country        5 non-null object\n",
      "category       4 non-null object\n",
      "sequence       5 non-null int64\n",
      "dtypes: int64(1), object(8)\n",
      "memory usage: 440.0+ bytes\n"
     ]
    }
   ],
   "source": [
    "citations_raw.info()"
   ]
  },
  {
   "cell_type": "code",
   "execution_count": 348,
   "metadata": {
    "collapsed": true
   },
   "outputs": [],
   "source": [
    "del citations_raw"
   ]
  },
  {
   "cell_type": "markdown",
   "metadata": {},
   "source": [
    "#### Patents\n"
   ]
  },
  {
   "cell_type": "code",
   "execution_count": 350,
   "metadata": {},
   "outputs": [
    {
     "data": {
      "text/html": [
       "<div>\n",
       "<style>\n",
       "    .dataframe thead tr:only-child th {\n",
       "        text-align: right;\n",
       "    }\n",
       "\n",
       "    .dataframe thead th {\n",
       "        text-align: left;\n",
       "    }\n",
       "\n",
       "    .dataframe tbody tr th {\n",
       "        vertical-align: top;\n",
       "    }\n",
       "</style>\n",
       "<table border=\"1\" class=\"dataframe\">\n",
       "  <thead>\n",
       "    <tr style=\"text-align: right;\">\n",
       "      <th></th>\n",
       "      <th>id</th>\n",
       "      <th>type</th>\n",
       "      <th>number</th>\n",
       "      <th>country</th>\n",
       "      <th>date</th>\n",
       "      <th>abstract</th>\n",
       "      <th>title</th>\n",
       "      <th>kind</th>\n",
       "      <th>num_claims</th>\n",
       "      <th>filename</th>\n",
       "    </tr>\n",
       "  </thead>\n",
       "  <tbody>\n",
       "    <tr>\n",
       "      <th>0</th>\n",
       "      <td>3930271</td>\n",
       "      <td>utility</td>\n",
       "      <td>3930271</td>\n",
       "      <td>US</td>\n",
       "      <td>1976-01-06</td>\n",
       "      <td>A golf glove is disclosed having an extra fin...</td>\n",
       "      <td>Golf glove</td>\n",
       "      <td>A</td>\n",
       "      <td>4</td>\n",
       "      <td>pftaps19760106_wk01.zip</td>\n",
       "    </tr>\n",
       "    <tr>\n",
       "      <th>1</th>\n",
       "      <td>3930272</td>\n",
       "      <td>utility</td>\n",
       "      <td>3930272</td>\n",
       "      <td>US</td>\n",
       "      <td>1976-01-06</td>\n",
       "      <td>A lock for a height-adjustable crib or plaype...</td>\n",
       "      <td>Crib leg lock</td>\n",
       "      <td>A</td>\n",
       "      <td>3</td>\n",
       "      <td>pftaps19760106_wk01.zip</td>\n",
       "    </tr>\n",
       "    <tr>\n",
       "      <th>2</th>\n",
       "      <td>3930273</td>\n",
       "      <td>utility</td>\n",
       "      <td>3930273</td>\n",
       "      <td>US</td>\n",
       "      <td>1976-01-06</td>\n",
       "      <td>A bed safety side rail arrangement which incl...</td>\n",
       "      <td>Bed safety side rail arrangement</td>\n",
       "      <td>A</td>\n",
       "      <td>24</td>\n",
       "      <td>pftaps19760106_wk01.zip</td>\n",
       "    </tr>\n",
       "    <tr>\n",
       "      <th>3</th>\n",
       "      <td>3930274</td>\n",
       "      <td>utility</td>\n",
       "      <td>3930274</td>\n",
       "      <td>US</td>\n",
       "      <td>1976-01-06</td>\n",
       "      <td>The assembly includes a longitudinal axis and...</td>\n",
       "      <td>Assembly for use in recreational activities</td>\n",
       "      <td>A</td>\n",
       "      <td>7</td>\n",
       "      <td>pftaps19760106_wk01.zip</td>\n",
       "    </tr>\n",
       "    <tr>\n",
       "      <th>4</th>\n",
       "      <td>3930275</td>\n",
       "      <td>utility</td>\n",
       "      <td>3930275</td>\n",
       "      <td>US</td>\n",
       "      <td>1976-01-06</td>\n",
       "      <td>A novel slipper and its method of fabrication...</td>\n",
       "      <td>Method of fabricating a slipper</td>\n",
       "      <td>A</td>\n",
       "      <td>9</td>\n",
       "      <td>pftaps19760106_wk01.zip</td>\n",
       "    </tr>\n",
       "  </tbody>\n",
       "</table>\n",
       "</div>"
      ],
      "text/plain": [
       "        id     type   number country        date  \\\n",
       "0  3930271  utility  3930271      US  1976-01-06   \n",
       "1  3930272  utility  3930272      US  1976-01-06   \n",
       "2  3930273  utility  3930273      US  1976-01-06   \n",
       "3  3930274  utility  3930274      US  1976-01-06   \n",
       "4  3930275  utility  3930275      US  1976-01-06   \n",
       "\n",
       "                                            abstract  \\\n",
       "0   A golf glove is disclosed having an extra fin...   \n",
       "1   A lock for a height-adjustable crib or plaype...   \n",
       "2   A bed safety side rail arrangement which incl...   \n",
       "3   The assembly includes a longitudinal axis and...   \n",
       "4   A novel slipper and its method of fabrication...   \n",
       "\n",
       "                                         title kind  num_claims  \\\n",
       "0                                   Golf glove    A           4   \n",
       "1                                Crib leg lock    A           3   \n",
       "2             Bed safety side rail arrangement    A          24   \n",
       "3  Assembly for use in recreational activities    A           7   \n",
       "4              Method of fabricating a slipper    A           9   \n",
       "\n",
       "                  filename  \n",
       "0  pftaps19760106_wk01.zip  \n",
       "1  pftaps19760106_wk01.zip  \n",
       "2  pftaps19760106_wk01.zip  \n",
       "3  pftaps19760106_wk01.zip  \n",
       "4  pftaps19760106_wk01.zip  "
      ]
     },
     "execution_count": 350,
     "metadata": {},
     "output_type": "execute_result"
    }
   ],
   "source": [
    "patents_raw = pd.read_csv(DATA + 'patents_raw.tsv', delimiter='\\t', nrows=5)\n",
    "patents_raw.head()"
   ]
  },
  {
   "cell_type": "code",
   "execution_count": 352,
   "metadata": {},
   "outputs": [
    {
     "name": "stdout",
     "output_type": "stream",
     "text": [
      "<class 'pandas.core.frame.DataFrame'>\n",
      "RangeIndex: 5 entries, 0 to 4\n",
      "Data columns (total 10 columns):\n",
      "id            5 non-null int64\n",
      "type          5 non-null object\n",
      "number        5 non-null int64\n",
      "country       5 non-null object\n",
      "date          5 non-null object\n",
      "abstract      5 non-null object\n",
      "title         5 non-null object\n",
      "kind          5 non-null object\n",
      "num_claims    5 non-null int64\n",
      "filename      5 non-null object\n",
      "dtypes: int64(3), object(7)\n",
      "memory usage: 480.0+ bytes\n"
     ]
    }
   ],
   "source": [
    "patents_raw.info()"
   ]
  },
  {
   "cell_type": "code",
   "execution_count": 353,
   "metadata": {
    "collapsed": true
   },
   "outputs": [],
   "source": [
    "del patents_raw"
   ]
  },
  {
   "cell_type": "markdown",
   "metadata": {},
   "source": [
    "#### Categories"
   ]
  },
  {
   "cell_type": "code",
   "execution_count": 339,
   "metadata": {},
   "outputs": [
    {
     "data": {
      "text/html": [
       "<div>\n",
       "<style>\n",
       "    .dataframe thead tr:only-child th {\n",
       "        text-align: right;\n",
       "    }\n",
       "\n",
       "    .dataframe thead th {\n",
       "        text-align: left;\n",
       "    }\n",
       "\n",
       "    .dataframe tbody tr th {\n",
       "        vertical-align: top;\n",
       "    }\n",
       "</style>\n",
       "<table border=\"1\" class=\"dataframe\">\n",
       "  <thead>\n",
       "    <tr style=\"text-align: right;\">\n",
       "      <th></th>\n",
       "      <th>title</th>\n",
       "    </tr>\n",
       "    <tr>\n",
       "      <th>id</th>\n",
       "      <th></th>\n",
       "    </tr>\n",
       "  </thead>\n",
       "  <tbody>\n",
       "    <tr>\n",
       "      <th>11</th>\n",
       "      <td>Agriculture,Food,Textiles</td>\n",
       "    </tr>\n",
       "    <tr>\n",
       "      <th>12</th>\n",
       "      <td>Coating</td>\n",
       "    </tr>\n",
       "    <tr>\n",
       "      <th>13</th>\n",
       "      <td>Gas</td>\n",
       "    </tr>\n",
       "    <tr>\n",
       "      <th>14</th>\n",
       "      <td>Organic Compounds</td>\n",
       "    </tr>\n",
       "    <tr>\n",
       "      <th>15</th>\n",
       "      <td>Resins</td>\n",
       "    </tr>\n",
       "    <tr>\n",
       "      <th>19</th>\n",
       "      <td>Miscellaneous</td>\n",
       "    </tr>\n",
       "    <tr>\n",
       "      <th>21</th>\n",
       "      <td>Communications</td>\n",
       "    </tr>\n",
       "    <tr>\n",
       "      <th>22</th>\n",
       "      <td>Computer Hardware &amp; Software</td>\n",
       "    </tr>\n",
       "    <tr>\n",
       "      <th>23</th>\n",
       "      <td>Computer Peripherials</td>\n",
       "    </tr>\n",
       "    <tr>\n",
       "      <th>24</th>\n",
       "      <td>Information Storage</td>\n",
       "    </tr>\n",
       "  </tbody>\n",
       "</table>\n",
       "</div>"
      ],
      "text/plain": [
       "                           title\n",
       "id                              \n",
       "11     Agriculture,Food,Textiles\n",
       "12                       Coating\n",
       "13                           Gas\n",
       "14             Organic Compounds\n",
       "15                        Resins\n",
       "19                 Miscellaneous\n",
       "21                Communications\n",
       "22  Computer Hardware & Software\n",
       "23         Computer Peripherials\n",
       "24           Information Storage"
      ]
     },
     "execution_count": 339,
     "metadata": {},
     "output_type": "execute_result"
    }
   ],
   "source": [
    "pd.read_csv(DATA + 'categories_raw.tsv', delimiter='\\t', index_col=0).head(10)"
   ]
  },
  {
   "cell_type": "markdown",
   "metadata": {},
   "source": [
    "#### Category map"
   ]
  },
  {
   "cell_type": "code",
   "execution_count": 354,
   "metadata": {},
   "outputs": [
    {
     "data": {
      "text/html": [
       "<div>\n",
       "<style>\n",
       "    .dataframe thead tr:only-child th {\n",
       "        text-align: right;\n",
       "    }\n",
       "\n",
       "    .dataframe thead th {\n",
       "        text-align: left;\n",
       "    }\n",
       "\n",
       "    .dataframe tbody tr th {\n",
       "        vertical-align: top;\n",
       "    }\n",
       "</style>\n",
       "<table border=\"1\" class=\"dataframe\">\n",
       "  <thead>\n",
       "    <tr style=\"text-align: right;\">\n",
       "      <th></th>\n",
       "      <th>uuid</th>\n",
       "      <th>patent_id</th>\n",
       "      <th>category_id</th>\n",
       "      <th>subcategory_id</th>\n",
       "    </tr>\n",
       "  </thead>\n",
       "  <tbody>\n",
       "    <tr>\n",
       "      <th>0</th>\n",
       "      <td>000114qfli99qqd9fsbxichy1</td>\n",
       "      <td>6243839</td>\n",
       "      <td>2</td>\n",
       "      <td>22</td>\n",
       "    </tr>\n",
       "    <tr>\n",
       "      <th>1</th>\n",
       "      <td>0001jsdl1xi7z84rzx9iwvdlh</td>\n",
       "      <td>4646100</td>\n",
       "      <td>2</td>\n",
       "      <td>21</td>\n",
       "    </tr>\n",
       "    <tr>\n",
       "      <th>2</th>\n",
       "      <td>0001qpsb0yts8daudtuf3mbm8</td>\n",
       "      <td>7712627</td>\n",
       "      <td>6</td>\n",
       "      <td>68</td>\n",
       "    </tr>\n",
       "    <tr>\n",
       "      <th>3</th>\n",
       "      <td>0001uc68swzzsbefc8eqhc7rg</td>\n",
       "      <td>5647223</td>\n",
       "      <td>6</td>\n",
       "      <td>69</td>\n",
       "    </tr>\n",
       "    <tr>\n",
       "      <th>4</th>\n",
       "      <td>0001y577lvjg6hwl6e36f46fs</td>\n",
       "      <td>5110393</td>\n",
       "      <td>1</td>\n",
       "      <td>19</td>\n",
       "    </tr>\n",
       "  </tbody>\n",
       "</table>\n",
       "</div>"
      ],
      "text/plain": [
       "                        uuid  patent_id  category_id  subcategory_id\n",
       "0  000114qfli99qqd9fsbxichy1    6243839            2              22\n",
       "1  0001jsdl1xi7z84rzx9iwvdlh    4646100            2              21\n",
       "2  0001qpsb0yts8daudtuf3mbm8    7712627            6              68\n",
       "3  0001uc68swzzsbefc8eqhc7rg    5647223            6              69\n",
       "4  0001y577lvjg6hwl6e36f46fs    5110393            1              19"
      ]
     },
     "execution_count": 354,
     "metadata": {},
     "output_type": "execute_result"
    }
   ],
   "source": [
    "categorymap_raw = pd.read_csv(DATA + 'categorymap_raw.tsv', delimiter='\\t', nrows=5)\n",
    "categorymap_raw.head()"
   ]
  },
  {
   "cell_type": "code",
   "execution_count": 355,
   "metadata": {},
   "outputs": [
    {
     "name": "stdout",
     "output_type": "stream",
     "text": [
      "<class 'pandas.core.frame.DataFrame'>\n",
      "RangeIndex: 5 entries, 0 to 4\n",
      "Data columns (total 4 columns):\n",
      "uuid              5 non-null object\n",
      "patent_id         5 non-null int64\n",
      "category_id       5 non-null int64\n",
      "subcategory_id    5 non-null int64\n",
      "dtypes: int64(3), object(1)\n",
      "memory usage: 240.0+ bytes\n"
     ]
    }
   ],
   "source": [
    "categorymap_raw.info()"
   ]
  },
  {
   "cell_type": "code",
   "execution_count": 356,
   "metadata": {
    "collapsed": true
   },
   "outputs": [],
   "source": [
    "del categorymap_raw"
   ]
  },
  {
   "cell_type": "markdown",
   "metadata": {},
   "source": [
    "### 2.3 Preprocessing \n",
    "\n",
    "Both the patents and citations data sheets are several gigabytes large tab-separated files and the categorymap\n",
    "clocks in at about 200MB.\n",
    "As a first step in the cleaning pipeline we resorted to preprocessing via the command in order to\n",
    "reduce size of the files by extracting only the relevant columns.\n",
    "\n",
    "More specifically, the coreutil [awk](https://www.gnu.org/software/gawk/manual/gawk.html) is a handy stream\n",
    "processing language through which a tab-separated file can be read line by line, processed and written to\n",
    "a new file, preferably a comma-separated one.\n",
    "\n",
    "#### Example\n",
    "\n",
    "```shell\n",
    "echo 'Alice\\tBob\\tEve' | awk -F '\\t' '{ print $1\",\"$3 }' > alice_eve.csv\n",
    "cat alice_eve.csv # Alice,Eve\n",
    "```\n",
    "\n",
    "In our case we extract from the above citations_raw.tsv file the patent_id and the citation_id columns, from the\n",
    "patents_raw.tsv the id and data columns, and from the categorymap.tsv the patent_id and subcategory_id columns.\n",
    "\n",
    "In terms of filesize reduction we get the following improvements:\n",
    " - citations_raw.tsv **7.71GB** to **1.45GB** (~81% reduction)\n",
    " - patents_raw.tsv **4.9GB** to **121MB** (~97% reduction)\n",
    " - categorymap_raw.tsv **204.2MB** to **61.3MB** (~70% reduction)"
   ]
  },
  {
   "cell_type": "markdown",
   "metadata": {},
   "source": [
    "### 2.4 Processing"
   ]
  },
  {
   "cell_type": "markdown",
   "metadata": {},
   "source": [
    "#### Processing the citations"
   ]
  },
  {
   "cell_type": "code",
   "execution_count": 4,
   "metadata": {
    "collapsed": true
   },
   "outputs": [],
   "source": [
    "citations = pd.read_csv(DATA + 'citations.csv')"
   ]
  },
  {
   "cell_type": "markdown",
   "metadata": {},
   "source": [
    "- Citations should have a non empty string for both the patent id and the citation id. In some entries in the citations.csv file the citation id is empty. These rows can be dropped, because the file is supposed to contain only valid citations.\n",
    "\n",
    "- Next only regular (purely numerical values) and design (prefix 'D') patents are kept. The reason herefore is that:\n",
    "# ANDIIIIIIIII ?\n",
    "\n",
    "- Finally we realised that some ids contained unnecessary white space characters, which we remove using strip().\n"
   ]
  },
  {
   "cell_type": "code",
   "execution_count": 5,
   "metadata": {},
   "outputs": [
    {
     "data": {
      "text/plain": [
       "Index(['patent_id', 'citation_id'], dtype='object')"
      ]
     },
     "execution_count": 5,
     "metadata": {},
     "output_type": "execute_result"
    }
   ],
   "source": [
    "citations.dropna(inplace=True)\n",
    "\n",
    "citations = citations[citations.patent_id.str.match(r'([D]\\d+$)|(^\\d+$)')]\n",
    "citations = citations[citations.citation_id.str.match(r'([D]\\d+$)|(^\\d+$)')]\n",
    "\n",
    "citations.columns.str.strip()"
   ]
  },
  {
   "cell_type": "markdown",
   "metadata": {},
   "source": [
    "- The ids are encoded as strings. We noticed that the ids can be looked at as hexadecimal numbers. We then map these hexadecimals to their integer counterparts, whereby the filesize gets reduced by one third."
   ]
  },
  {
   "cell_type": "code",
   "execution_count": 6,
   "metadata": {},
   "outputs": [
    {
     "name": "stdout",
     "output_type": "stream",
     "text": [
      "<class 'pandas.core.frame.DataFrame'>\n",
      "Int64Index: 86284396 entries, 0 to 89122311\n",
      "Data columns (total 2 columns):\n",
      "patent_id      object\n",
      "citation_id    object\n",
      "dtypes: object(2)\n",
      "memory usage: 1.9+ GB\n"
     ]
    }
   ],
   "source": [
    "citations.info()"
   ]
  },
  {
   "cell_type": "code",
   "execution_count": 7,
   "metadata": {
    "collapsed": true
   },
   "outputs": [],
   "source": [
    "citations['patent_id'] = np.array(list(map(lambda i: int(i, 16), citations.patent_id)), dtype=np.int32)\n",
    "citations['citation_id'] = np.array(list(map(lambda i: int(i, 16), citations.citation_id)), dtype=np.int32)"
   ]
  },
  {
   "cell_type": "code",
   "execution_count": 8,
   "metadata": {},
   "outputs": [
    {
     "name": "stdout",
     "output_type": "stream",
     "text": [
      "<class 'pandas.core.frame.DataFrame'>\n",
      "Int64Index: 86284396 entries, 0 to 89122311\n",
      "Data columns (total 2 columns):\n",
      "patent_id      int32\n",
      "citation_id    int32\n",
      "dtypes: int32(2)\n",
      "memory usage: 1.3 GB\n"
     ]
    }
   ],
   "source": [
    "citations.info()"
   ]
  },
  {
   "cell_type": "markdown",
   "metadata": {},
   "source": [
    "- This processed citations dataframe gets saved as a csv file, which allows us to load and work directly with the processed dataframe in the future."
   ]
  },
  {
   "cell_type": "code",
   "execution_count": 14,
   "metadata": {
    "collapsed": true
   },
   "outputs": [],
   "source": [
    "citations.to_csv(DATA + 'citations_processed.csv', index=False)"
   ]
  },
  {
   "cell_type": "code",
   "execution_count": 13,
   "metadata": {},
   "outputs": [
    {
     "data": {
      "text/html": [
       "<div>\n",
       "<style scoped>\n",
       "    .dataframe tbody tr th:only-of-type {\n",
       "        vertical-align: middle;\n",
       "    }\n",
       "\n",
       "    .dataframe tbody tr th {\n",
       "        vertical-align: top;\n",
       "    }\n",
       "\n",
       "    .dataframe thead th {\n",
       "        text-align: right;\n",
       "    }\n",
       "</style>\n",
       "<table border=\"1\" class=\"dataframe\">\n",
       "  <thead>\n",
       "    <tr style=\"text-align: right;\">\n",
       "      <th></th>\n",
       "      <th>patent_id</th>\n",
       "      <th>citation_id</th>\n",
       "    </tr>\n",
       "  </thead>\n",
       "  <tbody>\n",
       "    <tr>\n",
       "      <th>0</th>\n",
       "      <td>151032400</td>\n",
       "      <td>135426882</td>\n",
       "    </tr>\n",
       "    <tr>\n",
       "      <th>1</th>\n",
       "      <td>157562373</td>\n",
       "      <td>88544533</td>\n",
       "    </tr>\n",
       "    <tr>\n",
       "      <th>2</th>\n",
       "      <td>87377233</td>\n",
       "      <td>75977287</td>\n",
       "    </tr>\n",
       "    <tr>\n",
       "      <th>3</th>\n",
       "      <td>225995042</td>\n",
       "      <td>225542960</td>\n",
       "    </tr>\n",
       "    <tr>\n",
       "      <th>4</th>\n",
       "      <td>222889880</td>\n",
       "      <td>219744073</td>\n",
       "    </tr>\n",
       "    <tr>\n",
       "      <th>5</th>\n",
       "      <td>110118242</td>\n",
       "      <td>106510660</td>\n",
       "    </tr>\n",
       "    <tr>\n",
       "      <th>6</th>\n",
       "      <td>136516119</td>\n",
       "      <td>103289702</td>\n",
       "    </tr>\n",
       "    <tr>\n",
       "      <th>7</th>\n",
       "      <td>126194761</td>\n",
       "      <td>105125747</td>\n",
       "    </tr>\n",
       "    <tr>\n",
       "      <th>8</th>\n",
       "      <td>142606981</td>\n",
       "      <td>124917074</td>\n",
       "    </tr>\n",
       "    <tr>\n",
       "      <th>9</th>\n",
       "      <td>120005697</td>\n",
       "      <td>106246743</td>\n",
       "    </tr>\n",
       "    <tr>\n",
       "      <th>10</th>\n",
       "      <td>223750487</td>\n",
       "      <td>222384742</td>\n",
       "    </tr>\n",
       "    <tr>\n",
       "      <th>11</th>\n",
       "      <td>125998132</td>\n",
       "      <td>109532723</td>\n",
       "    </tr>\n",
       "    <tr>\n",
       "      <th>12</th>\n",
       "      <td>71911282</td>\n",
       "      <td>57946901</td>\n",
       "    </tr>\n",
       "    <tr>\n",
       "      <th>13</th>\n",
       "      <td>134842521</td>\n",
       "      <td>107177986</td>\n",
       "    </tr>\n",
       "    <tr>\n",
       "      <th>14</th>\n",
       "      <td>144197268</td>\n",
       "      <td>219756114</td>\n",
       "    </tr>\n",
       "    <tr>\n",
       "      <th>15</th>\n",
       "      <td>88282761</td>\n",
       "      <td>74605440</td>\n",
       "    </tr>\n",
       "    <tr>\n",
       "      <th>16</th>\n",
       "      <td>106054792</td>\n",
       "      <td>84317188</td>\n",
       "    </tr>\n",
       "    <tr>\n",
       "      <th>17</th>\n",
       "      <td>224817799</td>\n",
       "      <td>74609512</td>\n",
       "    </tr>\n",
       "    <tr>\n",
       "      <th>18</th>\n",
       "      <td>134571910</td>\n",
       "      <td>85989200</td>\n",
       "    </tr>\n",
       "    <tr>\n",
       "      <th>19</th>\n",
       "      <td>93524066</td>\n",
       "      <td>70613060</td>\n",
       "    </tr>\n",
       "    <tr>\n",
       "      <th>20</th>\n",
       "      <td>221479188</td>\n",
       "      <td>70521881</td>\n",
       "    </tr>\n",
       "    <tr>\n",
       "      <th>21</th>\n",
       "      <td>136468516</td>\n",
       "      <td>106534006</td>\n",
       "    </tr>\n",
       "    <tr>\n",
       "      <th>22</th>\n",
       "      <td>125065232</td>\n",
       "      <td>91756311</td>\n",
       "    </tr>\n",
       "    <tr>\n",
       "      <th>23</th>\n",
       "      <td>140665865</td>\n",
       "      <td>101005363</td>\n",
       "    </tr>\n",
       "    <tr>\n",
       "      <th>24</th>\n",
       "      <td>107054595</td>\n",
       "      <td>69232469</td>\n",
       "    </tr>\n",
       "    <tr>\n",
       "      <th>25</th>\n",
       "      <td>127345446</td>\n",
       "      <td>86512148</td>\n",
       "    </tr>\n",
       "    <tr>\n",
       "      <th>26</th>\n",
       "      <td>74535221</td>\n",
       "      <td>59842692</td>\n",
       "    </tr>\n",
       "    <tr>\n",
       "      <th>27</th>\n",
       "      <td>143139171</td>\n",
       "      <td>100757607</td>\n",
       "    </tr>\n",
       "    <tr>\n",
       "      <th>28</th>\n",
       "      <td>119810440</td>\n",
       "      <td>93933716</td>\n",
       "    </tr>\n",
       "    <tr>\n",
       "      <th>29</th>\n",
       "      <td>223434531</td>\n",
       "      <td>222730504</td>\n",
       "    </tr>\n",
       "    <tr>\n",
       "      <th>...</th>\n",
       "      <td>...</td>\n",
       "      <td>...</td>\n",
       "    </tr>\n",
       "    <tr>\n",
       "      <th>74</th>\n",
       "      <td>107485271</td>\n",
       "      <td>53700994</td>\n",
       "    </tr>\n",
       "    <tr>\n",
       "      <th>75</th>\n",
       "      <td>138630481</td>\n",
       "      <td>106441056</td>\n",
       "    </tr>\n",
       "    <tr>\n",
       "      <th>76</th>\n",
       "      <td>126289160</td>\n",
       "      <td>110118256</td>\n",
       "    </tr>\n",
       "    <tr>\n",
       "      <th>78</th>\n",
       "      <td>86140272</td>\n",
       "      <td>59209252</td>\n",
       "    </tr>\n",
       "    <tr>\n",
       "      <th>79</th>\n",
       "      <td>123144293</td>\n",
       "      <td>100828816</td>\n",
       "    </tr>\n",
       "    <tr>\n",
       "      <th>80</th>\n",
       "      <td>104419987</td>\n",
       "      <td>83965267</td>\n",
       "    </tr>\n",
       "    <tr>\n",
       "      <th>81</th>\n",
       "      <td>90452761</td>\n",
       "      <td>70533523</td>\n",
       "    </tr>\n",
       "    <tr>\n",
       "      <th>82</th>\n",
       "      <td>76840977</td>\n",
       "      <td>55730293</td>\n",
       "    </tr>\n",
       "    <tr>\n",
       "      <th>83</th>\n",
       "      <td>221718899</td>\n",
       "      <td>221332545</td>\n",
       "    </tr>\n",
       "    <tr>\n",
       "      <th>84</th>\n",
       "      <td>134441044</td>\n",
       "      <td>122840722</td>\n",
       "    </tr>\n",
       "    <tr>\n",
       "      <th>85</th>\n",
       "      <td>151032609</td>\n",
       "      <td>118825221</td>\n",
       "    </tr>\n",
       "    <tr>\n",
       "      <th>86</th>\n",
       "      <td>123287669</td>\n",
       "      <td>91686985</td>\n",
       "    </tr>\n",
       "    <tr>\n",
       "      <th>87</th>\n",
       "      <td>155281760</td>\n",
       "      <td>9929223</td>\n",
       "    </tr>\n",
       "    <tr>\n",
       "      <th>88</th>\n",
       "      <td>108287352</td>\n",
       "      <td>75965208</td>\n",
       "    </tr>\n",
       "    <tr>\n",
       "      <th>89</th>\n",
       "      <td>69420931</td>\n",
       "      <td>67514472</td>\n",
       "    </tr>\n",
       "    <tr>\n",
       "      <th>90</th>\n",
       "      <td>154429063</td>\n",
       "      <td>110375799</td>\n",
       "    </tr>\n",
       "    <tr>\n",
       "      <th>91</th>\n",
       "      <td>154224784</td>\n",
       "      <td>85426240</td>\n",
       "    </tr>\n",
       "    <tr>\n",
       "      <th>92</th>\n",
       "      <td>89393417</td>\n",
       "      <td>85485858</td>\n",
       "    </tr>\n",
       "    <tr>\n",
       "      <th>93</th>\n",
       "      <td>153550889</td>\n",
       "      <td>110183782</td>\n",
       "    </tr>\n",
       "    <tr>\n",
       "      <th>94</th>\n",
       "      <td>90445188</td>\n",
       "      <td>84218391</td>\n",
       "    </tr>\n",
       "    <tr>\n",
       "      <th>95</th>\n",
       "      <td>225846274</td>\n",
       "      <td>224692585</td>\n",
       "    </tr>\n",
       "    <tr>\n",
       "      <th>96</th>\n",
       "      <td>73992245</td>\n",
       "      <td>52836497</td>\n",
       "    </tr>\n",
       "    <tr>\n",
       "      <th>97</th>\n",
       "      <td>73822546</td>\n",
       "      <td>69505316</td>\n",
       "    </tr>\n",
       "    <tr>\n",
       "      <th>98</th>\n",
       "      <td>104949049</td>\n",
       "      <td>72745844</td>\n",
       "    </tr>\n",
       "    <tr>\n",
       "      <th>99</th>\n",
       "      <td>138442240</td>\n",
       "      <td>119034512</td>\n",
       "    </tr>\n",
       "    <tr>\n",
       "      <th>100</th>\n",
       "      <td>122095689</td>\n",
       "      <td>90281269</td>\n",
       "    </tr>\n",
       "    <tr>\n",
       "      <th>101</th>\n",
       "      <td>104154630</td>\n",
       "      <td>93590840</td>\n",
       "    </tr>\n",
       "    <tr>\n",
       "      <th>102</th>\n",
       "      <td>73491347</td>\n",
       "      <td>42170391</td>\n",
       "    </tr>\n",
       "    <tr>\n",
       "      <th>103</th>\n",
       "      <td>93335828</td>\n",
       "      <td>68694292</td>\n",
       "    </tr>\n",
       "    <tr>\n",
       "      <th>104</th>\n",
       "      <td>137373494</td>\n",
       "      <td>88703239</td>\n",
       "    </tr>\n",
       "  </tbody>\n",
       "</table>\n",
       "<p>100 rows × 2 columns</p>\n",
       "</div>"
      ],
      "text/plain": [
       "     patent_id  citation_id\n",
       "0    151032400    135426882\n",
       "1    157562373     88544533\n",
       "2     87377233     75977287\n",
       "3    225995042    225542960\n",
       "4    222889880    219744073\n",
       "5    110118242    106510660\n",
       "6    136516119    103289702\n",
       "7    126194761    105125747\n",
       "8    142606981    124917074\n",
       "9    120005697    106246743\n",
       "10   223750487    222384742\n",
       "11   125998132    109532723\n",
       "12    71911282     57946901\n",
       "13   134842521    107177986\n",
       "14   144197268    219756114\n",
       "15    88282761     74605440\n",
       "16   106054792     84317188\n",
       "17   224817799     74609512\n",
       "18   134571910     85989200\n",
       "19    93524066     70613060\n",
       "20   221479188     70521881\n",
       "21   136468516    106534006\n",
       "22   125065232     91756311\n",
       "23   140665865    101005363\n",
       "24   107054595     69232469\n",
       "25   127345446     86512148\n",
       "26    74535221     59842692\n",
       "27   143139171    100757607\n",
       "28   119810440     93933716\n",
       "29   223434531    222730504\n",
       "..         ...          ...\n",
       "74   107485271     53700994\n",
       "75   138630481    106441056\n",
       "76   126289160    110118256\n",
       "78    86140272     59209252\n",
       "79   123144293    100828816\n",
       "80   104419987     83965267\n",
       "81    90452761     70533523\n",
       "82    76840977     55730293\n",
       "83   221718899    221332545\n",
       "84   134441044    122840722\n",
       "85   151032609    118825221\n",
       "86   123287669     91686985\n",
       "87   155281760      9929223\n",
       "88   108287352     75965208\n",
       "89    69420931     67514472\n",
       "90   154429063    110375799\n",
       "91   154224784     85426240\n",
       "92    89393417     85485858\n",
       "93   153550889    110183782\n",
       "94    90445188     84218391\n",
       "95   225846274    224692585\n",
       "96    73992245     52836497\n",
       "97    73822546     69505316\n",
       "98   104949049     72745844\n",
       "99   138442240    119034512\n",
       "100  122095689     90281269\n",
       "101  104154630     93590840\n",
       "102   73491347     42170391\n",
       "103   93335828     68694292\n",
       "104  137373494     88703239\n",
       "\n",
       "[100 rows x 2 columns]"
      ]
     },
     "execution_count": 13,
     "metadata": {},
     "output_type": "execute_result"
    }
   ],
   "source": [
    "citations.head()"
   ]
  },
  {
   "cell_type": "markdown",
   "metadata": {},
   "source": [
    "#### Processing the patents\n",
    "\n",
    "- After preprocessing the patents data the only thing kept is the id and the date. We keep the date in order to keep track of patents, which date from before the timeinterval of the citations dataset and in order to have data for the statistical analysis of the dataset in the next chapter.\n",
    "\n",
    "\n",
    "- Again we decided to drop the rows, which contain nans, because the id and the date are crucial for the project.\n",
    "\n",
    "\n",
    "- As before we only keep regular and design patterns and map the hexadecimal ids to their decimal values."
   ]
  },
  {
   "cell_type": "code",
   "execution_count": 405,
   "metadata": {
    "collapsed": true
   },
   "outputs": [],
   "source": [
    "patents = pd.read_csv(DATA + 'patents.csv', nrows=4500000, dtype={'number': 'str'})\n",
    "patents.dropna(inplace=True)\n",
    "patents = patents[patents.number.str.match(r'([D]\\d+$)|(^\\d+$)')]"
   ]
  },
  {
   "cell_type": "code",
   "execution_count": 406,
   "metadata": {},
   "outputs": [
    {
     "data": {
      "text/html": [
       "<div>\n",
       "<style>\n",
       "    .dataframe thead tr:only-child th {\n",
       "        text-align: right;\n",
       "    }\n",
       "\n",
       "    .dataframe thead th {\n",
       "        text-align: left;\n",
       "    }\n",
       "\n",
       "    .dataframe tbody tr th {\n",
       "        vertical-align: top;\n",
       "    }\n",
       "</style>\n",
       "<table border=\"1\" class=\"dataframe\">\n",
       "  <thead>\n",
       "    <tr style=\"text-align: right;\">\n",
       "      <th></th>\n",
       "      <th>number</th>\n",
       "      <th>date</th>\n",
       "    </tr>\n",
       "  </thead>\n",
       "  <tbody>\n",
       "    <tr>\n",
       "      <th>0</th>\n",
       "      <td>59966065</td>\n",
       "      <td>1976-01-06</td>\n",
       "    </tr>\n",
       "    <tr>\n",
       "      <th>1</th>\n",
       "      <td>59966066</td>\n",
       "      <td>1976-01-06</td>\n",
       "    </tr>\n",
       "    <tr>\n",
       "      <th>2</th>\n",
       "      <td>59966067</td>\n",
       "      <td>1976-01-06</td>\n",
       "    </tr>\n",
       "    <tr>\n",
       "      <th>3</th>\n",
       "      <td>59966068</td>\n",
       "      <td>1976-01-06</td>\n",
       "    </tr>\n",
       "    <tr>\n",
       "      <th>4</th>\n",
       "      <td>59966069</td>\n",
       "      <td>1976-01-06</td>\n",
       "    </tr>\n",
       "    <tr>\n",
       "      <th>5</th>\n",
       "      <td>59966070</td>\n",
       "      <td>1976-01-06</td>\n",
       "    </tr>\n",
       "    <tr>\n",
       "      <th>6</th>\n",
       "      <td>59966071</td>\n",
       "      <td>1976-01-06</td>\n",
       "    </tr>\n",
       "    <tr>\n",
       "      <th>7</th>\n",
       "      <td>59966072</td>\n",
       "      <td>1976-01-06</td>\n",
       "    </tr>\n",
       "    <tr>\n",
       "      <th>8</th>\n",
       "      <td>59966073</td>\n",
       "      <td>1976-01-06</td>\n",
       "    </tr>\n",
       "    <tr>\n",
       "      <th>9</th>\n",
       "      <td>59966080</td>\n",
       "      <td>1976-01-06</td>\n",
       "    </tr>\n",
       "    <tr>\n",
       "      <th>10</th>\n",
       "      <td>59966081</td>\n",
       "      <td>1976-01-06</td>\n",
       "    </tr>\n",
       "    <tr>\n",
       "      <th>11</th>\n",
       "      <td>59966082</td>\n",
       "      <td>1976-01-06</td>\n",
       "    </tr>\n",
       "    <tr>\n",
       "      <th>12</th>\n",
       "      <td>59966083</td>\n",
       "      <td>1976-01-06</td>\n",
       "    </tr>\n",
       "    <tr>\n",
       "      <th>13</th>\n",
       "      <td>59966084</td>\n",
       "      <td>1976-01-06</td>\n",
       "    </tr>\n",
       "    <tr>\n",
       "      <th>14</th>\n",
       "      <td>59966085</td>\n",
       "      <td>1976-01-06</td>\n",
       "    </tr>\n",
       "    <tr>\n",
       "      <th>15</th>\n",
       "      <td>59966086</td>\n",
       "      <td>1976-01-06</td>\n",
       "    </tr>\n",
       "    <tr>\n",
       "      <th>16</th>\n",
       "      <td>59966087</td>\n",
       "      <td>1976-01-06</td>\n",
       "    </tr>\n",
       "    <tr>\n",
       "      <th>17</th>\n",
       "      <td>59966088</td>\n",
       "      <td>1976-01-06</td>\n",
       "    </tr>\n",
       "    <tr>\n",
       "      <th>18</th>\n",
       "      <td>59966089</td>\n",
       "      <td>1976-01-06</td>\n",
       "    </tr>\n",
       "    <tr>\n",
       "      <th>19</th>\n",
       "      <td>59966096</td>\n",
       "      <td>1976-01-06</td>\n",
       "    </tr>\n",
       "    <tr>\n",
       "      <th>20</th>\n",
       "      <td>59966097</td>\n",
       "      <td>1976-01-06</td>\n",
       "    </tr>\n",
       "    <tr>\n",
       "      <th>21</th>\n",
       "      <td>59966098</td>\n",
       "      <td>1976-01-06</td>\n",
       "    </tr>\n",
       "    <tr>\n",
       "      <th>22</th>\n",
       "      <td>59966099</td>\n",
       "      <td>1976-01-06</td>\n",
       "    </tr>\n",
       "    <tr>\n",
       "      <th>23</th>\n",
       "      <td>59966100</td>\n",
       "      <td>1976-01-06</td>\n",
       "    </tr>\n",
       "    <tr>\n",
       "      <th>24</th>\n",
       "      <td>59966101</td>\n",
       "      <td>1976-01-06</td>\n",
       "    </tr>\n",
       "    <tr>\n",
       "      <th>25</th>\n",
       "      <td>59966102</td>\n",
       "      <td>1976-01-06</td>\n",
       "    </tr>\n",
       "    <tr>\n",
       "      <th>26</th>\n",
       "      <td>59966103</td>\n",
       "      <td>1976-01-06</td>\n",
       "    </tr>\n",
       "    <tr>\n",
       "      <th>27</th>\n",
       "      <td>59966104</td>\n",
       "      <td>1976-01-06</td>\n",
       "    </tr>\n",
       "    <tr>\n",
       "      <th>28</th>\n",
       "      <td>59966105</td>\n",
       "      <td>1976-01-06</td>\n",
       "    </tr>\n",
       "    <tr>\n",
       "      <th>29</th>\n",
       "      <td>59966208</td>\n",
       "      <td>1976-01-06</td>\n",
       "    </tr>\n",
       "    <tr>\n",
       "      <th>...</th>\n",
       "      <td>...</td>\n",
       "      <td>...</td>\n",
       "    </tr>\n",
       "    <tr>\n",
       "      <th>4499970</th>\n",
       "      <td>138744674</td>\n",
       "      <td>2013-05-28</td>\n",
       "    </tr>\n",
       "    <tr>\n",
       "      <th>4499971</th>\n",
       "      <td>138744675</td>\n",
       "      <td>2013-05-28</td>\n",
       "    </tr>\n",
       "    <tr>\n",
       "      <th>4499972</th>\n",
       "      <td>138744676</td>\n",
       "      <td>2013-05-28</td>\n",
       "    </tr>\n",
       "    <tr>\n",
       "      <th>4499973</th>\n",
       "      <td>138744677</td>\n",
       "      <td>2013-05-28</td>\n",
       "    </tr>\n",
       "    <tr>\n",
       "      <th>4499974</th>\n",
       "      <td>138744678</td>\n",
       "      <td>2013-05-28</td>\n",
       "    </tr>\n",
       "    <tr>\n",
       "      <th>4499975</th>\n",
       "      <td>138744679</td>\n",
       "      <td>2013-05-28</td>\n",
       "    </tr>\n",
       "    <tr>\n",
       "      <th>4499976</th>\n",
       "      <td>138744680</td>\n",
       "      <td>2013-05-28</td>\n",
       "    </tr>\n",
       "    <tr>\n",
       "      <th>4499977</th>\n",
       "      <td>138744681</td>\n",
       "      <td>2013-05-28</td>\n",
       "    </tr>\n",
       "    <tr>\n",
       "      <th>4499978</th>\n",
       "      <td>138744689</td>\n",
       "      <td>2013-05-28</td>\n",
       "    </tr>\n",
       "    <tr>\n",
       "      <th>4499979</th>\n",
       "      <td>138744690</td>\n",
       "      <td>2013-05-28</td>\n",
       "    </tr>\n",
       "    <tr>\n",
       "      <th>4499980</th>\n",
       "      <td>138744691</td>\n",
       "      <td>2013-05-28</td>\n",
       "    </tr>\n",
       "    <tr>\n",
       "      <th>4499981</th>\n",
       "      <td>138744692</td>\n",
       "      <td>2013-05-28</td>\n",
       "    </tr>\n",
       "    <tr>\n",
       "      <th>4499982</th>\n",
       "      <td>138744693</td>\n",
       "      <td>2013-05-28</td>\n",
       "    </tr>\n",
       "    <tr>\n",
       "      <th>4499983</th>\n",
       "      <td>138744694</td>\n",
       "      <td>2013-05-28</td>\n",
       "    </tr>\n",
       "    <tr>\n",
       "      <th>4499984</th>\n",
       "      <td>138744695</td>\n",
       "      <td>2013-05-28</td>\n",
       "    </tr>\n",
       "    <tr>\n",
       "      <th>4499985</th>\n",
       "      <td>138744696</td>\n",
       "      <td>2013-05-28</td>\n",
       "    </tr>\n",
       "    <tr>\n",
       "      <th>4499986</th>\n",
       "      <td>138744697</td>\n",
       "      <td>2013-05-28</td>\n",
       "    </tr>\n",
       "    <tr>\n",
       "      <th>4499987</th>\n",
       "      <td>138744704</td>\n",
       "      <td>2013-05-28</td>\n",
       "    </tr>\n",
       "    <tr>\n",
       "      <th>4499988</th>\n",
       "      <td>138744705</td>\n",
       "      <td>2013-05-28</td>\n",
       "    </tr>\n",
       "    <tr>\n",
       "      <th>4499989</th>\n",
       "      <td>138744706</td>\n",
       "      <td>2013-05-28</td>\n",
       "    </tr>\n",
       "    <tr>\n",
       "      <th>4499990</th>\n",
       "      <td>138744707</td>\n",
       "      <td>2013-05-28</td>\n",
       "    </tr>\n",
       "    <tr>\n",
       "      <th>4499991</th>\n",
       "      <td>138744708</td>\n",
       "      <td>2013-05-28</td>\n",
       "    </tr>\n",
       "    <tr>\n",
       "      <th>4499992</th>\n",
       "      <td>138744709</td>\n",
       "      <td>2013-05-28</td>\n",
       "    </tr>\n",
       "    <tr>\n",
       "      <th>4499993</th>\n",
       "      <td>138744710</td>\n",
       "      <td>2013-05-28</td>\n",
       "    </tr>\n",
       "    <tr>\n",
       "      <th>4499994</th>\n",
       "      <td>138744711</td>\n",
       "      <td>2013-05-28</td>\n",
       "    </tr>\n",
       "    <tr>\n",
       "      <th>4499995</th>\n",
       "      <td>138744712</td>\n",
       "      <td>2013-05-28</td>\n",
       "    </tr>\n",
       "    <tr>\n",
       "      <th>4499996</th>\n",
       "      <td>138744713</td>\n",
       "      <td>2013-05-28</td>\n",
       "    </tr>\n",
       "    <tr>\n",
       "      <th>4499997</th>\n",
       "      <td>138744720</td>\n",
       "      <td>2013-05-28</td>\n",
       "    </tr>\n",
       "    <tr>\n",
       "      <th>4499998</th>\n",
       "      <td>138744721</td>\n",
       "      <td>2013-05-28</td>\n",
       "    </tr>\n",
       "    <tr>\n",
       "      <th>4499999</th>\n",
       "      <td>138744722</td>\n",
       "      <td>2013-05-28</td>\n",
       "    </tr>\n",
       "  </tbody>\n",
       "</table>\n",
       "<p>4499998 rows × 2 columns</p>\n",
       "</div>"
      ],
      "text/plain": [
       "            number        date\n",
       "0         59966065  1976-01-06\n",
       "1         59966066  1976-01-06\n",
       "2         59966067  1976-01-06\n",
       "3         59966068  1976-01-06\n",
       "4         59966069  1976-01-06\n",
       "5         59966070  1976-01-06\n",
       "6         59966071  1976-01-06\n",
       "7         59966072  1976-01-06\n",
       "8         59966073  1976-01-06\n",
       "9         59966080  1976-01-06\n",
       "10        59966081  1976-01-06\n",
       "11        59966082  1976-01-06\n",
       "12        59966083  1976-01-06\n",
       "13        59966084  1976-01-06\n",
       "14        59966085  1976-01-06\n",
       "15        59966086  1976-01-06\n",
       "16        59966087  1976-01-06\n",
       "17        59966088  1976-01-06\n",
       "18        59966089  1976-01-06\n",
       "19        59966096  1976-01-06\n",
       "20        59966097  1976-01-06\n",
       "21        59966098  1976-01-06\n",
       "22        59966099  1976-01-06\n",
       "23        59966100  1976-01-06\n",
       "24        59966101  1976-01-06\n",
       "25        59966102  1976-01-06\n",
       "26        59966103  1976-01-06\n",
       "27        59966104  1976-01-06\n",
       "28        59966105  1976-01-06\n",
       "29        59966208  1976-01-06\n",
       "...            ...         ...\n",
       "4499970  138744674  2013-05-28\n",
       "4499971  138744675  2013-05-28\n",
       "4499972  138744676  2013-05-28\n",
       "4499973  138744677  2013-05-28\n",
       "4499974  138744678  2013-05-28\n",
       "4499975  138744679  2013-05-28\n",
       "4499976  138744680  2013-05-28\n",
       "4499977  138744681  2013-05-28\n",
       "4499978  138744689  2013-05-28\n",
       "4499979  138744690  2013-05-28\n",
       "4499980  138744691  2013-05-28\n",
       "4499981  138744692  2013-05-28\n",
       "4499982  138744693  2013-05-28\n",
       "4499983  138744694  2013-05-28\n",
       "4499984  138744695  2013-05-28\n",
       "4499985  138744696  2013-05-28\n",
       "4499986  138744697  2013-05-28\n",
       "4499987  138744704  2013-05-28\n",
       "4499988  138744705  2013-05-28\n",
       "4499989  138744706  2013-05-28\n",
       "4499990  138744707  2013-05-28\n",
       "4499991  138744708  2013-05-28\n",
       "4499992  138744709  2013-05-28\n",
       "4499993  138744710  2013-05-28\n",
       "4499994  138744711  2013-05-28\n",
       "4499995  138744712  2013-05-28\n",
       "4499996  138744713  2013-05-28\n",
       "4499997  138744720  2013-05-28\n",
       "4499998  138744721  2013-05-28\n",
       "4499999  138744722  2013-05-28\n",
       "\n",
       "[4499998 rows x 2 columns]"
      ]
     },
     "execution_count": 406,
     "metadata": {},
     "output_type": "execute_result"
    }
   ],
   "source": [
    "patents['number'] = np.array(list(map(lambda i: int(i, 16), patents.number)), dtype=np.int32)\n",
    "patents.head()"
   ]
  },
  {
   "cell_type": "markdown",
   "metadata": {},
   "source": [
    "## 3. Preliminary statistics on the processed dataframes"
   ]
  },
  {
   "cell_type": "markdown",
   "metadata": {},
   "source": [
    "### 3.1 Histogram of number of patents per year"
   ]
  },
  {
   "cell_type": "code",
   "execution_count": 407,
   "metadata": {
    "collapsed": true
   },
   "outputs": [],
   "source": [
    "years = np.array(patents.date.str[:4], np.int32)"
   ]
  },
  {
   "cell_type": "code",
   "execution_count": 418,
   "metadata": {},
   "outputs": [
    {
     "data": {
      "text/plain": [
       "<matplotlib.axes._subplots.AxesSubplot at 0x1a61a54a8>"
      ]
     },
     "execution_count": 418,
     "metadata": {},
     "output_type": "execute_result"
    },
    {
     "data": {
      "image/png": "[encoded data removed]",
      "text/plain": [
       "<matplotlib.figure.Figure at 0x1a585f128>"
      ]
     },
     "metadata": {},
     "output_type": "display_data"
    }
   ],
   "source": [
    "_, axs = plt.subplots(1, 1, figsize=(16, 9), sharey= True, sharex= True)\n",
    "\n",
    "sns.distplot(years, bins=np.arange(1976, 2017, 1), ax=axs)"
   ]
  },
  {
   "cell_type": "markdown",
   "metadata": {},
   "source": [
    "### 3.2 Histogram of patents per month"
   ]
  },
  {
   "cell_type": "code",
   "execution_count": 420,
   "metadata": {
    "collapsed": true
   },
   "outputs": [],
   "source": [
    "months = np.array(patents.date.str[5:7], np.int32)"
   ]
  },
  {
   "cell_type": "code",
   "execution_count": 422,
   "metadata": {},
   "outputs": [
    {
     "data": {
      "text/plain": [
       "(4499998,)"
      ]
     },
     "execution_count": 422,
     "metadata": {},
     "output_type": "execute_result"
    }
   ],
   "source": [
    "months.shape"
   ]
  },
  {
   "cell_type": "code",
   "execution_count": 426,
   "metadata": {},
   "outputs": [
    {
     "data": {
      "text/plain": [
       "<matplotlib.axes._subplots.AxesSubplot at 0x1a81dc128>"
      ]
     },
     "execution_count": 426,
     "metadata": {},
     "output_type": "execute_result"
    },
    {
     "data": {
      "image/png": "[encoded data removed]",
      "text/plain": [
       "<matplotlib.figure.Figure at 0x1a7ed8f28>"
      ]
     },
     "metadata": {},
     "output_type": "display_data"
    }
   ],
   "source": [
    "sns.distplot(months, bins=np.arange(1, 12, 1), kde=False)"
   ]
  },
  {
   "cell_type": "code",
   "execution_count": 430,
   "metadata": {},
   "outputs": [
    {
     "data": {
      "text/plain": [
       "'10E4'"
      ]
     },
     "execution_count": 430,
     "metadata": {},
     "output_type": "execute_result"
    }
   ],
   "source": [
    "'{0:0X}'.format(4324)"
   ]
  },
  {
   "cell_type": "markdown",
   "metadata": {},
   "source": [
    "### 3.3 Histogram of patents per day\n",
    "\n",
    "...."
   ]
  },
  {
   "cell_type": "markdown",
   "metadata": {},
   "source": [
    "## 4. Graph software"
   ]
  },
  {
   "cell_type": "markdown",
   "metadata": {},
   "source": [
    "### 4.1 What we tried\n",
    "\n",
    "Our first library of choice was *networkx* to store, analyse and display our graphs. While trying to load the 89 million edges into a graph, we quickly noticed that *networkx* is too slow to handle such data sizes.\n",
    "\n",
    "Looking for a graph network library that can handle many more nodes and edges, we discovered *graph-tool*. *graph-tool* stores vertices efficiently simply as an index between 0 and V-1, where V is the total number of vertices in the graph. Additional properties of the vertices (like the patent ID to identify them) can be stored alongside in a property variable. *graph-tool*'s algorithms are fast and efficient, but installing it proved to be quite challenging. \n",
    "\n",
    "Even though *graph-tool* is much faster than *networkx*, we are still reaching the limit of what our laptops can handle memory-wise (8GB). Therefore, if needed we will use a computer with more memory (16GB) to run more complex algorithms on the data."
   ]
  },
  {
   "cell_type": "markdown",
   "metadata": {},
   "source": [
    "### 4.2 Transforming the citations dataframe to a directed graph"
   ]
  },
  {
   "cell_type": "markdown",
   "metadata": {},
   "source": [
    "### 4.3 Examples using the created graph"
   ]
  },
  {
   "cell_type": "markdown",
   "metadata": {},
   "source": [
    "## 5. Statistics on the graph"
   ]
  },
  {
   "cell_type": "markdown",
   "metadata": {},
   "source": [
    "## 6. Plans for the continuation of the project"
   ]
  },
  {
   "cell_type": "markdown",
   "metadata": {},
   "source": [
    "### 6.1 Methods we will use on the graph\n",
    "\n",
    "At this point in time, we have the full graph available that we want to analyse. From this network, we hope to find new insights into the patents' data in the following ways:\n",
    "\n",
    "- Extract most cited patents. This means finding the vertices in the graph that have the highest in-degrees. When we have those patents, we can analyse if and how they are interconnected, as well as who are their inventors / assignees.\n",
    "\n",
    "\n",
    "- Find the smallest maximum distance between any two patents. How many steps away is any patent from any other one?\n",
    "\n",
    "\n",
    "- Go back in time: Is there a path from Snapchat's facial filters back in time to the invention of the transistor? We will try to find interesting examples of this type by searching for the shortest path between two nodes of interest.\n",
    "\n",
    "\n",
    "Methods we are considering:\n",
    "\n",
    "- Animated graphs that show patent applications and expirations throughout time in a network. graph-tool offers functions to build such an animation.\n",
    "\n",
    "\n",
    "\n",
    "\n",
    "\n",
    "### 6.2 What we still need to figure out:\n",
    "\n",
    "\n",
    "\n",
    "\n",
    "### 6.3 Timeplan\n",
    "\n",
    "\n",
    "\n"
   ]
  },
  {
   "cell_type": "code",
   "execution_count": null,
   "metadata": {
    "collapsed": true
   },
   "outputs": [],
   "source": []
  }
 ],
 "metadata": {
  "kernelspec": {
   "display_name": "Python 3",
   "language": "python",
   "name": "python3"
  },
  "language_info": {
   "codemirror_mode": {
    "name": "ipython",
    "version": 3
   },
   "file_extension": ".py",
   "mimetype": "text/x-python",
   "name": "python",
   "nbconvert_exporter": "python",
   "pygments_lexer": "ipython3",
   "version": "3.6.1"
  }
 },
 "nbformat": 4,
 "nbformat_minor": 2
}
