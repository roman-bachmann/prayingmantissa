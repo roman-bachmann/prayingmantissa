{
 "cells": [
  {
   "cell_type": "code",
   "execution_count": 1,
   "metadata": {
    "collapsed": true
   },
   "outputs": [],
   "source": [
    "import numpy as np\n",
    "\n",
    "from graph_tool.all import *\n",
    "\n",
    "import heapq\n",
    "import requests\n",
    "import json\n",
    "import time\n",
    "import csv"
   ]
  },
  {
   "cell_type": "code",
   "execution_count": 2,
   "metadata": {
    "collapsed": true
   },
   "outputs": [],
   "source": [
    "def hex_to_int(id):\n",
    "    '''Map patent id (string) to graph id (int).'''\n",
    "    return int(id, 16)\n",
    "\n",
    "def int_to_hex(id):\n",
    "    '''Map graph id (int) to patent id (string).'''\n",
    "    return '{0:0x}'.format(id)"
   ]
  },
  {
   "cell_type": "code",
   "execution_count": 3,
   "metadata": {},
   "outputs": [
    {
     "data": {
      "text/plain": [
       "<Graph object, directed, with 8274991 vertices and 86284396 edges at 0x7fc8d56a87f0>"
      ]
     },
     "execution_count": 3,
     "metadata": {},
     "output_type": "execute_result"
    }
   ],
   "source": [
    "DATA = './data/'\n",
    "graph = load_graph(DATA + 'citations_graph.xml.gz')\n",
    "graph"
   ]
  },
  {
   "cell_type": "code",
   "execution_count": null,
   "metadata": {
    "collapsed": true
   },
   "outputs": [],
   "source": [
    "def list_shortest_path(source, target, graph, verbose=False):\n",
    "    '''Compute and print the shortest path between two patents.\n",
    "    This function will pull the patent titles from the patentsview.org api.\n",
    "    \n",
    "    Keyword arguments:\n",
    "    source -- Patent id of source node (string)\n",
    "    target -- Patent id of target node (string)\n",
    "    graph -- Patent graph\n",
    "    verbose -- Set to true to print out shortest path (default=False)\n",
    "    '''\n",
    "    \n",
    "    source_int_id = hex_to_int(source)\n",
    "    target_int_id = hex_to_int(target)\n",
    "    \n",
    "    source_vertex = find_vertex(graph, graph.vertex_properties.id, source_int_id)\n",
    "    if (len(source_vertex) == 0):\n",
    "        print('Source not found in graph.')\n",
    "        return None\n",
    "    \n",
    "    target_vertex = find_vertex(graph, graph.vertex_properties.id, target_int_id)\n",
    "    if (len(target_vertex) == 0):\n",
    "        print('Target not found in graph.')\n",
    "        return None\n",
    "    \n",
    "    path = shortest_path(graph, source_vertex[0], target_vertex[0])\n",
    "    \n",
    "    if (len(path[0]) == 0):\n",
    "        print('The graph contains no path from source to target.')\n",
    "        return None\n",
    "    \n",
    "    if verbose:\n",
    "        print('Shortest path:\\n--------------')\n",
    "        for idx, v in enumerate(path[0]):\n",
    "            patent_id = int_to_hex(graph.vp.id[int(v)])\n",
    "            patent_URL = 'http://www.patentsview.org/api/patents/query?q={\"patent_number\":\"' + patent_id + '\"}'\n",
    "            patent_info = requests.get(patent_URL).json()\n",
    "            if (patent_info['patents'] is None):\n",
    "                patent_title = '-No title available-'\n",
    "            else:\n",
    "                patent_title = patent_info['patents'][0]['patent_title']\n",
    "            print('ID: {}\\t{}'.format(patent_id, patent_title))\n",
    "            if (idx < len(path[0])-1):\n",
    "                print('↓')\n",
    "            \n",
    "    return path"
   ]
  },
  {
   "cell_type": "code",
   "execution_count": null,
   "metadata": {
    "collapsed": true
   },
   "outputs": [],
   "source": [
    "# Shortest path between Snapchat Augmented Reality and Apple II patents\n",
    "path = list_shortest_path('9652896', '4136359', graph, verbose=True)"
   ]
  },
  {
   "cell_type": "code",
   "execution_count": null,
   "metadata": {
    "collapsed": true,
    "scrolled": true
   },
   "outputs": [],
   "source": [
    "path"
   ]
  },
  {
   "cell_type": "code",
   "execution_count": null,
   "metadata": {
    "collapsed": true
   },
   "outputs": [],
   "source": [
    "asp = all_shortest_paths(graph, hex_to_int('9652896'), hex_to_int('4136359'))"
   ]
  },
  {
   "cell_type": "code",
   "execution_count": null,
   "metadata": {
    "collapsed": true
   },
   "outputs": [],
   "source": [
    "\n",
    "\n",
    "i = 0\n",
    "for p in all_paths(graph, hex_to_int('9652896'), hex_to_int('4136359'), cutoff=2):\n",
    "    print(p)\n",
    "    i += 1\n",
    "    if i > 3:\n",
    "        break"
   ]
  },
  {
   "cell_type": "markdown",
   "metadata": {},
   "source": [
    "## Convert paths to CSVs"
   ]
  },
  {
   "cell_type": "code",
   "execution_count": null,
   "metadata": {
    "collapsed": true
   },
   "outputs": [],
   "source": [
    "def paths_vertices_to_csv(paths, filename):\n",
    "    vertices = []\n",
    "    \n",
    "    for p in paths: # For each path\n",
    "        for v in p[0]: # For all the vertices in that path\n",
    "            patent_id = int_to_hex(graph.vp.id[int(v)])\n",
    "            patent_URL = 'http://www.patentsview.org/api/patents/query?q={\"patent_number\":\"' + patent_id + '\"}'\n",
    "            patent_info = requests.get(patent_URL).json()\n",
    "            if (patent_info['patents'] is None):\n",
    "                patent_title = '-No title available-'\n",
    "            else:\n",
    "                patent_title = patent_info['patents'][0]['patent_title']\n",
    "            vertices.append([patent_id, patent_title])\n",
    "            \n",
    "    output_file = open(filename, 'w')\n",
    "    with output_file:  \n",
    "        writer = csv.writer(output_file)\n",
    "        writer.writerow(['Id', 'Label'])\n",
    "        writer.writerows(vertices)\n",
    "\n",
    "    return vertices"
   ]
  },
  {
   "cell_type": "code",
   "execution_count": null,
   "metadata": {
    "collapsed": true
   },
   "outputs": [],
   "source": [
    "vertices = paths_vertices_to_csv([path], './path_vertices.csv')"
   ]
  },
  {
   "cell_type": "code",
   "execution_count": null,
   "metadata": {
    "collapsed": true
   },
   "outputs": [],
   "source": [
    "def paths_edges_to_csv(paths, filename):\n",
    "    edges = []\n",
    "    \n",
    "    for p in paths: # For each path\n",
    "        for e in p[1]: # For all the edges in that path\n",
    "            source_index = int(e.source())\n",
    "            source_id = int_to_hex(graph.vp.id[source_index])\n",
    "            target_index = int(e.target())\n",
    "            target_id = int_to_hex(graph.vp.id[target_index])\n",
    "            \n",
    "            edges.append([source_id, target_id])\n",
    "            \n",
    "    output_file = open(filename, 'w')\n",
    "    with output_file:  \n",
    "        writer = csv.writer(output_file)\n",
    "        writer.writerow(['Source', 'Target'])\n",
    "        writer.writerows(edges)\n",
    "        \n",
    "    return edges"
   ]
  },
  {
   "cell_type": "code",
   "execution_count": null,
   "metadata": {
    "collapsed": true
   },
   "outputs": [],
   "source": [
    "edges = paths_edges_to_csv([path], './path_edges.csv')"
   ]
  },
  {
   "cell_type": "code",
   "execution_count": null,
   "metadata": {
    "collapsed": true
   },
   "outputs": [],
   "source": []
  }
 ],
 "metadata": {
  "kernelspec": {
   "display_name": "Python 3",
   "language": "python",
   "name": "python3"
  },
  "language_info": {
   "codemirror_mode": {
    "name": "ipython",
    "version": 3
   },
   "file_extension": ".py",
   "mimetype": "text/x-python",
   "name": "python",
   "nbconvert_exporter": "python",
   "pygments_lexer": "ipython3",
   "version": "3.6.3"
  }
 },
 "nbformat": 4,
 "nbformat_minor": 2
}
