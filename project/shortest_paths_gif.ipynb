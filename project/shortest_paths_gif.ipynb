{
 "cells": [
  {
   "cell_type": "code",
   "execution_count": 1,
   "metadata": {
    "collapsed": true
   },
   "outputs": [],
   "source": [
    "import numpy as np\n",
    "\n",
    "import matplotlib.pyplot as plt\n",
    "%matplotlib inline\n",
    "\n",
    "from graph_tool.all import *\n",
    "\n",
    "import heapq\n",
    "import requests\n",
    "import json\n",
    "import time\n",
    "import csv\n",
    "import itertools"
   ]
  },
  {
   "cell_type": "code",
   "execution_count": 2,
   "metadata": {
    "collapsed": true
   },
   "outputs": [],
   "source": [
    "def hex_to_int(id):\n",
    "    '''Map patent id (string) to graph id (int).'''\n",
    "    return int(id, 16)\n",
    "\n",
    "def int_to_hex(id):\n",
    "    '''Map graph id (int) to patent id (string).'''\n",
    "    return '{0:0x}'.format(id)"
   ]
  },
  {
   "cell_type": "code",
   "execution_count": 3,
   "metadata": {},
   "outputs": [
    {
     "data": {
      "text/plain": [
       "<Graph object, directed, with 8274991 vertices and 86284396 edges at 0x7fb515969978>"
      ]
     },
     "execution_count": 3,
     "metadata": {},
     "output_type": "execute_result"
    }
   ],
   "source": [
    "DATA = './data/'\n",
    "graph = load_graph(DATA + 'citations_graph.xml.gz')\n",
    "graph"
   ]
  },
  {
   "cell_type": "code",
   "execution_count": 4,
   "metadata": {
    "collapsed": true
   },
   "outputs": [],
   "source": [
    "def list_shortest_path(source, target, graph, verbose=False):\n",
    "    '''Compute and print the shortest path between two patents.\n",
    "    This function will pull the patent titles from the patentsview.org api.\n",
    "    \n",
    "    Keyword arguments:\n",
    "    source -- Patent id of source node (string)\n",
    "    target -- Patent id of target node (string)\n",
    "    graph -- Patent graph\n",
    "    verbose -- Set to true to print out shortest path (default=False)\n",
    "    '''\n",
    "    \n",
    "    source_int_id = hex_to_int(source)\n",
    "    target_int_id = hex_to_int(target)\n",
    "    \n",
    "    source_vertex = find_vertex(graph, graph.vertex_properties.id, source_int_id)\n",
    "    if (len(source_vertex) == 0):\n",
    "        print('Source not found in graph.')\n",
    "        return None\n",
    "    \n",
    "    target_vertex = find_vertex(graph, graph.vertex_properties.id, target_int_id)\n",
    "    if (len(target_vertex) == 0):\n",
    "        print('Target not found in graph.')\n",
    "        return None\n",
    "    \n",
    "    path = shortest_path(graph, source_vertex[0], target_vertex[0])\n",
    "    \n",
    "    if (len(path[0]) == 0):\n",
    "        print('The graph contains no path from source to target.')\n",
    "        return None\n",
    "    \n",
    "    if verbose:\n",
    "        print('Shortest path:\\n--------------')\n",
    "        for idx, v in enumerate(path[0]):\n",
    "            patent_id = int_to_hex(graph.vp.id[int(v)])\n",
    "            patent_URL = 'http://www.patentsview.org/api/patents/query?q={\"patent_number\":\"' + patent_id + '\"}'\n",
    "            patent_info = requests.get(patent_URL).json()\n",
    "            if (patent_info['patents'] is None):\n",
    "                patent_title = '-No title available-'\n",
    "            else:\n",
    "                patent_title = patent_info['patents'][0]['patent_title']\n",
    "            print('ID: {}\\t{}'.format(patent_id, patent_title))\n",
    "            if (idx < len(path[0])-1):\n",
    "                print('↓')\n",
    "            \n",
    "    return path"
   ]
  },
  {
   "cell_type": "code",
   "execution_count": 9,
   "metadata": {},
   "outputs": [
    {
     "name": "stdout",
     "output_type": "stream",
     "text": [
      "The graph contains no path from source to target.\n"
     ]
    }
   ],
   "source": [
    "path = list_shortest_path('4558413', '2981877', graph, verbose=True)"
   ]
  },
  {
   "cell_type": "markdown",
   "metadata": {},
   "source": [
    "## Manual all shortest paths"
   ]
  },
  {
   "cell_type": "code",
   "execution_count": null,
   "metadata": {
    "collapsed": true
   },
   "outputs": [],
   "source": [
    "class ShortestPathVisitor(BFSVisitor):\n",
    "    def __init__(self, name, pred, dist):\n",
    "        self.name = name\n",
    "        self.pred = pred\n",
    "        self.dist = dist\n",
    "            \n",
    "    def examine_edge(self, e):\n",
    "        # Getting distance of next node\n",
    "        next_dist = self.dist[e.source()] + 1\n",
    "            \n",
    "        # Checking if target has shorter connections\n",
    "        if self.pred[e.target()]:\n",
    "            if next_dist == self.dist[e.target()]:\n",
    "                self.pred[e.target()].append(int(e.source()))\n",
    "        else: # First to discover is shortest\n",
    "            self.pred[e.target()].append(int(e.source()))\n",
    "            self.dist[e.target()] = next_dist"
   ]
  },
  {
   "cell_type": "code",
   "execution_count": null,
   "metadata": {
    "collapsed": true
   },
   "outputs": [],
   "source": [
    "def all_shortest_paths(graph, pred, source, sink):\n",
    "    '''Returns all shortest paths from a source to a sink.\n",
    "    Uses graph indices.\n",
    "    Returns vertex set, edge set.'''\n",
    "    if (source == sink):\n",
    "        return set([sink]), set()\n",
    "    \n",
    "    vertices = set([sink])\n",
    "    edges = set()\n",
    "    \n",
    "    for v in pred[sink]:\n",
    "        edges.add((v,sink))\n",
    "        v_rec, e_rec = all_shortest_paths(graph, pred, source, v)\n",
    "        vertices = vertices | v_rec\n",
    "        edges = edges | e_rec\n",
    "        \n",
    "    return vertices, edges"
   ]
  },
  {
   "cell_type": "code",
   "execution_count": null,
   "metadata": {
    "collapsed": true
   },
   "outputs": [],
   "source": [
    "def all_shortest_paths_combined(graph, source, sink_list, dist, pred):\n",
    "    vertices = set()\n",
    "    edges = set()\n",
    "    \n",
    "    print('Computing all shortest paths from ' + source)    \n",
    "    source_vertex = find_vertex(graph, graph.vertex_properties.id, hex_to_int(source))[0]\n",
    "    bfs_search(graph, int(source_vertex), ShortestPathVisitor('SPV_' + source, pred, dist))\n",
    "        \n",
    "    for sink in sink_list:\n",
    "        print('\\tto ' + sink)\n",
    "        sink_vertex = find_vertex(graph, graph.vertex_properties.id, hex_to_int(sink))[0]\n",
    "        vs, es = all_shortest_paths(graph, pred, int(source_vertex), int(sink_vertex))\n",
    "        vertices = vertices | vs\n",
    "        edges = edges | es\n",
    "        \n",
    "    return vertices, edges      "
   ]
  },
  {
   "cell_type": "markdown",
   "metadata": {},
   "source": [
    "Source Patents:\n",
    "\n",
    "- ..'6285999' Google Page rank\n",
    "- '9652896' Snapchat AR\n",
    "- .'8825597' Dropbox\n",
    "- '8225376' Facebook\n",
    "- '7904382' Solar City\n",
    "- '6955484' GoPro\n",
    "- ..'8046721' Apple slide to unlock\n",
    "- .'9063330' Oculus Rift\n",
    "- 'D683268' Tesla car design\n",
    "- '9134731' Autonomous driving\n",
    "- ..'8930044' Autonomous medical drone\n",
    "- '5194299' Post-it\n",
    "\n",
    "\n",
    "\n",
    "Sink Patents:\n",
    "\n",
    "- .'4136359' Apple II\n",
    "- ..'2981877' Semiconductor / IC\n",
    "- '416194' Electric motor - Nikola Tesla\n",
    "- '174465' Telephone\n",
    "- '1647' Telegraph\n",
    "- '200521' Phonograph\n",
    "- '223898' Light bulb\n",
    "- X '430804' Electrical calculating system \n",
    "- ..'821393' Flying-machine\n",
    "- '1867377' Sliced bread\n",
    "- '1102653' Multistaged rocket\n",
    "- '4022227' Method of concealing partial baldness \n",
    "- X '20050228218' Double anchor strapless dildo \n",
    "- '8540' Zipper\n",
    "- '3009235' Velcro\n",
    "- '1331952' Bouncy shoe\n",
    "- .'1143542' Moving picture\n",
    "- ..'676332' Apparatus for wireless telegraphy"
   ]
  },
  {
   "cell_type": "code",
   "execution_count": null,
   "metadata": {
    "collapsed": true
   },
   "outputs": [],
   "source": [
    "source = '6285999'\n",
    "sink_list = ['4136359', '2981877', '223898', \\\n",
    "             '821393', '3009235', '1143542', '676332']"
   ]
  },
  {
   "cell_type": "code",
   "execution_count": null,
   "metadata": {
    "collapsed": true,
    "scrolled": false
   },
   "outputs": [],
   "source": [
    "dist = graph.new_vertex_property(\"int\")\n",
    "pred = graph.new_vertex_property(\"vector<int32_t>\")\n",
    "\n",
    "asp = all_shortest_paths_combined(graph, source, sink_list, dist, pred)"
   ]
  },
  {
   "cell_type": "code",
   "execution_count": null,
   "metadata": {
    "collapsed": true
   },
   "outputs": [],
   "source": [
    "max_dist = 0\n",
    "\n",
    "for sink in sink_list:\n",
    "    sink_vertex = find_vertex(graph, graph.vertex_properties.id, hex_to_int(sink))[0]\n",
    "    sink_dist = dist[sink_vertex]\n",
    "    if sink_dist > max_dist:\n",
    "        max_dist = sink_dist"
   ]
  },
  {
   "cell_type": "code",
   "execution_count": null,
   "metadata": {
    "collapsed": true
   },
   "outputs": [],
   "source": [
    "max_dist"
   ]
  },
  {
   "cell_type": "markdown",
   "metadata": {},
   "source": [
    "## Convert paths to CSVs"
   ]
  },
  {
   "cell_type": "code",
   "execution_count": null,
   "metadata": {
    "collapsed": true
   },
   "outputs": [],
   "source": [
    "def paths_vertices_to_csv(paths, filename, dist, max_dist):\n",
    "    vertices = []\n",
    "    \n",
    "    for p in paths: # For each path\n",
    "        for v in p[0]: # For all the vertices in that path\n",
    "            patent_id = int_to_hex(graph.vp.id[int(v)])\n",
    "            patent_URL = 'http://www.patentsview.org/api/patents/query?q={\"patent_number\":\"' + patent_id + '\"}'\n",
    "            patent_info = requests.get(patent_URL).json()\n",
    "            if (patent_info['patents'] is None):\n",
    "                patent_title = '-No title available-'\n",
    "            else:\n",
    "                patent_title = patent_info['patents'][0]['patent_title']\n",
    "            vertex_dist = '<[' + str(dist[v]) + ',' + str(max_dist) + ']>'\n",
    "            z = dist[v]\n",
    "            vertices.append([patent_id, vertex_dist, z, patent_title])\n",
    "            \n",
    "    output_file = open(filename, 'w')\n",
    "    with output_file:  \n",
    "        writer = csv.writer(output_file)\n",
    "        writer.writerow(['Id', 'Interval', '[z]', 'Label'])\n",
    "        writer.writerows(vertices)\n",
    "\n",
    "    return vertices"
   ]
  },
  {
   "cell_type": "code",
   "execution_count": null,
   "metadata": {
    "collapsed": true
   },
   "outputs": [],
   "source": [
    "vertices = paths_vertices_to_csv([asp], './path_vertices.csv', dist, max_dist)"
   ]
  },
  {
   "cell_type": "code",
   "execution_count": null,
   "metadata": {
    "collapsed": true
   },
   "outputs": [],
   "source": [
    "def paths_edges_to_csv(paths, filename):\n",
    "    edges = []\n",
    "    \n",
    "    for p in paths: # For each path\n",
    "        for e in p[1]: # For all the edges in that path\n",
    "            source_index = int(e[0])\n",
    "            source_id = int_to_hex(graph.vp.id[source_index])\n",
    "            target_index = int(e[1])\n",
    "            target_id = int_to_hex(graph.vp.id[target_index])\n",
    "            \n",
    "            edges.append([source_id, target_id])\n",
    "            \n",
    "    output_file = open(filename, 'w')\n",
    "    with output_file:  \n",
    "        writer = csv.writer(output_file)\n",
    "        writer.writerow(['Source', 'Target'])\n",
    "        writer.writerows(edges)\n",
    "        \n",
    "    return edges"
   ]
  },
  {
   "cell_type": "code",
   "execution_count": null,
   "metadata": {
    "collapsed": true
   },
   "outputs": [],
   "source": [
    "edges = paths_edges_to_csv([asp], './path_edges.csv')"
   ]
  },
  {
   "cell_type": "code",
   "execution_count": null,
   "metadata": {
    "collapsed": true
   },
   "outputs": [],
   "source": []
  }
 ],
 "metadata": {
  "kernelspec": {
   "display_name": "Python 3",
   "language": "python",
   "name": "python3"
  },
  "language_info": {
   "codemirror_mode": {
    "name": "ipython",
    "version": 3
   },
   "file_extension": ".py",
   "mimetype": "text/x-python",
   "name": "python",
   "nbconvert_exporter": "python",
   "pygments_lexer": "ipython3",
   "version": "3.6.3"
  }
 },
 "nbformat": 4,
 "nbformat_minor": 2
}
