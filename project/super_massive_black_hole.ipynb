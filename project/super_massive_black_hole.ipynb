{
 "cells": [
  {
   "cell_type": "markdown",
   "metadata": {},
   "source": [
    "# Milestone 2"
   ]
  },
  {
   "cell_type": "markdown",
   "metadata": {},
   "source": [
    "Structure:\n",
    "\n",
    "1. Introduction to / explanation of patents\n",
    "1. Data Preparation & Analysis\n",
    "    - Explain how to get data from where\n",
    "    - Explanation of data (what columns, types, etc)\n",
    "    - Deal with NaN's\n",
    "    - Clean noise (trim), only keep Google patents, only keep reasonable dates\n",
    "    - Looking at possible values of each column (min, max, categorical)\n",
    "    - Deal with strings -> map to integers.\n",
    "    - Stats (data): Histogram of number of patents per year (submitted, cited) (Also look at dist of days/months)\n",
    "    - Stats (data): Boxplots of average number of citations (citated by)\n",
    "1. Graph software\n",
    "    - What we tried. The good, the bad, the ugly. Alternatives that we dropped and are considering.\n",
    "    - Transformation of data to graph\n",
    "    - Load and store\n",
    "    - Example pipeline\n",
    "1. Stats about graph\n",
    "    - Histograms, time series, connectivity, pathfinding, most cited, cliques, ...\n",
    "    - Patent families!\n",
    "1. Planning until presentation\n",
    "    - Find graphing library that isn't slow\n",
    "    \n",
    "    \n",
    "TODO: UPDATE README"
   ]
  },
  {
   "cell_type": "code",
   "execution_count": null,
   "metadata": {},
   "outputs": [],
   "source": []
  }
 ],
 "metadata": {
  "kernelspec": {
   "display_name": "Python [conda env:ada]",
   "language": "python",
   "name": "conda-env-ada-py"
  },
  "language_info": {
   "codemirror_mode": {
    "name": "ipython",
    "version": 3
   },
   "file_extension": ".py",
   "mimetype": "text/x-python",
   "name": "python",
   "nbconvert_exporter": "python",
   "pygments_lexer": "ipython3",
   "version": "3.5.4"
  }
 },
 "nbformat": 4,
 "nbformat_minor": 2
}
