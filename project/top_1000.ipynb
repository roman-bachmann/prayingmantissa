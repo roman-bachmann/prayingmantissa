{
 "cells": [
  {
   "cell_type": "code",
   "execution_count": 1,
   "metadata": {
    "collapsed": true
   },
   "outputs": [],
   "source": [
    "import numpy as np\n",
    "import pandas as pd\n",
    "\n",
    "import matplotlib.pyplot as plt\n",
    "%matplotlib inline\n",
    "\n",
    "import seaborn as sns\n",
    "\n",
    "from graph_tool.all import *\n",
    "from graph_tool.draw import *\n",
    "\n",
    "import heapq\n",
    "import requests\n",
    "import json\n",
    "import time\n",
    "import csv"
   ]
  },
  {
   "cell_type": "code",
   "execution_count": 2,
   "metadata": {
    "collapsed": true
   },
   "outputs": [],
   "source": [
    "def hex_to_int(id):\n",
    "    '''Map patent id (string) to graph id (int).'''\n",
    "    return int(id, 16)\n",
    "\n",
    "def int_to_hex(id):\n",
    "    '''Map graph id (int) to patent id (string).'''\n",
    "    return '{0:0x}'.format(id)"
   ]
  },
  {
   "cell_type": "code",
   "execution_count": 2,
   "metadata": {},
   "outputs": [
    {
     "data": {
      "text/plain": [
       "<Graph object, directed, with 8274991 vertices and 86284396 edges at 0x7fdfa55772b0>"
      ]
     },
     "execution_count": 2,
     "metadata": {},
     "output_type": "execute_result"
    }
   ],
   "source": [
    "DATA = './data/'\n",
    "graph = load_graph(DATA + 'citations_graph.xml.gz')\n",
    "graph"
   ]
  },
  {
   "cell_type": "code",
   "execution_count": 4,
   "metadata": {
    "collapsed": true
   },
   "outputs": [],
   "source": [
    "# Getting the in-degree of each vertex\n",
    "vertices = [int(v) for v in graph.vertices()]\n",
    "in_deg = graph.get_in_degrees(vertices)"
   ]
  },
  {
   "cell_type": "code",
   "execution_count": null,
   "metadata": {
    "scrolled": true
   },
   "outputs": [],
   "source": [
    "highest_in = []\n",
    "\n",
    "max_in_degs = heapq.nlargest(1000, enumerate(in_deg), key=lambda x: x[1])\n",
    "\n",
    "for idx, deg in enumerate(max_in_degs):\n",
    "    patent_id = int_to_hex(graph.vp.id[deg[0]])\n",
    "    patent_URL = 'http://www.patentsview.org/api/patents/query?q={\"patent_number\":\"' + patent_id + '\"}'\n",
    "    patent_info = requests.get(patent_URL).json()\n",
    "    if patent_info['patents']:\n",
    "        patent_title = patent_info['patents'][0]['patent_title']\n",
    "    else:\n",
    "        patent_title = '- No title available -'\n",
    "    in_degree = deg[1]\n",
    "    highest_in.append([patent_id, in_degree, patent_title])\n",
    "    if idx % 100 == 0:\n",
    "        print(idx)"
   ]
  },
  {
   "cell_type": "code",
   "execution_count": null,
   "metadata": {
    "collapsed": true
   },
   "outputs": [],
   "source": [
    "highest_in = np.array(highest_in)"
   ]
  },
  {
   "cell_type": "code",
   "execution_count": 55,
   "metadata": {
    "collapsed": true
   },
   "outputs": [],
   "source": [
    "output_file = open('highest_in.csv', 'w')\n",
    "with output_file:  \n",
    "    writer = csv.writer(output_file)\n",
    "    writer.writerow(['patent_id', 'in_degree', 'patent_title'])\n",
    "    writer.writerows(highest_in)"
   ]
  },
  {
   "cell_type": "code",
   "execution_count": 56,
   "metadata": {
    "collapsed": true
   },
   "outputs": [],
   "source": [
    "pr = pagerank(graph)"
   ]
  },
  {
   "cell_type": "code",
   "execution_count": 60,
   "metadata": {},
   "outputs": [
    {
     "name": "stdout",
     "output_type": "stream",
     "text": [
      "0\n",
      "100\n",
      "200\n",
      "300\n",
      "400\n",
      "500\n",
      "600\n",
      "700\n",
      "800\n",
      "900\n"
     ]
    }
   ],
   "source": [
    "highest_pr = []\n",
    "\n",
    "max_pr = heapq.nlargest(1000, enumerate(pr), key=lambda x: x[1])\n",
    "\n",
    "for idx, deg in enumerate(max_pr):\n",
    "    patent_id = int_to_hex(graph.vp.id[deg[0]])\n",
    "    patent_URL = 'http://www.patentsview.org/api/patents/query?q={\"patent_number\":\"' + patent_id + '\"}'\n",
    "    patent_info = requests.get(patent_URL).json()\n",
    "    if patent_info['patents']:\n",
    "        patent_title = patent_info['patents'][0]['patent_title']\n",
    "    else:\n",
    "        patent_title = '- No title available -'\n",
    "    rank = deg[1]\n",
    "    highest_pr.append([patent_id, rank, patent_title])\n",
    "    if idx % 100 == 0:\n",
    "        print(idx)"
   ]
  },
  {
   "cell_type": "code",
   "execution_count": 65,
   "metadata": {
    "collapsed": true
   },
   "outputs": [],
   "source": [
    "highest_pr = np.array(highest_pr)"
   ]
  },
  {
   "cell_type": "code",
   "execution_count": 63,
   "metadata": {
    "collapsed": true
   },
   "outputs": [],
   "source": [
    "output_file = open('highest_pr.csv', 'w')\n",
    "with output_file:  \n",
    "    writer = csv.writer(output_file)\n",
    "    writer.writerow(['patent_id', 'pagerank', 'patent_title'])\n",
    "    writer.writerows(highest_pr)"
   ]
  },
  {
   "cell_type": "code",
   "execution_count": 3,
   "metadata": {
    "collapsed": true
   },
   "outputs": [],
   "source": [
    "top_in_deg = pd.read_csv('highest_in.csv')\n",
    "top_in_deg.patent_id = top_in_deg.patent_id.apply(str)\n",
    "top_pr = pd.read_csv('highest_pr.csv')\n",
    "top_pr.patent_id = top_pr.patent_id.apply(str)"
   ]
  },
  {
   "cell_type": "code",
   "execution_count": 4,
   "metadata": {},
   "outputs": [
    {
     "data": {
      "text/html": [
       "<div>\n",
       "<style scoped>\n",
       "    .dataframe tbody tr th:only-of-type {\n",
       "        vertical-align: middle;\n",
       "    }\n",
       "\n",
       "    .dataframe tbody tr th {\n",
       "        vertical-align: top;\n",
       "    }\n",
       "\n",
       "    .dataframe thead th {\n",
       "        text-align: right;\n",
       "    }\n",
       "</style>\n",
       "<table border=\"1\" class=\"dataframe\">\n",
       "  <thead>\n",
       "    <tr style=\"text-align: right;\">\n",
       "      <th></th>\n",
       "      <th>patent_id</th>\n",
       "      <th>in_degree</th>\n",
       "      <th>rank_in</th>\n",
       "      <th>patent_title_in</th>\n",
       "    </tr>\n",
       "  </thead>\n",
       "  <tbody>\n",
       "    <tr>\n",
       "      <th>0</th>\n",
       "      <td>4683202</td>\n",
       "      <td>3709</td>\n",
       "      <td>1</td>\n",
       "      <td>Process for amplifying nucleic acid sequences</td>\n",
       "    </tr>\n",
       "    <tr>\n",
       "      <th>1</th>\n",
       "      <td>5523520</td>\n",
       "      <td>3342</td>\n",
       "      <td>2</td>\n",
       "      <td>Mutant dwarfism gene of petunia</td>\n",
       "    </tr>\n",
       "    <tr>\n",
       "      <th>2</th>\n",
       "      <td>4683195</td>\n",
       "      <td>3188</td>\n",
       "      <td>3</td>\n",
       "      <td>Process for amplifying, detecting, and/or-clon...</td>\n",
       "    </tr>\n",
       "    <tr>\n",
       "      <th>3</th>\n",
       "      <td>4733665</td>\n",
       "      <td>2697</td>\n",
       "      <td>4</td>\n",
       "      <td>Expandable intraluminal graft, and method and ...</td>\n",
       "    </tr>\n",
       "    <tr>\n",
       "      <th>4</th>\n",
       "      <td>5892900</td>\n",
       "      <td>2451</td>\n",
       "      <td>5</td>\n",
       "      <td>Systems and methods for secure transaction man...</td>\n",
       "    </tr>\n",
       "  </tbody>\n",
       "</table>\n",
       "</div>"
      ],
      "text/plain": [
       "  patent_id  in_degree  rank_in  \\\n",
       "0   4683202       3709        1   \n",
       "1   5523520       3342        2   \n",
       "2   4683195       3188        3   \n",
       "3   4733665       2697        4   \n",
       "4   5892900       2451        5   \n",
       "\n",
       "                                     patent_title_in  \n",
       "0      Process for amplifying nucleic acid sequences  \n",
       "1                    Mutant dwarfism gene of petunia  \n",
       "2  Process for amplifying, detecting, and/or-clon...  \n",
       "3  Expandable intraluminal graft, and method and ...  \n",
       "4  Systems and methods for secure transaction man...  "
      ]
     },
     "execution_count": 4,
     "metadata": {},
     "output_type": "execute_result"
    }
   ],
   "source": [
    "top_in_deg.head()"
   ]
  },
  {
   "cell_type": "code",
   "execution_count": 5,
   "metadata": {},
   "outputs": [
    {
     "data": {
      "text/html": [
       "<div>\n",
       "<style scoped>\n",
       "    .dataframe tbody tr th:only-of-type {\n",
       "        vertical-align: middle;\n",
       "    }\n",
       "\n",
       "    .dataframe tbody tr th {\n",
       "        vertical-align: top;\n",
       "    }\n",
       "\n",
       "    .dataframe thead th {\n",
       "        text-align: right;\n",
       "    }\n",
       "</style>\n",
       "<table border=\"1\" class=\"dataframe\">\n",
       "  <thead>\n",
       "    <tr style=\"text-align: right;\">\n",
       "      <th></th>\n",
       "      <th>patent_id</th>\n",
       "      <th>pagerank</th>\n",
       "      <th>rank_pr</th>\n",
       "      <th>patent_title_pr</th>\n",
       "    </tr>\n",
       "  </thead>\n",
       "  <tbody>\n",
       "    <tr>\n",
       "      <th>0</th>\n",
       "      <td>4237224</td>\n",
       "      <td>0.000029</td>\n",
       "      <td>1</td>\n",
       "      <td>Process for producing biologically functional ...</td>\n",
       "    </tr>\n",
       "    <tr>\n",
       "      <th>1</th>\n",
       "      <td>3813316</td>\n",
       "      <td>0.000025</td>\n",
       "      <td>2</td>\n",
       "      <td>- No title available -</td>\n",
       "    </tr>\n",
       "    <tr>\n",
       "      <th>2</th>\n",
       "      <td>4309756</td>\n",
       "      <td>0.000019</td>\n",
       "      <td>3</td>\n",
       "      <td>Method of automatically evaluating source lang...</td>\n",
       "    </tr>\n",
       "    <tr>\n",
       "      <th>3</th>\n",
       "      <td>4558413</td>\n",
       "      <td>0.000018</td>\n",
       "      <td>4</td>\n",
       "      <td>Software version management system</td>\n",
       "    </tr>\n",
       "    <tr>\n",
       "      <th>4</th>\n",
       "      <td>4395486</td>\n",
       "      <td>0.000017</td>\n",
       "      <td>5</td>\n",
       "      <td>Method for the direct analysis of sickle cell ...</td>\n",
       "    </tr>\n",
       "  </tbody>\n",
       "</table>\n",
       "</div>"
      ],
      "text/plain": [
       "  patent_id  pagerank  rank_pr  \\\n",
       "0   4237224  0.000029        1   \n",
       "1   3813316  0.000025        2   \n",
       "2   4309756  0.000019        3   \n",
       "3   4558413  0.000018        4   \n",
       "4   4395486  0.000017        5   \n",
       "\n",
       "                                     patent_title_pr  \n",
       "0  Process for producing biologically functional ...  \n",
       "1                             - No title available -  \n",
       "2  Method of automatically evaluating source lang...  \n",
       "3                 Software version management system  \n",
       "4  Method for the direct analysis of sickle cell ...  "
      ]
     },
     "execution_count": 5,
     "metadata": {},
     "output_type": "execute_result"
    }
   ],
   "source": [
    "top_pr.head()"
   ]
  },
  {
   "cell_type": "code",
   "execution_count": 6,
   "metadata": {
    "collapsed": true
   },
   "outputs": [],
   "source": [
    "merged = top_in_deg.merge(top_pr, on='patent_id', how='inner')"
   ]
  },
  {
   "cell_type": "code",
   "execution_count": 10,
   "metadata": {},
   "outputs": [],
   "source": [
    "merged['rank_avg'] = (merged.rank_in + merged.rank_pr) / 2"
   ]
  },
  {
   "cell_type": "code",
   "execution_count": 15,
   "metadata": {
    "scrolled": false
   },
   "outputs": [],
   "source": [
    "merged = merged.sort_values('rank_avg')"
   ]
  },
  {
   "cell_type": "code",
   "execution_count": 16,
   "metadata": {},
   "outputs": [
    {
     "data": {
      "text/html": [
       "<div>\n",
       "<style scoped>\n",
       "    .dataframe tbody tr th:only-of-type {\n",
       "        vertical-align: middle;\n",
       "    }\n",
       "\n",
       "    .dataframe tbody tr th {\n",
       "        vertical-align: top;\n",
       "    }\n",
       "\n",
       "    .dataframe thead th {\n",
       "        text-align: right;\n",
       "    }\n",
       "</style>\n",
       "<table border=\"1\" class=\"dataframe\">\n",
       "  <thead>\n",
       "    <tr style=\"text-align: right;\">\n",
       "      <th></th>\n",
       "      <th>patent_id</th>\n",
       "      <th>in_degree</th>\n",
       "      <th>rank_in</th>\n",
       "      <th>patent_title_in</th>\n",
       "      <th>pagerank</th>\n",
       "      <th>rank_pr</th>\n",
       "      <th>patent_title_pr</th>\n",
       "      <th>rank_avg</th>\n",
       "    </tr>\n",
       "  </thead>\n",
       "  <tbody>\n",
       "    <tr>\n",
       "      <th>0</th>\n",
       "      <td>4683202</td>\n",
       "      <td>3709</td>\n",
       "      <td>1</td>\n",
       "      <td>Process for amplifying nucleic acid sequences</td>\n",
       "      <td>0.000017</td>\n",
       "      <td>6</td>\n",
       "      <td>Process for amplifying nucleic acid sequences</td>\n",
       "      <td>3.5</td>\n",
       "    </tr>\n",
       "    <tr>\n",
       "      <th>2</th>\n",
       "      <td>4683195</td>\n",
       "      <td>3188</td>\n",
       "      <td>3</td>\n",
       "      <td>Process for amplifying, detecting, and/or-clon...</td>\n",
       "      <td>0.000017</td>\n",
       "      <td>7</td>\n",
       "      <td>Process for amplifying, detecting, and/or-clon...</td>\n",
       "      <td>5.0</td>\n",
       "    </tr>\n",
       "    <tr>\n",
       "      <th>1</th>\n",
       "      <td>5523520</td>\n",
       "      <td>3342</td>\n",
       "      <td>2</td>\n",
       "      <td>Mutant dwarfism gene of petunia</td>\n",
       "      <td>0.000013</td>\n",
       "      <td>10</td>\n",
       "      <td>Mutant dwarfism gene of petunia</td>\n",
       "      <td>6.0</td>\n",
       "    </tr>\n",
       "    <tr>\n",
       "      <th>7</th>\n",
       "      <td>4723129</td>\n",
       "      <td>1871</td>\n",
       "      <td>31</td>\n",
       "      <td>Bubble jet recording method and apparatus in w...</td>\n",
       "      <td>0.000008</td>\n",
       "      <td>34</td>\n",
       "      <td>Bubble jet recording method and apparatus in w...</td>\n",
       "      <td>32.5</td>\n",
       "    </tr>\n",
       "    <tr>\n",
       "      <th>8</th>\n",
       "      <td>5572643</td>\n",
       "      <td>1811</td>\n",
       "      <td>34</td>\n",
       "      <td>Web browser with dynamic display of informatio...</td>\n",
       "      <td>0.000008</td>\n",
       "      <td>36</td>\n",
       "      <td>Web browser with dynamic display of informatio...</td>\n",
       "      <td>35.0</td>\n",
       "    </tr>\n",
       "    <tr>\n",
       "      <th>12</th>\n",
       "      <td>4463359</td>\n",
       "      <td>1680</td>\n",
       "      <td>38</td>\n",
       "      <td>Droplet generating method and apparatus thereof</td>\n",
       "      <td>0.000008</td>\n",
       "      <td>32</td>\n",
       "      <td>Droplet generating method and apparatus thereof</td>\n",
       "      <td>35.0</td>\n",
       "    </tr>\n",
       "    <tr>\n",
       "      <th>19</th>\n",
       "      <td>5103459</td>\n",
       "      <td>1554</td>\n",
       "      <td>48</td>\n",
       "      <td>System and method for generating signal wavefo...</td>\n",
       "      <td>0.000009</td>\n",
       "      <td>23</td>\n",
       "      <td>System and method for generating signal wavefo...</td>\n",
       "      <td>35.5</td>\n",
       "    </tr>\n",
       "    <tr>\n",
       "      <th>33</th>\n",
       "      <td>4901307</td>\n",
       "      <td>1407</td>\n",
       "      <td>67</td>\n",
       "      <td>Spread spectrum multiple access communication ...</td>\n",
       "      <td>0.000008</td>\n",
       "      <td>29</td>\n",
       "      <td>Spread spectrum multiple access communication ...</td>\n",
       "      <td>48.0</td>\n",
       "    </tr>\n",
       "    <tr>\n",
       "      <th>17</th>\n",
       "      <td>4740796</td>\n",
       "      <td>1587</td>\n",
       "      <td>46</td>\n",
       "      <td>Bubble jet recording method and apparatus in w...</td>\n",
       "      <td>0.000006</td>\n",
       "      <td>83</td>\n",
       "      <td>Bubble jet recording method and apparatus in w...</td>\n",
       "      <td>64.5</td>\n",
       "    </tr>\n",
       "    <tr>\n",
       "      <th>21</th>\n",
       "      <td>4558333</td>\n",
       "      <td>1476</td>\n",
       "      <td>51</td>\n",
       "      <td>Liquid jet recording head</td>\n",
       "      <td>0.000006</td>\n",
       "      <td>103</td>\n",
       "      <td>Liquid jet recording head</td>\n",
       "      <td>77.0</td>\n",
       "    </tr>\n",
       "  </tbody>\n",
       "</table>\n",
       "</div>"
      ],
      "text/plain": [
       "   patent_id  in_degree  rank_in  \\\n",
       "0    4683202       3709        1   \n",
       "2    4683195       3188        3   \n",
       "1    5523520       3342        2   \n",
       "7    4723129       1871       31   \n",
       "8    5572643       1811       34   \n",
       "12   4463359       1680       38   \n",
       "19   5103459       1554       48   \n",
       "33   4901307       1407       67   \n",
       "17   4740796       1587       46   \n",
       "21   4558333       1476       51   \n",
       "\n",
       "                                      patent_title_in  pagerank  rank_pr  \\\n",
       "0       Process for amplifying nucleic acid sequences  0.000017        6   \n",
       "2   Process for amplifying, detecting, and/or-clon...  0.000017        7   \n",
       "1                     Mutant dwarfism gene of petunia  0.000013       10   \n",
       "7   Bubble jet recording method and apparatus in w...  0.000008       34   \n",
       "8   Web browser with dynamic display of informatio...  0.000008       36   \n",
       "12    Droplet generating method and apparatus thereof  0.000008       32   \n",
       "19  System and method for generating signal wavefo...  0.000009       23   \n",
       "33  Spread spectrum multiple access communication ...  0.000008       29   \n",
       "17  Bubble jet recording method and apparatus in w...  0.000006       83   \n",
       "21                          Liquid jet recording head  0.000006      103   \n",
       "\n",
       "                                      patent_title_pr  rank_avg  \n",
       "0       Process for amplifying nucleic acid sequences       3.5  \n",
       "2   Process for amplifying, detecting, and/or-clon...       5.0  \n",
       "1                     Mutant dwarfism gene of petunia       6.0  \n",
       "7   Bubble jet recording method and apparatus in w...      32.5  \n",
       "8   Web browser with dynamic display of informatio...      35.0  \n",
       "12    Droplet generating method and apparatus thereof      35.0  \n",
       "19  System and method for generating signal wavefo...      35.5  \n",
       "33  Spread spectrum multiple access communication ...      48.0  \n",
       "17  Bubble jet recording method and apparatus in w...      64.5  \n",
       "21                          Liquid jet recording head      77.0  "
      ]
     },
     "execution_count": 16,
     "metadata": {},
     "output_type": "execute_result"
    }
   ],
   "source": [
    "merged.head(10)"
   ]
  },
  {
   "cell_type": "code",
   "execution_count": 17,
   "metadata": {
    "collapsed": true
   },
   "outputs": [],
   "source": [
    "merged.to_csv('./top_merged.csv')"
   ]
  },
  {
   "cell_type": "code",
   "execution_count": 8,
   "metadata": {},
   "outputs": [
    {
     "data": {
      "text/plain": [
       "<seaborn.axisgrid.JointGrid at 0x7f6f585f0da0>"
      ]
     },
     "execution_count": 8,
     "metadata": {},
     "output_type": "execute_result"
    },
    {
     "data": {
      "image/png": "[encoded data removed]",
      "text/plain": [
       "<matplotlib.figure.Figure at 0x7f6f585f0c18>"
      ]
     },
     "metadata": {},
     "output_type": "display_data"
    }
   ],
   "source": [
    "sns.jointplot(x='rank_in', y='rank_pr', data=merged, kind='hex', cmap= 'cubehelix', size=8, gridsize=20)"
   ]
  },
  {
   "cell_type": "code",
   "execution_count": null,
   "metadata": {
    "collapsed": true
   },
   "outputs": [],
   "source": []
  }
 ],
 "metadata": {
  "kernelspec": {
   "display_name": "Python 3",
   "language": "python",
   "name": "python3"
  },
  "language_info": {
   "codemirror_mode": {
    "name": "ipython",
    "version": 3
   },
   "file_extension": ".py",
   "mimetype": "text/x-python",
   "name": "python",
   "nbconvert_exporter": "python",
   "pygments_lexer": "ipython3",
   "version": "3.6.3"
  }
 },
 "nbformat": 4,
 "nbformat_minor": 2
}
